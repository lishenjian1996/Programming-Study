{
 "cells": [
  {
   "cell_type": "markdown",
   "metadata": {},
   "source": [
    "# Querying `DataFrame`\n",
    "\n",
    "In this lecture we're going to talk about querying DataFrames. The first step in the process is to understand Boolean masking. Boolean masking is the heart of fast and efficient querying in numpy and pandas, and it's analogous to bit masking used in other areas of computational science. By the end of this lecture you'll understand how Boolean masking works, and how to apply this to a DataFrame to get out data you're interested in.\n",
    "\n",
    "A Boolean mask is an array which can be of one dimension like a series, or two dimensions like a data frame, where each of the values in the array are either true or false. This array is essentially overlaid on top of the data structure that we're querying. And any cell aligned with the true value will be admitted into our final result, and any cell aligned with a false value will not."
   ]
  },
  {
   "cell_type": "code",
   "execution_count": null,
   "metadata": {},
   "outputs": [],
   "source": [
    "# Let's start with an example and import our graduate admission dataset. First we'll bring in pandas\n",
    "import pandas as pd\n",
    "# Then we'll load in our CSV file\n",
    "df = pd.read_csv('datasets/Admission_Predict.csv', index_col=0)\n",
    "# And we'll clean up a couple of poorly named columns like we did in a previous lecture\n",
    "df.columns = [x.lower().strip() for x in df.columns]\n",
    "# And we'll take a look at the results\n",
    "df.head()"
   ]
  },
  {
   "cell_type": "code",
   "execution_count": null,
   "metadata": {},
   "outputs": [],
   "source": [
    "# Boolean masks are created by applying operators directly to the pandas Series or DataFrame objects. \n",
    "# For instance, in our graduate admission dataset, we might be interested in seeing only those students \n",
    "# that have a chance higher than 0.7\n",
    "\n",
    "# To build a Boolean mask for this query, we want to project the chance of admit column using the \n",
    "# indexing operator and apply the greater than operator with a comparison value of 0.7. This is \n",
    "# essentially broadcasting a comparison operator, greater than, with the results being returned as \n",
    "# a Boolean Series. The resultant Series is indexed where the value of each cell is either True or False \n",
    "# depending on whether a student has a chance of admit higher than 0.7\n",
    "admit_mask=df['chance of admit'] > 0.7\n",
    "admit_mask"
   ]
  },
  {
   "cell_type": "code",
   "execution_count": null,
   "metadata": {},
   "outputs": [],
   "source": [
    "# This is pretty fundamental, so take a moment to look at this. The result of broadcasting a comparison\n",
    "# operator is a Boolean mask - true or false values depending upon the results of the comparison. Underneath,\n",
    "# pandas is applying the comparison operator you specified through vectorization (so efficiently and in\n",
    "# parallel) to all of the values in the array you specified which, in this case, is the chance of admit\n",
    "# column of the dataframe. The result is a series, since only one column is being operator on, filled with\n",
    "# either True or False values, which is what the comparison operator returns."
   ]
  },
  {
   "cell_type": "code",
   "execution_count": null,
   "metadata": {},
   "outputs": [],
   "source": [
    "# So, what do you do with the boolean mask once you have formed it? Well, you can just lay it on top of the\n",
    "# data to \"hide\" the data you don't want, which is represented by all of the False values. We do this by using\n",
    "# the .where() function on the original DataFrame.\n",
    "df.where(admit_mask).head()"
   ]
  },
  {
   "cell_type": "code",
   "execution_count": null,
   "metadata": {},
   "outputs": [],
   "source": [
    "# We see that the resulting data frame keeps the original indexed values, and only data which met \n",
    "# the condition was retained. All of the rows which did not meet the condition have NaN data instead,\n",
    "# but these rows were not dropped from our dataset. \n",
    "#\n",
    "# The next step is, if we don't want the NaN data, we use the dropna() function\n",
    "df.where(admit_mask).dropna().head()"
   ]
  },
  {
   "cell_type": "code",
   "execution_count": null,
   "metadata": {},
   "outputs": [],
   "source": [
    "# The returned DataFrame now has all of the NaN rows dropped. Notice the index now includes\n",
    "# one through four and six, but not five.\n",
    "#\n",
    "# Despite being really handy, where() isn't actually used that often. Instead, the pandas devs\n",
    "# created a shorthand syntax which combines where() and dropna(), doing both at once. And, in\n",
    "# typical fashion, the just overloaded the indexing operator to do this!\n",
    "\n",
    "df[df['chance of admit'] > 0.7].head()"
   ]
  },
  {
   "cell_type": "code",
   "execution_count": null,
   "metadata": {},
   "outputs": [],
   "source": [
    "# I personally find this much harder to read, but it's also very more common when you're reading other\n",
    "# people's code, so it's important to be able to understand it. Just reviewing this indexing operator on\n",
    "# DataFrame, it now does two things:\n",
    "\n",
    "# It can be called with a string parameter to project a single column\n",
    "df[\"gre score\"].head()"
   ]
  },
  {
   "cell_type": "code",
   "execution_count": null,
   "metadata": {},
   "outputs": [],
   "source": [
    "# Or you can send it a list of columns as strings\n",
    "df[[\"gre score\",\"toefl score\"]].head()"
   ]
  },
  {
   "cell_type": "code",
   "execution_count": null,
   "metadata": {},
   "outputs": [],
   "source": [
    "# Or you can send it a boolean mask\n",
    "df[df[\"gre score\"]>320].head()"
   ]
  },
  {
   "cell_type": "code",
   "execution_count": null,
   "metadata": {},
   "outputs": [],
   "source": [
    "# And each of these is mimicing functionality from either .loc() or .where().dropna()."
   ]
  },
  {
   "cell_type": "code",
   "execution_count": null,
   "metadata": {},
   "outputs": [],
   "source": [
    "# Before we leave this, lets talk about combining multiple boolean masks, such as multiple criteria for\n",
    "# including. In bitmasking in other places in computer science this is done with \"and\", if both masks must be\n",
    "# True for a True value to be in the final mask), or \"or\" if only one needs to be True.\n",
    "\n",
    "# Unfortunatly, it doesn't feel quite as natural in pandas. For instance, if you want to take two boolean\n",
    "# series and and them together\n",
    "(df['chance of admit'] > 0.7) and (df['chance of admit'] < 0.9)"
   ]
  },
  {
   "cell_type": "code",
   "execution_count": null,
   "metadata": {},
   "outputs": [],
   "source": [
    "# This doesn't work. And despite using pandas for awhile, I still find I regularly try and do this. The\n",
    "# problem is that you have series objects, and python underneath doesn't know how to compare two series using\n",
    "# and or or. Instead, the pandas authors have overwritten the pipe | and ampersand & operators to handle this\n",
    "# for us\n",
    "(df['chance of admit'] > 0.7) & (df['chance of admit'] < 0.9)"
   ]
  },
  {
   "cell_type": "code",
   "execution_count": null,
   "metadata": {},
   "outputs": [],
   "source": [
    "# One thing to watch out for is order of operations! A common error for new pandas users is\n",
    "# to try and do boolean comparisons using the & operator but not putting parentheses around\n",
    "# the individual terms you are interested in\n",
    "df['chance of admit'] > 0.7 & df['chance of admit'] < 0.9"
   ]
  },
  {
   "cell_type": "code",
   "execution_count": null,
   "metadata": {},
   "outputs": [],
   "source": [
    "# The problem is that Python is trying to bitwise and a 0.7 and a pandas dataframe, when you really want\n",
    "# to bitwise and the broadcasted dataframes together"
   ]
  },
  {
   "cell_type": "code",
   "execution_count": null,
   "metadata": {},
   "outputs": [],
   "source": [
    "# Another way to do this is to just get rid of the comparison operator completely, and instead\n",
    "# use the built in functions which mimic this approach\n",
    "df['chance of admit'].gt(0.7) & df['chance of admit'].lt(0.9)"
   ]
  },
  {
   "cell_type": "code",
   "execution_count": null,
   "metadata": {},
   "outputs": [],
   "source": [
    "# These functions are build right into the Series and DataFrame objects, so you can chain them\n",
    "# too, which results in the same answer and the use of no visual operators. You can decide what\n",
    "# looks best for you\n",
    "df['chance of admit'].gt(0.7).lt(0.9)"
   ]
  },
  {
   "cell_type": "code",
   "execution_count": null,
   "metadata": {},
   "outputs": [],
   "source": [
    "# This only works if you operator, such as less than or greater than, is built into the DataFrame, but I\n",
    "# certainly find that last code example much more readable than one with ampersands and parenthesis."
   ]
  },
  {
   "cell_type": "code",
   "execution_count": null,
   "metadata": {},
   "outputs": [],
   "source": [
    " # You need to be able to read and write all of these, and understand the implications of the route you are\n",
    " # choosing. It's worth really going back and rewatching this lecture to make sure you have it. I would say\n",
    " # 50% or more of the work you'll be doing in data cleaning involves querying DataFrames."
   ]
  },
  {
   "cell_type": "markdown",
   "metadata": {},
   "source": [
    "In this lecture, we have learned to query dataframe using boolean masking, which is extremely important and often used in the world of data science. With boolean masking, we can select data based on the criteria we desire and, frankly, you'll use it everywhere. We've also seen how there are many different ways to query the DataFrame, and the interesting side implications that come up when doing so."
   ]
  }
 ],
 "metadata": {
  "kernelspec": {
   "display_name": "Python 3",
   "language": "python",
   "name": "python3"
  },
  "language_info": {
   "codemirror_mode": {
    "name": "ipython",
    "version": 3
   },
   "file_extension": ".py",
   "mimetype": "text/x-python",
   "name": "python",
   "nbconvert_exporter": "python",
   "pygments_lexer": "ipython3",
   "version": "3.7.3"
  }
 },
 "nbformat": 4,
 "nbformat_minor": 2
}
