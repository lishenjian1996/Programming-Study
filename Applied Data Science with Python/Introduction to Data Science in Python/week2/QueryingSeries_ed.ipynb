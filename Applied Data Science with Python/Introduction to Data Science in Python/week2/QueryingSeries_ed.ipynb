{
 "cells": [
  {
   "cell_type": "markdown",
   "metadata": {},
   "source": [
    "# Querying `Series`\n",
    "\n",
    "In this lecture, we'll talk about one of the primary data types of the Pandas library, the Series. You'll learn about the structure of the Series, how to query and merge Series objects together, and the importance of thinking about parallelization when engaging in data science programming."
   ]
  },
  {
   "cell_type": "code",
   "execution_count": 100,
   "metadata": {},
   "outputs": [
    {
     "data": {
      "text/plain": [
       "Alice      Physics\n",
       "Jack     Chemistry\n",
       "Molly      English\n",
       "Sam        History\n",
       "dtype: object"
      ]
     },
     "execution_count": 100,
     "metadata": {},
     "output_type": "execute_result"
    }
   ],
   "source": [
    "# A pandas Series can be queried either by the index position or the index label. If you don't give an \n",
    "# index to the series when querying, the position and the label are effectively the same values. To \n",
    "# query by numeric location, starting at zero, use the iloc attribute. To query by the index label, \n",
    "# you can use the loc attribute. \n",
    "\n",
    "# Lets start with an example. We'll use students enrolled in classes coming from a dictionary\n",
    "import pandas as pd\n",
    "students_classes = {'Alice': 'Physics',\n",
    "                   'Jack': 'Chemistry',\n",
    "                   'Molly': 'English',\n",
    "                   'Sam': 'History'}\n",
    "s = pd.Series(students_classes)\n",
    "s"
   ]
  },
  {
   "cell_type": "code",
   "execution_count": 101,
   "metadata": {},
   "outputs": [
    {
     "data": {
      "text/plain": [
       "'History'"
      ]
     },
     "execution_count": 101,
     "metadata": {},
     "output_type": "execute_result"
    }
   ],
   "source": [
    "# So, for this series, if you wanted to see the fourth entry we would we would use the iloc \n",
    "# attribute with the parameter 3.\n",
    "s.iloc[3]"
   ]
  },
  {
   "cell_type": "code",
   "execution_count": 102,
   "metadata": {},
   "outputs": [
    {
     "data": {
      "text/plain": [
       "'English'"
      ]
     },
     "execution_count": 102,
     "metadata": {},
     "output_type": "execute_result"
    }
   ],
   "source": [
    "# If you wanted to see what class Molly has, we would use the loc attribute with a parameter \n",
    "# of Molly.\n",
    "s.loc['Molly']"
   ]
  },
  {
   "cell_type": "code",
   "execution_count": 103,
   "metadata": {},
   "outputs": [],
   "source": [
    "# Keep in mind that iloc and loc are not methods, they are attributes. So you don't use \n",
    "# parentheses to query them, but square brackets instead, which is called the indexing operator. \n",
    "# In Python this calls get or set for an item depending on the context of its use.\n",
    "\n",
    "# This might seem a bit confusing if you're used to languages where encapsulation of attributes, \n",
    "# variables, and properties is common, such as in Java."
   ]
  },
  {
   "cell_type": "code",
   "execution_count": 104,
   "metadata": {},
   "outputs": [
    {
     "name": "stderr",
     "output_type": "stream",
     "text": [
      "C:\\Users\\lishe\\AppData\\Local\\Temp\\ipykernel_22912\\216085886.py:4: FutureWarning: Series.__getitem__ treating keys as positions is deprecated. In a future version, integer keys will always be treated as labels (consistent with DataFrame behavior). To access a value by position, use `ser.iloc[pos]`\n",
      "  s[3]\n"
     ]
    },
    {
     "data": {
      "text/plain": [
       "'History'"
      ]
     },
     "execution_count": 104,
     "metadata": {},
     "output_type": "execute_result"
    }
   ],
   "source": [
    "# Pandas tries to make our code a bit more readable and provides a sort of smart syntax using \n",
    "# the indexing operator directly on the series itself. For instance, if you pass in an integer parameter, \n",
    "# the operator will behave as if you want it to query via the iloc attribute\n",
    "s[3]"
   ]
  },
  {
   "cell_type": "code",
   "execution_count": 105,
   "metadata": {},
   "outputs": [
    {
     "data": {
      "text/plain": [
       "'English'"
      ]
     },
     "execution_count": 105,
     "metadata": {},
     "output_type": "execute_result"
    }
   ],
   "source": [
    "# If you pass in an object, it will query as if you wanted to use the label based loc attribute.\n",
    "s['Molly']"
   ]
  },
  {
   "cell_type": "code",
   "execution_count": 106,
   "metadata": {},
   "outputs": [],
   "source": [
    "# So what happens if your index is a list of integers? This is a bit complicated and Pandas can't \n",
    "# determine automatically whether you're intending to query by index position or index label. So \n",
    "# you need to be careful when using the indexing operator on the Series itself. The safer option \n",
    "# is to be more explicit and use the iloc or loc attributes directly.\n",
    "\n",
    "# Here's an example using class and their classcode information, where classes are indexed by \n",
    "# classcodes, in the form of integers\n",
    "class_code = {99: 'Physics',\n",
    "              100: 'Chemistry',\n",
    "              101: 'English',\n",
    "              102: 'History'}\n",
    "s = pd.Series(class_code)"
   ]
  },
  {
   "cell_type": "code",
   "execution_count": 107,
   "metadata": {},
   "outputs": [],
   "source": [
    "# If we try and call s[0] we get a key error because there's no item in the classes list with \n",
    "# an index of zero, instead we have to call iloc explicitly if we want the first item.\n",
    "\n",
    "#s[0] "
   ]
  },
  {
   "cell_type": "code",
   "execution_count": 108,
   "metadata": {},
   "outputs": [],
   "source": [
    "# So, that didn't call s.iloc[0] underneath as one might expect, instead it \n",
    "# generates an error "
   ]
  },
  {
   "cell_type": "code",
   "execution_count": 109,
   "metadata": {},
   "outputs": [],
   "source": [
    "# Now we know how to get data out of the series, let's talk about working with the data. A common \n",
    "# task is to want to consider all of the values inside of a series and do some sort of \n",
    "# operation. This could be trying to find a certain number, or summarizing data or transforming \n",
    "# the data in some way."
   ]
  },
  {
   "cell_type": "code",
   "execution_count": 110,
   "metadata": {},
   "outputs": [
    {
     "name": "stdout",
     "output_type": "stream",
     "text": [
      "75.0\n"
     ]
    }
   ],
   "source": [
    "# A typical programmatic approach to this would be to iterate over all the items in the series, \n",
    "# and invoke the operation one is interested in. For instance, we could create a Series of \n",
    "# integers representing student grades, and just try and get an average grade\n",
    "\n",
    "grades = pd.Series([90, 80, 70, 60])\n",
    "\n",
    "total = 0\n",
    "for grade in grades:\n",
    "    total+=grade\n",
    "print(total/len(grades))"
   ]
  },
  {
   "cell_type": "code",
   "execution_count": 111,
   "metadata": {},
   "outputs": [],
   "source": [
    "# This works, but it's slow. Modern computers can do many tasks simultaneously, especially, \n",
    "# but not only, tasks involving mathematics.\n",
    "\n",
    "# Pandas and the underlying numpy libraries support a method of computation called vectorization. \n",
    "# Vectorization works with most of the functions in the numpy library, including the sum function."
   ]
  },
  {
   "cell_type": "code",
   "execution_count": 112,
   "metadata": {},
   "outputs": [
    {
     "name": "stdout",
     "output_type": "stream",
     "text": [
      "75.0\n"
     ]
    }
   ],
   "source": [
    "# Here's how we would really write the code using the numpy sum method. First we need to import \n",
    "# the numpy module\n",
    "\n",
    "import numpy as np\n",
    "\n",
    "# Then we just call np.sum and pass in an iterable item. In this case, our panda series.\n",
    "\n",
    "total = np.sum(grades)\n",
    "print(total/len(grades))"
   ]
  },
  {
   "cell_type": "code",
   "execution_count": 113,
   "metadata": {},
   "outputs": [
    {
     "data": {
      "text/plain": [
       "0    637\n",
       "1    494\n",
       "2    644\n",
       "3    514\n",
       "4    321\n",
       "dtype: int32"
      ]
     },
     "execution_count": 113,
     "metadata": {},
     "output_type": "execute_result"
    }
   ],
   "source": [
    "# Now both of these methods create the same value, but is one actually faster? The Jupyter \n",
    "# Notebook has a magic function which can help. \n",
    "\n",
    "# First, let's create a big series of random numbers. This is used a lot when demonstrating \n",
    "# techniques with Pandas\n",
    "numbers = pd.Series(np.random.randint(0,1000,10000))\n",
    "\n",
    "# Now lets look at the top five items in that series to make sure they actually seem random. We\n",
    "# can do this with the head() function\n",
    "numbers.head()"
   ]
  },
  {
   "cell_type": "code",
   "execution_count": 114,
   "metadata": {},
   "outputs": [
    {
     "data": {
      "text/plain": [
       "10000"
      ]
     },
     "execution_count": 114,
     "metadata": {},
     "output_type": "execute_result"
    }
   ],
   "source": [
    "# We can actually verify that length of the series is correct using the len function\n",
    "len(numbers)"
   ]
  },
  {
   "cell_type": "code",
   "execution_count": 115,
   "metadata": {},
   "outputs": [],
   "source": [
    "# Ok, we're confident now that we have a big series. The ipython interpreter has something called\n",
    "# magic functions begin with a percentage sign. If we type this sign and then hit the Tab key, you\n",
    "# can see a list of the available magic functions. You could write your own magic functions too, \n",
    "# but that's a little bit outside of the scope of this course."
   ]
  },
  {
   "cell_type": "code",
   "execution_count": 116,
   "metadata": {},
   "outputs": [],
   "source": [
    "# Here, we're actually going to use what's called a cellular magic function. These start with two \n",
    "# percentage signs and wrap the code in the current Jupyter cell. The function we're going to use \n",
    "# is called timeit. This function will run our code a few times to determine, on average, how long \n",
    "# it takes.\n",
    "\n",
    "# Let's run timeit with our original iterative code. You can give timeit the number of loops that \n",
    "# you would like to run. By default, it is 1,000 loops. I'll ask timeit here to use 100 runs because \n",
    "# we're recording this. Note that in order to use a cellular magic function, it has to be the first \n",
    "# line in the cell"
   ]
  },
  {
   "cell_type": "code",
   "execution_count": 117,
   "metadata": {},
   "outputs": [
    {
     "name": "stdout",
     "output_type": "stream",
     "text": [
      "731 µs ± 27 µs per loop (mean ± std. dev. of 7 runs, 100 loops each)\n"
     ]
    }
   ],
   "source": [
    "%%timeit -n 100\n",
    "total = 0\n",
    "for number in numbers:\n",
    "    total+=number\n",
    "\n",
    "total/len(numbers)"
   ]
  },
  {
   "cell_type": "code",
   "execution_count": 118,
   "metadata": {},
   "outputs": [],
   "source": [
    "# Not bad. Timeit ran the code and it doesn't seem to take very long at all. Now let's try with \n",
    "# vectorization."
   ]
  },
  {
   "cell_type": "code",
   "execution_count": 119,
   "metadata": {},
   "outputs": [
    {
     "name": "stdout",
     "output_type": "stream",
     "text": [
      "33.7 µs ± 6.87 µs per loop (mean ± std. dev. of 7 runs, 100 loops each)\n"
     ]
    }
   ],
   "source": [
    "%%timeit -n 100\n",
    "total = np.sum(numbers)\n",
    "total/len(numbers)"
   ]
  },
  {
   "cell_type": "code",
   "execution_count": 120,
   "metadata": {},
   "outputs": [],
   "source": [
    "# Wow! This is a pretty shocking difference in the speed and demonstrates why one should be \n",
    "# aware of parallel computing features and start thinking in functional programming terms.\n",
    "# Put more simply, vectorization is the ability for a computer to execute multiple instructions\n",
    "# at once, and with high performance chips, especially graphics cards, you can get dramatic\n",
    "# speedups. Modern graphics cards can run thousands of instructions in parallel."
   ]
  },
  {
   "cell_type": "code",
   "execution_count": 121,
   "metadata": {},
   "outputs": [
    {
     "data": {
      "text/plain": [
       "0    637\n",
       "1    494\n",
       "2    644\n",
       "3    514\n",
       "4    321\n",
       "dtype: int32"
      ]
     },
     "execution_count": 121,
     "metadata": {},
     "output_type": "execute_result"
    }
   ],
   "source": [
    "# A Related feature in pandas and nummy is called broadcasting. With broadcasting, you can \n",
    "# apply an operation to every value in the series, changing the series. For instance, if we\n",
    "# wanted to increase every random variable by 2, we could do so quickly using the += operator \n",
    "# directly on the Series object. \n",
    "\n",
    "# Let's look at the head of our series\n",
    "numbers.head()"
   ]
  },
  {
   "cell_type": "code",
   "execution_count": 122,
   "metadata": {},
   "outputs": [
    {
     "data": {
      "text/plain": [
       "0    639\n",
       "1    496\n",
       "2    646\n",
       "3    516\n",
       "4    323\n",
       "dtype: int32"
      ]
     },
     "execution_count": 122,
     "metadata": {},
     "output_type": "execute_result"
    }
   ],
   "source": [
    "# And now lets just increase everything in the series by 2\n",
    "numbers+=2\n",
    "numbers.head()"
   ]
  },
  {
   "cell_type": "code",
   "execution_count": 123,
   "metadata": {},
   "outputs": [],
   "source": [
    "# The procedural way of doing this would be to iterate through all of the items in the \n",
    "# series and increase the values directly. Pandas does support iterating through a series \n",
    "# much like a dictionary, allowing you to unpack values easily.\n",
    "\n",
    "# We can use the iteritems() function which returns a label and value \n",
    "#for label, value in numbers.iteritems():\n",
    "    # in the early version of pandas we would use the set_value() function\n",
    "    # in the current version, we use the iat() or at() functions,\n",
    "#    numbers.iat[label]= value+2\n",
    "# And we can check the result of this computation\n",
    "#numbers.head()"
   ]
  },
  {
   "cell_type": "code",
   "execution_count": 124,
   "metadata": {},
   "outputs": [],
   "source": [
    "# So the result is the same, though you may notice a warning depending upon the version of\n",
    "# pandas being used. But if you find yourself iterating pretty much *any time* in pandas,\n",
    "# you should question whether you're doing things in the best possible way."
   ]
  },
  {
   "cell_type": "code",
   "execution_count": 125,
   "metadata": {},
   "outputs": [],
   "source": [
    "# Lets take a look at some speed comparisons. First, lets try five loops using the iterative approach"
   ]
  },
  {
   "cell_type": "code",
   "execution_count": 126,
   "metadata": {},
   "outputs": [],
   "source": [
    "#%%timeit -n 10\n",
    "# we'll create a blank new series of items to deal with\n",
    "#s = pd.Series(np.random.randint(0,1000,1000))\n",
    "# And we'll just rewrite our loop from above.\n",
    "#for label, value in s.iteritems():\n",
    "#    s.loc[label]= value+2"
   ]
  },
  {
   "cell_type": "code",
   "execution_count": 127,
   "metadata": {},
   "outputs": [],
   "source": [
    "# Now lets try that using the broadcasting methods"
   ]
  },
  {
   "cell_type": "code",
   "execution_count": 128,
   "metadata": {},
   "outputs": [
    {
     "name": "stdout",
     "output_type": "stream",
     "text": [
      "113 µs ± 34.2 µs per loop (mean ± std. dev. of 7 runs, 10 loops each)\n"
     ]
    }
   ],
   "source": [
    "%%timeit -n 10\n",
    "# We need to recreate a series\n",
    "s = pd.Series(np.random.randint(0,1000,1000))\n",
    "# And we just broadcast with +=\n",
    "s+=2"
   ]
  },
  {
   "cell_type": "code",
   "execution_count": 129,
   "metadata": {},
   "outputs": [],
   "source": [
    "# Amazing. Not only is it significantly faster, but it's more concise and even easier \n",
    "# to read too. The typical mathematical operations you would expect are vectorized, and the \n",
    "# nump documentation outlines what it takes to create vectorized functions of your own. "
   ]
  },
  {
   "cell_type": "code",
   "execution_count": 130,
   "metadata": {},
   "outputs": [],
   "source": [
    "# One last note on using the indexing operators to access series data. The .loc attribute lets \n",
    "# you not only modify data in place, but also add new data as well. If the value you pass in as \n",
    "# the index doesn't exist, then a new entry is added. And keep in mind, indices can have mixed types. \n",
    "# While it's important to be aware of the typing going on underneath, Pandas will automatically \n",
    "# change the underlying NumPy types as appropriate."
   ]
  },
  {
   "cell_type": "code",
   "execution_count": 131,
   "metadata": {},
   "outputs": [
    {
     "data": {
      "text/plain": [
       "0            1\n",
       "1            2\n",
       "2            3\n",
       "History    102\n",
       "dtype: int64"
      ]
     },
     "execution_count": 131,
     "metadata": {},
     "output_type": "execute_result"
    }
   ],
   "source": [
    "# Here's an example using a Series of a few numbers. \n",
    "s = pd.Series([1, 2, 3])\n",
    "\n",
    "# We could add some new value, maybe a university course\n",
    "s.loc['History'] = 102\n",
    "\n",
    "s"
   ]
  },
  {
   "cell_type": "code",
   "execution_count": 132,
   "metadata": {},
   "outputs": [],
   "source": [
    "# We see that mixed types for data values or index labels are no problem for Pandas. Since \n",
    "# \"History\" is not in the original list of indices, s.loc['History'] essentially creates a \n",
    "# new element in the series, with the index named \"History\", and the value of 102"
   ]
  },
  {
   "cell_type": "code",
   "execution_count": 133,
   "metadata": {},
   "outputs": [
    {
     "data": {
      "text/plain": [
       "Alice      Physics\n",
       "Jack     Chemistry\n",
       "Molly      English\n",
       "Sam        History\n",
       "dtype: object"
      ]
     },
     "execution_count": 133,
     "metadata": {},
     "output_type": "execute_result"
    }
   ],
   "source": [
    "# Up until now I've shown only examples of a series where the index values were unique. I want \n",
    "# to end this lecture by showing an example where index values are not unique, and this makes \n",
    "# pandas Series a little different conceptually then, for instance, a relational database.\n",
    "\n",
    "# Lets create a Series with students and the courses which they have taken\n",
    "students_classes = pd.Series({'Alice': 'Physics',\n",
    "                   'Jack': 'Chemistry',\n",
    "                   'Molly': 'English',\n",
    "                   'Sam': 'History'})\n",
    "students_classes"
   ]
  },
  {
   "cell_type": "code",
   "execution_count": 134,
   "metadata": {},
   "outputs": [
    {
     "data": {
      "text/plain": [
       "Kelly    Philosophy\n",
       "Kelly          Arts\n",
       "Kelly          Math\n",
       "dtype: object"
      ]
     },
     "execution_count": 134,
     "metadata": {},
     "output_type": "execute_result"
    }
   ],
   "source": [
    "# Now lets create a Series just for some new student Kelly, which lists all of the courses\n",
    "# she has taken. We'll set the index to Kelly, and the data to be the names of courses.\n",
    "kelly_classes = pd.Series(['Philosophy', 'Arts', 'Math'], index=['Kelly', 'Kelly', 'Kelly'])\n",
    "kelly_classes"
   ]
  },
  {
   "cell_type": "code",
   "execution_count": 135,
   "metadata": {},
   "outputs": [
    {
     "data": {
      "text/plain": [
       "Alice       Physics\n",
       "Jack      Chemistry\n",
       "Molly       English\n",
       "Sam         History\n",
       "Kelly    Philosophy\n",
       "Kelly          Arts\n",
       "Kelly          Math\n",
       "dtype: object"
      ]
     },
     "execution_count": 135,
     "metadata": {},
     "output_type": "execute_result"
    }
   ],
   "source": [
    "# Finally, we can append all of the data in this new Series to the first using the .append()\n",
    "# function.\n",
    "all_students_classes = students_classes._append(kelly_classes)\n",
    "\n",
    "# This creates a series which has our original people in it as well as all of Kelly's courses\n",
    "all_students_classes"
   ]
  },
  {
   "cell_type": "code",
   "execution_count": 136,
   "metadata": {},
   "outputs": [
    {
     "data": {
      "text/plain": [
       "Alice      Physics\n",
       "Jack     Chemistry\n",
       "Molly      English\n",
       "Sam        History\n",
       "dtype: object"
      ]
     },
     "execution_count": 136,
     "metadata": {},
     "output_type": "execute_result"
    }
   ],
   "source": [
    "# There are a couple of important considerations when using append. First, Pandas will take \n",
    "# the series and try to infer the best data types to use. In this example, everything is a string, \n",
    "# so there's no problems here. Second, the append method doesn't actually change the underlying Series\n",
    "# objects, it instead returns a new series which is made up of the two appended together. This is\n",
    "# a common pattern in pandas - by default returning a new object instead of modifying in place - and\n",
    "# one you should come to expect. By printing the original series we can see that that series hasn't\n",
    "# changed.\n",
    "students_classes"
   ]
  },
  {
   "cell_type": "code",
   "execution_count": 137,
   "metadata": {},
   "outputs": [
    {
     "data": {
      "text/plain": [
       "Kelly    Philosophy\n",
       "Kelly          Arts\n",
       "Kelly          Math\n",
       "dtype: object"
      ]
     },
     "execution_count": 137,
     "metadata": {},
     "output_type": "execute_result"
    }
   ],
   "source": [
    "# Finally, we see that when we query the appended series for Kelly, we don't get a single value, \n",
    "# but a series itself. \n",
    "all_students_classes.loc['Kelly']"
   ]
  },
  {
   "cell_type": "markdown",
   "metadata": {},
   "source": [
    "In this lecture, we focused on one of the primary data types of the Pandas library, the Series. You learned how to query the Series, with .loc and .iloc, that the Series is an indexed data structure, how to merge two Series objects together with append(), and the importance of vectorization.\n",
    "\n",
    "There are many more methods associated with the Series object that we haven't talked about. But with these basics down, we'll move on to talking about the Panda's two-dimensional data structure, the DataFrame. The DataFrame is very similar to the series object, but includes multiple columns of data, and is the structure that you'll spend the majority of your time working with when cleaning and aggregating data."
   ]
  }
 ],
 "metadata": {
  "kernelspec": {
   "display_name": "Python 3",
   "language": "python",
   "name": "python3"
  },
  "language_info": {
   "codemirror_mode": {
    "name": "ipython",
    "version": 3
   },
   "file_extension": ".py",
   "mimetype": "text/x-python",
   "name": "python",
   "nbconvert_exporter": "python",
   "pygments_lexer": "ipython3",
   "version": "3.11.5"
  }
 },
 "nbformat": 4,
 "nbformat_minor": 2
}
