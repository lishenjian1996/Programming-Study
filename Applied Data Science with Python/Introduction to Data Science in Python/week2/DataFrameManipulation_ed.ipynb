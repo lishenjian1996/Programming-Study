{
 "cells": [
  {
   "cell_type": "markdown",
   "metadata": {},
   "source": [
    "# `DataFrame` Manipulation\n",
    "\n",
    "Now that you know the basics of what makes up a pandas dataframe, lets look at how we might actually clean some messy data. Now, there are many different approaches you can take to clean data, so this lecture is just one example of how you might tackle a problem."
   ]
  },
  {
   "cell_type": "code",
   "execution_count": null,
   "metadata": {},
   "outputs": [],
   "source": [
    "import pandas as pd\n",
    "dfs=pd.read_html(\"https://en.wikipedia.org/wiki/College_admissions_in_the_United_States\")\n",
    "len(dfs)"
   ]
  },
  {
   "cell_type": "code",
   "execution_count": null,
   "metadata": {},
   "outputs": [],
   "source": [
    "dfs[10]"
   ]
  },
  {
   "cell_type": "markdown",
   "metadata": {},
   "source": [
    "Python programmers will often suggest that there many ways the language can be used to solve a particular problem. But that some are more appropriate than others. The best solutions are celebrated as Idiomatic Python and there are lots of great examples of this on StackOverflow and other websites.\n",
    "\n",
    "A sort of sub-language within Python, Pandas has its own set of idioms. We've alluded to some of these already, such as using vectorization whenever possible, and not using iterative loops if you don't need to. Several developers and users within the Panda's community have used the term pandorable for these idioms. I think it's a great term. So, I wanted to share with you a couple of key features of how you can make your code pandorable."
   ]
  },
  {
   "cell_type": "code",
   "execution_count": null,
   "metadata": {},
   "outputs": [],
   "source": [
    "import pandas as pd\n",
    "import numpy as np\n",
    "import timeit\n",
    "\n",
    "df = pd.read_csv('datasets/census.csv')\n",
    "df.head()"
   ]
  },
  {
   "cell_type": "code",
   "execution_count": null,
   "metadata": {},
   "outputs": [],
   "source": [
    "# The first of these is called method chaining.\n",
    "# The general idea behind method chaining is that every method on an object \n",
    "# returns a reference to that object. The beauty of this is that you can \n",
    "# condense many different operations on a DataFrame, for instance, into one line \n",
    "# or at least one statement of code.\n",
    "# Here's an example of two pieces of code in pandas using our census data.\n",
    "\n",
    "# The first is the pandorable way to write the code with method chaining. In \n",
    "# this code, there's no in place flag being used and you can see that when we \n",
    "# first run a where query, then a dropna, then a set_index, and then a rename. \n",
    "# You might wonder why the whole statement is enclosed in parentheses and that's \n",
    "# just to make the statement more readable.\n",
    "(df.where(df['SUMLEV']==50)\n",
    "    .dropna()\n",
    "    .set_index(['STNAME','CTYNAME'])\n",
    "    .rename(columns={'ESTIMATESBASE2010': 'Estimates Base 2010'}))"
   ]
  },
  {
   "cell_type": "code",
   "execution_count": null,
   "metadata": {
    "collapsed": true
   },
   "outputs": [],
   "source": [
    "# The second example is a more traditional way of writing code.\n",
    "# There's nothing wrong with this code in the functional sense,\n",
    "# you might even be able to understand it better as a new person to the language.\n",
    "# It's just not as pandorable as the first example.\n",
    "\n",
    "df = df[df['SUMLEV']==50]\n",
    "df.set_index(['STNAME','CTYNAME']).rename(columns={'ESTIMATESBASE2010': 'Estimates Base 2010'})"
   ]
  },
  {
   "cell_type": "code",
   "execution_count": null,
   "metadata": {},
   "outputs": [],
   "source": [
    "# Now, the key with any good idiom is to understand when it isn't helping you. \n",
    "# In this case, you can actually time both methods and see which one runs faster\n",
    "\n",
    "# We can put the approach into a function and pass the function into the timeit \n",
    "# function to count the time the parameter number allows us to choose how many \n",
    "# times we want to run the function. Here we will just set it to 1\n",
    "\n",
    "def first_approach():\n",
    "    global df\n",
    "    return (df.where(df['SUMLEV']==50)\n",
    "             .dropna()\n",
    "             .set_index(['STNAME','CTYNAME'])\n",
    "             .rename(columns={'ESTIMATESBASE2010': 'Estimates Base 2010'}))\n",
    "    \n",
    "timeit.timeit(first_approach, number=1)"
   ]
  },
  {
   "cell_type": "code",
   "execution_count": null,
   "outputs": [],
   "source": [
    "df"
   ],
   "metadata": {
    "collapsed": false
   }
  },
  {
   "cell_type": "code",
   "execution_count": null,
   "metadata": {},
   "outputs": [],
   "source": [
    "# Now let's test the second approach. As we notice, we use our global variable \n",
    "# df in the function. However, changing a global variable inside a function will \n",
    "# modify the variable even in a global scope and we do not want that to happen \n",
    "# in this case. Therefore, for selecting summary levels of 50 only, I create \n",
    "# a new dataframe for those records\n",
    "\n",
    "# Let's run this for once and see how fast it is\n",
    "\n",
    "def second_approach():\n",
    "    global df\n",
    "    new_df = df[df['SUMLEV']==50]\n",
    "    new_df.set_index(['STNAME','CTYNAME'], inplace=True)\n",
    "    return new_df.rename(columns={'ESTIMATESBASE2010': 'Estimates Base 2010'})\n",
    "timeit.timeit(second_approach, number=1)"
   ]
  },
  {
   "cell_type": "code",
   "execution_count": null,
   "metadata": {
    "collapsed": true
   },
   "outputs": [],
   "source": [
    "# As you can see, the second approach is much faster! \n",
    "# So, this is a particular example of a classic time readability trade off.\n",
    "\n",
    "# You'll see lots of examples on stock overflow and in documentation of people \n",
    "# using method chaining in their pandas. And so, I think being able to read and \n",
    "# understand the syntax is really worth your time. \n",
    "# Here's another pandas idiom. Python has a wonderful function called map, \n",
    "# which is sort of a basis for functional programming in the language. \n",
    "# When you want to use map in Python, you pass it some function you want called, \n",
    "# and some iterable, like a list, that you want the function to be applied to. \n",
    "# The results are that the function is called against each item in the list,\n",
    "# and there's a resulting list of all of the evaluations of that function.\n",
    "\n",
    "# Python has a similar function called applymap.\n",
    "# In applymap, you provide some function which should operate on each cell of a \n",
    "# DataFrame, and the return set is itself a DataFrame. Now I think applymap is \n",
    "# fine, but I actually rarely use it. Instead, I find myself often wanting to \n",
    "# map across all of the rows in a DataFrame. And pandas has a function that I \n",
    "# use heavily there, called apply. Let's look at an example.\n",
    "\n",
    "# Let's take our census DataFrame. \n",
    "# In this DataFrame, we have five columns for population estimates. \n",
    "# Each column corresponding with one year of estimates. It's quite reasonable to \n",
    "# want to create some new columns for \n",
    "# minimum or maximum values, and the apply function is an easy way to do this.\n",
    "\n",
    "\n",
    "# First, we need to write a function which takes in a particular row of data, \n",
    "# finds a minimum and maximum values, and returns a new row of data nd returns \n",
    "# a new row of data.  We'll call this function min_max, this is pretty straight \n",
    "# forward. We can create some small slice of a row by projecting the population \n",
    "# columns. Then use the NumPy min and max functions, and create a new series \n",
    "# with a label values represent the new values we want to apply.\n",
    "\n",
    "def min_max(row):\n",
    "    data = row[['POPESTIMATE2010',\n",
    "                'POPESTIMATE2011',\n",
    "                'POPESTIMATE2012',\n",
    "                'POPESTIMATE2013',\n",
    "                'POPESTIMATE2014',\n",
    "                'POPESTIMATE2015']]\n",
    "    return pd.Series({'min': np.min(data), 'max': np.max(data)})"
   ]
  },
  {
   "cell_type": "code",
   "execution_count": null,
   "metadata": {
    "collapsed": true
   },
   "outputs": [],
   "source": [
    "# Then we just need to call apply on the DataFrame. \n",
    "\n",
    "# Apply takes the function and the axis on which to operate as parameters. \n",
    "# Now, we have to be a bit careful, we've talked about axis zero being the rows \n",
    "# of the DataFrame in the past. But this parameter is really the parameter of \n",
    "# the index to use. So, to apply across all rows, which is applying on all \n",
    "# columns, you pass axis equal to one.\n",
    "df.apply(min_max, axis=1)"
   ]
  },
  {
   "cell_type": "code",
   "execution_count": null,
   "metadata": {},
   "outputs": [],
   "source": [
    "# Of course there's no need to limit yourself to returning a new series object. \n",
    "# If you're doing this as part of data cleaning your likely to find yourself \n",
    "# wanting to add new data to the existing DataFrame. In that case you just take \n",
    "# the row values and add in new columns indicating the max and minimum scores.\n",
    "# This is a regular part of my workflow when bringing in data and building \n",
    "# summary or descriptive statistics. \n",
    "# And is often used heavily with the merging of DataFrames.\n",
    "\n",
    "# Here we have a revised version of the function min_max\n",
    "# Instead of returning a separate series to display the min and max\n",
    "# We add two new columns in the original dataframe to store min and max\n",
    "\n",
    "def min_max(row):\n",
    "    data = row[['POPESTIMATE2010',\n",
    "                'POPESTIMATE2011',\n",
    "                'POPESTIMATE2012',\n",
    "                'POPESTIMATE2013',\n",
    "                'POPESTIMATE2014',\n",
    "                'POPESTIMATE2015']]\n",
    "    row['max'] = np.max(data)\n",
    "    row['min'] = np.min(data)\n",
    "    return row\n",
    "df.apply(min_max, axis=1)"
   ]
  },
  {
   "cell_type": "code",
   "execution_count": null,
   "metadata": {},
   "outputs": [],
   "source": [
    "# Apply is an extremely important tool in your toolkit. The reason I introduced \n",
    "# apply here is because you rarely see it used with large function definitions, \n",
    "# like we did. Instead, you typically see it used with lambdas. To get the most \n",
    "# of the discussions you'll see online, you're going to need to know how to \n",
    "# at least read lambdas. \n",
    "\n",
    "# Here's You can imagine how you might chain several apply calls with lambdas \n",
    "# together to create a readable yet succinct data manipulation script. One line \n",
    "# example of how you might calculate the max of the columns \n",
    "# using the apply function. \n",
    "rows = ['POPESTIMATE2010',\n",
    "        'POPESTIMATE2011',\n",
    "        'POPESTIMATE2012',\n",
    "        'POPESTIMATE2013',\n",
    "        'POPESTIMATE2014',\n",
    "        'POPESTIMATE2015']\n",
    "df.apply(lambda x: np.max(x[rows]), axis=1)"
   ]
  },
  {
   "cell_type": "code",
   "execution_count": null,
   "metadata": {
    "collapsed": true
   },
   "outputs": [],
   "source": [
    "# The beauty of the apply function is that it allows flexibility in doing \n",
    "# whatever manipulation that you desire, and the function you pass into apply \n",
    "# can be any customized function that you write. Let's say we want to divide the \n",
    "# states into four categories: Northeast, Midwest, South, and West\n",
    "# We can write a customized function that returns the region based on the state\n",
    "# the state regions information is obtained from Wikipedia\n",
    "\n",
    "def get_state_region(x):\n",
    "    northeast = ['Connecticut', 'Maine', 'Massachusetts', 'New Hampshire', \n",
    "                 'Rhode Island','Vermont','New York','New Jersey','Pennsylvania']\n",
    "    midwest = ['Illinois','Indiana','Michigan','Ohio','Wisconsin','Iowa',\n",
    "               'Kansas','Minnesota','Missouri','Nebraska','North Dakota',\n",
    "               'South Dakota']\n",
    "    south = ['Delaware','Florida','Georgia','Maryland','North Carolina',\n",
    "             'South Carolina','Virginia','District of Columbia','West Virginia',\n",
    "             'Alabama','Kentucky','Mississippi','Tennessee','Arkansas',\n",
    "             'Louisiana','Oklahoma','Texas']\n",
    "    west = ['Arizona','Colorado','Idaho','Montana','Nevada','New Mexico','Utah',\n",
    "            'Wyoming','Alaska','California','Hawaii','Oregon','Washington']\n",
    "    \n",
    "    if x in northeast:\n",
    "        return \"Northeast\"\n",
    "    elif x in midwest:\n",
    "        return \"Midwest\"\n",
    "    elif x in south:\n",
    "        return \"South\"\n",
    "    else:\n",
    "        return \"West\""
   ]
  },
  {
   "cell_type": "code",
   "execution_count": null,
   "metadata": {
    "collapsed": true
   },
   "outputs": [],
   "source": [
    "# Now we have the customized function, let's say we want to create a new column\n",
    "# called Region, which shows the state's region, we can use the customized \n",
    "# function and the apply function to do so. The customized function is supposed \n",
    "# to work on the state name column STNAME. So we will set the apply function on \n",
    "# the state name column and pass the customized function into the apply function\n",
    "df['state_region'] = df['STNAME'].apply(lambda x: get_state_region(x))"
   ]
  },
  {
   "cell_type": "code",
   "execution_count": null,
   "metadata": {},
   "outputs": [],
   "source": [
    "# Now let's see the results\n",
    "df[['STNAME','state_region']]"
   ]
  },
  {
   "cell_type": "markdown",
   "metadata": {},
   "source": [
    "So there are a couple of Pandas idioms. But I think there's many more, and I haven't talked about them here. So here's an unofficial assignment for you. Go look at some of the top ranked questions on pandas on Stack Overflow, and look at how some of the more experienced authors, answer those questions. Do you see any interesting patterns? Chime in on the course discussion forums and let's build some pandorable documents together.\n"
   ]
  }
 ],
 "metadata": {
  "kernelspec": {
   "display_name": "Python 3",
   "language": "python",
   "name": "python3"
  },
  "language_info": {
   "codemirror_mode": {
    "name": "ipython",
    "version": 3
   },
   "file_extension": ".py",
   "mimetype": "text/x-python",
   "name": "python",
   "nbconvert_exporter": "python",
   "pygments_lexer": "ipython3",
   "version": "3.7.3"
  }
 },
 "nbformat": 4,
 "nbformat_minor": 2
}
