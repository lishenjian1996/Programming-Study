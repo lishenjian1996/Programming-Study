{
 "cells": [
  {
   "cell_type": "markdown",
   "metadata": {},
   "source": [
    "# `DataFrame` Indexing and Loading\n",
    "\n",
    "In this course, we'll be largely using smaller or moderate-sized datasets. A common workflow is to read the dataset in, usually from some external file, then begin to clean and manipulate the dataset for analysis. In this lecture I'm going to demonstrate how you can load data from a comma separated file into a DataFrame."
   ]
  },
  {
   "cell_type": "code",
   "execution_count": 1,
   "metadata": {},
   "outputs": [
    {
     "name": "stderr",
     "output_type": "stream",
     "text": [
      "'cat' �����ڲ����ⲿ���Ҳ���ǿ����еĳ���\n",
      "���������ļ���\n"
     ]
    }
   ],
   "source": [
    "# Lets just jump right in and talk about comma separated values (csv) files. You've undoubtedly used these -\n",
    "# any spreadsheet software like excel or google sheets can save output in CSV format. It's pretty loose as a\n",
    "# format, and incredibly lightweight. And totally ubiquitous.\n",
    "\n",
    "# Now, I'm going to make a quick aside because it's convenient here. The Jupyter notebooks use ipython as the\n",
    "# kernel underneath, which provides convenient ways to integrate lower level shell commands, which are\n",
    "# programs run in the underlying operating system. If you're not familiar with the shell don't worry too much\n",
    "# about this, but if you are, this is super handy for integration of your data science workflows. I want to\n",
    "# use one shell command here called \"cat\", for \"concatenate\", which just outputs the contents of a file. In\n",
    "# ipython if we prepend the line with an exclamation mark it will execute the remainder of the line as a shell\n",
    "# command.  So lets look at the content of a CSV file\n",
    "!cat datasets/Admission_Predict.csv"
   ]
  },
  {
   "cell_type": "code",
   "execution_count": null,
   "metadata": {},
   "outputs": [],
   "source": [
    "# We see from the output that there is a list of columns, and the column identifiers are listed as strings on\n",
    "# the first line of the file. Then we have rows of data, all columns separated by commas. Now, there are lots\n",
    "# of oddities with the CSV file format, and there is no one agreed upon specification. So you should be\n",
    "# prepared to do a bit of work when you pull down CSV files to explore. But this lecture isn't focused on CSV\n",
    "# files, and is more about pandas DataFrames. So lets jump into that.\n",
    "\n",
    "# Let's bring in pandas to work with\n",
    "import pandas as pd\n",
    "\n",
    "# Pandas mades it easy to turn a CSV into a dataframe, we just call read_csv()\n",
    "df = pd.read_csv('datasets/Admission_Predict.csv')\n",
    "\n",
    "# And let's look at the first few rows\n",
    "df.head()"
   ]
  },
  {
   "cell_type": "code",
   "execution_count": null,
   "metadata": {},
   "outputs": [],
   "source": [
    "# We notice that by default index starts with 0 while the students' serial number starts from 1. If you jump\n",
    "# back to the CSV output you'll deduce that pandas has create a new index. Instead, we can set the serial no.\n",
    "# as the index if we want to by using the index_col.\n",
    "df = pd.read_csv('datasets/Admission_Predict.csv', index_col=0)\n",
    "df.head()"
   ]
  },
  {
   "cell_type": "code",
   "execution_count": null,
   "metadata": {},
   "outputs": [],
   "source": [
    "# Notice that we have two columns \"SOP\" and \"LOR\" and probably not everyone knows what they mean So let's\n",
    "# change our column names to make it more clear. In Pandas, we can use the rename() function It takes a\n",
    "# parameter called columns, and we need to pass into a dictionary which the keys are the old column name and\n",
    "# the value is the corresponding new column name\n",
    "new_df=df.rename(columns={'GRE Score':'GRE Score', 'TOEFL Score':'TOEFL Score',\n",
    "                   'University Rating':'University Rating', \n",
    "                   'SOP': 'Statement of Purpose','LOR': 'Letter of Recommendation',\n",
    "                   'CGPA':'CGPA', 'Research':'Research',\n",
    "                   'Chance of Admit':'Chance of Admit'})\n",
    "new_df.head()"
   ]
  },
  {
   "cell_type": "code",
   "execution_count": null,
   "metadata": {},
   "outputs": [],
   "source": [
    "# From the output, we can see that only \"SOP\" is changed but not \"LOR\" Why is that? Let's investigate this a\n",
    "# bit. First we need to make sure we got all the column names correct We can use the columns attribute of\n",
    "# dataframe to get a list.\n",
    "new_df.columns"
   ]
  },
  {
   "cell_type": "code",
   "execution_count": null,
   "metadata": {},
   "outputs": [],
   "source": [
    "# If we look at the output closely, we can see that there is actually a space right after \"LOR\" and a space\n",
    "# right after \"Chance of Admit. Sneaky, huh? So this is why our rename dictionary does not work for LOR,\n",
    "# because the key we used was just three characters, instead of \"LOR \"\n",
    "\n",
    "# There are a couple of ways we could address this. One way would be to change a column by including the space\n",
    "# in the name\n",
    "new_df=new_df.rename(columns={'LOR ': 'Letter of Recommendation'})\n",
    "new_df.head()"
   ]
  },
  {
   "cell_type": "code",
   "execution_count": null,
   "metadata": {},
   "outputs": [],
   "source": [
    "# So that works well, but it's a bit fragile. What if that was a tab instead of a space? Or two spaces?\n",
    "# Another way is to create some function that does the cleaning and then tell renamed to apply that function\n",
    "# across all of the data. Python comes with a handy string function to strip white space called \"strip()\".\n",
    "# When we pass this in to rename we pass the function as the mapper parameter, and then indicate whether the\n",
    "# axis should be columns or index (row labels)\n",
    "new_df=new_df.rename(mapper=str.strip, axis='columns')\n",
    "# Let's take a look at results\n",
    "new_df.head()"
   ]
  },
  {
   "cell_type": "code",
   "execution_count": null,
   "metadata": {},
   "outputs": [],
   "source": [
    "# Now we've got it - both SOP and LOR have been renamed and Chance of Admit has been trimmed up. Remember\n",
    "# though that the rename function isn't modifying the dataframe. In this case, df is the same as it always\n",
    "# was, there's just a copy in new_df with the changed names.\n",
    "df.columns"
   ]
  },
  {
   "cell_type": "code",
   "execution_count": null,
   "metadata": {},
   "outputs": [],
   "source": [
    "# We can also use the df.columns attribute by assigning to it a list of column names which will directly\n",
    "# rename the columns. This will directly modify the original dataframe and is very efficient especially when\n",
    "# you have a lot of columns and you only want to change a few. This technique is also not affected by subtle\n",
    "# errors in the column names, a problem that we just encountered. With a list, you can use the list index to\n",
    "# change a certain value or use list comprehension to change all of the values\n",
    "\n",
    "# As an example, lets change all of the column names to lower case. First we need to get our list\n",
    "cols = list(df.columns)\n",
    "# Then a little list comprehenshion\n",
    "cols = [x.lower().strip() for x in cols]\n",
    "# Then we just overwrite what is already in the .columns attribute\n",
    "df.columns=cols\n",
    "# And take a look at our results\n",
    "df.head()"
   ]
  },
  {
   "cell_type": "markdown",
   "metadata": {
    "collapsed": true
   },
   "source": [
    "In this lecture, you've learned how to import a CSV file into a pandas DataFrame object, and how to do some basic data cleaning to the column names. The CSV file import mechanisms in pandas have lots of different options, and you really need to learn these in order to be proficient at data manipulation. Once you have set up the format and shape of a DataFrame, you have a solid start to further actions such as conducting data analysis and modeling.\n",
    "\n",
    "Now, there are other data sources you can load directly into dataframes as well, including HTML web pages, databases, and other file formats. But the CSV is by far the most common data format you'll run into, and an important one to know how to manipulate in pandas."
   ]
  }
 ],
 "metadata": {
  "kernelspec": {
   "display_name": "Python 3",
   "language": "python",
   "name": "python3"
  },
  "language_info": {
   "codemirror_mode": {
    "name": "ipython",
    "version": 3
   },
   "file_extension": ".py",
   "mimetype": "text/x-python",
   "name": "python",
   "nbconvert_exporter": "python",
   "pygments_lexer": "ipython3",
   "version": "3.11.6"
  }
 },
 "nbformat": 4,
 "nbformat_minor": 2
}
