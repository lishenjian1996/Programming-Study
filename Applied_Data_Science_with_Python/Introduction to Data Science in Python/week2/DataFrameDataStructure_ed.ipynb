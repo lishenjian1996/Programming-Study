{
 "cells": [
  {
   "cell_type": "markdown",
   "metadata": {},
   "source": [
    "# The `DataFrame`\n",
    "\n",
    "The DataFrame data structure is the heart of the Panda's library. It's a primary object that you'll be working  with in data analysis and cleaning tasks.\n",
    "\n",
    "The DataFrame is conceptually a two-dimensional series object, where there's an index and multiple columns of  content, with each column having a label. In fact, the distinction between a column and a row is really only a  conceptual distinction. And you can think of the DataFrame itself as simply a two-axes labeled array."
   ]
  },
  {
   "cell_type": "code",
   "execution_count": null,
   "metadata": {},
   "outputs": [],
   "source": [
    "# Lets start by importing our pandas library\n",
    "import pandas as pd"
   ]
  },
  {
   "cell_type": "code",
   "execution_count": null,
   "metadata": {},
   "outputs": [],
   "source": [
    "# I'm going to jump in with an example. Lets create three school records for students and their \n",
    "# class grades. I'll create each as a series which has a student name, the class name, and the score. \n",
    "record1 = pd.Series({'Name': 'Alice',\n",
    "                        'Class': 'Physics',\n",
    "                        'Score': 85})\n",
    "record2 = pd.Series({'Name': 'Jack',\n",
    "                        'Class': 'Chemistry',\n",
    "                        'Score': 82})\n",
    "record3 = pd.Series({'Name': 'Helen',\n",
    "                        'Class': 'Biology',\n",
    "                        'Score': 90})"
   ]
  },
  {
   "cell_type": "code",
   "execution_count": null,
   "metadata": {},
   "outputs": [],
   "source": [
    "# Like a Series, the DataFrame object is index. Here I'll use a group of series, where each series \n",
    "# represents a row of data. Just like the Series function, we can pass in our individual items\n",
    "# in an array, and we can pass in our index values as a second arguments\n",
    "df = pd.DataFrame([record1, record2, record3],\n",
    "                  index=['school1', 'school2', 'school1'])\n",
    "\n",
    "# And just like the Series we can use the head() function to see the first several rows of the\n",
    "# dataframe, including indices from both axes, and we can use this to verify the columns and the rows\n",
    "df.head()"
   ]
  },
  {
   "cell_type": "code",
   "execution_count": null,
   "metadata": {},
   "outputs": [],
   "source": [
    "# You'll notice here that Jupyter creates a nice bit of HTML to render the results of the\n",
    "# dataframe. So we have the index, which is the leftmost column and is the school name, and\n",
    "# then we have the rows of data, where each row has a column header which was given in our initial\n",
    "# record dictionaries"
   ]
  },
  {
   "cell_type": "code",
   "execution_count": null,
   "metadata": {},
   "outputs": [],
   "source": [
    "# An alternative method is that you could use a list of dictionaries, where each dictionary \n",
    "# represents a row of data.\n",
    "\n",
    "students = [{'Name': 'Alice',\n",
    "              'Class': 'Physics',\n",
    "              'Score': 85},\n",
    "            {'Name': 'Jack',\n",
    "             'Class': 'Chemistry',\n",
    "             'Score': 82},\n",
    "            {'Name': 'Helen',\n",
    "             'Class': 'Biology',\n",
    "             'Score': 90}]\n",
    "\n",
    "# Then we pass this list of dictionaries into the DataFrame function\n",
    "df = pd.DataFrame(students, index=['school1', 'school2', 'school1'])\n",
    "# And lets print the head again\n",
    "df.head()"
   ]
  },
  {
   "cell_type": "code",
   "execution_count": null,
   "metadata": {},
   "outputs": [],
   "source": [
    "# Similar to the series, we can extract data using the .iloc and .loc attributes. Because the \n",
    "# DataFrame is two-dimensional, passing a single value to the loc indexing operator will return \n",
    "# the series if there's only one row to return.\n",
    "\n",
    "# For instance, if we wanted to select data associated with school2, we would just query the \n",
    "# .loc attribute with one parameter.\n",
    "df.loc['school2']"
   ]
  },
  {
   "cell_type": "code",
   "execution_count": null,
   "metadata": {},
   "outputs": [],
   "source": [
    "# You'll note that the name of the series is returned as the index value, while the column \n",
    "# name is included in the output.\n",
    "\n",
    "# We can check the data type of the return using the python type function.\n",
    "type(df.loc['school2'])"
   ]
  },
  {
   "cell_type": "code",
   "execution_count": null,
   "metadata": {},
   "outputs": [],
   "source": [
    "# It's important to remember that the indices and column names along either axes horizontal or \n",
    "# vertical, could be non-unique. In this example, we see two records for school1 as different rows.\n",
    "# If we use a single value with the DataFrame lock attribute, multiple rows of the DataFrame will \n",
    "# return, not as a new series, but as a new DataFrame.\n",
    "\n",
    "# Lets query for school1 records\n",
    "df.loc['school1']"
   ]
  },
  {
   "cell_type": "code",
   "execution_count": null,
   "metadata": {},
   "outputs": [],
   "source": [
    "# And we can see the the type of this is different too\n",
    "type(df.loc['school1'])"
   ]
  },
  {
   "cell_type": "code",
   "execution_count": null,
   "metadata": {},
   "outputs": [],
   "source": [
    "# One of the powers of the Panda's DataFrame is that you can quickly select data based on multiple axes.\n",
    "# For instance, if you wanted to just list the student names for school1, you would supply two \n",
    "# parameters to .loc, one being the row index and the other being the column name.\n",
    "\n",
    "# For instance, if we are only interested in school1's student names\n",
    "df.loc['school1', 'Name']"
   ]
  },
  {
   "cell_type": "code",
   "execution_count": null,
   "metadata": {},
   "outputs": [],
   "source": [
    "# Remember, just like the Series, the pandas developers have implemented this using the indexing\n",
    "# operator and not as parameters to a function.\n",
    "\n",
    "# What would we do if we just wanted to select a single column though? Well, there are a few\n",
    "# mechanisms. Firstly, we could transpose the matrix. This pivots all of the rows into columns\n",
    "# and all of the columns into rows, and is done with the T attribute\n",
    "df.T"
   ]
  },
  {
   "cell_type": "code",
   "execution_count": null,
   "metadata": {},
   "outputs": [],
   "source": [
    "# Then we can call .loc on the transpose to get the student names only\n",
    "df.T.loc['Name']"
   ]
  },
  {
   "cell_type": "code",
   "execution_count": null,
   "metadata": {},
   "outputs": [],
   "source": [
    "# However, since iloc and loc are used for row selection, Panda reserves the indexing operator \n",
    "# directly on the DataFrame for column selection. In a Panda's DataFrame, columns always have a name. \n",
    "# So this selection is always label based, and is not as confusing as it was when using the square \n",
    "# bracket operator on the series objects. For those familiar with relational databases, this operator \n",
    "# is analogous to column projection.\n",
    "df['Name']"
   ]
  },
  {
   "cell_type": "code",
   "execution_count": null,
   "metadata": {},
   "outputs": [],
   "source": [
    "# In practice, this works really well since you're often trying to add or drop new columns. However,\n",
    "# this also means that you get a key error if you try and use .loc with a column name\n",
    "df.loc['Name']"
   ]
  },
  {
   "cell_type": "code",
   "execution_count": null,
   "metadata": {},
   "outputs": [],
   "source": [
    "# Note too that the result of a single column projection is a Series object\n",
    "type(df['Name'])"
   ]
  },
  {
   "cell_type": "code",
   "execution_count": null,
   "metadata": {},
   "outputs": [],
   "source": [
    "# Since the result of using the indexing operator is either a DataFrame or Series, you can chain \n",
    "# operations together. For instance, we can select all of the rows which related to school1 using\n",
    "# .loc, then project the name column from just those rows\n",
    "df.loc['school1']['Name']"
   ]
  },
  {
   "cell_type": "code",
   "execution_count": null,
   "metadata": {},
   "outputs": [],
   "source": [
    "# If you get confused, use type to check the responses from resulting operations\n",
    "print(type(df.loc['school1'])) #should be a DataFrame\n",
    "print(type(df.loc['school1']['Name'])) #should be a Series"
   ]
  },
  {
   "cell_type": "code",
   "execution_count": null,
   "metadata": {},
   "outputs": [],
   "source": [
    "# Chaining, by indexing on the return type of another index, can come with some costs and is\n",
    "# best avoided if you can use another approach. In particular, chaining tends to cause Pandas \n",
    "# to return a copy of the DataFrame instead of a view on the DataFrame. \n",
    "# For selecting data, this is not a big deal, though it might be slower than necessary. \n",
    "# If you are changing data though this is an important distinction and can be a source of error."
   ]
  },
  {
   "cell_type": "code",
   "execution_count": null,
   "metadata": {},
   "outputs": [],
   "source": [
    "# Here's another approach. As we saw, .loc does row selection, and it can take two parameters, \n",
    "# the row index and the list of column names. The .loc attribute also supports slicing.\n",
    "\n",
    "# If we wanted to select all rows, we can use a colon to indicate a full slice from beginning to end. \n",
    "# This is just like slicing characters in a list in python. Then we can add the column name as the \n",
    "# second parameter as a string. If we wanted to include multiple columns, we could do so in a list. \n",
    "# and Pandas will bring back only the columns we have asked for.\n",
    "\n",
    "# Here's an example, where we ask for all the names and scores for all schools using the .loc operator.\n",
    "df.loc[:,['Name', 'Score']]"
   ]
  },
  {
   "cell_type": "code",
   "execution_count": null,
   "metadata": {},
   "outputs": [],
   "source": [
    "# Take a look at that again. The colon means that we want to get all of the rows, and the list\n",
    "# in the second argument position is the list of columns we want to get back"
   ]
  },
  {
   "cell_type": "code",
   "execution_count": null,
   "metadata": {},
   "outputs": [],
   "source": [
    "# That's selecting and projecting data from a DataFrame based on row and column labels. The key \n",
    "# concepts to remember are that the rows and columns are really just for our benefit. Underneath \n",
    "# this is just a two axes labeled array, and transposing the columns is easy. Also, consider the \n",
    "# issue of chaining carefully, and try to avoid it, as it can cause unpredictable results, where \n",
    "# your intent was to obtain a view of the data, but instead Pandas returns to you a copy. "
   ]
  },
  {
   "cell_type": "code",
   "execution_count": null,
   "metadata": {},
   "outputs": [],
   "source": [
    "# Before we leave the discussion of accessing data in DataFrames, lets talk about dropping data.\n",
    "# It's easy to delete data in Series and DataFrames, and we can use the drop function to do so. \n",
    "# This function takes a single parameter, which is the index or row label, to drop. This is another \n",
    "# tricky place for new users -- the drop function doesn't change the DataFrame by default! Instead,\n",
    "# the drop function returns to you a copy of the DataFrame with the given rows removed.\n",
    "\n",
    "df.drop('school1')"
   ]
  },
  {
   "cell_type": "code",
   "execution_count": null,
   "metadata": {},
   "outputs": [],
   "source": [
    "# But if we look at our original DataFrame we see the data is still intact.\n",
    "df"
   ]
  },
  {
   "cell_type": "code",
   "execution_count": null,
   "metadata": {},
   "outputs": [],
   "source": [
    "# Drop has two interesting optional parameters. The first is called inplace, and if it's \n",
    "# set to true, the DataFrame will be updated in place, instead of a copy being returned. \n",
    "# The second parameter is the axes, which should be dropped. By default, this value is 0, \n",
    "# indicating the row axis. But you could change it to 1 if you want to drop a column.\n",
    "\n",
    "# For example, lets make a copy of a DataFrame using .copy()\n",
    "copy_df = df.copy()\n",
    "# Now lets drop the name column in this copy\n",
    "copy_df.drop(\"Name\", inplace=True, axis=1)\n",
    "copy_df"
   ]
  },
  {
   "cell_type": "code",
   "execution_count": null,
   "metadata": {},
   "outputs": [],
   "source": [
    "# There is a second way to drop a column, and that's directly through the use of the indexing \n",
    "# operator, using the del keyword. This way of dropping data, however, takes immediate effect \n",
    "# on the DataFrame and does not return a view.\n",
    "del copy_df['Class']\n",
    "copy_df"
   ]
  },
  {
   "cell_type": "code",
   "execution_count": null,
   "metadata": {},
   "outputs": [],
   "source": [
    "# Finally, adding a new column to the DataFrame is as easy as assigning it to some value using\n",
    "# the indexing operator. For instance, if we wanted to add a class ranking column with default \n",
    "# value of None, we could do so by using the assignment operator after the square brackets.\n",
    "# This broadcasts the default value to the new column immediately.\n",
    "\n",
    "df['ClassRanking'] = None\n",
    "df"
   ]
  },
  {
   "cell_type": "markdown",
   "metadata": {
    "collapsed": true
   },
   "source": [
    "In this lecture you've learned about the data structure you'll use the most in pandas, the DataFrame. The  dataframe is indexed both by row and column, and you can easily select individual rows and project the columns  you're interested in using the familiar indexing methods from the Series class. You'll be gaining a lot of  experience with the DataFrame in the content to come."
   ]
  }
 ],
 "metadata": {
  "kernelspec": {
   "display_name": "Python 3",
   "language": "python",
   "name": "python3"
  },
  "language_info": {
   "codemirror_mode": {
    "name": "ipython",
    "version": 3
   },
   "file_extension": ".py",
   "mimetype": "text/x-python",
   "name": "python",
   "nbconvert_exporter": "python",
   "pygments_lexer": "ipython3",
   "version": "3.7.3"
  }
 },
 "nbformat": 4,
 "nbformat_minor": 2
}
