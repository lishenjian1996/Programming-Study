{
 "cells": [
  {
   "cell_type": "markdown",
   "metadata": {},
   "source": [
    "# Basic Statistical Testing\n",
    "\n",
    "In this lecture we're going to review some of the basics of statistical testing in python. We're going to talk about hypothesis testing, statistical significance, and using scipy to run student's t-tests."
   ]
  },
  {
   "cell_type": "code",
   "execution_count": null,
   "metadata": {},
   "outputs": [],
   "source": [
    "# We use statistics in a lot of different ways in data science, and on this lecture, I want to refresh your\n",
    "# knowledge of hypothesis testing, which is a core data analysis activity behind experimentation. The goal of\n",
    "# hypothesis testing is to determine if, for instance, the two different conditions we have in an experiment \n",
    "# have resulted in different impacts\n",
    "\n",
    "# Let's import our usual numpy and pandas libraries\n",
    "import numpy as np\n",
    "import pandas as pd\n",
    "\n",
    "# Now let's bring in some new libraries from scipy\n",
    "from scipy import stats"
   ]
  },
  {
   "cell_type": "code",
   "execution_count": null,
   "metadata": {},
   "outputs": [],
   "source": [
    "# Now, scipy is an interesting collection of libraries for data science and you'll use most or perpahs all of\n",
    "# these libraries. It includes numpy and pandas, but also plotting libraries such as matplotlib, and a\n",
    "# number of scientific library functions as well"
   ]
  },
  {
   "cell_type": "code",
   "execution_count": null,
   "metadata": {
    "scrolled": true
   },
   "outputs": [],
   "source": [
    "# When we do hypothesis testing, we actually have two statements of interest: the first is our actual\n",
    "# explanation, which we call the alternative hypothesis, and the second is that the explanation we have is not\n",
    "# sufficient, and we call this the null hypothesis. Our actual testing method is to determine whether the null\n",
    "# hypothesis is true or not. If we find that there is a difference between groups, then we can reject the null\n",
    "# hypothesis and we accept our alternative.\n",
    "\n",
    "# Let's see an example of this; we're going to use some grade data\n",
    "df=pd.read_csv ('datasets/grades.csv')\n",
    "df.head()"
   ]
  },
  {
   "cell_type": "code",
   "execution_count": null,
   "metadata": {},
   "outputs": [],
   "source": [
    "# If we take a look at the data frame inside, we see we have six different assignments. Lets look at some\n",
    "# summary statistics for this DataFrame\n",
    "print(\"There are {} rows and {} columns\".format(df.shape[0], df.shape[1]))"
   ]
  },
  {
   "cell_type": "code",
   "execution_count": null,
   "metadata": {
    "scrolled": true
   },
   "outputs": [],
   "source": [
    "# For the purpose of this lecture, let's segment this population into two pieces. Let's say those who finish\n",
    "# the first assignment by the end of December 2015, we'll call them early finishers, and those who finish it \n",
    "# sometime after that, we'll call them late finishers.\n",
    "\n",
    "early_finishers=df[pd.to_datetime(df['assignment1_submission']) < '2016']\n",
    "early_finishers.head()"
   ]
  },
  {
   "cell_type": "code",
   "execution_count": null,
   "metadata": {},
   "outputs": [],
   "source": [
    "# So, you have lots of skills now with pandas, how would you go about getting the late_finishers dataframe?\n",
    "# Why don't you pause the video and give it a try."
   ]
  },
  {
   "cell_type": "code",
   "execution_count": null,
   "metadata": {},
   "outputs": [],
   "source": [
    "# Here's my solution. First, the dataframe df and the early_finishers share index values, so I really just\n",
    "# want everything in the df which is not in early_finishers\n",
    "late_finishers=df[~df.index.isin(early_finishers.index)]\n",
    "late_finishers.head()"
   ]
  },
  {
   "cell_type": "code",
   "execution_count": null,
   "metadata": {},
   "outputs": [],
   "source": [
    "# There are lots of other ways to do this. For instance, you could just copy and paste the first projection\n",
    "# and change the sign from less than to greater than or equal to. This is ok, but if you decide you want to\n",
    "# change the date down the road you have to remember to change it in two places. You could also do a join of\n",
    "# the dataframe df with early_finishers - if you do a left join you only keep the items in the left dataframe,\n",
    "# so this would have been a good answer. You also could have written a function that determines if someone is\n",
    "# early or late, and then called .apply() on the dataframe and added a new column to the dataframe. This is a\n",
    "# pretty reasonable answer as well."
   ]
  },
  {
   "cell_type": "code",
   "execution_count": null,
   "metadata": {},
   "outputs": [],
   "source": [
    "# As you've seen, the pandas data frame object has a variety of statistical functions associated with it. If\n",
    "# we call the mean function directly on the data frame, we see that each of the means for the assignments are\n",
    "# calculated. Let's compare the means for our two populations\n",
    "\n",
    "print(early_finishers['assignment1_grade'].mean())\n",
    "print(late_finishers['assignment1_grade'].mean())"
   ]
  },
  {
   "cell_type": "code",
   "execution_count": null,
   "metadata": {},
   "outputs": [],
   "source": [
    "# Ok, these look pretty similar. But, are they the same? What do we mean by similar? This is where the\n",
    "# students' t-test comes in. It allows us to form the alternative hypothesis (\"These are different\") as well\n",
    "# as the null hypothesis (\"These are the same\") and then test that null hypothesis.\n",
    "\n",
    "# When doing hypothesis testing, we have to choose a significance level as a threshold for how much of a\n",
    "# chance we're willing to accept. This significance level is typically called alpha. #For this example, let's\n",
    "# use a threshold of 0.05 for our alpha or 5%. Now this is a commonly used number but it's really quite\n",
    "# arbitrary.\n",
    "\n",
    "# The SciPy library contains a number of different statistical tests and forms a basis for hypothesis testing\n",
    "# in Python and we're going to use the ttest_ind() function which does an independent t-test (meaning the\n",
    "# populations are not related to one another). The result of ttest_index() are the t-statistic and a p-value.\n",
    "# It's this latter value, the probability, which is most important to us, as it indicates the chance (between\n",
    "# 0 and 1) of our null hypothesis being True.\n",
    "\n",
    "# Let's bring in our ttest_ind function\n",
    "from scipy.stats import ttest_ind\n",
    "\n",
    "# Let's run this function with our two populations, looking at the assignment 1 grades\n",
    "ttest_ind(early_finishers['assignment1_grade'], late_finishers['assignment1_grade'])"
   ]
  },
  {
   "cell_type": "code",
   "execution_count": null,
   "metadata": {},
   "outputs": [],
   "source": [
    "# So here we see that the probability is 0.18, and this is above our alpha value of 0.05. This means that we\n",
    "# cannot reject the null hypothesis. The null hypothesis was that the two populations are the same, and we\n",
    "# don't have enough certainty in our evidence (because it is greater than alpha) to come to a conclusion to\n",
    "# the contrary. This doesn't mean that we have proven the populations are the same."
   ]
  },
  {
   "cell_type": "code",
   "execution_count": null,
   "metadata": {},
   "outputs": [],
   "source": [
    "# Why don't we check the other assignment grades?\n",
    "print(ttest_ind(early_finishers['assignment2_grade'], late_finishers['assignment2_grade']))\n",
    "print(ttest_ind(early_finishers['assignment3_grade'], late_finishers['assignment3_grade']))\n",
    "print(ttest_ind(early_finishers['assignment4_grade'], late_finishers['assignment4_grade']))\n",
    "print(ttest_ind(early_finishers['assignment5_grade'], late_finishers['assignment5_grade']))\n",
    "print(ttest_ind(early_finishers['assignment6_grade'], late_finishers['assignment6_grade']))"
   ]
  },
  {
   "cell_type": "code",
   "execution_count": null,
   "metadata": {},
   "outputs": [],
   "source": [
    "# Ok, so it looks like in this data we do not have enough evidence to suggest the populations differ with\n",
    "# respect to grade. Let's take a look at those p-values for a moment though, because they are saying things\n",
    "# that can inform experimental design down the road. For instance, one of the assignments, assignment 3, has a\n",
    "# p-value around 0.1. This means that if we accepted a level of chance similarity of 11% this would have been\n",
    "# considered statistically significant. As a research, this would suggest to me that there is something here\n",
    "# worth considering following up on. For instance, if we had a small number of participants (we don't) or if\n",
    "# there was something unique about this assignment as it relates to our experiment (whatever it was) then\n",
    "# there may be followup experiments we could run."
   ]
  },
  {
   "cell_type": "code",
   "execution_count": null,
   "metadata": {},
   "outputs": [],
   "source": [
    "# P-values have come under fire recently for being insuficient for telling us enough about the interactions\n",
    "# which are happening, and two other techniques, confidence intervalues and bayesian analyses, are being used\n",
    "# more regularly. One issue with p-values is that as you run more tests you are likely to get a value which\n",
    "# is statistically significant just by chance.\n",
    "\n",
    "# Lets see a simulation of this. First, lets create a data frame of 100 columns, each with 100 numbers\n",
    "df1=pd.DataFrame([np.random.random(100) for x in range(100)])\n",
    "df1.head()"
   ]
  },
  {
   "cell_type": "code",
   "execution_count": null,
   "metadata": {},
   "outputs": [],
   "source": [
    "# Pause this and reflect -- do you understand the list comprehension and how I created this DataFrame? You\n",
    "# don't have to use a list comprehension to do this, but you should be able to read this and figure out how it\n",
    "# works as this is a commonly used approach on web forums."
   ]
  },
  {
   "cell_type": "code",
   "execution_count": null,
   "metadata": {},
   "outputs": [],
   "source": [
    "# Ok, let's create a second dataframe\n",
    "df2=pd.DataFrame([np.random.random(100) for x in range(100)])"
   ]
  },
  {
   "cell_type": "code",
   "execution_count": null,
   "metadata": {},
   "outputs": [],
   "source": [
    "# Are these two DataFrames the same? Maybe a better question is, for a given row inside of df1, is it the same\n",
    "# as the row inside df2?\n",
    "\n",
    "# Let's take a look. Let's say our critical value is 0.1, or and alpha of 10%. And we're going to compare each\n",
    "# column in df1 to the same numbered column in df2. And we'll report when the p-value isn't less than 10%,\n",
    "# which means that we have sufficient evidence to say that the columns are different.\n",
    "\n",
    "# Let's write this in a function called test_columns\n",
    "def test_columns(alpha=0.1):\n",
    "    # I want to keep track of how many differ\n",
    "    num_diff=0\n",
    "    # And now we can just iterate over the columns\n",
    "    for col in df1.columns:\n",
    "        # we can run out ttest_ind between the two dataframes\n",
    "        teststat,pval=ttest_ind(df1[col],df2[col])\n",
    "        # and we check the pvalue versus the alpha\n",
    "        if pval<=alpha:\n",
    "            # And now we'll just print out if they are different and increment the num_diff\n",
    "            print(\"Col {} is statistically significantly different at alpha={}, pval={}\".format(col,alpha,pval))\n",
    "            num_diff=num_diff+1\n",
    "    # and let's print out some summary stats\n",
    "    print(\"Total number different was {}, which is {}%\".format(num_diff,float(num_diff)/len(df1.columns)*100))\n",
    "\n",
    "# And now lets actually run this\n",
    "test_columns()"
   ]
  },
  {
   "cell_type": "code",
   "execution_count": null,
   "metadata": {},
   "outputs": [],
   "source": [
    "# Interesting, so we see that there are a bunch of columns that are different! In fact, that number looks a\n",
    "# lot like the alpha value we chose. So what's going on - shouldn't all of the columns be the same? Remember\n",
    "# that all the ttest does is check if two sets are similar given some level of confidence, in our case, 10%.\n",
    "# The more random comparisons you do, the more will just happen to be the same by chance. In this example, we\n",
    "# checked 100 columns, so we would expect there to be roughly 10 of them if our alpha was 0.1.\n",
    "\n",
    "# We can test some other alpha values as well\n",
    "test_columns(0.05)"
   ]
  },
  {
   "cell_type": "code",
   "execution_count": null,
   "metadata": {},
   "outputs": [],
   "source": [
    "# So, keep this in mind when you are doing statistical tests like the t-test which has a p-value. Understand\n",
    "# that this p-value isn't magic, that it's a threshold for you when reporting results and trying to answer\n",
    "# your hypothesis. What's a reasonable threshold? Depends on your question, and you need to engage domain\n",
    "# experts to better understand what they would consider significant.\n",
    "\n",
    "# Just for fun, lets recreate that second dataframe using a non-normal distribution, I'll arbitrarily chose\n",
    "# chi squared\n",
    "df2=pd.DataFrame([np.random.chisquare(df=1,size=100) for x in range(100)])\n",
    "test_columns()"
   ]
  },
  {
   "cell_type": "code",
   "execution_count": null,
   "metadata": {},
   "outputs": [],
   "source": [
    "# Now we see that all or most columns test to be statistically significant at the 10% level."
   ]
  },
  {
   "cell_type": "markdown",
   "metadata": {},
   "source": [
    "In this lecture, we've discussed just some of the basics of hypothesis testing in Python. I introduced you to the SciPy library, which you can use for the students t test. We've discussed some of the practical issues which arise from looking for statistical significance. There's much more to learn about hypothesis testing, for instance, there are different tests used, depending on the shape of your data and different ways to report results instead of just p-values such as confidence intervals or bayesian analyses. But this should give you a basic idea of where to start when comparing two populations for differences, which is a common task for data scientists."
   ]
  }
 ],
 "metadata": {
  "kernelspec": {
   "display_name": "Python 3 (ipykernel)",
   "language": "python",
   "name": "python3"
  },
  "language_info": {
   "codemirror_mode": {
    "name": "ipython",
    "version": 3
   },
   "file_extension": ".py",
   "mimetype": "text/x-python",
   "name": "python",
   "nbconvert_exporter": "python",
   "pygments_lexer": "ipython3",
   "version": "3.9.13"
  }
 },
 "nbformat": 4,
 "nbformat_minor": 4
}
