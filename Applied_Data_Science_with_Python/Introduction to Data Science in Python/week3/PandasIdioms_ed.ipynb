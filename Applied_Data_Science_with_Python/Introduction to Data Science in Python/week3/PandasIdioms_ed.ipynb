{
 "cells": [
  {
   "cell_type": "markdown",
   "metadata": {},
   "source": [
    "# Idioms\n",
    "\n",
    "Python programmers will often suggest that there many ways the language can be used to solve a particular problem. But that some are more appropriate than others. The best solutions are celebrated as Idiomatic Python and there are lots of great examples of this on StackOverflow and other websites.\n",
    "\n",
    "A sort of sub-language within Python, Pandas has its own set of idioms. We've alluded to some of these already, such as using vectorization whenever possible, and not using iterative loops if you don't need to. Several developers and users within the Panda's community have used the term __pandorable__ for these idioms. I  think it's a great term. So, I wanted to share with you a couple of key features of how you can make your code  pandorable."
   ]
  },
  {
   "cell_type": "code",
   "execution_count": null,
   "metadata": {},
   "outputs": [],
   "source": [
    "# Let's start by bringing in our data processing libraries\n",
    "import pandas as pd\n",
    "import numpy as np\n",
    "# And we'll bring in some timing functionality too, from the timeit module\n",
    "import timeit\n",
    "\n",
    "# And lets look at some census data from the US\n",
    "df = pd.read_csv('datasets/census.csv')\n",
    "df.head()"
   ]
  },
  {
   "cell_type": "code",
   "execution_count": null,
   "metadata": {},
   "outputs": [],
   "source": [
    "# The first of the pandas idioms I would like to talk about is called method chaining. The general idea behind\n",
    "# method chaining is that every method on an object returns a reference to that object. The beauty of this is\n",
    "# that you can condense many different operations on a DataFrame, for instance, into one line or at least one\n",
    "# statement of code.\n",
    "\n",
    "# Here's the pandorable way to write code with method chaining. In this code I'm going to pull out the state\n",
    "# and city names as a multiple index, and I'm going to do so only for data which has a summary level of 50,\n",
    "# which in this dataset is county-level data. I'll rename a column too, just to make it a bit more readable.\n",
    "(df.where(df['SUMLEV']==50)\n",
    "    .dropna()\n",
    "    .set_index(['STNAME','CTYNAME'])\n",
    "    .rename(columns={'ESTIMATESBASE2010': 'Estimates Base 2010'}))"
   ]
  },
  {
   "cell_type": "code",
   "execution_count": null,
   "metadata": {},
   "outputs": [],
   "source": [
    "# Lets walk through this. First, we use the where() function on the dataframe and pass in a boolean mask which\n",
    "# is only true for those rows where the SUMLEV is equal to 50. This indicates in our source data that the data\n",
    "# is summarized at the county level. With the result of the where() function evaluated, we drop missing\n",
    "# values. Remember that .where() doesn't drop missing values by default. Then we set an index on the result of\n",
    "# that. In this case I've set it to the state name followed by the county name. Finally. I rename a column to\n",
    "# make it more readable. Note that instead of writing this all on one line, as I could have done, I began the\n",
    "# statement with a parenthesis, which tells python I'm going to span the statement over multiple lines for\n",
    "# readability."
   ]
  },
  {
   "cell_type": "code",
   "execution_count": null,
   "metadata": {},
   "outputs": [],
   "source": [
    "# Here's a more traditional, non-pandorable way, of writing this. There's nothing wrong with this code in the\n",
    "# functional sense, you might even be able to understand it better as a new person to the language. It's just\n",
    "# not as pandorable as the first example.\n",
    "\n",
    "# First create a new dataframe from the original\n",
    "df = df[df['SUMLEV']==50] # I'll use the overloaded indexing operator [] which drops nans\n",
    "# Update the dataframe to have a new index, we use inplace=True to do this in place\n",
    "df.set_index(['STNAME','CTYNAME'], inplace=True)\n",
    "# Set the column names\n",
    "df.rename(columns={'ESTIMATESBASE2010': 'Estimates Base 2010'})"
   ]
  },
  {
   "cell_type": "code",
   "execution_count": null,
   "metadata": {},
   "outputs": [],
   "source": [
    "# Now, the key with any good idiom is to understand when it isn't helping you. In this case, you can actually\n",
    "# time both methods and see which one runs faster\n",
    "\n",
    "# We can put the approach into a function and pass the function into the timeit function to count the time the\n",
    "# parameter number allows us to choose how many times we want to run the function. Here we will just set it to\n",
    "# 10\n",
    "\n",
    "# Lets write a wrapper for our first function\n",
    "def first_approach():\n",
    "    global df\n",
    "    # And we'll just paste our code right here\n",
    "    return (df.where(df['SUMLEV']==50)\n",
    "             .dropna()\n",
    "             .set_index(['STNAME','CTYNAME'])\n",
    "             .rename(columns={'ESTIMATESBASE2010': 'Estimates Base 2010'}))\n",
    "\n",
    "# Read in our dataset anew\n",
    "df = pd.read_csv('datasets/census.csv')\n",
    "\n",
    "# And now lets run it\n",
    "timeit.timeit(first_approach, number=10)"
   ]
  },
  {
   "cell_type": "code",
   "execution_count": null,
   "metadata": {},
   "outputs": [],
   "source": [
    "# Now let's test the second approach. As you may notice, we use our global variable df in the function.\n",
    "# However, changing a global variable inside a function will modify the variable even in a global scope and we\n",
    "# do not want that to happen in this case. Therefore, for selecting summary levels of 50 only, I create a new\n",
    "# dataframe for those records\n",
    "\n",
    "# Let's run this for once and see how fast it is\n",
    "def second_approach():\n",
    "    global df\n",
    "    new_df = df[df['SUMLEV']==50]\n",
    "    new_df.set_index(['STNAME','CTYNAME'], inplace=True)\n",
    "    return new_df.rename(columns={'ESTIMATESBASE2010': 'Estimates Base 2010'})\n",
    "\n",
    "# Read in our dataset anew\n",
    "df = pd.read_csv('datasets/census.csv')\n",
    "\n",
    "# And now lets run it\n",
    "timeit.timeit(second_approach, number=10)"
   ]
  },
  {
   "cell_type": "code",
   "execution_count": null,
   "metadata": {},
   "outputs": [],
   "source": [
    "# As you can see, the second approach is much faster! So, this is a particular example of a classic time\n",
    "# readability trade off.\n",
    "\n",
    "# You'll see lots of examples on stack overflow and in documentation of people using method chaining in their\n",
    "# pandas. And so, I think being able to read and understand the syntax is really worth your time. But keep in\n",
    "# mind that following what appears to be stylistic idioms might have performance issues that you need to\n",
    "# consider as well."
   ]
  },
  {
   "cell_type": "code",
   "execution_count": null,
   "metadata": {},
   "outputs": [],
   "source": [
    "# Here's another pandas idiom. Python has a wonderful function called map, which is sort of a basis for\n",
    "# functional programming in the language. When you want to use map in Python, you pass it some function you\n",
    "# want called, and some iterable, like a list, that you want the function to be applied to. The results are\n",
    "# that the function is called against each item in the list, and there's a resulting list of all of the\n",
    "# evaluations of that function.\n",
    "\n",
    "# Pandas has a similar function called applymap. In applymap, you provide some function which should operate\n",
    "# on each cell of a DataFrame, and the return set is itself a DataFrame. Now I think applymap is fine, but I\n",
    "# actually rarely use it. Instead, I find myself often wanting to map across all of the rows in a DataFrame.\n",
    "# And pandas has a function that I use heavily there, called apply. Let's look at an example."
   ]
  },
  {
   "cell_type": "code",
   "execution_count": null,
   "metadata": {},
   "outputs": [],
   "source": [
    "# Let's take a look at our census DataFrame. In this DataFrame, we have five columns for population estimates,\n",
    "# with each column corresponding with one year of estimates. It's quite reasonable to want to create some new\n",
    "# columns for minimum or maximum values, and the apply function is an easy way to do this.\n",
    "\n",
    "# First, we need to write a function which takes in a particular row of data, finds a minimum and maximum\n",
    "# values, and returns a new row of data nd returns a new row of data.  We'll call this function min_max, this\n",
    "# is pretty straight forward. We can create some small slice of a row by projecting the population columns.\n",
    "# Then use the NumPy min and max functions, and create a new series with a label values represent the new\n",
    "# values we want to apply.\n",
    "\n",
    "def min_max(row):\n",
    "    data = row[['POPESTIMATE2010',\n",
    "                'POPESTIMATE2011',\n",
    "                'POPESTIMATE2012',\n",
    "                'POPESTIMATE2013',\n",
    "                'POPESTIMATE2014',\n",
    "                'POPESTIMATE2015']]\n",
    "    return pd.Series({'min': np.min(data), 'max': np.max(data)})"
   ]
  },
  {
   "cell_type": "code",
   "execution_count": null,
   "metadata": {},
   "outputs": [],
   "source": [
    "# Then we just need to call apply on the DataFrame.\n",
    "\n",
    "# Apply takes the function and the axis on which to operate as parameters. Now, we have to be a bit careful,\n",
    "# we've talked about axis zero being the rows of the DataFrame in the past. But this parameter is really the\n",
    "# parameter of the index to use. So, to apply across all rows, which is applying on all columns, you pass axis\n",
    "# equal to 'columns'.\n",
    "df.apply(min_max, axis='columns').head()"
   ]
  },
  {
   "cell_type": "code",
   "execution_count": null,
   "metadata": {},
   "outputs": [],
   "source": [
    "# Of course there's no need to limit yourself to returning a new series object. If you're doing this as part\n",
    "# of data cleaning your likely to find yourself wanting to add new data to the existing DataFrame. In that\n",
    "# case you just take the row values and add in new columns indicating the max and minimum scores. This is a\n",
    "# regular part of my workflow when bringing in data and building summary or descriptive statistics, and is\n",
    "# often used heavily with the merging of DataFrames."
   ]
  },
  {
   "cell_type": "code",
   "execution_count": null,
   "metadata": {},
   "outputs": [],
   "source": [
    "# Here's an example where we have a revised version of the function min_max Instead of returning a separate\n",
    "# series to display the min and max we add two new columns in the original dataframe to store min and max\n",
    "\n",
    "def min_max(row):\n",
    "    data = row[['POPESTIMATE2010',\n",
    "                'POPESTIMATE2011',\n",
    "                'POPESTIMATE2012',\n",
    "                'POPESTIMATE2013',\n",
    "                'POPESTIMATE2014',\n",
    "                'POPESTIMATE2015']]\n",
    "    # Create a new entry for max\n",
    "    row['max'] = np.max(data)\n",
    "    # Create a new entry for min\n",
    "    row['min'] = np.min(data)\n",
    "    return row\n",
    "# Now just apply the function across the dataframe\n",
    "df.apply(min_max, axis='columns')"
   ]
  },
  {
   "cell_type": "code",
   "execution_count": null,
   "metadata": {},
   "outputs": [],
   "source": [
    "# Apply is an extremely important tool in your toolkit. The reason I introduced apply here is because you\n",
    "# rarely see it used with large function definitions, like we did. Instead, you typically see it used with\n",
    "# lambdas. To get the most of the discussions you'll see online, you're going to need to know how to at least\n",
    "# read lambdas.\n",
    "\n",
    "# Here's You can imagine how you might chain several apply calls with lambdas together to create a readable\n",
    "# yet succinct data manipulation script. One line example of how you might calculate the max of the columns\n",
    "# using the apply function.\n",
    "rows = ['POPESTIMATE2010', 'POPESTIMATE2011', 'POPESTIMATE2012', 'POPESTIMATE2013','POPESTIMATE2014', \n",
    "        'POPESTIMATE2015']\n",
    "# Now we'll just apply this across the dataframe with a lambda\n",
    "df.apply(lambda x: np.max(x[rows]), axis=1).head()"
   ]
  },
  {
   "cell_type": "code",
   "execution_count": null,
   "metadata": {},
   "outputs": [],
   "source": [
    "# If you don't remember lambdas just pause the video for a moment and look up the syntax. A lambda is just an\n",
    "# unnamed function in python, in this case it takes a single parameter, x, and returns a single value, in this\n",
    "# case the maximum over all columns associated with row x."
   ]
  },
  {
   "cell_type": "code",
   "execution_count": null,
   "metadata": {},
   "outputs": [],
   "source": [
    "# The beauty of the apply function is that it allows flexibility in doing whatever manipulation that you\n",
    "# desire, as the function you pass into apply can be any customized however you want. Let's say we want to\n",
    "# divide the states into four categories: Northeast, Midwest, South, and West We can write a customized\n",
    "# function that returns the region based on the state the state regions information is obtained from Wikipedia\n",
    "\n",
    "def get_state_region(x):\n",
    "    northeast = ['Connecticut', 'Maine', 'Massachusetts', 'New Hampshire', \n",
    "                 'Rhode Island','Vermont','New York','New Jersey','Pennsylvania']\n",
    "    midwest = ['Illinois','Indiana','Michigan','Ohio','Wisconsin','Iowa',\n",
    "               'Kansas','Minnesota','Missouri','Nebraska','North Dakota',\n",
    "               'South Dakota']\n",
    "    south = ['Delaware','Florida','Georgia','Maryland','North Carolina',\n",
    "             'South Carolina','Virginia','District of Columbia','West Virginia',\n",
    "             'Alabama','Kentucky','Mississippi','Tennessee','Arkansas',\n",
    "             'Louisiana','Oklahoma','Texas']\n",
    "    west = ['Arizona','Colorado','Idaho','Montana','Nevada','New Mexico','Utah',\n",
    "            'Wyoming','Alaska','California','Hawaii','Oregon','Washington']\n",
    "    \n",
    "    if x in northeast:\n",
    "        return \"Northeast\"\n",
    "    elif x in midwest:\n",
    "        return \"Midwest\"\n",
    "    elif x in south:\n",
    "        return \"South\"\n",
    "    else:\n",
    "        return \"West\""
   ]
  },
  {
   "cell_type": "code",
   "execution_count": null,
   "metadata": {},
   "outputs": [],
   "source": [
    "# Now we have the customized function, let's say we want to create a new column called Region, which shows the\n",
    "# state's region, we can use the customized function and the apply function to do so. The customized function\n",
    "# is supposed to work on the state name column STNAME. So we will set the apply function on the state name\n",
    "# column and pass the customized function into the apply function\n",
    "df['state_region'] = df['STNAME'].apply(lambda x: get_state_region(x))"
   ]
  },
  {
   "cell_type": "code",
   "execution_count": null,
   "metadata": {},
   "outputs": [],
   "source": [
    "# Now let's see the results\n",
    "df[['STNAME','state_region']].head()"
   ]
  },
  {
   "cell_type": "markdown",
   "metadata": {},
   "source": [
    "So there are a couple of Pandas idioms. But I think there's many more, and I haven't talked about them here. So here's an unofficial assignment for you. Go look at some of the top ranked questions on pandas on Stack Overflow, and look at how some of the more experienced authors, answer those questions. Do you see any interesting patterns? Feel free to share them with myself and others in the class."
   ]
  }
 ],
 "metadata": {
  "kernelspec": {
   "display_name": "Python 3",
   "language": "python",
   "name": "python3"
  },
  "language_info": {
   "codemirror_mode": {
    "name": "ipython",
    "version": 3
   },
   "file_extension": ".py",
   "mimetype": "text/x-python",
   "name": "python",
   "nbconvert_exporter": "python",
   "pygments_lexer": "ipython3",
   "version": "3.7.3"
  }
 },
 "nbformat": 4,
 "nbformat_minor": 2
}
