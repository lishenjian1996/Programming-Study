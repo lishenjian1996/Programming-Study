{
 "cells": [
  {
   "cell_type": "markdown",
   "metadata": {},
   "source": [
    "# Pivot Tables\n",
    "\n",
    "A pivot table is a way of summarizing data in a DataFrame for a particular purpose. It makes heavy use of the aggregation function. A pivot table is itself a DataFrame, where the rows represent one variable that you're interested in, the columns another, and the cell's some aggregate value. A pivot table also tends to includes marginal values as well, which are the sums for each column and row. This allows you to be able to see the relationship between two variables at just a glance."
   ]
  },
  {
   "cell_type": "code",
   "execution_count": null,
   "metadata": {},
   "outputs": [],
   "source": [
    "# Lets take a look at pivot tables in pandas\n",
    "import pandas as pd\n",
    "import numpy as np"
   ]
  },
  {
   "cell_type": "code",
   "execution_count": null,
   "metadata": {},
   "outputs": [],
   "source": [
    "# Here we have the Times Higher Education World University Ranking dataset, which is one of the most\n",
    "# influential university measures. Let's import the dataset and see what it looks like\n",
    "df = pd.read_csv('datasets/cwurData.csv')\n",
    "df.head()"
   ]
  },
  {
   "cell_type": "code",
   "execution_count": null,
   "metadata": {},
   "outputs": [],
   "source": [
    "# Here we can see each institution's rank, country, quality of education, other metrics, and overall score.\n",
    "# Let's say we want to create a new column called Rank_Level, where institutions with world ranking 1-100 are\n",
    "# categorized as first tier and those with world ranking 101 - 200 are second tier, ranking 201 - 300 are\n",
    "# third tier, after 301 is other top universities.\n",
    "\n",
    "# Now, you actually already have enough knowledge to do this, so why don't you pause the video and give it a\n",
    "# try?\n",
    "\n",
    "# Here's my solution, I'm going to create a function called create_category which will operate on the first\n",
    "# column in the dataframe, world_rank\n",
    "def create_category(ranking):\n",
    "    # Since the rank is just an integer, I'll just do a bunch of if/elif statements\n",
    "    if (ranking >= 1) & (ranking <= 100):\n",
    "        return \"First Tier Top Unversity\"\n",
    "    elif (ranking >= 101) & (ranking <= 200):\n",
    "        return \"Second Tier Top Unversity\"\n",
    "    elif (ranking >= 201) & (ranking <= 300):\n",
    "        return \"Third Tier Top Unversity\"\n",
    "    return \"Other Top Unversity\"\n",
    "\n",
    "# Now we can apply this to a single column of data to create a new series\n",
    "df['Rank_Level'] = df['world_rank'].apply(lambda x: create_category(x))\n",
    "# And lets look at the result\n",
    "df.head()"
   ]
  },
  {
   "cell_type": "code",
   "execution_count": null,
   "metadata": {},
   "outputs": [],
   "source": [
    "# A pivot table allows us to pivot out one of these columns a new column headers and compare it against\n",
    "# another column as row indices. Let's say we want to compare rank level versus country of the universities\n",
    "# and we want to compare in terms of overall score\n",
    "\n",
    "# To do this, we tell Pandas we want the values to be Score, and index to be the country and the columns to be\n",
    "# the rank levels. Then we specify that the aggregation function, and here we'll use the NumPy mean to get the\n",
    "# average rating for universities in that country\n",
    "\n",
    "df.pivot_table(values='score', index='country', columns='Rank_Level', aggfunc=[np.mean]).head()"
   ]
  },
  {
   "cell_type": "code",
   "execution_count": null,
   "metadata": {},
   "outputs": [],
   "source": [
    "# We can see a  hierarchical dataframe where the index, or rows, are by country and the columns have two\n",
    "# levels, the top level indicating that the mean value is being used and the second level being our ranks. In\n",
    "# this example we only have one variable, the mean, that we are looking at, so we don't really need a\n",
    "# heirarchical index.\n",
    "\n",
    "# We notice that there are some NaN values, for example, the first row, Argentia. The NaN values indicate that\n",
    "# Argentia has only observations in the \"Other Top Unversities\" category"
   ]
  },
  {
   "cell_type": "code",
   "execution_count": null,
   "metadata": {},
   "outputs": [],
   "source": [
    "# Now, pivot tables aren't limited to one function that you might want to apply. You can pass a named\n",
    "# parameter, aggfunc, which is a list of the different functions to apply, and pandas will provide you with\n",
    "# the result using hierarchical column names.  Let's try that same query, but pass in the max() function too\n",
    "\n",
    "df.pivot_table(values='score', index='country', columns='Rank_Level', aggfunc=[np.mean, np.max]).head()"
   ]
  },
  {
   "cell_type": "code",
   "execution_count": null,
   "metadata": {},
   "outputs": [],
   "source": [
    "# So now we see we have both the mean and the max. As mentioned earlier, we can also summarize the values\n",
    "# within a given top level column. For instance, if we want to see an overall average for the country for the\n",
    "# mean and we want to see the max of the max, we can indicate that we want pandas to provide marginal values\n",
    "df.pivot_table(values='score', index='country', columns='Rank_Level', aggfunc=[np.mean, np.max], \n",
    "               margins=True).head()"
   ]
  },
  {
   "cell_type": "code",
   "execution_count": null,
   "metadata": {},
   "outputs": [],
   "source": [
    "# A pivot table is just a multi-level dataframe, and we can access series or cells in the dataframe in a similar way \n",
    "# as we do so for a regular dataframe. \n",
    "\n",
    "# Let's create a new dataframe from our previous example\n",
    "new_df=df.pivot_table(values='score', index='country', columns='Rank_Level', aggfunc=[np.mean, np.max], \n",
    "               margins=True)\n",
    "# Now let's look at the index\n",
    "print(new_df.index)\n",
    "# And let's look at the columns\n",
    "print(new_df.columns)"
   ]
  },
  {
   "cell_type": "code",
   "execution_count": null,
   "metadata": {},
   "outputs": [],
   "source": [
    "# We can see the columns are hierarchical. The top level column indices have two categories: mean and max, and\n",
    "# the lower level column indices have four categories, which are the four rank levels. How would we query this\n",
    "# if we want to get the average scores of First Tier Top Unversity levels in each country? We would just need\n",
    "# to make two dataframe projections, the first for the mean, then the second for the top tier\n",
    "new_df['mean']['First Tier Top Unversity'].head()"
   ]
  },
  {
   "cell_type": "code",
   "execution_count": null,
   "metadata": {},
   "outputs": [],
   "source": [
    "# We can see that the output is a series object which we can confirm by printing the type. Remember that when\n",
    "# you project a single column of values out of a DataFrame you get a series.\n",
    "type(new_df['mean']['First Tier Top Unversity'])"
   ]
  },
  {
   "cell_type": "code",
   "execution_count": null,
   "metadata": {},
   "outputs": [],
   "source": [
    "# What if we want to find the country that has the maximum average score on First Tier Top University level?\n",
    "# We can use the idxmax() function.\n",
    "new_df['mean']['First Tier Top Unversity'].idxmax()"
   ]
  },
  {
   "cell_type": "code",
   "execution_count": null,
   "metadata": {},
   "outputs": [],
   "source": [
    "# Now, the idxmax() function isn't special for pivot tables, it's a built in function to the Series object.\n",
    "# We don't have time to go over all pandas functions and attributes, and I want to encourage you to explore\n",
    "# the API to learn more deeply what is available to you."
   ]
  },
  {
   "cell_type": "code",
   "execution_count": null,
   "metadata": {},
   "outputs": [],
   "source": [
    "# If you want to achieve a different shape of your pivot table, you can do so with the stack and unstack\n",
    "# functions. Stacking is pivoting the lowermost column index to become the innermost row index. Unstacking is\n",
    "# the inverse of stacking, pivoting the innermost row index to become the lowermost column index. An example\n",
    "# will help make this clear\n",
    "\n",
    "# Let's look at our pivot table first to refresh what it looks like\n",
    "new_df.head()"
   ]
  },
  {
   "cell_type": "code",
   "execution_count": null,
   "metadata": {},
   "outputs": [],
   "source": [
    "# Now let's try stacking, this should move the lowermost column, so the tiers of the university rankings, to\n",
    "# the inner most row\n",
    "new_df=new_df.stack()\n",
    "new_df.head()"
   ]
  },
  {
   "cell_type": "code",
   "execution_count": null,
   "metadata": {},
   "outputs": [],
   "source": [
    "# In the original pivot table, rank levels are the lowermost column, after stacking, rank levels become the\n",
    "# innermost index, appearing to the right after country\n",
    "\n",
    "# Now let's try unstacking\n",
    "new_df.unstack().head()"
   ]
  },
  {
   "cell_type": "code",
   "execution_count": null,
   "metadata": {},
   "outputs": [],
   "source": [
    "# That seems to restore our dataframe to its original shape. What do you think would happen if we unstacked twice in a row?\n",
    "new_df.unstack().unstack().head()"
   ]
  },
  {
   "cell_type": "code",
   "execution_count": null,
   "metadata": {},
   "outputs": [],
   "source": [
    "# We actually end up unstacking all the way to just a single column, so a series object is returned. This\n",
    "# column is just a \"value\", the meaning of which is denoted by the heirarachical index of operation, rank, and\n",
    "# country."
   ]
  },
  {
   "cell_type": "markdown",
   "metadata": {},
   "source": [
    "So that's pivot tables. This has been a pretty short description, but they're incredibly useful when dealing with numeric data, especially if you're trying to summarize the data in some form. You'll regularly be creating new pivot tables on slices of data, whether you're exploring the data yourself or preparing data for others to report on. And of course, you can pass any function you want to the aggregate function, including those that you define yourself."
   ]
  }
 ],
 "metadata": {
  "kernelspec": {
   "display_name": "Python 3",
   "language": "python",
   "name": "python3"
  },
  "language_info": {
   "codemirror_mode": {
    "name": "ipython",
    "version": 3
   },
   "file_extension": ".py",
   "mimetype": "text/x-python",
   "name": "python",
   "nbconvert_exporter": "python",
   "pygments_lexer": "ipython3",
   "version": "3.7.3"
  }
 },
 "nbformat": 4,
 "nbformat_minor": 2
}
