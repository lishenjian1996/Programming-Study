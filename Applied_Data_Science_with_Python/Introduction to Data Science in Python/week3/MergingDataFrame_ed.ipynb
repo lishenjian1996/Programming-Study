{
 "cells": [
  {
   "cell_type": "markdown",
   "metadata": {},
   "source": [
    "# Merging\n",
    "\n",
    "In this lecture we're going to address how you can bring multiple dataframe objects together, either by merging them horizontally, or by concatenating them vertically. Before we jump into the code, we need to address a little relational theory and to get some language conventions down. I'm going to bring in an image to help explain some concepts.\n",
    "\n",
    "![Venn Diagram](merging1.png)\n"
   ]
  },
  {
   "cell_type": "markdown",
   "metadata": {},
   "source": [
    "Ok, this is a Venn Diagram. A Venn Diagram is traditionally used to show set membership. For example, the circle on the left is the population of students at a university. The circle on the right is the population of staff at a university. And the overlapping region in the middle are all of those students who are also staff.  Maybe these students run tutorials for a course, or grade assignments, or engage in running research experiments.\n",
    "\n",
    "So, this diagram shows two populations whom we might have data about, but there is overlap between those populations."
   ]
  },
  {
   "cell_type": "markdown",
   "metadata": {},
   "source": [
    "When it comes to translating this to pandas, we can think of the case where we might have these two populations as indices in separate DataFrames, maybe with the label of Person Name. When we want to join the DataFrames together, we have some choices to make. First what if we want a list of all the people regardless of whether they're staff or student, and all of the information we can get on them? In database terminology, this is called a full outer join. And in set theory, it's called a union. In the Venn diagram, it represents everyone in any circle.\n",
    "\n",
    "Here's an image of what that would look like in the Venn diagram.\n",
    "\n",
    "![Union](merging2.png)"
   ]
  },
  {
   "cell_type": "markdown",
   "metadata": {},
   "source": [
    "It's quite possible though that we only want those people who we have maximum information for, those people who are both staff and students. Maybe being a staff member and a student involves getting a tuition waiver, and we want to calculate the cost of this. In database terminology, this is called an inner join. Or in set theory, the intersection. It is represented in the Venn diagram as the overlapping parts of each circle.\n",
    "\n",
    "Here's what that looks like: ![Intersection](merging3.png)\n"
   ]
  },
  {
   "cell_type": "code",
   "execution_count": null,
   "metadata": {},
   "outputs": [],
   "source": [
    "# With that background, let's see an example of how we would do this in pandas, where we would use the merge\n",
    "# function.\n",
    "import pandas as pd\n",
    "\n",
    "# First we create two DataFrames, staff and students.\n",
    "staff_df = pd.DataFrame([{'Name': 'Kelly', 'Role': 'Director of HR'},\n",
    "                         {'Name': 'Sally', 'Role': 'Course liasion'},\n",
    "                         {'Name': 'James', 'Role': 'Grader'}])\n",
    "# And lets index these staff by name\n",
    "staff_df = staff_df.set_index('Name')\n",
    "# Now we'll create a student dataframe\n",
    "student_df = pd.DataFrame([{'Name': 'James', 'School': 'Business'},\n",
    "                           {'Name': 'Mike', 'School': 'Law'},\n",
    "                           {'Name': 'Sally', 'School': 'Engineering'}])\n",
    "# And we'll index this by name too\n",
    "student_df = student_df.set_index('Name')\n",
    "\n",
    "# And lets just print out the dataframes\n",
    "print(staff_df.head())\n",
    "print(student_df.head())"
   ]
  },
  {
   "cell_type": "code",
   "execution_count": null,
   "metadata": {},
   "outputs": [],
   "source": [
    "# There's some overlap in these DataFrames in that James and Sally are both students and staff, but Mike and\n",
    "# Kelly are not. Importantly, both DataFrames are indexed along the value we want to merge them on, which is\n",
    "# called Name."
   ]
  },
  {
   "cell_type": "code",
   "execution_count": null,
   "metadata": {},
   "outputs": [],
   "source": [
    "# If we want the union of these, we would call merge() passing in the DataFrame on the left and the DataFrame\n",
    "# on the right and telling merge that we want it to use an outer join. We want to use the left and right\n",
    "# indices as the joining columns.\n",
    "\n",
    "pd.merge(staff_df, student_df, how='outer', left_index=True, right_index=True)"
   ]
  },
  {
   "cell_type": "code",
   "execution_count": null,
   "metadata": {},
   "outputs": [],
   "source": [
    "# We see in the resulting DataFrame that everyone is listed. And since Mike does not have a role, and John\n",
    "# does not have a school, those cells are listed as missing values.\n",
    "\n",
    "# If we wanted to get the intersection, that is, just those who are a student AND a staff, we could set the\n",
    "# how attribute to inner. Again, we set both left and right indices to be true as the joining columns\n",
    "pd.merge(staff_df, student_df, how='inner', left_index=True, right_index=True)"
   ]
  },
  {
   "cell_type": "code",
   "execution_count": null,
   "metadata": {},
   "outputs": [],
   "source": [
    "# And we see the resulting DataFrame has only James and Sally in it. Now there are two other common use cases\n",
    "# when merging DataFrames, and both are examples of what we would call set addition. The first is when we\n",
    "# would want to get a list of all staff regardless of whether they were students or not. But if they were\n",
    "# students, we would want to get their student details as well. To do this we would use a left join. It is\n",
    "# important to note the order of dataframes in this function: the first dataframe is the left dataframe and\n",
    "# the second is the right\n",
    "\n",
    "pd.merge(staff_df, student_df, how='left', left_index=True, right_index=True)"
   ]
  },
  {
   "cell_type": "code",
   "execution_count": null,
   "metadata": {},
   "outputs": [],
   "source": [
    "# You could probably guess what comes next. We want a list of all of the students and their roles if they were\n",
    "# also staff. To do this we would do a right join.\n",
    "pd.merge(staff_df, student_df, how='right', left_index=True, right_index=True)"
   ]
  },
  {
   "cell_type": "code",
   "execution_count": null,
   "metadata": {},
   "outputs": [],
   "source": [
    "# We can also do it another way. The merge method has a couple of other interesting parameters. First, you\n",
    "# don't need to use indices to join on, you can use columns as well. Here's an example. Here we have a\n",
    "# parameter called \"on\", and we can assign a column that both dataframe has as the joining column\n",
    "\n",
    "# First, lets remove our index from both of our dataframes\n",
    "staff_df = staff_df.reset_index()\n",
    "student_df = student_df.reset_index()\n",
    "\n",
    "# Now lets merge using the on parameter\n",
    "pd.merge(staff_df, student_df, how='right', on='Name')"
   ]
  },
  {
   "cell_type": "code",
   "execution_count": null,
   "metadata": {},
   "outputs": [],
   "source": [
    "# Using the \"on\" parameter instead of a the index is how I find myself using merge() the most."
   ]
  },
  {
   "cell_type": "code",
   "execution_count": null,
   "metadata": {},
   "outputs": [],
   "source": [
    "# So what happens when we have conflicts between the DataFrames? Let's take a look by creating new staff and\n",
    "# student DataFrames that have a location information added to them.\n",
    "staff_df = pd.DataFrame([{'Name': 'Kelly', 'Role': 'Director of HR', \n",
    "                          'Location': 'State Street'},\n",
    "                         {'Name': 'Sally', 'Role': 'Course liasion', \n",
    "                          'Location': 'Washington Avenue'},\n",
    "                         {'Name': 'James', 'Role': 'Grader', \n",
    "                          'Location': 'Washington Avenue'}])\n",
    "student_df = pd.DataFrame([{'Name': 'James', 'School': 'Business', \n",
    "                            'Location': '1024 Billiard Avenue'},\n",
    "                           {'Name': 'Mike', 'School': 'Law', \n",
    "                            'Location': 'Fraternity House #22'},\n",
    "                           {'Name': 'Sally', 'School': 'Engineering', \n",
    "                            'Location': '512 Wilson Crescent'}])\n",
    "\n",
    "# In the staff DataFrame, this is an office location where we can find the staff person. And we can see the\n",
    "# Director of HR is on State Street, while the two students are on Washington Avenue, and these locations just\n",
    "# happen to be right outside my window as I film this. But for the student DataFrame, the location information\n",
    "# is actually their home address.\n",
    "\n",
    "# The merge function preserves this information, but appends an _x or _y to help differentiate between which\n",
    "# index went with which column of data. The _x is always the left DataFrame information, and the _y is always\n",
    "# the right DataFrame information.\n",
    "\n",
    "# Here, if we want all the staff information regardless of whether they were students or not. But if they were\n",
    "# students, we would want to get their student details as well.Then we can do a left join and on the column of\n",
    "# Name\n",
    "\n",
    "pd.merge(staff_df, student_df, how='left', on='Name')"
   ]
  },
  {
   "cell_type": "code",
   "execution_count": null,
   "metadata": {},
   "outputs": [],
   "source": [
    "# From the output, we can see there are columns Location_x and Location_y. Location_x refers to the Location\n",
    "# column in the left dataframe, which is staff dataframe and Location_y refers to the Location column in the\n",
    "# right dataframe, which is student dataframe.\n",
    "\n",
    "# Before we leave merging of DataFrames, let's talk about multi-indexing and multiple columns. It's quite\n",
    "# possible that the first name for students and staff might overlap, but the last name might not. In this\n",
    "# case, we use a list of the multiple columns that should be used to join keys from both dataframes on the on\n",
    "# parameter. Recall that the column name(s) assigned to the on parameter needs to exist in both dataframes.\n",
    "\n",
    "# Here's an example with some new student and staff data\n",
    "staff_df = pd.DataFrame([{'First Name': 'Kelly', 'Last Name': 'Desjardins', \n",
    "                          'Role': 'Director of HR'},\n",
    "                         {'First Name': 'Sally', 'Last Name': 'Brooks', \n",
    "                          'Role': 'Course liasion'},\n",
    "                         {'First Name': 'James', 'Last Name': 'Wilde', \n",
    "                          'Role': 'Grader'}])\n",
    "student_df = pd.DataFrame([{'First Name': 'James', 'Last Name': 'Hammond', \n",
    "                            'School': 'Business'},\n",
    "                           {'First Name': 'Mike', 'Last Name': 'Smith', \n",
    "                            'School': 'Law'},\n",
    "                           {'First Name': 'Sally', 'Last Name': 'Brooks', \n",
    "                            'School': 'Engineering'}])\n",
    "\n",
    "# As you see here, James Wilde and James Hammond don't match on both keys since they have different last\n",
    "# names. So we would expect that an inner join doesn't include these individuals in the output, and only Sally\n",
    "# Brooks will be retained.\n",
    "pd.merge(staff_df, student_df, how='inner', on=['First Name','Last Name'])"
   ]
  },
  {
   "cell_type": "code",
   "execution_count": null,
   "metadata": {},
   "outputs": [],
   "source": [
    "# Joining dataframes through merging is incredibly common, and you'll need to know how to pull data from\n",
    "# different sources, clean it, and join it for analysis. This is a staple not only of pandas, but of database\n",
    "# technologies as well."
   ]
  },
  {
   "cell_type": "code",
   "execution_count": null,
   "metadata": {},
   "outputs": [],
   "source": [
    "# If we think of merging as joining \"horizontally\", meaning we join on similar values in a column found in two\n",
    "# dataframes then concatenating is joining \"vertically\", meaning we put dataframes on top or at the bottom of\n",
    "# each other\n",
    "\n",
    "# Let's understand this from an example. You have a dataset that tracks some information over the years. And\n",
    "# each year's record is a separate CSV and every CSV ofr every year's record has the exactly same columns.\n",
    "# What happens if you want to put all the data, from all years' record, together? You can concatenate them."
   ]
  },
  {
   "cell_type": "code",
   "execution_count": null,
   "metadata": {},
   "outputs": [],
   "source": [
    "# Let's take a look at the US Department of Education College Scorecard data It has each US university's data\n",
    "# on student completion, student debt, after-graduation income, etc. The data is stored in separate CSV's with\n",
    "# each CSV containing a year's record Let's say we want the records from 2011 to 2013 we first create three\n",
    "# dataframe, each containing one year's record. And, because the csv files we're working with are messy, I\n",
    "# want to supress some of the jupyter warning messages and just tell read_csv to ignore bad lines, so I'm\n",
    "# going to start the cell with a cell magic called %%capture"
   ]
  },
  {
   "cell_type": "code",
   "execution_count": null,
   "metadata": {},
   "outputs": [],
   "source": [
    "%%capture\n",
    "df_2011 = pd.read_csv(\"datasets/college_scorecard/MERGED2011_12_PP.csv\", error_bad_lines=False)\n",
    "df_2012 = pd.read_csv(\"datasets/college_scorecard/MERGED2012_13_PP.csv\", error_bad_lines=False)\n",
    "df_2013 = pd.read_csv(\"datasets/college_scorecard/MERGED2013_14_PP.csv\", error_bad_lines=False)"
   ]
  },
  {
   "cell_type": "code",
   "execution_count": null,
   "metadata": {},
   "outputs": [],
   "source": [
    "# Let's get a view of one of the dataframes\n",
    "df_2011.head(3)"
   ]
  },
  {
   "cell_type": "code",
   "execution_count": null,
   "metadata": {},
   "outputs": [],
   "source": [
    "# We see that there is a whopping number of columns - more than 1900! We can calculate the length of each\n",
    "# dataframe as well\n",
    "print(len(df_2011))\n",
    "print(len(df_2012))\n",
    "print(len(df_2013))"
   ]
  },
  {
   "cell_type": "code",
   "execution_count": null,
   "metadata": {},
   "outputs": [],
   "source": [
    "# That's a bit surprising that the number of schools in the scorecard for 2011 is almost double that of the\n",
    "# next two years. But let's not worry about that. Instead, let's just put all three dataframes in a list and\n",
    "# call that list frames and pass the list into the concat() function Let's see what it looks like\n",
    "\n",
    "frames = [df_2011, df_2012, df_2013]\n",
    "pd.concat(frames)"
   ]
  },
  {
   "cell_type": "code",
   "execution_count": null,
   "metadata": {},
   "outputs": [],
   "source": [
    "# As you can see, we have more observations in one dataframe and columns remain the same. If we scroll down to\n",
    "# the bottom of the output, we see that there are a total of 30,832 rows after concatenating three dataframes.\n",
    "# Let's add the number of rows of the three dataframes and see if the two numbers match\n",
    "len(df_2011)+len(df_2012)+len(df_2013)"
   ]
  },
  {
   "cell_type": "code",
   "execution_count": null,
   "metadata": {},
   "outputs": [],
   "source": [
    "# The two numbers match! Which means our concatenation is successful. But wait, now that all the data is\n",
    "# concatenated together, we don't know what observations are from what year anymore! Actually the concat\n",
    "# function has a parameter that solves such problem with the keys parameter, we can set an extra level of\n",
    "# indices, we pass in a list of keys that we want to correspond to the dataframes into the keys parameter\n",
    "\n",
    "# Now let's try it out\n",
    "pd.concat(frames, keys=['2011','2012','2013'])"
   ]
  },
  {
   "cell_type": "code",
   "execution_count": null,
   "metadata": {},
   "outputs": [],
   "source": [
    "# Now we have the indices as the year so we know what observations are from what year. You should know that\n",
    "# concatenation also has inner and outer method. If you are concatenating two dataframes that do not have\n",
    "# identical columns, and choose the outer method, some cells will be NaN. If you choose to do inner, then some\n",
    "# observations will be dropped due to NaN values. You can think of this as analogous to the left and right\n",
    "# joins of the merge() function."
   ]
  },
  {
   "cell_type": "markdown",
   "metadata": {},
   "source": [
    "Now you know how to merge and concatenate datasets together. You will find such functions very useful for combining data to get more complex or complicated results and to do analysis with. A solid understanding of how to merge data is absolutely essentially when you are procuring, cleaning, and manipulating data. It's worth knowing how to join different datasets quickly, and the different options you can use when joining datasets, and I would encourage you to check out the pandas docs for joining and concatenating data."
   ]
  }
 ],
 "metadata": {
  "kernelspec": {
   "display_name": "Python 3",
   "language": "python",
   "name": "python3"
  },
  "language_info": {
   "codemirror_mode": {
    "name": "ipython",
    "version": 3
   },
   "file_extension": ".py",
   "mimetype": "text/x-python",
   "name": "python",
   "nbconvert_exporter": "python",
   "pygments_lexer": "ipython3",
   "version": "3.7.3"
  }
 },
 "nbformat": 4,
 "nbformat_minor": 2
}
