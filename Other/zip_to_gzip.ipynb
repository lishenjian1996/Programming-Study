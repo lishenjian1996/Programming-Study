{
 "cells": [
  {
   "cell_type": "code",
   "execution_count": null,
   "metadata": {},
   "outputs": [
    {
     "name": "stderr",
     "output_type": "stream",
     "text": [
      "Converting files:   7%|▋         | 1/14 [13:36<2:56:54, 816.52s/it]"
     ]
    },
    {
     "name": "stdout",
     "output_type": "stream",
     "text": [
      "Processed: P:\\Quote_1993_2013\\Quote_1993_2006\\Quote_1993.zip -> P:\\Quote_1993_2013\\Quote_1993_2006\\Quote_1993.gz\n"
     ]
    },
    {
     "name": "stderr",
     "output_type": "stream",
     "text": [
      "Converting files:  14%|█▍        | 2/14 [30:16<3:04:55, 924.66s/it]"
     ]
    },
    {
     "name": "stdout",
     "output_type": "stream",
     "text": [
      "Processed: P:\\Quote_1993_2013\\Quote_1993_2006\\Quote_1994.zip -> P:\\Quote_1993_2013\\Quote_1993_2006\\Quote_1994.gz\n"
     ]
    },
    {
     "name": "stderr",
     "output_type": "stream",
     "text": [
      "Converting files:  21%|██▏       | 3/14 [49:21<3:07:56, 1025.13s/it]"
     ]
    },
    {
     "name": "stdout",
     "output_type": "stream",
     "text": [
      "Processed: P:\\Quote_1993_2013\\Quote_1993_2006\\Quote_1995.zip -> P:\\Quote_1993_2013\\Quote_1993_2006\\Quote_1995.gz\n"
     ]
    },
    {
     "name": "stderr",
     "output_type": "stream",
     "text": [
      "Converting files:  29%|██▊       | 4/14 [1:13:05<3:17:07, 1182.72s/it]"
     ]
    },
    {
     "name": "stdout",
     "output_type": "stream",
     "text": [
      "Processed: P:\\Quote_1993_2013\\Quote_1993_2006\\Quote_1996.zip -> P:\\Quote_1993_2013\\Quote_1993_2006\\Quote_1996.gz\n"
     ]
    },
    {
     "name": "stderr",
     "output_type": "stream",
     "text": [
      "Converting files:  36%|███▌      | 5/14 [1:50:04<3:53:26, 1556.30s/it]"
     ]
    },
    {
     "name": "stdout",
     "output_type": "stream",
     "text": [
      "Processed: P:\\Quote_1993_2013\\Quote_1993_2006\\Quote_1997.zip -> P:\\Quote_1993_2013\\Quote_1993_2006\\Quote_1997.gz\n"
     ]
    },
    {
     "name": "stderr",
     "output_type": "stream",
     "text": [
      "Converting files:  43%|████▎     | 6/14 [2:46:20<4:50:01, 2175.13s/it]"
     ]
    },
    {
     "name": "stdout",
     "output_type": "stream",
     "text": [
      "Processed: P:\\Quote_1993_2013\\Quote_1993_2006\\Quote_1998.zip -> P:\\Quote_1993_2013\\Quote_1993_2006\\Quote_1998.gz\n"
     ]
    },
    {
     "name": "stderr",
     "output_type": "stream",
     "text": [
      "Converting files:  50%|█████     | 7/14 [3:58:17<5:35:26, 2875.21s/it]"
     ]
    },
    {
     "name": "stdout",
     "output_type": "stream",
     "text": [
      "Processed: P:\\Quote_1993_2013\\Quote_1993_2006\\Quote_1999.zip -> P:\\Quote_1993_2013\\Quote_1993_2006\\Quote_1999.gz\n"
     ]
    },
    {
     "name": "stderr",
     "output_type": "stream",
     "text": [
      "Converting files:  57%|█████▋    | 8/14 [5:49:50<6:49:04, 4090.70s/it]"
     ]
    },
    {
     "name": "stdout",
     "output_type": "stream",
     "text": [
      "Processed: P:\\Quote_1993_2013\\Quote_1993_2006\\Quote_2000.zip -> P:\\Quote_1993_2013\\Quote_1993_2006\\Quote_2000.gz\n"
     ]
    },
    {
     "name": "stderr",
     "output_type": "stream",
     "text": [
      "Converting files:  64%|██████▍   | 9/14 [9:21:32<9:25:13, 6782.79s/it]"
     ]
    },
    {
     "name": "stdout",
     "output_type": "stream",
     "text": [
      "Processed: P:\\Quote_1993_2013\\Quote_1993_2006\\Quote_2001.zip -> P:\\Quote_1993_2013\\Quote_1993_2006\\Quote_2001.gz\n"
     ]
    },
    {
     "name": "stderr",
     "output_type": "stream",
     "text": [
      "Converting files:  71%|███████▏  | 10/14 [15:53:11<13:16:13, 11943.43s/it]"
     ]
    },
    {
     "name": "stdout",
     "output_type": "stream",
     "text": [
      "Processed: P:\\Quote_1993_2013\\Quote_1993_2006\\Quote_2002.zip -> P:\\Quote_1993_2013\\Quote_1993_2006\\Quote_2002.gz\n"
     ]
    },
    {
     "name": "stderr",
     "output_type": "stream",
     "text": [
      "Converting files:  79%|███████▊  | 11/14 [33:42:37<23:16:18, 27926.16s/it]"
     ]
    },
    {
     "name": "stdout",
     "output_type": "stream",
     "text": [
      "Processed: P:\\Quote_1993_2013\\Quote_1993_2006\\Quote_2003.zip -> P:\\Quote_1993_2013\\Quote_1993_2006\\Quote_2003.gz\n"
     ]
    },
    {
     "name": "stderr",
     "output_type": "stream",
     "text": [
      "Converting files:  86%|████████▌ | 12/14 [58:08:26<25:39:31, 46185.66s/it]"
     ]
    },
    {
     "name": "stdout",
     "output_type": "stream",
     "text": [
      "Processed: P:\\Quote_1993_2013\\Quote_1993_2006\\Quote_2004.zip -> P:\\Quote_1993_2013\\Quote_1993_2006\\Quote_2004.gz\n"
     ]
    },
    {
     "name": "stderr",
     "output_type": "stream",
     "text": [
      "Converting files:  93%|█████████▎| 13/14 [91:15:42<18:58:35, 68315.15s/it]"
     ]
    },
    {
     "name": "stdout",
     "output_type": "stream",
     "text": [
      "Processed: P:\\Quote_1993_2013\\Quote_1993_2006\\Quote_2005.zip -> P:\\Quote_1993_2013\\Quote_1993_2006\\Quote_2005.gz\n"
     ]
    },
    {
     "name": "stderr",
     "output_type": "stream",
     "text": [
      "Converting files: 100%|██████████| 14/14 [154:43:40<00:00, 39787.20s/it]  "
     ]
    },
    {
     "name": "stdout",
     "output_type": "stream",
     "text": [
      "Processed: P:\\Quote_1993_2013\\Quote_1993_2006\\Quote_2006.zip -> P:\\Quote_1993_2013\\Quote_1993_2006\\Quote_2006.gz\n"
     ]
    },
    {
     "name": "stderr",
     "output_type": "stream",
     "text": [
      "\n"
     ]
    }
   ],
   "source": [
    "import zipfile\n",
    "import gzip\n",
    "import shutil\n",
    "import os\n",
    "from tqdm import tqdm\n",
    "import glob\n",
    "\n",
    "# Get directory containing zip files\n",
    "zip_dir = r\"P:\\Quote_1993_2013\\Quote_1993_2006\"\n",
    "zip_files = glob.glob(os.path.join(zip_dir, \"*.zip\"))\n",
    "\n",
    "# Process each zip file\n",
    "for zip_file_path in tqdm(zip_files, desc=\"Converting files\"):\n",
    "    output_dir = os.path.dirname(zip_file_path)\n",
    "    \n",
    "    # Extract zip\n",
    "    with zipfile.ZipFile(zip_file_path, 'r') as zip_ref:\n",
    "        file_name = zip_ref.namelist()[0]\n",
    "        zip_ref.extract(file_name, output_dir)\n",
    "        extracted_file_path = os.path.join(output_dir, file_name)\n",
    "\n",
    "    # Create gzip with same base name as zip file\n",
    "    gzip_file_path = os.path.splitext(zip_file_path)[0] + '.gz'\n",
    "    file_size = os.path.getsize(extracted_file_path)\n",
    "    chunk_size = 64 * 1024 * 1024  # 64MB chunks\n",
    "    \n",
    "    with open(extracted_file_path, 'rb') as f_in:\n",
    "        with gzip.GzipFile(filename=file_name, mode='wb', fileobj=open(gzip_file_path, 'wb')) as f_out:\n",
    "            with tqdm(total=file_size, unit='B', unit_scale=True, desc=f\"Compressing {os.path.basename(zip_file_path)}\", leave=False) as pbar:\n",
    "                while True:\n",
    "                    chunk = f_in.read(chunk_size)\n",
    "                    if not chunk:\n",
    "                        break\n",
    "                    f_out.write(chunk)\n",
    "                    pbar.update(len(chunk))\n",
    "\n",
    "    # Clean up\n",
    "    os.remove(extracted_file_path)\n",
    "    print(f\"Processed: {zip_file_path} -> {gzip_file_path}\")"
   ]
  },
  {
   "cell_type": "code",
   "execution_count": null,
   "metadata": {},
   "outputs": [],
   "source": []
  }
 ],
 "metadata": {
  "kernelspec": {
   "display_name": "base",
   "language": "python",
   "name": "python3"
  },
  "language_info": {
   "codemirror_mode": {
    "name": "ipython",
    "version": 3
   },
   "file_extension": ".py",
   "mimetype": "text/x-python",
   "name": "python",
   "nbconvert_exporter": "python",
   "pygments_lexer": "ipython3",
   "version": "3.12.3"
  }
 },
 "nbformat": 4,
 "nbformat_minor": 2
}
