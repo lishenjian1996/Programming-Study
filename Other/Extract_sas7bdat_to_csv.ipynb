{
 "cells": [
  {
   "cell_type": "code",
   "execution_count": 1,
   "metadata": {},
   "outputs": [
    {
     "name": "stdout",
     "output_type": "stream",
     "text": [
      "Conversion complete. CSV file saved to: own_ent_institutions.csv\n"
     ]
    }
   ],
   "source": [
    "import pandas as pd\n",
    "\n",
    "# Load the SAS file\n",
    "sas_file_path = r'O:\\Hedge_Fund_data\\own_ent_institutions.sas7bdat'\n",
    "csv_file_path = 'own_ent_institutions.csv'\n",
    "\n",
    "# Using pandas to read and convert the file\n",
    "df = pd.read_sas(sas_file_path, format='sas7bdat', encoding='utf-8')\n",
    "\n",
    "# Save the DataFrame as a CSV\n",
    "df.to_csv(csv_file_path, index=False)\n",
    "\n",
    "print(f\"Conversion complete. CSV file saved to: {csv_file_path}\")\n"
   ]
  },
  {
   "cell_type": "code",
   "execution_count": null,
   "metadata": {},
   "outputs": [],
   "source": []
  }
 ],
 "metadata": {
  "kernelspec": {
   "display_name": "base",
   "language": "python",
   "name": "python3"
  },
  "language_info": {
   "codemirror_mode": {
    "name": "ipython",
    "version": 3
   },
   "file_extension": ".py",
   "mimetype": "text/x-python",
   "name": "python",
   "nbconvert_exporter": "python",
   "pygments_lexer": "ipython3",
   "version": "3.12.3"
  }
 },
 "nbformat": 4,
 "nbformat_minor": 2
}
