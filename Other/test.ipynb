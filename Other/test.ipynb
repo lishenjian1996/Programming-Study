{
 "cells": [
  {
   "cell_type": "code",
   "execution_count": 3,
   "metadata": {},
   "outputs": [
    {
     "data": {
      "text/plain": [
       "{P: 651.250000000000, Q: 781.875000000000}"
      ]
     },
     "execution_count": 3,
     "metadata": {},
     "output_type": "execute_result"
    }
   ],
   "source": [
    "from sympy import symbols, Eq, solve\n",
    "\n",
    "# 定义变量\n",
    "P, Q = symbols('P Q')\n",
    "\n",
    "# 组 A 和 组 B 的需求方程\n",
    "Q_A = (677 - P) / 0.4  # 组 A 的需求\n",
    "Q_B = (723 - P) / 0.1  # 组 B 的需求\n",
    "\n",
    "# 总需求为 Q_A 和 Q_B 之和\n",
    "total_demand_eq = Eq(Q, Q_A + Q_B)\n",
    "# total_demand = Eq(Q, (3569 - 5*P) / 0.4)\n",
    "\n",
    "\n",
    "# 供给方程\n",
    "supply_eq = Eq(P, 338.5 + 0.4 * Q)\n",
    "\n",
    "# 解联立方程，求出均衡价格 P 和均衡数量 Q\n",
    "equilibrium_solution = solve([supply_eq, total_demand_eq], (P, Q))\n",
    "\n",
    "# 输出均衡价格和均衡数量\n",
    "equilibrium_solution\n"
   ]
  },
  {
   "cell_type": "code",
   "execution_count": 1,
   "metadata": {},
   "outputs": [
    {
     "name": "stdout",
     "output_type": "stream",
     "text": [
      "  SYMBOL        DATE     TIME    BID    OFR  BIDSIZ  OFRSIZ  MODE EX  MMID\n",
      "0      A  2011-10-03  4:00:00  29.49  33.50       1       1    12  P   NaN\n",
      "1      A  2011-10-03  6:01:59   0.00   0.00       0       0    12  M   NaN\n",
      "2      A  2011-10-03  6:47:36  30.65  33.50       1       1    12  P   NaN\n",
      "3      A  2011-10-03  6:47:36  30.65  31.25       1       1    12  P   NaN\n",
      "4      A  2011-10-03  6:49:04  30.66  31.25       4       1    12  P   NaN\n",
      "5      A  2011-10-03  7:04:23  30.65  31.25       1       1    12  P   NaN\n",
      "6      A  2011-10-03  7:04:45  30.66  31.25       4       1    12  P   NaN\n",
      "7      A  2011-10-03  7:35:00  25.29   0.00       1       0    12  T   NaN\n",
      "8      A  2011-10-03  7:35:00  25.29  36.72       1       1    12  T   NaN\n",
      "9      A  2011-10-03  7:44:19  30.66  31.25       5       1    12  P   NaN\n"
     ]
    }
   ],
   "source": [
    "import pandas as pd\n",
    "\n",
    "# 使用 chunksize 参数读取前10行\n",
    "chunksize = 10  # 每次读取 10 行\n",
    "chunk = pd.read_csv(r'C:\\Users\\lishe\\Downloads\\gwfziq8ptfx6csqt.csv', chunksize=chunksize)\n",
    "\n",
    "# 获取第一个块，也就是文件的前10行\n",
    "df_first_10 = next(chunk)\n",
    "\n",
    "# 显示前10行\n",
    "print(df_first_10)\n"
   ]
  },
  {
   "cell_type": "code",
   "execution_count": 3,
   "metadata": {},
   "outputs": [
    {
     "name": "stdout",
     "output_type": "stream",
     "text": [
      "  SYMBOL        DATE     TIME    BID    OFR  BIDSIZ  OFRSIZ  MODE EX  MMID\n",
      "0      A  2011-09-01  4:00:00  32.25   0.00       2       0    12  P   NaN\n",
      "1      A  2011-09-01  5:48:53  35.87   0.00       1       0    12  P   NaN\n",
      "2      A  2011-09-01  5:48:55  35.87  36.79       1       1    12  P   NaN\n",
      "3      A  2011-09-01  5:50:10  35.88  36.79       4       1    12  P   NaN\n",
      "4      A  2011-09-01  5:50:59  35.88   0.00       4       0    12  P   NaN\n",
      "5      A  2011-09-01  5:51:01  32.25   0.00       2       0    12  P   NaN\n",
      "6      A  2011-09-01  5:56:11  35.87  36.79       1       1    12  P   NaN\n",
      "7      A  2011-09-01  5:58:51  35.88  36.79       4       1    12  P   NaN\n",
      "8      A  2011-09-01  6:01:59   0.00   0.00       0       0    12  M   NaN\n",
      "9      A  2011-09-01  7:30:01   0.00  47.40       0       2    12  T   NaN\n"
     ]
    }
   ],
   "source": [
    "import pandas as pd\n",
    "import zipfile\n",
    "\n",
    "# 打开 ZIP 压缩包\n",
    "with zipfile.ZipFile(r'C:\\Users\\lishe\\Downloads\\pe8pqmpquql8iaiz_csv.zip') as z:\n",
    "    # 打开压缩包内的特定 CSV 文件\n",
    "    with z.open('pe8pqmpquql8iaiz.csv') as f:\n",
    "        # 只读取前 10 行\n",
    "        df = pd.read_csv(f, nrows=10)\n",
    "\n",
    "# 打印前 10 行数据\n",
    "print(df)\n"
   ]
  },
  {
   "cell_type": "code",
   "execution_count": 7,
   "metadata": {},
   "outputs": [
    {
     "ename": "NotADirectoryError",
     "evalue": "[WinError 267] 目录名称无效。: 'X:Quote_2001.zip'",
     "output_type": "error",
     "traceback": [
      "\u001b[1;31m---------------------------------------------------------------------------\u001b[0m",
      "\u001b[1;31mNotADirectoryError\u001b[0m                        Traceback (most recent call last)",
      "Cell \u001b[1;32mIn[7], line 114\u001b[0m\n\u001b[0;32m    111\u001b[0m     \u001b[38;5;28mprint\u001b[39m(\u001b[38;5;124m\"\u001b[39m\u001b[38;5;124mAll files processed, program completed.\u001b[39m\u001b[38;5;124m\"\u001b[39m)\n\u001b[0;32m    113\u001b[0m \u001b[38;5;28;01mif\u001b[39;00m \u001b[38;5;18m__name__\u001b[39m \u001b[38;5;241m==\u001b[39m \u001b[38;5;124m\"\u001b[39m\u001b[38;5;124m__main__\u001b[39m\u001b[38;5;124m\"\u001b[39m:\n\u001b[1;32m--> 114\u001b[0m     \u001b[43mmain\u001b[49m\u001b[43m(\u001b[49m\u001b[43m)\u001b[49m\n",
      "Cell \u001b[1;32mIn[7], line 103\u001b[0m, in \u001b[0;36mmain\u001b[1;34m()\u001b[0m\n\u001b[0;32m    100\u001b[0m os\u001b[38;5;241m.\u001b[39mmakedirs(output_folder, exist_ok\u001b[38;5;241m=\u001b[39m\u001b[38;5;28;01mTrue\u001b[39;00m)\n\u001b[0;32m    102\u001b[0m \u001b[38;5;66;03m# Get a list of all ZIP files in the source folder\u001b[39;00m\n\u001b[1;32m--> 103\u001b[0m zip_files \u001b[38;5;241m=\u001b[39m [f \u001b[38;5;28;01mfor\u001b[39;00m f \u001b[38;5;129;01min\u001b[39;00m \u001b[43mos\u001b[49m\u001b[38;5;241;43m.\u001b[39;49m\u001b[43mlistdir\u001b[49m\u001b[43m(\u001b[49m\u001b[43msource_folder\u001b[49m\u001b[43m)\u001b[49m \u001b[38;5;28;01mif\u001b[39;00m f\u001b[38;5;241m.\u001b[39mendswith(\u001b[38;5;124m'\u001b[39m\u001b[38;5;124m.zip\u001b[39m\u001b[38;5;124m'\u001b[39m)]\n\u001b[0;32m    105\u001b[0m \u001b[38;5;66;03m# Process the ZIP files sequentially (can be parallelized)\u001b[39;00m\n\u001b[0;32m    106\u001b[0m \u001b[38;5;28;01mfor\u001b[39;00m zip_file_name \u001b[38;5;129;01min\u001b[39;00m zip_files:\n",
      "\u001b[1;31mNotADirectoryError\u001b[0m: [WinError 267] 目录名称无效。: 'X:Quote_2001.zip'"
     ]
    }
   ],
   "source": [
    "import os\n",
    "import shutil\n",
    "import zipfile\n",
    "import tempfile\n",
    "import logging\n",
    "import warnings\n",
    "from pyspark.sql import SparkSession\n",
    "from pyspark.sql.functions import col, mean, count\n",
    "from pyspark.sql.types import FloatType, StringType, DateType\n",
    "\n",
    "# Suppress unnecessary warnings\n",
    "warnings.filterwarnings(\"ignore\")\n",
    "logging.getLogger(\"distributed.shuffle\").setLevel(logging.ERROR)\n",
    "\n",
    "# 创建SparkSession\n",
    "spark = SparkSession.builder \\\n",
    "    .appName(\"Process Zip CSV with PySpark\") \\\n",
    "    .master(\"local[*]\") \\\n",
    "    .config(\"spark.hadoop.fs.permissions.enabled\", \"false\") \\\n",
    "    .config(\"spark.driver.memory\", \"8g\") \\\n",
    "    .getOrCreate()\n",
    "\n",
    "def process_zip_file(zip_file_path, output_folder):\n",
    "    try:\n",
    "        # Specify temporary directory location\n",
    "        temp_dir = r'X:\\Transfer'\n",
    "\n",
    "        # Create a unique temporary directory for extraction\n",
    "        with tempfile.TemporaryDirectory(dir=temp_dir) as temp_subdir:\n",
    "            # Extract ZIP file to temporary subdirectory\n",
    "            with zipfile.ZipFile(zip_file_path, 'r') as zip_ref:\n",
    "                zip_ref.extractall(temp_subdir)\n",
    "                # Assume there is only one CSV file in the ZIP\n",
    "                csv_file_name = zip_ref.namelist()[0]\n",
    "                csv_file_path = os.path.join(temp_subdir, csv_file_name)\n",
    "\n",
    "            # Read CSV into PySpark DataFrame\n",
    "            df = spark.read.csv(csv_file_path, header=True, inferSchema=True)\n",
    "\n",
    "            # Filter out invalid BID and OFR values\n",
    "            df = df.filter((col(\"BID\") > 0) & (col(\"OFR\") > 0))\n",
    "\n",
    "            # Calculate Spread and Midpoint\n",
    "            df = df.withColumn('Spread', col('OFR') - col('BID'))\n",
    "            df = df.filter(col('Spread') <= 5)  # Filter out large spreads\n",
    "\n",
    "            df = df.withColumn('Midpoint', (col('BID') + col('OFR')) / 2)\n",
    "            df = df.withColumn('Relative_Quoted_Spread', (col('Spread') / col('Midpoint')) * 100)\n",
    "\n",
    "            # Convert DATE to date format\n",
    "            df = df.withColumn('DATE', col('DATE').cast(DateType()))\n",
    "\n",
    "            # Group by SYMBOL and DATE to compute daily equal-weighted averages\n",
    "            result = df.groupBy('SYMBOL', 'DATE').agg(\n",
    "                mean('Relative_Quoted_Spread').alias('Relative_Quoted_Spread_mean'),\n",
    "                count('SYMBOL').alias('Quote_count')\n",
    "            )\n",
    "\n",
    "            # Save the result as CSV\n",
    "            zip_file_name = os.path.basename(zip_file_path)\n",
    "            output_file_name = os.path.splitext(zip_file_name)[0] + '_daily_average_quoted_spread.csv'\n",
    "            output_file_path = os.path.join(output_folder, output_file_name)\n",
    "            result.coalesce(1).write.csv(output_file_path, header=True, mode='overwrite')\n",
    "            print(f\"Results saved to {output_file_path}\")\n",
    "\n",
    "    except Exception as e:\n",
    "        print(f\"Error processing file {zip_file_path}: {e}\")\n",
    "\n",
    "def process_single_zip_file(zip_file_name, source_folder, transfer_folder, output_folder):\n",
    "    source_zip_path = os.path.join(source_folder, zip_file_name)\n",
    "    local_zip_path = os.path.join(transfer_folder, zip_file_name)\n",
    "\n",
    "    # Copy the ZIP file to the local transfer folder\n",
    "    try:\n",
    "        print(f\"Copying {source_zip_path} to {local_zip_path}...\")\n",
    "        shutil.copy2(source_zip_path, local_zip_path)\n",
    "        print(\"Copy completed.\")\n",
    "    except Exception as e:\n",
    "        print(f\"Error copying file {source_zip_path}: {e}\")\n",
    "        return  # Skip this file\n",
    "\n",
    "    # Process the local ZIP file\n",
    "    process_zip_file(local_zip_path, output_folder)\n",
    "\n",
    "    # Delete the local ZIP file after processing\n",
    "    try:\n",
    "        os.remove(local_zip_path)\n",
    "        print(f\"Deleted local file {local_zip_path}.\")\n",
    "    except Exception as e:\n",
    "        print(f\"Error deleting file {local_zip_path}: {e}\")\n",
    "\n",
    "def main():\n",
    "    # Define paths\n",
    "    source_folder = r'X:Quote_2001.zip'  # Source folder containing ZIP files\n",
    "    transfer_folder = r'X:\\Transfer'  # Temporary transfer folder\n",
    "    output_folder = r'C:\\Users\\lishe\\Documents\\GitHub\\Replicate-Work\\TAQ_Output\\Quote_Daily'  # Output folder\n",
    "\n",
    "    # Create necessary directories if they don't exist\n",
    "    os.makedirs(transfer_folder, exist_ok=True)\n",
    "    os.makedirs(output_folder, exist_ok=True)\n",
    "\n",
    "    # Get a list of all ZIP files in the source folder\n",
    "    zip_files = [f for f in os.listdir(source_folder) if f.endswith('.zip')]\n",
    "\n",
    "    # Process the ZIP files sequentially (can be parallelized)\n",
    "    for zip_file_name in zip_files:\n",
    "        process_single_zip_file(zip_file_name, source_folder, transfer_folder, output_folder)\n",
    "\n",
    "    # Stop the Spark session\n",
    "    spark.stop()\n",
    "    print(\"All files processed, program completed.\")\n",
    "\n",
    "if __name__ == \"__main__\":\n",
    "    main()\n"
   ]
  },
  {
   "cell_type": "code",
   "execution_count": null,
   "metadata": {},
   "outputs": [],
   "source": []
  }
 ],
 "metadata": {
  "kernelspec": {
   "display_name": "Python 3",
   "language": "python",
   "name": "python3"
  },
  "language_info": {
   "codemirror_mode": {
    "name": "ipython",
    "version": 3
   },
   "file_extension": ".py",
   "mimetype": "text/x-python",
   "name": "python",
   "nbconvert_exporter": "python",
   "pygments_lexer": "ipython3",
   "version": "3.11.7"
  }
 },
 "nbformat": 4,
 "nbformat_minor": 2
}
