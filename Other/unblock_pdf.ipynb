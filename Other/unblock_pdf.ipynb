{
 "cells": [
  {
   "cell_type": "code",
   "execution_count": 3,
   "metadata": {},
   "outputs": [
    {
     "name": "stdout",
     "output_type": "stream",
     "text": [
      "Starting brute-force attempt using rockyou.gz...\n"
     ]
    },
    {
     "ename": "KeyboardInterrupt",
     "evalue": "",
     "output_type": "error",
     "traceback": [
      "\u001b[1;31m---------------------------------------------------------------------------\u001b[0m",
      "\u001b[1;31mPasswordError\u001b[0m                             Traceback (most recent call last)",
      "File \u001b[1;32mc:\\Users\\lishe\\anaconda3\\Lib\\site-packages\\pikepdf\\_methods.py:399\u001b[0m, in \u001b[0;36mExtend_Pdf.open\u001b[1;34m(filename_or_stream, password, hex_password, ignore_xref_streams, suppress_warnings, attempt_recovery, inherit_page_attributes, access_mode, allow_overwriting_input)\u001b[0m\n\u001b[0;32m    398\u001b[0m     check_stream_is_usable(stream)\n\u001b[1;32m--> 399\u001b[0m     pdf \u001b[38;5;241m=\u001b[39m Pdf\u001b[38;5;241m.\u001b[39m_open(\n\u001b[0;32m    400\u001b[0m         stream,\n\u001b[0;32m    401\u001b[0m         password\u001b[38;5;241m=\u001b[39mpassword,\n\u001b[0;32m    402\u001b[0m         hex_password\u001b[38;5;241m=\u001b[39mhex_password,\n\u001b[0;32m    403\u001b[0m         ignore_xref_streams\u001b[38;5;241m=\u001b[39mignore_xref_streams,\n\u001b[0;32m    404\u001b[0m         suppress_warnings\u001b[38;5;241m=\u001b[39msuppress_warnings,\n\u001b[0;32m    405\u001b[0m         attempt_recovery\u001b[38;5;241m=\u001b[39mattempt_recovery,\n\u001b[0;32m    406\u001b[0m         inherit_page_attributes\u001b[38;5;241m=\u001b[39minherit_page_attributes,\n\u001b[0;32m    407\u001b[0m         access_mode\u001b[38;5;241m=\u001b[39maccess_mode,\n\u001b[0;32m    408\u001b[0m         description\u001b[38;5;241m=\u001b[39mdescription,\n\u001b[0;32m    409\u001b[0m         closing_stream\u001b[38;5;241m=\u001b[39mclosing_stream,\n\u001b[0;32m    410\u001b[0m     )\n\u001b[0;32m    411\u001b[0m \u001b[38;5;28;01mexcept\u001b[39;00m \u001b[38;5;167;01mException\u001b[39;00m:\n",
      "\u001b[1;31mPasswordError\u001b[0m: C:\\Users\\lishe\\Documents\\GitHub\\Replicate-Work\\Tools\\MidtermPaper3036086713.pdf: invalid password",
      "\nDuring handling of the above exception, another exception occurred:\n",
      "\u001b[1;31mKeyboardInterrupt\u001b[0m                         Traceback (most recent call last)",
      "Cell \u001b[1;32mIn[3], line 35\u001b[0m\n\u001b[0;32m     33\u001b[0m \u001b[38;5;66;03m# 使用示例\u001b[39;00m\n\u001b[0;32m     34\u001b[0m pdf_path \u001b[38;5;241m=\u001b[39m \u001b[38;5;124mr\u001b[39m\u001b[38;5;124m\"\u001b[39m\u001b[38;5;124mC:\u001b[39m\u001b[38;5;124m\\\u001b[39m\u001b[38;5;124mUsers\u001b[39m\u001b[38;5;124m\\\u001b[39m\u001b[38;5;124mlishe\u001b[39m\u001b[38;5;124m\\\u001b[39m\u001b[38;5;124mDocuments\u001b[39m\u001b[38;5;124m\\\u001b[39m\u001b[38;5;124mGitHub\u001b[39m\u001b[38;5;124m\\\u001b[39m\u001b[38;5;124mReplicate-Work\u001b[39m\u001b[38;5;124m\\\u001b[39m\u001b[38;5;124mTools\u001b[39m\u001b[38;5;124m\\\u001b[39m\u001b[38;5;124mMidtermPaper3036086713.pdf\u001b[39m\u001b[38;5;124m\"\u001b[39m\n\u001b[1;32m---> 35\u001b[0m brute_force_pdf_with_gz_dictionary(pdf_path, dictionary_path\u001b[38;5;241m=\u001b[39m\u001b[38;5;124m\"\u001b[39m\u001b[38;5;124mrockyou.gz\u001b[39m\u001b[38;5;124m\"\u001b[39m)\n",
      "Cell \u001b[1;32mIn[3], line 21\u001b[0m, in \u001b[0;36mbrute_force_pdf_with_gz_dictionary\u001b[1;34m(pdf_path, dictionary_path)\u001b[0m\n\u001b[0;32m     19\u001b[0m password \u001b[38;5;241m=\u001b[39m password\u001b[38;5;241m.\u001b[39mstrip()  \u001b[38;5;66;03m# 去除空格和换行\u001b[39;00m\n\u001b[0;32m     20\u001b[0m \u001b[38;5;28;01mtry\u001b[39;00m:\n\u001b[1;32m---> 21\u001b[0m     \u001b[38;5;28;01mwith\u001b[39;00m pikepdf\u001b[38;5;241m.\u001b[39mopen(pdf_path, password\u001b[38;5;241m=\u001b[39mpassword) \u001b[38;5;28;01mas\u001b[39;00m pdf:\n\u001b[0;32m     22\u001b[0m         \u001b[38;5;28mprint\u001b[39m(\u001b[38;5;124mf\u001b[39m\u001b[38;5;124m\"\u001b[39m\u001b[38;5;124mPassword found on line \u001b[39m\u001b[38;5;132;01m{\u001b[39;00mline_number\u001b[38;5;132;01m}\u001b[39;00m\u001b[38;5;124m: \u001b[39m\u001b[38;5;132;01m{\u001b[39;00mpassword\u001b[38;5;132;01m}\u001b[39;00m\u001b[38;5;124m\"\u001b[39m)\n\u001b[0;32m     23\u001b[0m         unlocked_pdf_path \u001b[38;5;241m=\u001b[39m \u001b[38;5;124m\"\u001b[39m\u001b[38;5;124munlocked_file.pdf\u001b[39m\u001b[38;5;124m\"\u001b[39m\n",
      "File \u001b[1;32mc:\\Users\\lishe\\anaconda3\\Lib\\site-packages\\pikepdf\\_methods.py:413\u001b[0m, in \u001b[0;36mExtend_Pdf.open\u001b[1;34m(filename_or_stream, password, hex_password, ignore_xref_streams, suppress_warnings, attempt_recovery, inherit_page_attributes, access_mode, allow_overwriting_input)\u001b[0m\n\u001b[0;32m    411\u001b[0m \u001b[38;5;28;01mexcept\u001b[39;00m \u001b[38;5;167;01mException\u001b[39;00m:\n\u001b[0;32m    412\u001b[0m     \u001b[38;5;28;01mif\u001b[39;00m stream \u001b[38;5;129;01mis\u001b[39;00m \u001b[38;5;129;01mnot\u001b[39;00m \u001b[38;5;28;01mNone\u001b[39;00m \u001b[38;5;129;01mand\u001b[39;00m closing_stream:\n\u001b[1;32m--> 413\u001b[0m         stream\u001b[38;5;241m.\u001b[39mclose()\n\u001b[0;32m    414\u001b[0m     \u001b[38;5;28;01mraise\u001b[39;00m\n\u001b[0;32m    415\u001b[0m pdf\u001b[38;5;241m.\u001b[39m_tmp_stream \u001b[38;5;241m=\u001b[39m stream \u001b[38;5;28;01mif\u001b[39;00m allow_overwriting_input \u001b[38;5;28;01melse\u001b[39;00m \u001b[38;5;28;01mNone\u001b[39;00m\n",
      "\u001b[1;31mKeyboardInterrupt\u001b[0m: "
     ]
    }
   ],
   "source": [
    "import pikepdf\n",
    "import gzip\n",
    "import os\n",
    "\n",
    "def brute_force_pdf_with_gz_dictionary(pdf_path, dictionary_path=\"rockyou.gz\"):\n",
    "    # 检查 PDF 文件和字典文件是否存在\n",
    "    if not os.path.exists(pdf_path):\n",
    "        print(f\"Error: PDF file '{pdf_path}' not found.\")\n",
    "        return False\n",
    "    if not os.path.exists(dictionary_path):\n",
    "        print(f\"Error: Dictionary file '{dictionary_path}' not found.\")\n",
    "        return False\n",
    "\n",
    "    print(\"Starting brute-force attempt using rockyou.gz...\")\n",
    "\n",
    "    # 尝试逐行读取字典中的密码\n",
    "    with gzip.open(dictionary_path, \"rt\", encoding=\"utf-8\", errors=\"ignore\") as f:\n",
    "        for line_number, password in enumerate(f, 1):\n",
    "            password = password.strip()  # 去除空格和换行\n",
    "            try:\n",
    "                with pikepdf.open(pdf_path, password=password) as pdf:\n",
    "                    print(f\"Password found on line {line_number}: {password}\")\n",
    "                    unlocked_pdf_path = \"unlocked_file.pdf\"\n",
    "                    pdf.save(unlocked_pdf_path)  # 保存解锁后的 PDF 文件\n",
    "                    print(f\"Unlocked PDF saved as '{unlocked_pdf_path}'.\")\n",
    "                    return True\n",
    "            except pikepdf.PasswordError:  # 修正这里的异常处理\n",
    "                continue  # 如果密码错误，则继续尝试下一个\n",
    "\n",
    "    print(\"Password not found in the dictionary.\")\n",
    "    return False\n",
    "\n",
    "# 使用示例\n",
    "pdf_path = r\"C:\\Users\\lishe\\Documents\\GitHub\\Replicate-Work\\Tools\\MidtermPaper3036086713.pdf\"\n",
    "brute_force_pdf_with_gz_dictionary(pdf_path, dictionary_path=\"rockyou.gz\")\n"
   ]
  },
  {
   "cell_type": "code",
   "execution_count": null,
   "metadata": {},
   "outputs": [],
   "source": []
  }
 ],
 "metadata": {
  "kernelspec": {
   "display_name": "base",
   "language": "python",
   "name": "python3"
  },
  "language_info": {
   "codemirror_mode": {
    "name": "ipython",
    "version": 3
   },
   "file_extension": ".py",
   "mimetype": "text/x-python",
   "name": "python",
   "nbconvert_exporter": "python",
   "pygments_lexer": "ipython3",
   "version": "3.12.4"
  }
 },
 "nbformat": 4,
 "nbformat_minor": 2
}
