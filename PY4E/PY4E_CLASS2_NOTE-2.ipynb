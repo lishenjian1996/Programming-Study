{
 "cells": [
  {
   "cell_type": "code",
   "execution_count": 4,
   "metadata": {},
   "outputs": [
    {
     "name": "stdout",
     "output_type": "stream",
     "text": [
      "['with', 'three', 'words']\n",
      "3\n",
      "with\n"
     ]
    }
   ],
   "source": [
    "#Lists and strings\n",
    "abc='with three words'\n",
    "stuff=abc.split()\n",
    "print(stuff)\n",
    "print(len(stuff))\n",
    "print(stuff[0])"
   ]
  },
  {
   "cell_type": "code",
   "execution_count": 5,
   "metadata": {},
   "outputs": [
    {
     "name": "stdout",
     "output_type": "stream",
     "text": [
      "['with', 'three', 'words']\n",
      "with\n",
      "three\n",
      "words\n"
     ]
    }
   ],
   "source": [
    "# variable 'a' means loop the List for each (3 times)\n",
    "print(stuff)\n",
    "for a in stuff:\n",
    "    print(a)"
   ]
  },
  {
   "cell_type": "code",
   "execution_count": 2,
   "metadata": {},
   "outputs": [
    {
     "name": "stdout",
     "output_type": "stream",
     "text": [
      "Sally\n"
     ]
    }
   ],
   "source": [
    "friends = [ 'Joseph', 'Glenn', 'Sally' ]\n",
    "print(friends[2])"
   ]
  },
  {
   "cell_type": "code",
   "execution_count": 3,
   "metadata": {},
   "outputs": [
    {
     "ename": "TypeError",
     "evalue": "'str' object does not support item assignment",
     "output_type": "error",
     "traceback": [
      "\u001b[0;31m---------------------------------------------------------------------------\u001b[0m",
      "\u001b[0;31mTypeError\u001b[0m                                 Traceback (most recent call last)",
      "\u001b[1;32m/workspaces/Python/PY4E_CLASS2_NOTE-2.ipynb Cell 4\u001b[0m line \u001b[0;36m2\n\u001b[1;32m      <a href='vscode-notebook-cell://codespaces%2Blegendary-space-parakeet-qrwrx777w6vc9xvg/workspaces/Python/PY4E_CLASS2_NOTE-2.ipynb#W3sdnNjb2RlLXJlbW90ZQ%3D%3D?line=0'>1</a>\u001b[0m fruit \u001b[39m=\u001b[39m \u001b[39m'\u001b[39m\u001b[39mBanana\u001b[39m\u001b[39m'\u001b[39m\n\u001b[0;32m----> <a href='vscode-notebook-cell://codespaces%2Blegendary-space-parakeet-qrwrx777w6vc9xvg/workspaces/Python/PY4E_CLASS2_NOTE-2.ipynb#W3sdnNjb2RlLXJlbW90ZQ%3D%3D?line=1'>2</a>\u001b[0m fruit[\u001b[39m0\u001b[39;49m] \u001b[39m=\u001b[39m \u001b[39m'\u001b[39m\u001b[39mb\u001b[39m\u001b[39m'\u001b[39m\n\u001b[1;32m      <a href='vscode-notebook-cell://codespaces%2Blegendary-space-parakeet-qrwrx777w6vc9xvg/workspaces/Python/PY4E_CLASS2_NOTE-2.ipynb#W3sdnNjb2RlLXJlbW90ZQ%3D%3D?line=2'>3</a>\u001b[0m \u001b[39mprint\u001b[39m(fruit)\n",
      "\u001b[0;31mTypeError\u001b[0m: 'str' object does not support item assignment"
     ]
    }
   ],
   "source": [
    "fruit = 'Banana'\n",
    "fruit[0] = 'b'\n",
    "print(fruit)"
   ]
  },
  {
   "cell_type": "code",
   "execution_count": 4,
   "metadata": {},
   "outputs": [
    {
     "name": "stdout",
     "output_type": "stream",
     "text": [
      "6\n"
     ]
    }
   ],
   "source": [
    "a = [1, 2, 3]\n",
    "b = [4, 5, 6]\n",
    "c = a + b\n",
    "print(len(c))"
   ]
  },
  {
   "cell_type": "code",
   "execution_count": 12,
   "metadata": {},
   "outputs": [
    {
     "data": {
      "text/plain": [
       "[12, 3]"
      ]
     },
     "execution_count": 12,
     "metadata": {},
     "output_type": "execute_result"
    }
   ],
   "source": [
    "t = [9, 41, 12, 3, 74, 15]\n",
    "t[2:4]"
   ]
  },
  {
   "cell_type": "code",
   "execution_count": 15,
   "metadata": {},
   "outputs": [
    {
     "name": "stdout",
     "output_type": "stream",
     "text": [
      "Glenn\n"
     ]
    }
   ],
   "source": [
    "#按照LISTS中的字母排序\n",
    "friends = [ 'Joseph', 'Glenn', 'Sally' ]\n",
    "friends.sort()\n",
    "print(friends[0])"
   ]
  },
  {
   "cell_type": "code",
   "execution_count": 146,
   "metadata": {},
   "outputs": [
    {
     "name": "stdout",
     "output_type": "stream",
     "text": [
      "['Arise', 'But', 'It', 'Juliet', 'Who', 'already', 'and', 'breaks', 'east', 'envious', 'fair', 'grief', 'is', 'kill', 'light', 'moon', 'pale', 'sick', 'soft', 'sun', 'the', 'through', 'what', 'window', 'with', 'yonder']\n"
     ]
    }
   ],
   "source": [
    "url=\"romeo.txt\"\n",
    "fh=open(url)\n",
    "lst = list()  \n",
    "for line in fh:\n",
    "    word_split= line.split()    \n",
    "    for word in word_split:\n",
    "        if word not in lst:\n",
    "            lst.append(word)\n",
    "        else:\n",
    "            continue\n",
    "\n",
    "print (sorted(lst))\n",
    "\n",
    "    #fhh=(line.rstrip().split())\n",
    "    #fhh.sort()\n",
    "    #print(fhh)\n",
    "\n"
   ]
  },
  {
   "cell_type": "code",
   "execution_count": 148,
   "metadata": {},
   "outputs": [
    {
     "name": "stdout",
     "output_type": "stream",
     "text": [
      "stephen.marquard@uct.ac.za\n",
      "louis@media.berkeley.edu\n",
      "zqian@umich.edu\n",
      "rjlowe@iupui.edu\n",
      "zqian@umich.edu\n",
      "rjlowe@iupui.edu\n",
      "cwen@iupui.edu\n",
      "cwen@iupui.edu\n",
      "gsilver@umich.edu\n",
      "gsilver@umich.edu\n",
      "zqian@umich.edu\n",
      "gsilver@umich.edu\n",
      "wagnermr@iupui.edu\n",
      "zqian@umich.edu\n",
      "antranig@caret.cam.ac.uk\n",
      "gopal.ramasammycook@gmail.com\n",
      "david.horwitz@uct.ac.za\n",
      "david.horwitz@uct.ac.za\n",
      "david.horwitz@uct.ac.za\n",
      "david.horwitz@uct.ac.za\n",
      "stephen.marquard@uct.ac.za\n",
      "louis@media.berkeley.edu\n",
      "louis@media.berkeley.edu\n",
      "ray@media.berkeley.edu\n",
      "cwen@iupui.edu\n",
      "cwen@iupui.edu\n",
      "cwen@iupui.edu\n",
      "There were 27 lines in the file with From as the first word\n"
     ]
    }
   ],
   "source": [
    "fname = input(\"Enter file name: \")\n",
    "if len(fname) < 1 : fname = \"mbox-short.txt\"\n",
    "#opening the file\n",
    "fh = open(fname)\n",
    "count = 0\n",
    "#to store the lines\n",
    "data=[]\n",
    "for each in fh:\n",
    "    # To check whether the line have more than two elements space seperated\n",
    "    if each.startswith(\"From\") and len(each.split())>2:\n",
    "        temp=each.split()\n",
    "        data.append(temp[1])\n",
    "for each in data:\n",
    "    print(each)\n",
    "print(\"There were\", len(data), \"lines in the file with From as the first word\")"
   ]
  },
  {
   "cell_type": "code",
   "execution_count": 3,
   "metadata": {},
   "outputs": [
    {
     "name": "stdout",
     "output_type": "stream",
     "text": [
      "{'money': 12, 'candy': 3, 'tissues': 75}\n",
      "3\n",
      "{'money': 12, 'candy': 5, 'tissues': 75}\n"
     ]
    }
   ],
   "source": [
    " purse=dict()\n",
    "purse['money']=12\n",
    "purse['candy']=3\n",
    "purse['tissues']=75\n",
    "print(purse)\n",
    "\n",
    "print(purse['candy'])\n",
    "purse['candy']=purse['candy']+2\n",
    "print(purse)"
   ]
  },
  {
   "cell_type": "code",
   "execution_count": 5,
   "metadata": {},
   "outputs": [
    {
     "name": "stdout",
     "output_type": "stream",
     "text": [
      "[21, 183]\n",
      "[23, 183]\n"
     ]
    }
   ],
   "source": [
    "lst=list()\n",
    "lst.append(21)\n",
    "lst.append(183)\n",
    "print(lst)\n",
    "\n",
    "lst[0]=23\n",
    "print(lst)"
   ]
  },
  {
   "cell_type": "code",
   "execution_count": 8,
   "metadata": {},
   "outputs": [
    {
     "name": "stdout",
     "output_type": "stream",
     "text": [
      "{'csev': 1, 'cwen': 1}\n",
      "{'csev': 1, 'cwen': 2}\n"
     ]
    }
   ],
   "source": [
    "#Counting with dictionaries\n",
    "ccc=dict()\n",
    "ccc['csev']=1\n",
    "ccc['cwen']=1\n",
    "print(ccc)\n",
    "\n",
    "ccc['cwen']=ccc['cwen']+1\n",
    "print(ccc)"
   ]
  },
  {
   "cell_type": "code",
   "execution_count": 9,
   "metadata": {},
   "outputs": [
    {
     "name": "stdout",
     "output_type": "stream",
     "text": [
      "{'csev': 2, 'cwen': 2, 'zqian': 1}\n"
     ]
    }
   ],
   "source": [
    "counts=dict()\n",
    "names=['csev','cwen','csev','zqian','cwen']\n",
    "for name in names:\n",
    "    if name not in counts:\n",
    "        counts[name]=1\n",
    "    else:\n",
    "        counts[name]=counts[name]+1\n",
    "print(counts)\n"
   ]
  },
  {
   "cell_type": "code",
   "execution_count": 17,
   "metadata": {},
   "outputs": [
    {
     "name": "stdout",
     "output_type": "stream",
     "text": [
      "{'csev': 2, 'cwen': 2, 'zqian': 1}\n"
     ]
    }
   ],
   "source": [
    "counts=dict()\n",
    "names=['csev','cwen','csev','zqian','cwen']\n",
    "for name in names:\n",
    "    counts[name]=counts.get(name,0)+1\n",
    "print(counts)"
   ]
  },
  {
   "cell_type": "code",
   "execution_count": 19,
   "metadata": {},
   "outputs": [
    {
     "name": "stdout",
     "output_type": "stream",
     "text": [
      "Enter a line of text:\n",
      "Words: ['the', 'clown', 'ran', 'after', 'the', 'car', 'and', 'the', 'car', 'ran', 'into', 'the', 'tent', 'and', 'the', 'tent', 'fell', 'down', 'on', 'the', 'clown', 'and', 'the', 'car']\n",
      "Counting...\n",
      "Counts {'the': 7, 'clown': 2, 'ran': 2, 'after': 1, 'car': 3, 'and': 3, 'into': 1, 'tent': 2, 'fell': 1, 'down': 1, 'on': 1}\n"
     ]
    }
   ],
   "source": [
    "#Count the words: the clown ran after the car and the car ran into the tent and the tent fell down on the clown and the car\n",
    "counts=dict()\n",
    "print('Enter a line of text:')\n",
    "line=input('')\n",
    "\n",
    "words=line.split()\n",
    "\n",
    "print('Words:',words)\n",
    "\n",
    "print('Counting...')\n",
    "for word in words:\n",
    "    counts[word]=counts.get(word,0)+1\n",
    "print('Counts',counts)"
   ]
  },
  {
   "cell_type": "code",
   "execution_count": 21,
   "metadata": {},
   "outputs": [
    {
     "name": "stdout",
     "output_type": "stream",
     "text": [
      "chunk 1\n",
      "fred 42\n",
      "jan 100\n"
     ]
    }
   ],
   "source": [
    "jjj={'chunk':1,'fred':42,'jan':100}\n",
    "for aaa,bbb in jjj.items():\n",
    "    print(aaa,bbb)"
   ]
  },
  {
   "cell_type": "code",
   "execution_count": 31,
   "metadata": {},
   "outputs": [
    {
     "name": "stdout",
     "output_type": "stream",
     "text": [
      "{'From': 27, 'stephen.marquard@uct.ac.za': 8, 'Sat': 2, 'Jan': 352, '5': 10, '09:14:16': 4, '2008': 324, 'Return-Path:': 27, '<postmaster@collab.sakaiproject.org>': 27, 'Received:': 243, 'from': 218, 'murder': 54, '(mail.umich.edu': 27, '[141.211.14.90])': 3, 'by': 245, 'frankenstein.mail.umich.edu': 27, '(Cyrus': 54, 'v2.3.8)': 27, 'with': 194, 'LMTPA;': 54, 'Sat,': 9, '05': 3, '-0500': 219, 'X-Sieve:': 27, 'CMU': 27, 'Sieve': 27, '2.3': 27, '([unix': 27, 'socket])': 27, 'mail.umich.edu': 27, 'v2.2.12)': 27, 'holes.mr.itd.umich.edu': 8, '(holes.mr.itd.umich.edu': 4, '[141.211.14.79])': 4, 'flawless.mail.umich.edu': 3, '()': 27, 'ESMTP': 108, 'id': 136, 'm05EEFR1013674;': 1, '09:14:15': 1, 'FROM': 27, 'paploo.uhi.ac.uk': 108, '(app1.prod.collab.uhi.ac.uk': 27, '[194.35.219.184])': 27, 'BY': 27, 'ID': 54, '477F90B0.2DB2F.12494': 1, ';': 27, '09:14:10': 1, '(localhost': 54, '[127.0.0.1])': 54, '(Postfix)': 54, '5F919BC2F2;': 1, '14:10:05': 1, '+0000': 81, '(GMT)': 81, 'Message-ID:': 27, '<200801051412.m05ECIaH010327@nakamura.uits.iupui.edu>': 1, 'Mime-Version:': 27, '1.0': 27, 'Content-Transfer-Encoding:': 27, '7bit': 27, 'prod.collab.uhi.ac.uk': 27, '([194.35.219.182])': 27, '(JAMES': 27, 'SMTP': 54, 'Server': 27, '2.1.3)': 27, '899': 1, 'for': 118, '<source@collab.sakaiproject.org>;': 81, '14:09:50': 1, 'nakamura.uits.iupui.edu': 108, '(nakamura.uits.iupui.edu': 27, '[134.68.220.122])': 27, 'shmi.uhi.ac.uk': 27, 'A215243002': 1, '14:13:33': 1, '(8.12.11.20060308/8.12.11)': 27, 'm05ECJVp010329': 1, '09:12:19': 1, '(from': 27, 'apache@localhost)': 27, '(8.12.11.20060308/8.12.11/Submit)': 27, 'm05ECIaH010327': 1, 'source@collab.sakaiproject.org;': 27, '09:12:18': 2, 'Date:': 54, 'X-Authentication-Warning:': 27, 'nakamura.uits.iupui.edu:': 27, 'apache': 27, 'set': 27, 'sender': 27, 'to': 43, 'using': 27, '-f': 27, 'To:': 27, 'source@collab.sakaiproject.org': 27, 'From:': 27, 'Subject:': 27, '[sakai]': 27, 'svn': 43, 'commit:': 27, 'r39772': 1, '-': 35, 'content/branches/sakai_2-5-x/content-impl/impl/src/java/org/sakaiproject/content/impl': 1, 'X-Content-Type-Outer-Envelope:': 27, 'text/plain;': 81, 'charset=UTF-8': 81, 'X-Content-Type-Message-Body:': 27, 'Content-Type:': 27, 'X-DSPAM-Result:': 27, 'Innocent': 27, 'X-DSPAM-Processed:': 27, 'X-DSPAM-Confidence:': 27, '0.8475': 1, 'X-DSPAM-Probability:': 27, '0.0000': 27, 'Details:': 27, 'http://source.sakaiproject.org/viewsvn/?view=rev&rev=39772': 1, 'Author:': 27, '2008-01-05': 1, '09:12:07': 1, '(Sat,': 1, '2008)': 28, 'New': 29, 'Revision:': 27, '39772': 1, 'Modified:': 27, 'content/branches/sakai_2-5-x/content-impl/impl/src/java/org/sakaiproject/content/impl/ContentServiceSqlOracle.java': 1, 'content/branches/sakai_2-5-x/content-impl/impl/src/java/org/sakaiproject/content/impl/DbContentService.java': 1, 'Log:': 27, 'SAK-12501': 1, 'merge': 12, '2-5-x:': 1, 'r39622,': 1, 'r39624:5,': 1, 'r39632:3': 1, '(resolve': 1, 'conflict': 2, 'differing': 1, 'linebreaks': 1, 'r39622)': 1, '----------------------': 27, 'This': 27, 'automatic': 27, 'notification': 27, 'message': 28, 'was': 27, 'sent': 27, 'Sakai': 28, 'Collab': 27, '(https://collab.sakaiproject.org/portal)': 27, 'the': 32, 'Source': 28, 'site.': 27, 'You': 27, 'can': 27, 'modify': 27, 'how': 27, 'you': 27, 'receive': 27, 'notifications': 27, 'at': 27, 'My': 27, 'Workspace': 27, '>': 27, 'Preferences.': 27, 'louis@media.berkeley.edu': 12, 'Fri': 40, '4': 203, '18:10:48': 4, '[141.211.14.97])': 3, 'Fri,': 183, '04': 61, 'icestorm.mr.itd.umich.edu': 4, '(icestorm.mr.itd.umich.edu': 2, '[141.211.93.149])': 2, 'sleepers.mail.umich.edu': 3, 'm04NAbGa029441;': 1, '18:10:37': 1, '477EBCE3.161BB.4320': 1, '18:10:31': 1, '07969BB706;': 1, '23:10:33': 1, '<200801042308.m04N8v6O008125@nakamura.uits.iupui.edu>': 1, '710': 1, '23:10:10': 2, '4BA2F42F57': 1, 'm04N8vHG008127': 1, '18:08:57': 3, 'm04N8v6O008125': 1, 'r39771': 1, 'in': 22, 'bspace/site-manage/sakai_2-4-x/site-manage-tool/tool/src:': 3, 'bundle': 3, 'java/org/sakaiproject/site/tool': 2, '0.6178': 1, 'http://source.sakaiproject.org/viewsvn/?view=rev&rev=39771': 1, '2008-01-04': 21, '18:08:50': 1, '(Fri,': 22, '39771': 1, 'bspace/site-manage/sakai_2-4-x/site-manage-tool/tool/src/bundle/sitesetupgeneric.properties': 3, 'bspace/site-manage/sakai_2-4-x/site-manage-tool/tool/src/java/org/sakaiproject/site/tool/SiteAction.java': 1, 'BSP-1415': 1, '(Guest)': 1, 'user': 4, 'Notification': 1, 'zqian@umich.edu': 17, '16:10:39': 4, '[141.211.14.25])': 5, 'ghostbusters.mr.itd.umich.edu': 2, '(ghostbusters.mr.itd.umich.edu': 1, '[141.211.93.144])': 1, 'panther.mail.umich.edu': 5, 'm04LAcZw014275;': 1, '16:10:38': 1, '477EA0C6.A0214.25480': 1, '16:10:33': 1, 'C48CDBB490;': 1, '21:10:31': 1, '<200801042109.m04L92hb007923@nakamura.uits.iupui.edu>': 1, '906': 1, '21:10:18': 1, '7D13042F71': 1, '21:10:14': 1, 'm04L927E007925': 1, '16:09:02': 3, 'm04L92hb007923': 1, 'r39770': 1, 'site-manage/branches/sakai_2-5-x/site-manage-tool/tool/src/webapp/vm/sitesetup': 1, '0.6961': 1, 'http://source.sakaiproject.org/viewsvn/?view=rev&rev=39770': 1, '16:09:01': 1, '39770': 1, 'site-manage/branches/sakai_2-5-x/site-manage-tool/tool/src/webapp/vm/sitesetup/chef_site-siteInfo-list.vm': 1, 'fix': 4, 'SAK-9996': 1, 'into': 2, '2-5-x': 2, 'branch:': 2, '-r': 5, '39687:39688': 1, 'https://source.sakaiproject.org/svn/site-manage/trunk/': 1, 'rjlowe@iupui.edu': 8, '15:46:24': 4, 'dreamcatcher.mr.itd.umich.edu': 2, '(dreamcatcher.mr.itd.umich.edu': 1, '[141.211.14.43])': 1, 'm04KkNbx032077;': 1, '15:46:23': 1, '477E9B13.2F3BC.22965': 1, '15:46:13': 1, '4AE03BB552;': 1, '20:46:13': 1, '<200801042044.m04Kiem3007881@nakamura.uits.iupui.edu>': 1, '38': 1, '20:45:56': 1, 'A55D242F57': 1, '20:45:52': 1, 'm04KieqE007883': 1, '15:44:40': 3, 'm04Kiem3007881': 1, 'r39769': 1, 'gradebook/trunk/app/ui/src:': 1, 'java/org/sakaiproject/tool/gradebook/ui/helpers/beans': 1, 'java/org/sakaiproject/tool/gradebook/ui/helpers/producers': 1, 'webapp/WEB-INF': 1, 'webapp/WEB-INF/bundle': 1, '0.7565': 1, 'http://source.sakaiproject.org/viewsvn/?view=rev&rev=39769': 1, '15:44:39': 1, '39769': 1, 'gradebook/trunk/app/ui/src/java/org/sakaiproject/tool/gradebook/ui/helpers/beans/AssignmentGradeRecordBean.java': 2, 'gradebook/trunk/app/ui/src/java/org/sakaiproject/tool/gradebook/ui/helpers/producers/GradeGradebookItemProducer.java': 2, 'gradebook/trunk/app/ui/src/webapp/WEB-INF/applicationContext.xml': 2, 'gradebook/trunk/app/ui/src/webapp/WEB-INF/bundle/messages.properties': 2, 'gradebook/trunk/app/ui/src/webapp/WEB-INF/requestContext.xml': 2, 'SAK-12180': 2, 'Fixed': 1, 'errors': 1, 'grading': 1, 'helper': 2, '15:03:18': 4, '[141.211.14.46])': 5, 'firestarter.mr.itd.umich.edu': 4, '(firestarter.mr.itd.umich.edu': 2, '[141.211.14.83])': 2, 'fan.mail.umich.edu': 5, 'm04K3HGF006563;': 1, '15:03:17': 1, '477E9100.8F7F4.1590': 1, '15:03:15': 2, '57770BB477;': 1, '20:03:09': 1, '<200801042001.m04K1cO0007738@nakamura.uits.iupui.edu>': 1, '622': 1, '20:02:46': 1, 'AB4D042F4D': 1, '20:02:50': 1, 'm04K1cXv007740': 1, '15:01:38': 3, 'm04K1cO0007738': 1, 'r39766': 1, 'site-manage/branches/sakai_2-4-x/site-manage-tool/tool/src/java/org/sakaiproject/site/tool': 1, '0.7626': 1, 'http://source.sakaiproject.org/viewsvn/?view=rev&rev=39766': 1, '15:01:37': 1, '39766': 1, 'site-manage/branches/sakai_2-4-x/site-manage-tool/tool/src/java/org/sakaiproject/site/tool/SiteAction.java': 1, 'SAK-10788': 1, 'site-manage': 1, '2.4.x': 1, 'Repository': 1, '#38024': 1, 'Wed': 1, 'Nov': 1, '07': 1, '14:54:46': 1, 'MST': 1, '2007': 1, 'Fix': 2, 'SAK-10788:': 1, 'If': 1, 'a': 8, 'provided': 1, 'couse': 1, 'site': 3, 'is': 1, 'fake': 1, 'or': 1, \"doesn't\": 2, 'provide': 1, 'any': 2, 'information,': 1, 'Site': 2, 'Info': 2, 'appears': 1, 'be': 4, 'like': 1, 'project': 1, 'empty': 1, 'participant': 1, 'list': 2, 'Watch': 1, 'enrollments': 1, 'object': 1, 'being': 1, 'null': 1, 'and': 2, 'concatenate': 1, 'provider': 1, 'ids': 1, 'when': 3, 'there': 1, 'are': 1, 'more': 1, 'than': 1, 'one.': 1, 'Files': 1, 'Changed': 1, 'MODIFY': 1, '/site-manage/trunk/site-manage-tool/tool/src/java/org/sakaiproject/site/tool/SiteAction.java': 1, '14:50:18': 4, '[141.211.14.93])': 1, 'eyewitness.mr.itd.umich.edu': 4, '(eyewitness.mr.itd.umich.edu': 2, '[141.211.93.142])': 2, 'mission.mail.umich.edu': 1, 'm04JoHJi019755;': 1, '14:50:17': 1, '477E8DF2.67B91.5278': 1, '14:50:13': 1, '2D1B9BB492;': 1, '19:47:10': 1, '<200801041948.m04JmdwO007705@nakamura.uits.iupui.edu>': 1, '960': 1, '19:46:50': 1, 'B3E6742F4A': 1, '19:49:51': 1, 'm04JmeV9007707': 1, '14:48:40': 1, 'm04JmdwO007705': 1, '14:48:39': 2, 'r39765': 1, 'gradebook/trunk/app:': 1, 'business/src/java/org/sakaiproject/tool/gradebook/business': 1, 'business/src/java/org/sakaiproject/tool/gradebook/business/impl': 1, 'ui': 2, 'ui/src/java/org/sakaiproject/tool/gradebook/ui/helpers/beans': 1, 'ui/src/java/org/sakaiproject/tool/gradebook/ui/helpers/entity': 1, 'ui/src/java/org/sakaiproject/tool/gradebook/ui/helpers/params': 1, 'ui/src/java/org/sakaiproject/tool/gradebook/ui/helpers/producers': 1, 'ui/src/webapp/WEB-INF': 1, 'ui/src/webapp/WEB-INF/bundle': 1, 'ui/src/webapp/content/templates': 1, '0.7556': 2, 'http://source.sakaiproject.org/viewsvn/?view=rev&rev=39765': 1, '14:48:37': 1, '39765': 1, 'Added:': 4, 'gradebook/trunk/app/ui/src/java/org/sakaiproject/tool/gradebook/ui/helpers/beans/AssignmentGradeRecordCreator.java': 1, 'gradebook/trunk/app/ui/src/java/org/sakaiproject/tool/gradebook/ui/helpers/entity/GradebookEntryGradeEntityProvider.java': 1, 'gradebook/trunk/app/ui/src/java/org/sakaiproject/tool/gradebook/ui/helpers/params/GradeGradebookItemViewParams.java': 1, 'gradebook/trunk/app/ui/src/webapp/content/templates/grade-gradebook-item.html': 1, 'gradebook/trunk/app/business/src/java/org/sakaiproject/tool/gradebook/business/GradebookManager.java': 1, 'gradebook/trunk/app/business/src/java/org/sakaiproject/tool/gradebook/business/impl/GradebookManagerHibernateImpl.java': 2, 'gradebook/trunk/app/ui/pom.xml': 1, 'gradebook/trunk/app/ui/src/java/org/sakaiproject/tool/gradebook/ui/helpers/beans/GradebookItemBean.java': 1, 'gradebook/trunk/app/ui/src/java/org/sakaiproject/tool/gradebook/ui/helpers/entity/GradebookEntryEntityProvider.java': 1, 'gradebook/trunk/app/ui/src/java/org/sakaiproject/tool/gradebook/ui/helpers/producers/AddGradebookItemProducer.java': 1, 'tool': 4, 'grade': 2, 'an': 1, 'assignment': 1, 'cwen@iupui.edu': 20, '11:37:30': 4, 'tadpole.mr.itd.umich.edu': 2, '(tadpole.mr.itd.umich.edu': 1, '[141.211.14.72])': 1, 'm04GbT9x022078;': 1, '11:37:29': 1, '477E60B2.82756.9904': 1, '11:37:09': 1, '8D13DBB001;': 1, '16:37:07': 1, '<200801041635.m04GZQGZ007313@nakamura.uits.iupui.edu>': 1, '120': 1, '16:36:40': 1, 'D430B42E42': 1, '16:36:37': 1, 'm04GZQ7W007315': 1, '11:35:26': 3, 'm04GZQGZ007313': 1, 'r39764': 1, 'msgcntr/trunk/messageforums-app/src/java/org/sakaiproject/tool/messageforums:': 1, '.': 3, '0.7002': 2, 'http://source.sakaiproject.org/viewsvn/?view=rev&rev=39764': 1, '11:35:25': 1, '39764': 1, 'msgcntr/trunk/messageforums-app/src/java/org/sakaiproject/tool/messageforums/PrivateMessagesTool.java': 2, 'msgcntr/trunk/messageforums-app/src/java/org/sakaiproject/tool/messageforums/ui/PrivateMessageDecoratedBean.java': 1, 'unmerge': 2, \"Xingtang's\": 2, 'checkin': 1, 'SAK-12488.': 1, '-r39558:39557': 1, 'https://source.sakaiproject.org/svn/msgcntr/trunk': 2, 'U': 14, 'messageforums-app/src/java/org/sakaiproject/tool/messageforums/PrivateMessagesTool.java': 2, 'messageforums-app/src/java/org/sakaiproject/tool/messageforums/ui/PrivateMessageDecoratedBean.java': 1, 'log': 7, '39558': 1, '------------------------------------------------------------------------': 14, 'r39558': 1, '|': 21, 'hu2@iupui.edu': 2, '2007-12-20': 2, '15:25:38': 1, '(Thu,': 8, '20': 2, 'Dec': 5, '2007)': 6, '3': 61, 'lines': 4, 'SAK-12488': 1, 'send': 1, 'yourself.': 1, 'click': 1, 'reply': 2, 'all,': 1, 'cc': 2, 'row': 1, 'should': 2, 'null.': 1, 'http://jira.sakaiproject.org/jira/browse/SAK-12488': 1, '11:35:08': 4, 'it.mr.itd.umich.edu': 2, '(it.mr.itd.umich.edu': 1, '[141.211.93.151])': 1, 'm04GZ6lt020480;': 1, '11:35:06': 1, '477E6033.6469D.21870': 1, '11:35:02': 1, 'E40FABAE5B;': 1, '16:34:38': 1, '<200801041633.m04GX6eG007292@nakamura.uits.iupui.edu>': 1, '697': 1, '16:34:01': 1, '1CD0C42E42': 1, '16:34:17': 1, 'm04GX6Y3007294': 1, '11:33:06': 3, 'm04GX6eG007292': 1, 'r39763': 1, 'msgcntr/trunk:': 1, 'messageforums-api/src/bundle/org/sakaiproject/api/app/messagecenter/bundle': 1, 'messageforums-app/src/java/org/sakaiproject/tool/messageforums': 1, '0.7615': 1, 'http://source.sakaiproject.org/viewsvn/?view=rev&rev=39763': 1, '11:33:05': 1, '39763': 1, 'msgcntr/trunk/messageforums-api/src/bundle/org/sakaiproject/api/app/messagecenter/bundle/Messages.properties': 1, 'check': 1, 'SAK-12484.': 1, '-r39571:39570': 1, 'messageforums-api/src/bundle/org/sakaiproject/api/app/messagecenter/bundle/Messages.properties': 1, '39571': 1, 'r39571': 1, '21:26:28': 1, 'SAK-12484': 1, 'all': 1, 'not': 2, 'include': 1, 'current': 1, 'name.': 1, 'http://jira.sakaiproject.org/jira/browse/SAK-12484': 1, 'gsilver@umich.edu': 12, '11:12:37': 4, 'm04GCaHB030887;': 1, '11:12:36': 1, '477E5AEB.E670B.28397': 1, '11:12:30': 1, '99715BAE7D;': 1, '16:12:27': 1, '<200801041611.m04GB1Lb007221@nakamura.uits.iupui.edu>': 1, '272': 1, '16:12:14': 1, '0A6ED42DFC': 1, '16:12:12': 1, 'm04GB1Wt007223': 1, '11:11:01': 3, 'm04GB1Lb007221': 1, 'r39762': 1, 'web/trunk/web-tool/tool/src/bundle': 1, '0.7601': 1, 'http://source.sakaiproject.org/viewsvn/?view=rev&rev=39762': 1, '11:11:00': 1, '39762': 1, 'web/trunk/web-tool/tool/src/bundle/iframe.properties': 1, 'SAK-12596': 1, 'http://bugs.sakaiproject.org/jira/browse/SAK-12596': 1, 'left': 3, 'moot': 3, '(unused)': 3, 'entries': 3, 'commented': 3, 'now': 3, '11:11:52': 5, '[141.211.14.36])': 1, 'creepshow.mr.itd.umich.edu': 4, '(creepshow.mr.itd.umich.edu': 2, '[141.211.14.84])': 2, 'godsend.mail.umich.edu': 1, 'm04GBqqv025330;': 1, '477E5AB3.5CC32.30840': 1, '11:11:34': 1, '62AA4BAE46;': 1, '16:11:31': 1, '<200801041610.m04GA5KP007209@nakamura.uits.iupui.edu>': 1, '1006': 1, '16:11:18': 1, 'C596A3DFA2': 1, '16:11:16': 1, 'm04GA5LR007211': 1, '11:10:05': 3, 'm04GA5KP007209': 1, 'r39761': 1, 'site/trunk/site-tool/tool/src/bundle': 1, '0.7605': 2, 'http://source.sakaiproject.org/viewsvn/?view=rev&rev=39761': 1, '11:10:04': 1, '39761': 1, 'site/trunk/site-tool/tool/src/bundle/admin.properties': 1, 'SAK-12595': 1, 'http://bugs.sakaiproject.org/jira/browse/SAK-12595': 1, '11:11:03': 5, 'carrie.mr.itd.umich.edu': 2, '(carrie.mr.itd.umich.edu': 1, '[141.211.93.152])': 1, 'm04GB3Vg011502;': 1, '477E5A8D.B378F.24200': 1, '11:10:56': 1, 'C7251BAD44;': 1, '16:10:53': 1, '<200801041609.m04G9EuX007197@nakamura.uits.iupui.edu>': 1, '483': 1, '16:10:27': 1, '2E7043DFA2': 1, '16:10:26': 1, 'm04G9Eqg007199': 1, '11:09:15': 1, 'm04G9EuX007197': 1, '11:09:14': 2, 'r39760': 1, 'site-manage/trunk/site-manage-tool/tool/src:': 1, 'webapp/vm/sitesetup': 3, '0.6959': 2, 'http://source.sakaiproject.org/viewsvn/?view=rev&rev=39760': 1, '11:09:12': 1, '39760': 1, 'site-manage/trunk/site-manage-tool/tool/src/java/org/sakaiproject/site/tool/SiteAction.java': 1, 'site-manage/trunk/site-manage-tool/tool/src/webapp/vm/sitesetup/chef_site-siteInfo-list.vm': 1, 'SAK-10911:': 1, 'Refactor': 1, 'use': 1, 'of': 4, 'site.upd,': 1, 'site.upd.site.mbrship': 1, 'site.upd.grp.mbrship': 1, 'permissions': 2, '11:10:22': 4, '[141.211.14.39])': 3, 'faithful.mail.umich.edu': 3, 'm04GAL9k010604;': 1, '11:10:21': 1, '477E5A67.34350.23015': 1, '11:10:18': 1, '98D04BAD43;': 1, '16:10:11': 1, '<200801041608.m04G8d7w007184@nakamura.uits.iupui.edu>': 1, '966': 1, '16:09:51': 1, '9F89542DD0': 1, '16:09:50': 1, 'm04G8dXN007186': 1, '11:08:39': 3, 'm04G8d7w007184': 1, 'r39759': 1, 'mailarchive/trunk/mailarchive-tool/tool/src/bundle': 1, '0.7606': 1, 'http://source.sakaiproject.org/viewsvn/?view=rev&rev=39759': 1, '11:08:38': 1, '39759': 1, 'mailarchive/trunk/mailarchive-tool/tool/src/bundle/email.properties': 1, 'SAK-12592': 1, 'http://bugs.sakaiproject.org/jira/browse/SAK-12592': 1, 'wagnermr@iupui.edu': 6, '10:38:42': 4, 'shining.mr.itd.umich.edu': 2, '(shining.mr.itd.umich.edu': 1, '[141.211.93.153])': 1, 'm04Fcfjm012313;': 1, '10:38:41': 1, '477E52FA.E6C6E.24093': 1, '10:38:37': 1, '6A39594CD2;': 1, '15:37:36': 1, '<200801041537.m04Fb6Ci007092@nakamura.uits.iupui.edu>': 1, '690': 1, '15:37:21': 1, 'CEFA037ACE': 1, '15:38:17': 1, 'm04Fb6nh007094': 1, '10:37:06': 3, 'm04Fb6Ci007092': 1, 'r39758': 1, 'gradebook/trunk:': 1, 'app/business/src/java/org/sakaiproject/tool/gradebook/business/impl': 1, 'service/api/src/java/org/sakaiproject/service/gradebook/shared': 1, 'service/impl/src/java/org/sakaiproject/component/gradebook': 1, '0.7559': 1, 'http://source.sakaiproject.org/viewsvn/?view=rev&rev=39758': 1, '10:37:04': 1, '39758': 1, 'gradebook/trunk/service/api/src/java/org/sakaiproject/service/gradebook/shared/GradebookService.java': 1, 'gradebook/trunk/service/impl/src/java/org/sakaiproject/component/gradebook/GradebookServiceHibernateImpl.java': 1, 'SAK-12175': 1, 'http://bugs.sakaiproject.org/jira/browse/SAK-12175': 1, 'Create': 1, 'methods': 1, 'required': 1, 'gb': 2, 'integration': 1, 'Assignment2': 1, 'getGradeDefinitionForStudentForItem': 1, '10:17:43': 2, '10:17:42': 3, 'm04FHgfs011536;': 1, '477E4E0F.CCA4B.926': 1, '10:17:38': 1, 'BD02DBAC64;': 1, '15:17:34': 1, '<200801041515.m04FFv42007050@nakamura.uits.iupui.edu>': 1, '25': 1, '15:17:11': 1, '5B396236B9': 1, '15:17:08': 1, 'm04FFv85007052': 1, '10:15:57': 3, 'm04FFv42007050': 1, 'r39757': 1, 'assignment/trunk:': 1, 'assignment-impl/impl/src/java/org/sakaiproject/assignment/impl': 1, 'assignment-tool/tool/src/webapp/vm/assignment': 1, 'http://source.sakaiproject.org/viewsvn/?view=rev&rev=39757': 1, '10:15:54': 1, '39757': 1, 'assignment/trunk/assignment-impl/impl/src/java/org/sakaiproject/assignment/impl/BaseAssignmentService.java': 1, 'assignment/trunk/assignment-tool/tool/src/webapp/vm/assignment/chef_assignments_instructor_list_submissions.vm': 1, \"SAK-12604:Don't\": 1, 'show': 1, 'groups/sections': 1, 'filter': 1, 'if': 2, 'have': 1, 'antranig@caret.cam.ac.uk': 4, '10:04:14': 4, 'm04F4Dci015108;': 1, '10:04:13': 1, '477E4AE3.D7AF.31669': 1, '10:04:05': 1, '933E3BAC17;': 1, '15:04:00': 1, '<200801041502.m04F21Jo007031@nakamura.uits.iupui.edu>': 1, '32': 1, 'AC2F6236B9': 1, '15:03:12': 1, 'm04F21hn007033': 1, '10:02:01': 3, 'm04F21Jo007031': 1, 'r39756': 1, 'component/branches/SAK-12166/component-api/component/src/java/org/sakaiproject/component:': 1, 'impl': 1, 'impl/spring/support': 1, 'impl/spring/support/dynamic': 1, 'impl/support': 1, 'util': 1, '0.6932': 1, 'http://source.sakaiproject.org/viewsvn/?view=rev&rev=39756': 1, '10:01:40': 1, '39756': 1, 'component/branches/SAK-12166/component-api/component/src/java/org/sakaiproject/component/impl/spring/support/dynamic/': 1, 'component/branches/SAK-12166/component-api/component/src/java/org/sakaiproject/component/impl/spring/support/dynamic/DynamicComponentManager.java': 1, 'component/branches/SAK-12166/component-api/component/src/java/org/sakaiproject/component/impl/support/': 1, 'component/branches/SAK-12166/component-api/component/src/java/org/sakaiproject/component/impl/support/DynamicComponentRecord.java': 1, 'component/branches/SAK-12166/component-api/component/src/java/org/sakaiproject/component/impl/support/DynamicJARManager.java': 1, 'component/branches/SAK-12166/component-api/component/src/java/org/sakaiproject/component/impl/support/JARRecord.java': 1, 'component/branches/SAK-12166/component-api/component/src/java/org/sakaiproject/component/util/ByteToCharBase64.java': 1, 'component/branches/SAK-12166/component-api/component/src/java/org/sakaiproject/component/util/FileUtil.java': 1, 'component/branches/SAK-12166/component-api/component/src/java/org/sakaiproject/component/util/RecordFileIO.java': 1, 'component/branches/SAK-12166/component-api/component/src/java/org/sakaiproject/component/util/RecordReader.java': 1, 'component/branches/SAK-12166/component-api/component/src/java/org/sakaiproject/component/util/RecordWriter.java': 1, 'component/branches/SAK-12166/component-api/component/src/java/org/sakaiproject/component/util/StreamDigestor.java': 1, 'component/branches/SAK-12166/component-api/component/src/java/org/sakaiproject/component/impl/spring/support/ComponentsLoaderImpl.java': 1, 'Temporary': 1, 'commit': 1, 'incomplete': 1, 'work': 1, 'on': 2, 'JAR': 1, 'caching': 1, 'gopal.ramasammycook@gmail.com': 4, '09:05:31': 4, 'guys.mr.itd.umich.edu': 4, '(guys.mr.itd.umich.edu': 2, '[141.211.14.76])': 2, 'm04E5U3C029277;': 1, '09:05:30': 1, '477E3D23.EE2E7.5237': 1, '09:05:26': 1, '33C7856DC0;': 1, '14:05:26': 1, '<200801041403.m04E3psW006926@nakamura.uits.iupui.edu>': 1, '575': 1, '14:05:04': 1, '3C0261D617': 1, '14:05:03': 1, 'm04E3pQS006928': 1, '09:03:52': 1, 'm04E3psW006926': 1, '09:03:51': 2, 'r39755': 1, 'sam/branches/SAK-12065:': 1, 'samigo-api/src/java/org/sakaiproject/tool/assessment/shared/api/grading': 1, 'samigo-app/src/java/org/sakaiproject/tool/assessment/ui/bean/evaluation': 1, 'samigo-app/src/java/org/sakaiproject/tool/assessment/ui/listener/evaluation': 1, 'samigo-services/src/java/org/sakaiproject/tool/assessment/facade': 1, 'samigo-services/src/java/org/sakaiproject/tool/assessment/integration/helper/ifc': 1, 'samigo-services/src/java/org/sakaiproject/tool/assessment/integration/helper/integrated': 1, 'samigo-services/src/java/org/sakaiproject/tool/assessment/integration/helper/standalone': 1, 'samigo-services/src/java/org/sakaiproject/tool/assessment/shared/impl/grading': 1, '0.7558': 1, 'http://source.sakaiproject.org/viewsvn/?view=rev&rev=39755': 1, '09:02:54': 1, '39755': 1, 'sam/branches/SAK-12065/samigo-api/src/java/org/sakaiproject/tool/assessment/shared/api/grading/GradingSectionAwareServiceAPI.java': 1, 'sam/branches/SAK-12065/samigo-app/src/java/org/sakaiproject/tool/assessment/ui/bean/evaluation/QuestionScoresBean.java': 1, 'sam/branches/SAK-12065/samigo-app/src/java/org/sakaiproject/tool/assessment/ui/bean/evaluation/SubmissionStatusBean.java': 1, 'sam/branches/SAK-12065/samigo-app/src/java/org/sakaiproject/tool/assessment/ui/bean/evaluation/TotalScoresBean.java': 1, 'sam/branches/SAK-12065/samigo-app/src/java/org/sakaiproject/tool/assessment/ui/listener/evaluation/SubmissionStatusListener.java': 1, 'sam/branches/SAK-12065/samigo-services/src/java/org/sakaiproject/tool/assessment/facade/PublishedAssessmentFacadeQueries.java': 1, 'sam/branches/SAK-12065/samigo-services/src/java/org/sakaiproject/tool/assessment/facade/PublishedAssessmentFacadeQueriesAPI.java': 1, 'sam/branches/SAK-12065/samigo-services/src/java/org/sakaiproject/tool/assessment/integration/helper/ifc/SectionAwareServiceHelper.java': 1, 'sam/branches/SAK-12065/samigo-services/src/java/org/sakaiproject/tool/assessment/integration/helper/integrated/SectionAwareServiceHelperImpl.java': 1, 'sam/branches/SAK-12065/samigo-services/src/java/org/sakaiproject/tool/assessment/integration/helper/standalone/SectionAwareServiceHelperImpl.java': 1, 'sam/branches/SAK-12065/samigo-services/src/java/org/sakaiproject/tool/assessment/shared/impl/grading/GradingSectionAwareServiceImpl.java': 1, 'SAK-12065': 1, 'Gopal': 1, 'Samigo': 1, 'Group': 1, 'Release.': 1, 'SubmissionStatus/TotalScores/Questions': 1, 'View': 1, 'filter.': 1, 'david.horwitz@uct.ac.za': 17, '07:02:32': 4, 'm04C2VN7026678;': 1, '07:02:31': 1, '477E2050.C2599.3263': 1, '07:02:27': 1, '6497FBA906;': 1, '12:02:11': 1, '<200801041200.m04C0gfK006793@nakamura.uits.iupui.edu>': 1, '611': 2, '12:01:53': 2, '5296342D3C': 1, 'm04C0gnm006795': 1, '07:00:42': 3, 'm04C0gfK006793': 1, 'r39754': 1, 'polls/branches/sakai_2-5-x:': 1, 'tool/src/java/org/sakaiproject/poll/tool': 2, 'tool/src/java/org/sakaiproject/poll/tool/evolvers': 2, 'tool/src/webapp/WEB-INF': 2, '0.6526': 1, 'http://source.sakaiproject.org/viewsvn/?view=rev&rev=39754': 1, '07:00:10': 1, '39754': 1, 'polls/branches/sakai_2-5-x/tool/src/java/org/sakaiproject/poll/tool/evolvers/': 1, 'polls/branches/sakai_2-5-x/tool/src/java/org/sakaiproject/poll/tool/evolvers/SakaiFCKTextEvolver.java': 2, 'Removed:': 2, 'polls/branches/sakai_2-5-x/.classpath': 1, 'polls/branches/sakai_2-5-x/tool/pom.xml': 1, 'polls/branches/sakai_2-5-x/tool/src/webapp/WEB-INF/requestContext.xml': 1, '-r39753': 1, 'https://source.sakaiproject.org/svn/polls/trunk': 2, 'r39753': 2, '13:05:51': 1, '+0200': 3, '1': 3, 'line': 3, 'SAK-12228': 2, 'implmented': 2, 'workaround': 2, 'sugested': 2, 'AB': 2, 'needs': 2, 'tested': 2, 'against': 2, 'trunk': 2, 'build': 2, 'dhorwitz@david-horwitz-6:~/branchManagemnt/sakai_2-5-x>': 4, '-c39753': 1, 'polls/': 1, 'polls/.classpath': 1, 'A': 2, 'polls/tool/src/java/org/sakaiproject/poll/tool/evolvers': 1, 'polls/tool/src/java/org/sakaiproject/poll/tool/evolvers/SakaiFCKTextEvolver.java': 1, 'C': 2, 'polls/tool/src/webapp/WEB-INF/requestContext.xml': 2, 'polls/tool/pom.xml': 1, 'resolved': 1, 'Resolved': 1, 'conflicted': 1, 'state': 1, \"'polls/tool/src/webapp/WEB-INF/requestContext.xml\": 1, '06:08:27': 4, '[141.211.14.98])': 1, 'casino.mail.umich.edu': 1, 'm04B8Qw9001368;': 1, '06:08:26': 1, '477E13A5.30FC0.24054': 1, '06:08:23': 1, '784A476D7B;': 1, '11:08:12': 1, '<200801041106.m04B6lK3006677@nakamura.uits.iupui.edu>': 1, '585': 1, '11:07:56': 1, '1CACC42D0C': 1, '11:07:58': 1, 'm04B6lWM006679': 1, '06:06:47': 3, 'm04B6lK3006677': 1, 'polls/trunk:': 1, '0.6948': 1, 'http://source.sakaiproject.org/viewsvn/?view=rev&rev=39753': 1, '06:05:51': 1, '39753': 1, 'polls/trunk/tool/src/java/org/sakaiproject/poll/tool/evolvers/': 1, 'polls/trunk/tool/src/java/org/sakaiproject/poll/tool/evolvers/SakaiFCKTextEvolver.java': 1, 'polls/trunk/.classpath': 1, 'polls/trunk/tool/pom.xml': 1, 'polls/trunk/tool/src/webapp/WEB-INF/requestContext.xml': 1, '04:49:08': 4, '[141.211.14.92])': 1, 'galaxyquest.mr.itd.umich.edu': 4, '(galaxyquest.mr.itd.umich.edu': 2, '[141.211.93.145])': 2, 'score.mail.umich.edu': 1, 'm049n60G017588;': 1, '04:49:06': 1, '477E010C.48C2.10259': 1, '04:49:03': 1, '254CC8CDEE;': 1, '09:48:55': 1, '<200801040947.m049lUxo006517@nakamura.uits.iupui.edu>': 1, '246': 1, '09:48:36': 1, '8C13342C92': 1, '09:48:40': 1, 'm049lU3P006519': 1, '04:47:30': 3, 'm049lUxo006517': 1, 'r39752': 1, 'podcasts/branches/sakai_2-5-x/podcasts-app/src/webapp:': 2, 'css': 2, 'podcasts': 2, '0.6528': 1, 'http://source.sakaiproject.org/viewsvn/?view=rev&rev=39752': 1, '04:47:16': 1, '39752': 1, 'podcasts/branches/sakai_2-5-x/podcasts-app/src/webapp/css/podcaster.css': 2, 'podcasts/branches/sakai_2-5-x/podcasts-app/src/webapp/podcasts/podMain.jsp': 2, '-r39641': 1, 'https://source.sakaiproject.org/svn/podcasts/trunk': 4, 'r39641': 1, 'josrodri@iupui.edu': 2, '2007-12-28': 1, '23:44:24': 1, '28': 1, 'SAK-9882:': 2, 'refactored': 2, 'podMain.jsp': 1, 'right': 1, 'way': 1, '(at': 1, 'least': 1, 'much': 1, 'closer': 1, 'to)': 1, '-c39641': 1, 'podcasts/': 2, 'podcasts/podcasts-app/src/webapp/podcasts/podMain.jsp': 2, 'podcasts/podcasts-app/src/webapp/css/podcaster.css': 2, 'merged': 1, 'manualy': 1, '04:33:44': 4, 'workinggirl.mr.itd.umich.edu': 2, '(workinggirl.mr.itd.umich.edu': 1, '[141.211.93.143])': 1, 'm049Xge3031803;': 1, '04:33:42': 1, '477DFD6C.75DBE.26054': 1, '04:33:35': 1, '6C929BA656;': 1, '09:33:27': 1, '<200801040932.m049W2i5006493@nakamura.uits.iupui.edu>': 1, '153': 1, '09:33:10': 1, '6C69423767': 1, '09:33:13': 1, 'm049W3fl006495': 1, '04:32:03': 1, 'm049W2i5006493': 1, '04:32:02': 2, 'r39751': 1, 'images': 1, 'http://source.sakaiproject.org/viewsvn/?view=rev&rev=39751': 1, '04:31:35': 1, '39751': 1, 'podcasts/branches/sakai_2-5-x/podcasts-app/src/webapp/images/rss-feed-icon.png': 1, 'podcasts/branches/sakai_2-5-x/podcasts-app/src/webapp/podcasts/podPermissions.jsp': 1, 'podcasts/branches/sakai_2-5-x/podcasts-app/src/webapp/podcasts/podDelete.jsp': 1, 'podcasts/branches/sakai_2-5-x/podcasts-app/src/webapp/podcasts/podNoResource.jsp': 1, 'podcasts/branches/sakai_2-5-x/podcasts-app/src/webapp/podcasts/podOptions.jsp': 1, '-r39146': 1, 'r39146': 1, '2007-12-12': 1, '21:40:33': 1, '(Wed,': 2, '12': 2, 'other': 1, 'pages': 1, 'as': 4, 'well': 2, 'take': 1, 'advantage': 1, 'proper': 1, 'jsp': 1, 'components': 1, 'validation': 1, 'cleanup.': 1, '-c39146': 1, 'D': 2, 'podcasts/podcasts-app/src/webapp/podcasts/podPermissions.jsp': 1, 'podcasts/podcasts-app/src/webapp/podcasts/podDelete.jsp': 1, 'podcasts/podcasts-app/src/webapp/podcasts/podNoResource.jsp': 1, 'podcasts/podcasts-app/src/webapp/podcasts/podOptions.jsp': 1, 'podcasts/podcasts-app/src/webapp/images/rss-feed-icon.png': 1, '04:07:34': 4, 'salemslot.mr.itd.umich.edu': 6, '(salemslot.mr.itd.umich.edu': 3, '[141.211.14.58])': 3, 'm0497WAN027902;': 1, '04:07:32': 1, '477DF74E.49493.30415': 1, '04:07:29': 1, '88598BA5B6;': 1, '09:07:19': 1, '<200801040905.m0495rWB006420@nakamura.uits.iupui.edu>': 1, '385': 1, '09:07:04': 2, '90636418A8': 1, 'm0495sZs006422': 1, '04:05:54': 1, 'm0495rWB006420': 1, '04:05:53': 2, 'r39750': 1, 'event/branches/SAK-6216/event-util/util/src/java/org/sakaiproject/util': 1, '0.7554': 1, 'http://source.sakaiproject.org/viewsvn/?view=rev&rev=39750': 1, '04:05:43': 1, '39750': 1, 'event/branches/SAK-6216/event-util/util/src/java/org/sakaiproject/util/EmailNotification.java': 1, 'SAK-6216': 1, 'event': 1, 'change': 1, 'SAK-11169': 1, '(r39033)': 1, 'synchronize': 1, 'branch': 1, '(for': 1, 'convenience': 1, 'UCT': 1, 'local': 1, 'build)': 1, 'Thu': 12, '19:51:21': 3, '[141.211.14.91])': 3, 'Thu,': 51, '03': 18, 'jacknife.mail.umich.edu': 3, 'm040pJHB027171;': 1, '19:51:19': 1, '477D8300.AC098.32562': 1, '19:51:15': 1, 'E6CC4B9F8A;': 1, '00:36:06': 1, '<200801040023.m040NpCc005473@nakamura.uits.iupui.edu>': 1, '754': 1, '00:35:43': 1, '8889842C49': 1, '00:25:00': 1, 'm040NpgM005475': 1, '19:23:51': 3, 'm040NpCc005473': 1, 'r39749': 1, '19:51:20': 1, '0.6956': 1, 'http://source.sakaiproject.org/viewsvn/?view=rev&rev=39749': 1, '2008-01-03': 6, '19:23:46': 1, '39749': 1, 'bspace/site-manage/sakai_2-4-x/site-manage-tool/tool/src/webapp/vm/sitesetup/chef_site-importSites.vm': 1, 'BSP-1420': 1, 'Update': 1, 'text': 2, 'clarify': 2, '\"Re-Use': 1, 'Materials...\"': 1, 'option': 2, 'WS': 1, 'Setup': 1, '17:18:23': 4, 'm03MIMXY027729;': 1, '17:18:22': 1, '477D5F23.797F6.16348': 1, '17:18:14': 1, 'EF439B98CE;': 1, '22:18:19': 1, '<200801032216.m03MGhDa005292@nakamura.uits.iupui.edu>': 1, '236': 1, '22:18:04': 1, '905D53C2FD': 1, '22:17:52': 1, 'm03MGhrs005294': 1, '17:16:43': 3, 'm03MGhDa005292': 1, 'r39746': 1, 'http://source.sakaiproject.org/viewsvn/?view=rev&rev=39746': 1, '17:16:39': 1, '39746': 1, 'bspace/site-manage/sakai_2-4-x/site-manage-tool/tool/src/webapp/vm/sitesetup/chef_site-siteInfo-duplicate.vm': 1, 'BSP-1421': 1, 'Add': 1, '\"Duplicate': 1, 'Site\"': 1, 'ray@media.berkeley.edu': 4, '17:07:00': 4, 'anniehall.mr.itd.umich.edu': 2, '(anniehall.mr.itd.umich.edu': 1, '[141.211.93.141])': 1, 'm03M6xaq014868;': 1, '17:06:59': 1, '477D5C7A.4FE1F.22211': 1, '17:06:53': 1, '0BC8D7225E;': 1, '22:06:57': 1, '<200801032205.m03M5Ea7005273@nakamura.uits.iupui.edu>': 1, '554': 1, '22:06:34': 1, '2AB513C2FD': 1, '22:06:23': 1, 'm03M5EQa005275': 1, '17:05:14': 3, 'm03M5Ea7005273': 1, 'r39745': 1, 'providers/trunk/cm/cm-authz-provider/src/java/org/sakaiproject/coursemanagement/impl/provider': 1, 'http://source.sakaiproject.org/viewsvn/?view=rev&rev=39745': 1, '17:05:11': 1, '39745': 1, 'providers/trunk/cm/cm-authz-provider/src/java/org/sakaiproject/coursemanagement/impl/provider/CourseManagementGroupProvider.java': 1, 'SAK-12602': 1, 'logic': 1, 'has': 1, 'multiple': 1, 'roles': 1, 'section': 1, '16:34:40': 4, '[141.211.14.34])': 1, 'chaos.mail.umich.edu': 1, 'm03LYdY1029538;': 1, '16:34:39': 1, '477D54EA.13F34.26602': 1, '16:34:36': 1, 'CC710ADC79;': 1, '21:34:29': 1, '<200801032133.m03LX3gG005191@nakamura.uits.iupui.edu>': 1, '21:34:08': 1, '43C4242B55': 1, '21:34:12': 1, 'm03LX3Vb005193': 1, '16:33:03': 3, 'm03LX3gG005191': 1, 'r39744': 1, 'oncourse/branches/oncourse_OPC_122007': 1, '0.9846': 1, 'http://source.sakaiproject.org/viewsvn/?view=rev&rev=39744': 1, '16:33:02': 1, '39744': 1, 'oncourse/branches/oncourse_OPC_122007/': 1, 'oncourse/branches/oncourse_OPC_122007/.externals': 1, 'update': 1, 'external': 1, 'GB.': 1, '16:29:07': 4, 'm03LT6uw027749;': 1, '16:29:06': 1, '477D5397.E161D.20326': 1, '16:28:58': 1, 'DEC65ADC79;': 1, '21:28:52': 1, '<200801032127.m03LRUqH005177@nakamura.uits.iupui.edu>': 1, '917': 1, '21:28:39': 1, '1FBB042B30': 1, '21:28:38': 1, 'm03LRUk4005179': 1, '16:27:30': 3, 'm03LRUqH005177': 1, 'r39743': 1, 'gradebook/branches/oncourse_2-4-2/app/ui/src/java/org/sakaiproject/tool/gradebook/ui': 2, '0.8509': 1, 'http://source.sakaiproject.org/viewsvn/?view=rev&rev=39743': 1, '16:27:29': 1, '39743': 1, 'gradebook/branches/oncourse_2-4-2/app/ui/src/java/org/sakaiproject/tool/gradebook/ui/RosterBean.java': 2, '-c': 2, '39403': 2, 'https://source.sakaiproject.org/svn/gradebook/trunk': 4, 'app/ui/src/java/org/sakaiproject/tool/gradebook/ui/RosterBean.java': 2, 'r39403': 1, '2007-12-17': 1, '17:11:08': 1, '(Mon,': 1, '17': 1, 'SAK-12504': 1, 'http://jira.sakaiproject.org/jira/browse/SAK-12504': 1, 'Viewing': 1, '\"All': 2, 'Grades\"': 2, 'page': 2, 'TA': 1, 'grader': 1, 'causes': 1, 'stack': 1, 'trace': 1, '16:23:48': 4, 'm03LNlf0002115;': 1, '16:23:47': 1, '477D525E.1448.30389': 1, '16:23:44': 1, '9D005B9D06;': 1, '21:23:38': 1, '<200801032122.m03LMFo4005148@nakamura.uits.iupui.edu>': 1, '6': 1, '21:23:24': 2, '3535542B69': 1, 'm03LMFtT005150': 1, '16:22:15': 3, 'm03LMFo4005148': 1, 'r39742': 1, '0.9907': 1, 'http://source.sakaiproject.org/viewsvn/?view=rev&rev=39742': 1, '16:22:14': 1, '39742': 1, '35014': 2, 'r35014': 1, '2007-09-12': 1, '16:17:59': 1, '-0400': 1, 'Sep': 1, 'SAK-11458': 1, 'http://bugs.sakaiproject.org/jira/browse/SAK-11458': 1, 'Course': 1, 'does': 1, 'appear': 1, 'no': 1, 'categories': 1}\n",
      "Jan 352\n"
     ]
    }
   ],
   "source": [
    "#short summary about dictionaries\n",
    "name=input('Enter file:')\n",
    "handle=open(name)\n",
    "\n",
    "counts=dict()\n",
    "for line in handle:\n",
    "    words=line.split()\n",
    "    for word in words:\n",
    "        counts[word]=counts.get(word,0)+1\n",
    "        \n",
    "print(counts)\n",
    "\n",
    "bigcount=None\n",
    "bigword=None\n",
    "for word,count in counts.items():\n",
    "    if bigcount is None or count> bigcount:\n",
    "        bigword=word\n",
    "        bigcount=count\n",
    "\n",
    "print(bigword,bigcount)"
   ]
  },
  {
   "cell_type": "code",
   "execution_count": 32,
   "metadata": {},
   "outputs": [
    {
     "ename": "KeyError",
     "evalue": "'candy'",
     "output_type": "error",
     "traceback": [
      "\u001b[0;31m---------------------------------------------------------------------------\u001b[0m",
      "\u001b[0;31mKeyError\u001b[0m                                  Traceback (most recent call last)",
      "\u001b[1;32m/workspaces/Python/PY4E_CLASS2_NOTE-2.ipynb Cell 18\u001b[0m line \u001b[0;36m2\n\u001b[1;32m      <a href='vscode-notebook-cell://codespaces%2Blegendary-space-parakeet-qrwrx777w6vc9xvg/workspaces/Python/PY4E_CLASS2_NOTE-2.ipynb#X24sdnNjb2RlLXJlbW90ZQ%3D%3D?line=0'>1</a>\u001b[0m stuff \u001b[39m=\u001b[39m \u001b[39mdict\u001b[39m()\n\u001b[0;32m----> <a href='vscode-notebook-cell://codespaces%2Blegendary-space-parakeet-qrwrx777w6vc9xvg/workspaces/Python/PY4E_CLASS2_NOTE-2.ipynb#X24sdnNjb2RlLXJlbW90ZQ%3D%3D?line=1'>2</a>\u001b[0m \u001b[39mprint\u001b[39m(stuff[\u001b[39m'\u001b[39;49m\u001b[39mcandy\u001b[39;49m\u001b[39m'\u001b[39;49m])\n",
      "\u001b[0;31mKeyError\u001b[0m: 'candy'"
     ]
    }
   ],
   "source": [
    "stuff = dict()\n",
    "print(stuff['candy'])"
   ]
  },
  {
   "cell_type": "code",
   "execution_count": 33,
   "metadata": {},
   "outputs": [
    {
     "name": "stdout",
     "output_type": "stream",
     "text": [
      "-1\n"
     ]
    }
   ],
   "source": [
    "stuff = dict()\n",
    "print(stuff.get('candy',-1))"
   ]
  },
  {
   "cell_type": "code",
   "execution_count": 34,
   "metadata": {},
   "outputs": [
    {
     "ename": "SyntaxError",
     "evalue": "invalid syntax (1515517171.py, line 5)",
     "output_type": "error",
     "traceback": [
      "\u001b[0;36m  Cell \u001b[0;32mIn[34], line 5\u001b[0;36m\u001b[0m\n\u001b[0;31m    ============\u001b[0m\n\u001b[0m    ^\u001b[0m\n\u001b[0;31mSyntaxError\u001b[0m\u001b[0;31m:\u001b[0m invalid syntax\n"
     ]
    }
   ],
   "source": [
    "#if key in counts:\n",
    "#    counts[key] = counts[key] + 1\n",
    "#else:\n",
    "#    counts[key] = 1\n",
    "============\n",
    "#counts[key]=counts.get(key,0)+1\n"
   ]
  },
  {
   "cell_type": "code",
   "execution_count": 43,
   "metadata": {},
   "outputs": [
    {
     "name": "stdout",
     "output_type": "stream",
     "text": [
      "cwen@iupui.edu 5\n"
     ]
    }
   ],
   "source": [
    "#Assignment 9.4\n",
    "\n",
    "name = input(\"Enter file:\")\n",
    "if len(name) < 1:\n",
    "    name = \"mbox-short.txt\"\n",
    "handle = open(name)\n",
    "\n",
    "lst = list()\n",
    "\n",
    "for line in handle:\n",
    "    if not line.startswith(\"From:\"): continue\n",
    "    line = line.split()\n",
    "    lst.append(line[1])\n",
    "\n",
    "counts = dict()\n",
    "for word in lst:\n",
    "    counts[word] = counts.get(word,0) + 1\n",
    "\n",
    "bigcount = None\n",
    "bigword = None\n",
    "for word,count in counts.items(): \n",
    "    if bigcount is None or count > bigcount:\n",
    "        bigcount = count\n",
    "        bigword = word\n",
    "\n",
    "print (bigword,bigcount)"
   ]
  },
  {
   "cell_type": "code",
   "execution_count": 3,
   "metadata": {},
   "outputs": [
    {
     "name": "stdout",
     "output_type": "stream",
     "text": [
      "fred\n",
      "99\n"
     ]
    }
   ],
   "source": [
    "#Tuples, Tuples are not changeable\n",
    "#Tuples are more Efficient\n",
    "(x,y)=(4,'fred')\n",
    "print(y)\n",
    "\n",
    "(a,b)=(99,98)\n",
    "print(a)"
   ]
  },
  {
   "cell_type": "code",
   "execution_count": 5,
   "metadata": {},
   "outputs": [
    {
     "name": "stdout",
     "output_type": "stream",
     "text": [
      "csev 2\n",
      "cwen 4\n",
      "dict_items([('csev', 2), ('cwen', 4)])\n"
     ]
    }
   ],
   "source": [
    "d=dict()\n",
    "d['csev']=2\n",
    "d['cwen']=4\n",
    "for(k,v)in d.items():\n",
    "    print(k,v)\n",
    "tups=d.items()\n",
    "print(tups)"
   ]
  },
  {
   "cell_type": "code",
   "execution_count": 11,
   "metadata": {},
   "outputs": [
    {
     "data": {
      "text/plain": [
       "[('a', 10), ('b', 1), ('c', 22)]"
      ]
     },
     "execution_count": 11,
     "metadata": {},
     "output_type": "execute_result"
    }
   ],
   "source": [
    "d={'a':10,'b':1,'c':22}\n",
    "d.items()\n",
    "\n",
    "sorted(d.items())\n",
    "\n",
    "#for k,v in sorted(d.items()):\n",
    "#    print(k,v)"
   ]
  },
  {
   "cell_type": "code",
   "execution_count": 14,
   "metadata": {},
   "outputs": [
    {
     "name": "stdout",
     "output_type": "stream",
     "text": [
      "[(10, 'a'), (1, 'b'), (22, 'c')]\n",
      "[(22, 'c'), (10, 'a'), (1, 'b')]\n"
     ]
    }
   ],
   "source": [
    "c={'a':10,'b':1,'c':22}\n",
    "tmp=list()\n",
    "#sor it by key\n",
    "for k,v in c.items():\n",
    "    tmp.append((v,k))\n",
    "print(tmp)\n",
    "\n",
    "# sort it by value\n",
    "tmp=sorted(tmp,reverse=True)\n",
    "print(tmp)"
   ]
  },
  {
   "cell_type": "code",
   "execution_count": 18,
   "metadata": {},
   "outputs": [
    {
     "name": "stdout",
     "output_type": "stream",
     "text": [
      "the 3\n",
      "is 3\n",
      "and 3\n",
      "sun 2\n",
      "yonder 1\n",
      "with 1\n",
      "window 1\n",
      "what 1\n",
      "through 1\n",
      "soft 1\n",
      "[(1, 'b'), (10, 'a'), (22, 'c')]\n"
     ]
    }
   ],
   "source": [
    "fhand=open('romeo.txt')\n",
    "counts=dict()\n",
    "for line in fhand:\n",
    "    words = line.split()\n",
    "    for word in words:\n",
    "        counts[word]=counts.get(word,0)+1\n",
    "\n",
    "lst=list()\n",
    "for k,v in counts.items():\n",
    "    newtup=(v,k)\n",
    "    lst.append(newtup)\n",
    "\n",
    "lst=sorted(lst, reverse=True)\n",
    "\n",
    "for v,k in lst[:10]:\n",
    "    print(k,v)\n",
    "\n",
    "#==================================\n",
    "c={'a':10,'b':1,'c':22}\n",
    "print(sorted([(v,k)for k,v in c.items()]))"
   ]
  },
  {
   "cell_type": "code",
   "execution_count": 20,
   "metadata": {},
   "outputs": [
    {
     "name": "stdout",
     "output_type": "stream",
     "text": [
      "dict_items([('chuck', 1), ('fred', 42), ('jan', 100)])\n"
     ]
    }
   ],
   "source": [
    "x = { 'chuck' : 1 , 'fred' : 42, 'jan': 100}\n",
    "y = x.items()\n",
    "print(y)"
   ]
  },
  {
   "cell_type": "code",
   "execution_count": 24,
   "metadata": {},
   "outputs": [
    {
     "name": "stdout",
     "output_type": "stream",
     "text": [
      "04 3\n",
      "06 1\n",
      "07 1\n",
      "09 2\n",
      "10 3\n",
      "11 6\n",
      "14 1\n",
      "15 2\n",
      "16 4\n",
      "17 2\n",
      "18 1\n",
      "19 1\n"
     ]
    }
   ],
   "source": [
    "#Assignment 10.2\n",
    "name = input(\"Enter file:\")\n",
    "if len(name) < 1 : name = \"mbox-short.txt\"\n",
    "handle = open(name)\n",
    "\n",
    "hcount = dict()                                     #create empty dictionary\n",
    "hlst = []                                           #create empty list\n",
    "\n",
    "for line in handle: \n",
    "    words = line.split()\n",
    "    if len(words) > 2 and words[0] == 'From':       #Select lines with 'From'\n",
    "        hr = words[5].split(':')                    #Select hour (5th index) and split string with colon\n",
    "        hcount[hr[0]] = hcount.get(hr[0], 0) + 1    #increase count for each hour\n",
    "    else:\n",
    "        continue\n",
    "\n",
    "for k,v in hcount.items():                           #k = hour, v = count\n",
    "    hlst.append((k,v))                               #append tuples to list\n",
    "\n",
    "hlst.sort()                                         #sort list by hour\n",
    "for k,v in hlst:                                    #loop through list of tuples\n",
    "    print(k,v)                                      #print counts sorted by hour"
   ]
  },
  {
   "cell_type": "code",
   "execution_count": 1,
   "metadata": {},
   "outputs": [],
   "source": []
  },
  {
   "cell_type": "code",
   "execution_count": 22,
   "metadata": {},
   "outputs": [
    {
     "name": "stdout",
     "output_type": "stream",
     "text": [
      "HTTP/1.1 200 OK\n",
      "Date: Thu, 28 Sep 2023 13:12:12 GMT\n",
      "Server: Apache/2.4.18 (Ubuntu)\n",
      "Last-Modified: Sat, 13 May 2017 11:22:22 GMT\n",
      "ETag: \"a7-54f6609245537\"\n",
      "Accept-Ranges: bytes\n",
      "Content-Length: 167\n",
      "Cache-Control: max-age=0, no-cache, no-store, must-revalidate\n",
      "Pragma: no-cache\n",
      "Expires: Wed, 11 Jan 1984 05:00:00 GMT\n",
      "Connection: close\n",
      "Content-Type: text/plain\n",
      "\n",
      "But soft what light through yonder window breaks\n",
      "It is the east and Juliet is the sun\n",
      "Arise fair sun and kill the envious moon\n",
      "Who is already s\n",
      "ick and pale with grief\n",
      "\n"
     ]
    }
   ],
   "source": []
  },
  {
   "cell_type": "code",
   "execution_count": 24,
   "metadata": {},
   "outputs": [
    {
     "name": "stdout",
     "output_type": "stream",
     "text": [
      "HTTP/1.1 400 Bad Request\n",
      "Date: Thu, 28 Sep 2023 13:14:06 GMT\n",
      "Server: Apache/2.4.18 (Ubuntu)\n",
      "Content-Length: 308\n",
      "Connection: close\n",
      "Content-Type: text/html; charset=iso-8859-1\n",
      "\n",
      "<!DOCTYPE HTML PUBLIC \"-//IETF//DTD HTML 2.0//EN\">\n",
      "<html><head>\n",
      "<title>400 Bad Request</title>\n",
      "</head><body>\n",
      "<h1>Bad Request</h1>\n",
      "<p>Your browser sent a request that this server could not understand.<br />\n",
      "</p>\n",
      "<hr>\n",
      "<address>Apache/2.4.18 (Ubuntu) Server at do1.dr-chuck.com Port 80</address>\n",
      "</body></html>\n",
      "\n"
     ]
    }
   ],
   "source": []
  },
  {
   "cell_type": "code",
   "execution_count": null,
   "metadata": {},
   "outputs": [],
   "source": []
  },
  {
   "cell_type": "code",
   "execution_count": null,
   "metadata": {},
   "outputs": [],
   "source": []
  }
 ],
 "metadata": {
  "kernelspec": {
   "display_name": "Python 3",
   "language": "python",
   "name": "python3"
  },
  "language_info": {
   "codemirror_mode": {
    "name": "ipython",
    "version": 3
   },
   "file_extension": ".py",
   "mimetype": "text/x-python",
   "name": "python",
   "nbconvert_exporter": "python",
   "pygments_lexer": "ipython3",
   "version": "3.10.8"
  },
  "orig_nbformat": 4
 },
 "nbformat": 4,
 "nbformat_minor": 2
}
