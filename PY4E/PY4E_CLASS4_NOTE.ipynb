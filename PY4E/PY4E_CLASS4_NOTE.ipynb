{
 "cells": [
  {
   "cell_type": "code",
   "execution_count": 12,
   "metadata": {},
   "outputs": [
    {
     "name": "stdout",
     "output_type": "stream",
     "text": [
      "I am constructed\n",
      "So far 1\n",
      "So far 2\n",
      "I am destructed 2\n",
      "an contains 42\n"
     ]
    }
   ],
   "source": [
    "class PartyAnimal:\n",
    "    x = 0\n",
    "    \n",
    "    def __init__(self):\n",
    "        print('I am constructed')\n",
    "    \n",
    "    def party(self):\n",
    "        self.x=self.x+1\n",
    "        print('So far',self.x)\n",
    "    \n",
    "    def __del__(self):\n",
    "        print('I am destructed',self.x)\n",
    "\n",
    "an=PartyAnimal()\n",
    "an.party()\n",
    "an.party()\n",
    "an=42\n",
    "print('an contains',an)"
   ]
  },
  {
   "cell_type": "code",
   "execution_count": 13,
   "metadata": {},
   "outputs": [
    {
     "name": "stdout",
     "output_type": "stream",
     "text": [
      "Sally constructed\n",
      "Jim constructed\n",
      "Sally party count 1\n",
      "Jim party count 1\n",
      "Sally party count 2\n"
     ]
    }
   ],
   "source": [
    "class PartyAnimal:\n",
    "   x = 0\n",
    "   name = ''\n",
    "   def __init__(self, nam):\n",
    "     self.name = nam\n",
    "     print(self.name,'constructed')\n",
    "\n",
    "   def party(self) :\n",
    "     self.x = self.x + 1\n",
    "     print(self.name,'party count',self.x)\n",
    "\n",
    "s = PartyAnimal('Sally')\n",
    "j = PartyAnimal('Jim')\n",
    "\n",
    "s.party()\n",
    "j.party()\n",
    "s.party()"
   ]
  },
  {
   "cell_type": "code",
   "execution_count": 1,
   "metadata": {},
   "outputs": [
    {
     "name": "stdout",
     "output_type": "stream",
     "text": [
      "Sally constructed\n",
      "Sally party count 1\n",
      "Jim constructed\n",
      "Jim party count 1\n",
      "Jim party count 2\n",
      "Jim points 7\n"
     ]
    }
   ],
   "source": [
    "class PartyAnimal:\n",
    "   x = 0\n",
    "   name = ''\n",
    "   def __init__(self, nam):\n",
    "     self.name = nam\n",
    "     print(self.name,'constructed')\n",
    "\n",
    "   def party(self) :\n",
    "     self.x = self.x + 1\n",
    "     print(self.name,'party count',self.x)\n",
    "\n",
    "class FootballFan(PartyAnimal):\n",
    "  points=0\n",
    "  def touchdown(self):\n",
    "    self.points=self.points+7\n",
    "    self.party()\n",
    "    print(self.name,\"points\",self.points)\n",
    "\n",
    "s=PartyAnimal(\"Sally\")\n",
    "s.party()\n",
    "\n",
    "j=FootballFan(\"Jim\")\n",
    "j.party()\n",
    "j.touchdown()"
   ]
  },
  {
   "cell_type": "code",
   "execution_count": null,
   "metadata": {},
   "outputs": [],
   "source": []
  }
 ],
 "metadata": {
  "kernelspec": {
   "display_name": "Python 3",
   "language": "python",
   "name": "python3"
  },
  "language_info": {
   "codemirror_mode": {
    "name": "ipython",
    "version": 3
   },
   "file_extension": ".py",
   "mimetype": "text/x-python",
   "name": "python",
   "nbconvert_exporter": "python",
   "pygments_lexer": "ipython3",
   "version": "3.11.6"
  }
 },
 "nbformat": 4,
 "nbformat_minor": 2
}
