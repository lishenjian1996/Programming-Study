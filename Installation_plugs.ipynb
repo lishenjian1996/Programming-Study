{
 "cells": [
  {
   "cell_type": "code",
   "execution_count": null,
   "metadata": {},
   "outputs": [],
   "source": [
    "pip install --upgrade pip"
   ]
  },
  {
   "cell_type": "code",
   "execution_count": null,
   "metadata": {},
   "outputs": [],
   "source": [
    "pip install beautifulsoup4"
   ]
  },
  {
   "cell_type": "code",
   "execution_count": null,
   "metadata": {},
   "outputs": [],
   "source": [
    "pip install numpy"
   ]
  },
  {
   "cell_type": "code",
   "execution_count": null,
   "metadata": {},
   "outputs": [],
   "source": [
    "pip install Pillow"
   ]
  },
  {
   "cell_type": "code",
   "execution_count": null,
   "metadata": {},
   "outputs": [],
   "source": [
    "pip install pandas"
   ]
  },
  {
   "cell_type": "code",
   "execution_count": null,
   "metadata": {},
   "outputs": [],
   "source": [
    "pip install pyscenic"
   ]
  },
  {
   "cell_type": "code",
   "execution_count": null,
   "metadata": {},
   "outputs": [],
   "source": [
    "pip install scipy"
   ]
  },
  {
   "cell_type": "markdown",
   "metadata": {},
   "source": [
    "# For creating graph (g = nx.Graph())"
   ]
  },
  {
   "cell_type": "code",
   "execution_count": null,
   "metadata": {},
   "outputs": [],
   "source": [
    "pip install Networkx"
   ]
  },
  {
   "cell_type": "code",
   "execution_count": null,
   "metadata": {},
   "outputs": [],
   "source": [
    "pip install pydot"
   ]
  },
  {
   "cell_type": "code",
   "execution_count": null,
   "metadata": {},
   "outputs": [],
   "source": [
    "pip install graphviz"
   ]
  },
  {
   "cell_type": "code",
   "execution_count": null,
   "metadata": {},
   "outputs": [],
   "source": [
    "# if  [WinError 2] \"dot\" not found in path.\n",
    "#Download: https://www.graphviz.org/download/"
   ]
  },
  {
   "cell_type": "markdown",
   "metadata": {},
   "source": [
    "# For drawing graph (nx.draw_networkx(g))"
   ]
  },
  {
   "cell_type": "code",
   "execution_count": null,
   "metadata": {},
   "outputs": [],
   "source": [
    "pip install matplotlib"
   ]
  },
  {
   "cell_type": "code",
   "execution_count": null,
   "metadata": {},
   "outputs": [],
   "source": [
    "pip install lxml"
   ]
  },
  {
   "cell_type": "code",
   "execution_count": null,
   "metadata": {},
   "outputs": [],
   "source": [
    "pip install html5lib"
   ]
  },
  {
   "cell_type": "code",
   "execution_count": null,
   "metadata": {},
   "outputs": [],
   "source": [
    "pip install ipympl"
   ]
  },
  {
   "cell_type": "code",
   "execution_count": null,
   "metadata": {},
   "outputs": [],
   "source": [
    "pip install scikit-learn"
   ]
  },
  {
   "cell_type": "code",
   "execution_count": null,
   "metadata": {},
   "outputs": [],
   "source": [
    "pip install utils"
   ]
  },
  {
   "cell_type": "code",
   "execution_count": null,
   "metadata": {},
   "outputs": [],
   "source": [
    "pip install seaborn"
   ]
  },
  {
   "cell_type": "markdown",
   "metadata": {},
   "source": [
    "#Download and install nodejs from https://nodejs.org/en/"
   ]
  },
  {
   "cell_type": "code",
   "execution_count": null,
   "metadata": {},
   "outputs": [],
   "source": [
    "pip install ipywidgets"
   ]
  },
  {
   "cell_type": "code",
   "execution_count": null,
   "metadata": {},
   "outputs": [],
   "source": [
    "pip install peakutils"
   ]
  },
  {
   "cell_type": "markdown",
   "metadata": {},
   "source": [
    "openai for Generative AI purpose (ChatGPT)"
   ]
  },
  {
   "cell_type": "code",
   "execution_count": null,
   "metadata": {},
   "outputs": [],
   "source": [
    "pip install openai"
   ]
  },
  {
   "cell_type": "markdown",
   "metadata": {},
   "source": [
    "Tensorflow for machine learning"
   ]
  },
  {
   "cell_type": "code",
   "execution_count": null,
   "metadata": {},
   "outputs": [],
   "source": [
    "#pip install tensorflow"
   ]
  },
  {
   "cell_type": "markdown",
   "metadata": {},
   "source": [
    "sympy for calculus calculation"
   ]
  },
  {
   "cell_type": "code",
   "execution_count": null,
   "metadata": {},
   "outputs": [],
   "source": [
    "pip install sympy"
   ]
  },
  {
   "cell_type": "code",
   "execution_count": null,
   "metadata": {},
   "outputs": [],
   "source": [
    "pip install nbconvert\n"
   ]
  },
  {
   "cell_type": "code",
   "execution_count": null,
   "metadata": {},
   "outputs": [],
   "source": [
    "pip install xgboost"
   ]
  },
  {
   "cell_type": "code",
   "execution_count": null,
   "metadata": {},
   "outputs": [],
   "source": [
    "pip install tabulate"
   ]
  },
  {
   "cell_type": "code",
   "execution_count": null,
   "metadata": {},
   "outputs": [],
   "source": [
    "pip install plotly"
   ]
  },
  {
   "cell_type": "code",
   "execution_count": null,
   "metadata": {},
   "outputs": [],
   "source": [
    "pip install nbformat"
   ]
  },
  {
   "cell_type": "code",
   "execution_count": null,
   "metadata": {},
   "outputs": [],
   "source": [
    "pip install gym"
   ]
  },
  {
   "cell_type": "markdown",
   "metadata": {},
   "source": [
    "Download swig for install box2d: "
   ]
  },
  {
   "cell_type": "code",
   "execution_count": null,
   "metadata": {},
   "outputs": [],
   "source": [
    "pip install swig"
   ]
  },
  {
   "cell_type": "code",
   "execution_count": null,
   "metadata": {},
   "outputs": [],
   "source": [
    "pip install wheel setuptools pip --upgrade"
   ]
  },
  {
   "cell_type": "markdown",
   "metadata": {},
   "source": [
    "Install Microsoft C++ Build tool, such as: Microsoft Visual C++ Redistributable for Visual Studio 2022 (https://visualstudio.microsoft.com/downloads/)"
   ]
  },
  {
   "cell_type": "code",
   "execution_count": null,
   "metadata": {},
   "outputs": [],
   "source": [
    "pip install box2d box2d-kengz"
   ]
  },
  {
   "cell_type": "code",
   "execution_count": null,
   "metadata": {},
   "outputs": [],
   "source": [
    "pip install imageio"
   ]
  },
  {
   "cell_type": "code",
   "execution_count": null,
   "metadata": {},
   "outputs": [],
   "source": [
    "pip install pyvirtualdisplay"
   ]
  },
  {
   "cell_type": "code",
   "execution_count": null,
   "metadata": {},
   "outputs": [],
   "source": [
    "pip install ffmpeg"
   ]
  },
  {
   "cell_type": "code",
   "execution_count": null,
   "metadata": {},
   "outputs": [],
   "source": [
    "pip install xvfbwrapper"
   ]
  },
  {
   "cell_type": "code",
   "execution_count": null,
   "metadata": {},
   "outputs": [],
   "source": [
    "pip install statsmodels"
   ]
  },
  {
   "cell_type": "code",
   "execution_count": null,
   "metadata": {},
   "outputs": [],
   "source": [
    "pip install numpy pandas arch"
   ]
  },
  {
   "cell_type": "code",
   "execution_count": null,
   "metadata": {},
   "outputs": [],
   "source": [
    "pip install factor-analyzer"
   ]
  },
  {
   "cell_type": "code",
   "execution_count": null,
   "metadata": {},
   "outputs": [],
   "source": [
    "pip install Cmake"
   ]
  },
  {
   "cell_type": "code",
   "execution_count": null,
   "metadata": {},
   "outputs": [],
   "source": [
    "pip install cvxpy"
   ]
  },
  {
   "cell_type": "code",
   "execution_count": null,
   "metadata": {},
   "outputs": [],
   "source": [
    "pip install openpyxl"
   ]
  },
  {
   "cell_type": "code",
   "execution_count": null,
   "metadata": {},
   "outputs": [],
   "source": [
    "pip install xlsxwriter"
   ]
  },
  {
   "cell_type": "code",
   "execution_count": null,
   "metadata": {},
   "outputs": [],
   "source": [
    "pip install xlrd"
   ]
  },
  {
   "cell_type": "code",
   "execution_count": null,
   "metadata": {},
   "outputs": [],
   "source": [
    "pip install radian"
   ]
  },
  {
   "cell_type": "markdown",
   "metadata": {},
   "source": [
    "#use for CUSIP code convert to RIC, do not upgrade, it would not work pip install rpds-py==0.5.3"
   ]
  },
  {
   "cell_type": "code",
   "execution_count": null,
   "metadata": {},
   "outputs": [],
   "source": [
    "pip install rpds\n"
   ]
  },
  {
   "cell_type": "markdown",
   "metadata": {},
   "source": [
    "#use for CUSIP code convert to RIC, do not upgrade, it would not work pip install rpds-py==0.18.1 \n"
   ]
  },
  {
   "cell_type": "code",
   "execution_count": null,
   "metadata": {},
   "outputs": [],
   "source": [
    "pip install rpds-py==0.18.1 "
   ]
  },
  {
   "cell_type": "code",
   "execution_count": null,
   "metadata": {},
   "outputs": [],
   "source": [
    "pip install ace_tools"
   ]
  },
  {
   "cell_type": "code",
   "execution_count": null,
   "metadata": {},
   "outputs": [],
   "source": [
    "pip install tqdm"
   ]
  },
  {
   "cell_type": "code",
   "execution_count": null,
   "metadata": {},
   "outputs": [],
   "source": [
    "pip install dask"
   ]
  },
  {
   "cell_type": "code",
   "execution_count": null,
   "metadata": {},
   "outputs": [],
   "source": [
    "pip install dask[complete] distributed"
   ]
  },
  {
   "cell_type": "code",
   "execution_count": null,
   "metadata": {},
   "outputs": [],
   "source": [
    "pip install pyspark"
   ]
  },
  {
   "cell_type": "code",
   "execution_count": null,
   "metadata": {},
   "outputs": [],
   "source": [
    "pip install pyspark findspark\n"
   ]
  },
  {
   "cell_type": "code",
   "execution_count": null,
   "metadata": {},
   "outputs": [],
   "source": [
    "pip install pandoc"
   ]
  },
  {
   "cell_type": "code",
   "execution_count": null,
   "metadata": {},
   "outputs": [],
   "source": [
    "pip install linearmodels"
   ]
  },
  {
   "cell_type": "code",
   "execution_count": null,
   "metadata": {},
   "outputs": [],
   "source": [
    "pip install lightgbm"
   ]
  },
  {
   "cell_type": "code",
   "execution_count": null,
   "metadata": {},
   "outputs": [],
   "source": [
    "pip install shap\n"
   ]
  },
  {
   "cell_type": "code",
   "execution_count": null,
   "metadata": {},
   "outputs": [],
   "source": [
    "#pip install tensorflow==2.10.0"
   ]
  },
  {
   "cell_type": "code",
   "execution_count": null,
   "metadata": {},
   "outputs": [],
   "source": [
    "import tensorflow as tf\n",
    "print(tf.__version__)  # 应该输出 2.10.0\n"
   ]
  },
  {
   "cell_type": "code",
   "execution_count": null,
   "metadata": {},
   "outputs": [],
   "source": [
    "print(\"Num GPUs Available: \", len(tf.config.experimental.list_physical_devices('GPU')))\n"
   ]
  },
  {
   "cell_type": "code",
   "execution_count": null,
   "metadata": {},
   "outputs": [],
   "source": [
    "from tensorflow.python.client import device_lib\n",
    "print(device_lib.list_local_devices())\n"
   ]
  },
  {
   "cell_type": "code",
   "execution_count": null,
   "metadata": {},
   "outputs": [],
   "source": [
    "pip install dmpy\n"
   ]
  },
  {
   "cell_type": "code",
   "execution_count": null,
   "metadata": {},
   "outputs": [],
   "source": [
    "pip install keras==2.10.0\n"
   ]
  },
  {
   "cell_type": "code",
   "execution_count": null,
   "metadata": {},
   "outputs": [],
   "source": [
    "pip install torch torchvision torchaudio --index-url https://download.pytorch.org/whl/cu118\n"
   ]
  },
  {
   "cell_type": "code",
   "execution_count": null,
   "metadata": {},
   "outputs": [],
   "source": [
    "pip install pikepdf"
   ]
  },
  {
   "cell_type": "code",
   "execution_count": null,
   "metadata": {},
   "outputs": [],
   "source": [
    "pip install pdfplumber"
   ]
  },
  {
   "cell_type": "code",
   "execution_count": null,
   "metadata": {},
   "outputs": [],
   "source": [
    "pip install PyMuPDF"
   ]
  },
  {
   "cell_type": "code",
   "execution_count": null,
   "metadata": {},
   "outputs": [],
   "source": [
    "pip install edgar"
   ]
  },
  {
   "cell_type": "code",
   "execution_count": null,
   "metadata": {},
   "outputs": [],
   "source": [
    "pip install requests beautifulsoup4 selenium"
   ]
  },
  {
   "cell_type": "code",
   "execution_count": null,
   "metadata": {},
   "outputs": [],
   "source": [
    "pip install Playwright"
   ]
  },
  {
   "cell_type": "code",
   "execution_count": null,
   "metadata": {},
   "outputs": [],
   "source": [
    "pip install selenium_stealth"
   ]
  },
  {
   "cell_type": "code",
   "execution_count": null,
   "metadata": {},
   "outputs": [],
   "source": [
    "pip install undetected-chromedriver\n"
   ]
  },
  {
   "cell_type": "code",
   "execution_count": null,
   "metadata": {},
   "outputs": [],
   "source": [
    "pip install eikon\n"
   ]
  },
  {
   "cell_type": "code",
   "execution_count": null,
   "metadata": {},
   "outputs": [],
   "source": [
    "pip install sas7bdat"
   ]
  },
  {
   "cell_type": "code",
   "execution_count": 3,
   "metadata": {},
   "outputs": [
    {
     "name": "stdout",
     "output_type": "stream",
     "text": [
      "Collecting spacy\n",
      "  Downloading spacy-3.8.2-cp39-cp39-win_amd64.whl.metadata (27 kB)\n",
      "Collecting spacy-legacy<3.1.0,>=3.0.11 (from spacy)\n",
      "  Using cached spacy_legacy-3.0.12-py2.py3-none-any.whl.metadata (2.8 kB)\n",
      "Collecting spacy-loggers<2.0.0,>=1.0.0 (from spacy)\n",
      "  Using cached spacy_loggers-1.0.5-py3-none-any.whl.metadata (23 kB)\n",
      "Collecting murmurhash<1.1.0,>=0.28.0 (from spacy)\n",
      "  Downloading murmurhash-1.0.10-cp39-cp39-win_amd64.whl.metadata (2.0 kB)\n",
      "Collecting cymem<2.1.0,>=2.0.2 (from spacy)\n",
      "  Downloading cymem-2.0.8-cp39-cp39-win_amd64.whl.metadata (8.6 kB)\n",
      "Collecting preshed<3.1.0,>=3.0.2 (from spacy)\n",
      "  Downloading preshed-3.0.9-cp39-cp39-win_amd64.whl.metadata (2.2 kB)\n",
      "Collecting thinc<8.4.0,>=8.3.0 (from spacy)\n",
      "  Downloading thinc-8.3.2-cp39-cp39-win_amd64.whl.metadata (15 kB)\n",
      "Collecting wasabi<1.2.0,>=0.9.1 (from spacy)\n",
      "  Using cached wasabi-1.1.3-py3-none-any.whl.metadata (28 kB)\n",
      "Collecting srsly<3.0.0,>=2.4.3 (from spacy)\n",
      "  Downloading srsly-2.4.8-cp39-cp39-win_amd64.whl.metadata (20 kB)\n",
      "Collecting catalogue<2.1.0,>=2.0.6 (from spacy)\n",
      "  Using cached catalogue-2.0.10-py3-none-any.whl.metadata (14 kB)\n",
      "Collecting weasel<0.5.0,>=0.1.0 (from spacy)\n",
      "  Using cached weasel-0.4.1-py3-none-any.whl.metadata (4.6 kB)\n",
      "Collecting typer<1.0.0,>=0.3.0 (from spacy)\n",
      "  Downloading typer-0.13.1-py3-none-any.whl.metadata (15 kB)\n",
      "Requirement already satisfied: tqdm<5.0.0,>=4.38.0 in c:\\users\\lishe\\anaconda3\\envs\\tensorflow_env\\lib\\site-packages (from spacy) (4.66.5)\n",
      "Requirement already satisfied: requests<3.0.0,>=2.13.0 in c:\\users\\lishe\\anaconda3\\envs\\tensorflow_env\\lib\\site-packages (from spacy) (2.32.3)\n",
      "Requirement already satisfied: pydantic!=1.8,!=1.8.1,<3.0.0,>=1.7.4 in c:\\users\\lishe\\anaconda3\\envs\\tensorflow_env\\lib\\site-packages (from spacy) (2.9.2)\n",
      "Requirement already satisfied: jinja2 in c:\\users\\lishe\\anaconda3\\envs\\tensorflow_env\\lib\\site-packages (from spacy) (3.1.4)\n",
      "Requirement already satisfied: setuptools in c:\\users\\lishe\\anaconda3\\envs\\tensorflow_env\\lib\\site-packages (from spacy) (75.1.0)\n",
      "Requirement already satisfied: packaging>=20.0 in c:\\users\\lishe\\anaconda3\\envs\\tensorflow_env\\lib\\site-packages (from spacy) (24.1)\n",
      "Collecting langcodes<4.0.0,>=3.2.0 (from spacy)\n",
      "  Downloading langcodes-3.5.0-py3-none-any.whl.metadata (29 kB)\n",
      "Requirement already satisfied: numpy>=1.19.0 in c:\\users\\lishe\\anaconda3\\envs\\tensorflow_env\\lib\\site-packages (from spacy) (1.26.4)\n",
      "Collecting language-data>=1.2 (from langcodes<4.0.0,>=3.2.0->spacy)\n",
      "  Downloading language_data-1.3.0-py3-none-any.whl.metadata (4.3 kB)\n",
      "Requirement already satisfied: annotated-types>=0.6.0 in c:\\users\\lishe\\anaconda3\\envs\\tensorflow_env\\lib\\site-packages (from pydantic!=1.8,!=1.8.1,<3.0.0,>=1.7.4->spacy) (0.7.0)\n",
      "Requirement already satisfied: pydantic-core==2.23.4 in c:\\users\\lishe\\anaconda3\\envs\\tensorflow_env\\lib\\site-packages (from pydantic!=1.8,!=1.8.1,<3.0.0,>=1.7.4->spacy) (2.23.4)\n",
      "Requirement already satisfied: typing-extensions>=4.6.1 in c:\\users\\lishe\\anaconda3\\envs\\tensorflow_env\\lib\\site-packages (from pydantic!=1.8,!=1.8.1,<3.0.0,>=1.7.4->spacy) (4.12.2)\n",
      "Requirement already satisfied: charset-normalizer<4,>=2 in c:\\users\\lishe\\anaconda3\\envs\\tensorflow_env\\lib\\site-packages (from requests<3.0.0,>=2.13.0->spacy) (3.4.0)\n",
      "Requirement already satisfied: idna<4,>=2.5 in c:\\users\\lishe\\anaconda3\\envs\\tensorflow_env\\lib\\site-packages (from requests<3.0.0,>=2.13.0->spacy) (3.10)\n",
      "Requirement already satisfied: urllib3<3,>=1.21.1 in c:\\users\\lishe\\anaconda3\\envs\\tensorflow_env\\lib\\site-packages (from requests<3.0.0,>=2.13.0->spacy) (2.2.3)\n",
      "Requirement already satisfied: certifi>=2017.4.17 in c:\\users\\lishe\\anaconda3\\envs\\tensorflow_env\\lib\\site-packages (from requests<3.0.0,>=2.13.0->spacy) (2024.8.30)\n",
      "Collecting blis<1.1.0,>=1.0.0 (from thinc<8.4.0,>=8.3.0->spacy)\n",
      "  Downloading blis-1.0.1-cp39-cp39-win_amd64.whl.metadata (7.8 kB)\n",
      "Collecting confection<1.0.0,>=0.0.1 (from thinc<8.4.0,>=8.3.0->spacy)\n",
      "  Using cached confection-0.1.5-py3-none-any.whl.metadata (19 kB)\n",
      "Collecting numpy>=1.19.0 (from spacy)\n",
      "  Downloading numpy-2.0.2-cp39-cp39-win_amd64.whl.metadata (59 kB)\n",
      "Requirement already satisfied: colorama in c:\\users\\lishe\\anaconda3\\envs\\tensorflow_env\\lib\\site-packages (from tqdm<5.0.0,>=4.38.0->spacy) (0.4.6)\n",
      "Requirement already satisfied: click>=8.0.0 in c:\\users\\lishe\\anaconda3\\envs\\tensorflow_env\\lib\\site-packages (from typer<1.0.0,>=0.3.0->spacy) (8.1.7)\n",
      "Collecting shellingham>=1.3.0 (from typer<1.0.0,>=0.3.0->spacy)\n",
      "  Using cached shellingham-1.5.4-py2.py3-none-any.whl.metadata (3.5 kB)\n",
      "Requirement already satisfied: rich>=10.11.0 in c:\\users\\lishe\\anaconda3\\envs\\tensorflow_env\\lib\\site-packages (from typer<1.0.0,>=0.3.0->spacy) (13.9.2)\n",
      "Collecting cloudpathlib<1.0.0,>=0.7.0 (from weasel<0.5.0,>=0.1.0->spacy)\n",
      "  Using cached cloudpathlib-0.20.0-py3-none-any.whl.metadata (14 kB)\n",
      "Collecting smart-open<8.0.0,>=5.2.1 (from weasel<0.5.0,>=0.1.0->spacy)\n",
      "  Using cached smart_open-7.0.5-py3-none-any.whl.metadata (24 kB)\n",
      "Requirement already satisfied: MarkupSafe>=2.0 in c:\\users\\lishe\\anaconda3\\envs\\tensorflow_env\\lib\\site-packages (from jinja2->spacy) (3.0.1)\n",
      "Collecting marisa-trie>=1.1.0 (from language-data>=1.2->langcodes<4.0.0,>=3.2.0->spacy)\n",
      "  Downloading marisa_trie-1.2.1-cp39-cp39-win_amd64.whl.metadata (9.3 kB)\n",
      "Requirement already satisfied: markdown-it-py>=2.2.0 in c:\\users\\lishe\\anaconda3\\envs\\tensorflow_env\\lib\\site-packages (from rich>=10.11.0->typer<1.0.0,>=0.3.0->spacy) (3.0.0)\n",
      "Requirement already satisfied: pygments<3.0.0,>=2.13.0 in c:\\users\\lishe\\anaconda3\\envs\\tensorflow_env\\lib\\site-packages (from rich>=10.11.0->typer<1.0.0,>=0.3.0->spacy) (2.18.0)\n",
      "Requirement already satisfied: wrapt in c:\\users\\lishe\\anaconda3\\envs\\tensorflow_env\\lib\\site-packages (from smart-open<8.0.0,>=5.2.1->weasel<0.5.0,>=0.1.0->spacy) (1.16.0)\n",
      "Requirement already satisfied: mdurl~=0.1 in c:\\users\\lishe\\anaconda3\\envs\\tensorflow_env\\lib\\site-packages (from markdown-it-py>=2.2.0->rich>=10.11.0->typer<1.0.0,>=0.3.0->spacy) (0.1.2)\n",
      "Downloading spacy-3.8.2-cp39-cp39-win_amd64.whl (12.3 MB)\n",
      "   ---------------------------------------- 0.0/12.3 MB ? eta -:--:--\n",
      "   ------ --------------------------------- 2.1/12.3 MB 13.0 MB/s eta 0:00:01\n",
      "   ---------- ----------------------------- 3.1/12.3 MB 7.7 MB/s eta 0:00:02\n",
      "   ----------- ---------------------------- 3.7/12.3 MB 5.9 MB/s eta 0:00:02\n",
      "   ------------- -------------------------- 4.2/12.3 MB 6.4 MB/s eta 0:00:02\n",
      "   ---------------------- ----------------- 6.8/12.3 MB 6.7 MB/s eta 0:00:01\n",
      "   ------------------------ --------------- 7.6/12.3 MB 6.1 MB/s eta 0:00:01\n",
      "   --------------------------- ------------ 8.4/12.3 MB 6.4 MB/s eta 0:00:01\n",
      "   --------------------------------- ------ 10.2/12.3 MB 6.3 MB/s eta 0:00:01\n",
      "   ------------------------------------ --- 11.3/12.3 MB 6.1 MB/s eta 0:00:01\n",
      "   ---------------------------------------- 12.3/12.3 MB 6.3 MB/s eta 0:00:00\n",
      "Using cached catalogue-2.0.10-py3-none-any.whl (17 kB)\n",
      "Downloading cymem-2.0.8-cp39-cp39-win_amd64.whl (39 kB)\n",
      "Downloading langcodes-3.5.0-py3-none-any.whl (182 kB)\n",
      "Downloading murmurhash-1.0.10-cp39-cp39-win_amd64.whl (25 kB)\n",
      "Downloading preshed-3.0.9-cp39-cp39-win_amd64.whl (122 kB)\n",
      "Using cached spacy_legacy-3.0.12-py2.py3-none-any.whl (29 kB)\n",
      "Using cached spacy_loggers-1.0.5-py3-none-any.whl (22 kB)\n",
      "Downloading srsly-2.4.8-cp39-cp39-win_amd64.whl (483 kB)\n",
      "Downloading thinc-8.3.2-cp39-cp39-win_amd64.whl (1.5 MB)\n",
      "   ---------------------------------------- 0.0/1.5 MB ? eta -:--:--\n",
      "   ---------------------------------------- 1.5/1.5 MB 11.4 MB/s eta 0:00:00\n",
      "Downloading numpy-2.0.2-cp39-cp39-win_amd64.whl (15.9 MB)\n",
      "   ---------------------------------------- 0.0/15.9 MB ? eta -:--:--\n",
      "   ----- ---------------------------------- 2.4/15.9 MB 11.2 MB/s eta 0:00:02\n",
      "   ----------- ---------------------------- 4.7/15.9 MB 11.4 MB/s eta 0:00:01\n",
      "   ----------------- ---------------------- 7.1/15.9 MB 11.8 MB/s eta 0:00:01\n",
      "   ----------------------- ---------------- 9.4/15.9 MB 11.7 MB/s eta 0:00:01\n",
      "   ----------------------------- ---------- 11.8/15.9 MB 11.7 MB/s eta 0:00:01\n",
      "   ------------------------------------ --- 14.4/15.9 MB 11.8 MB/s eta 0:00:01\n",
      "   ---------------------------------------- 15.9/15.9 MB 11.5 MB/s eta 0:00:00\n",
      "Downloading typer-0.13.1-py3-none-any.whl (44 kB)\n",
      "Using cached wasabi-1.1.3-py3-none-any.whl (27 kB)\n",
      "Using cached weasel-0.4.1-py3-none-any.whl (50 kB)\n",
      "Downloading blis-1.0.1-cp39-cp39-win_amd64.whl (6.4 MB)\n",
      "   ---------------------------------------- 0.0/6.4 MB ? eta -:--:--\n",
      "   ------ --------------------------------- 1.0/6.4 MB 12.5 MB/s eta 0:00:01\n",
      "   ------------------ --------------------- 2.9/6.4 MB 7.3 MB/s eta 0:00:01\n",
      "   ----------------------- ---------------- 3.7/6.4 MB 6.1 MB/s eta 0:00:01\n",
      "   -------------------------------- ------- 5.2/6.4 MB 7.1 MB/s eta 0:00:01\n",
      "   ---------------------------------------- 6.4/6.4 MB 6.3 MB/s eta 0:00:00\n",
      "Using cached cloudpathlib-0.20.0-py3-none-any.whl (52 kB)\n",
      "Using cached confection-0.1.5-py3-none-any.whl (35 kB)\n",
      "Downloading language_data-1.3.0-py3-none-any.whl (5.4 MB)\n",
      "   ---------------------------------------- 0.0/5.4 MB ? eta -:--:--\n",
      "   ----------------- ---------------------- 2.4/5.4 MB 12.2 MB/s eta 0:00:01\n",
      "   ----------------------------------- ---- 4.7/5.4 MB 11.9 MB/s eta 0:00:01\n",
      "   ---------------------------------------- 5.4/5.4 MB 11.3 MB/s eta 0:00:00\n",
      "Using cached shellingham-1.5.4-py2.py3-none-any.whl (9.8 kB)\n",
      "Using cached smart_open-7.0.5-py3-none-any.whl (61 kB)\n",
      "Downloading marisa_trie-1.2.1-cp39-cp39-win_amd64.whl (152 kB)\n",
      "Installing collected packages: cymem, wasabi, spacy-loggers, spacy-legacy, smart-open, shellingham, numpy, murmurhash, marisa-trie, cloudpathlib, catalogue, srsly, preshed, language-data, blis, typer, langcodes, confection, weasel, thinc, spacy\n",
      "  Attempting uninstall: numpy\n",
      "    Found existing installation: numpy 1.26.4\n",
      "    Uninstalling numpy-1.26.4:\n",
      "      Successfully uninstalled numpy-1.26.4\n",
      "Successfully installed blis-1.0.1 catalogue-2.0.10 cloudpathlib-0.20.0 confection-0.1.5 cymem-2.0.8 langcodes-3.5.0 language-data-1.3.0 marisa-trie-1.2.1 murmurhash-1.0.10 numpy-2.0.2 preshed-3.0.9 shellingham-1.5.4 smart-open-7.0.5 spacy-3.8.2 spacy-legacy-3.0.12 spacy-loggers-1.0.5 srsly-2.4.8 thinc-8.3.2 typer-0.13.1 wasabi-1.1.3 weasel-0.4.1\n",
      "Note: you may need to restart the kernel to use updated packages.\n"
     ]
    },
    {
     "name": "stderr",
     "output_type": "stream",
     "text": [
      "  WARNING: Failed to remove contents in a temporary directory 'C:\\Users\\lishe\\AppData\\Local\\Temp\\pip-uninstall-anehbgkx'.\n",
      "  You can safely remove it manually.\n",
      "  WARNING: Failed to remove contents in a temporary directory 'C:\\Users\\lishe\\anaconda3\\envs\\tensorflow_env\\Lib\\site-packages\\~-mpy.libs'.\n",
      "  You can safely remove it manually.\n",
      "  WARNING: Failed to remove contents in a temporary directory 'C:\\Users\\lishe\\anaconda3\\envs\\tensorflow_env\\Lib\\site-packages\\numpy\\~ft'.\n",
      "  You can safely remove it manually.\n",
      "  WARNING: Failed to remove contents in a temporary directory 'C:\\Users\\lishe\\anaconda3\\envs\\tensorflow_env\\Lib\\site-packages\\numpy\\~inalg'.\n",
      "  You can safely remove it manually.\n",
      "  WARNING: Failed to remove contents in a temporary directory 'C:\\Users\\lishe\\anaconda3\\envs\\tensorflow_env\\Lib\\site-packages\\numpy\\~andom'.\n",
      "  You can safely remove it manually.\n"
     ]
    }
   ],
   "source": [
    "pip install spacy"
   ]
  },
  {
   "cell_type": "code",
   "execution_count": 4,
   "metadata": {},
   "outputs": [
    {
     "name": "stdout",
     "output_type": "stream",
     "text": [
      "Collecting en-core-web-lg==3.8.0\n",
      "  Downloading https://github.com/explosion/spacy-models/releases/download/en_core_web_lg-3.8.0/en_core_web_lg-3.8.0-py3-none-any.whl (400.7 MB)\n",
      "     ---------------------------------------- 0.0/400.7 MB ? eta -:--:--\n",
      "     ---------------------------------------- 0.3/400.7 MB ? eta -:--:--\n",
      "     ---------------------------------------- 0.8/400.7 MB 2.4 MB/s eta 0:02:47\n",
      "     ---------------------------------------- 1.3/400.7 MB 2.4 MB/s eta 0:02:47\n",
      "     ---------------------------------------- 1.8/400.7 MB 2.4 MB/s eta 0:02:47\n",
      "     ---------------------------------------- 2.4/400.7 MB 2.4 MB/s eta 0:02:47\n",
      "     ---------------------------------------- 2.9/400.7 MB 2.4 MB/s eta 0:02:46\n",
      "     ---------------------------------------- 3.4/400.7 MB 2.4 MB/s eta 0:02:46\n",
      "     ---------------------------------------- 3.9/400.7 MB 2.4 MB/s eta 0:02:44\n",
      "     ---------------------------------------- 4.2/400.7 MB 2.4 MB/s eta 0:02:46\n",
      "     ---------------------------------------- 4.7/400.7 MB 2.4 MB/s eta 0:02:46\n",
      "      --------------------------------------- 5.2/400.7 MB 2.4 MB/s eta 0:02:45\n",
      "      --------------------------------------- 5.8/400.7 MB 2.4 MB/s eta 0:02:44\n",
      "      --------------------------------------- 6.3/400.7 MB 2.4 MB/s eta 0:02:44\n",
      "      --------------------------------------- 6.8/400.7 MB 2.4 MB/s eta 0:02:44\n",
      "      --------------------------------------- 7.3/400.7 MB 2.4 MB/s eta 0:02:43\n",
      "      --------------------------------------- 7.9/400.7 MB 2.4 MB/s eta 0:02:43\n",
      "      --------------------------------------- 8.4/400.7 MB 2.4 MB/s eta 0:02:43\n",
      "      --------------------------------------- 8.9/400.7 MB 2.4 MB/s eta 0:02:42\n",
      "      --------------------------------------- 9.4/400.7 MB 2.4 MB/s eta 0:02:42\n",
      "      --------------------------------------- 9.7/400.7 MB 2.4 MB/s eta 0:02:42\n",
      "      -------------------------------------- 10.2/400.7 MB 2.4 MB/s eta 0:02:42\n",
      "     - ------------------------------------- 10.5/400.7 MB 2.4 MB/s eta 0:02:41\n",
      "     - ------------------------------------- 11.8/400.7 MB 2.5 MB/s eta 0:02:34\n",
      "     - ------------------------------------- 13.6/400.7 MB 2.8 MB/s eta 0:02:20\n",
      "     - ------------------------------------- 16.0/400.7 MB 3.1 MB/s eta 0:02:03\n",
      "     - ------------------------------------- 18.4/400.7 MB 3.5 MB/s eta 0:01:50\n",
      "     -- ------------------------------------ 20.7/400.7 MB 3.8 MB/s eta 0:01:41\n",
      "     -- ------------------------------------ 21.5/400.7 MB 3.8 MB/s eta 0:01:41\n",
      "     -- ------------------------------------ 22.8/400.7 MB 3.9 MB/s eta 0:01:38\n",
      "     -- ------------------------------------ 25.2/400.7 MB 4.1 MB/s eta 0:01:31\n",
      "     -- ------------------------------------ 27.5/400.7 MB 4.4 MB/s eta 0:01:26\n",
      "     -- ------------------------------------ 29.9/400.7 MB 4.6 MB/s eta 0:01:21\n",
      "     --- ----------------------------------- 31.5/400.7 MB 4.7 MB/s eta 0:01:18\n",
      "     --- ----------------------------------- 33.3/400.7 MB 4.8 MB/s eta 0:01:17\n",
      "     --- ----------------------------------- 35.7/400.7 MB 5.0 MB/s eta 0:01:13\n",
      "     --- ----------------------------------- 38.0/400.7 MB 5.2 MB/s eta 0:01:10\n",
      "     --- ----------------------------------- 40.4/400.7 MB 5.4 MB/s eta 0:01:07\n",
      "     ---- ---------------------------------- 41.9/400.7 MB 5.5 MB/s eta 0:01:06\n",
      "     ---- ---------------------------------- 42.2/400.7 MB 5.4 MB/s eta 0:01:07\n",
      "     ---- ---------------------------------- 42.5/400.7 MB 5.3 MB/s eta 0:01:08\n",
      "     ---- ---------------------------------- 43.0/400.7 MB 5.2 MB/s eta 0:01:09\n",
      "     ---- ---------------------------------- 43.5/400.7 MB 5.1 MB/s eta 0:01:10\n",
      "     ---- ---------------------------------- 44.0/400.7 MB 5.1 MB/s eta 0:01:11\n",
      "     ---- ---------------------------------- 44.6/400.7 MB 5.0 MB/s eta 0:01:12\n",
      "     ---- ---------------------------------- 45.1/400.7 MB 5.0 MB/s eta 0:01:12\n",
      "     ---- ---------------------------------- 45.6/400.7 MB 4.9 MB/s eta 0:01:13\n",
      "     ---- ---------------------------------- 46.4/400.7 MB 4.9 MB/s eta 0:01:13\n",
      "     ---- ---------------------------------- 46.9/400.7 MB 4.8 MB/s eta 0:01:14\n",
      "     ---- ---------------------------------- 47.7/400.7 MB 4.8 MB/s eta 0:01:14\n",
      "     ---- ---------------------------------- 48.5/400.7 MB 4.8 MB/s eta 0:01:14\n",
      "     ---- ---------------------------------- 49.3/400.7 MB 4.8 MB/s eta 0:01:14\n",
      "     ---- ---------------------------------- 50.1/400.7 MB 4.8 MB/s eta 0:01:14\n",
      "     ---- ---------------------------------- 50.6/400.7 MB 4.7 MB/s eta 0:01:14\n",
      "     ----- --------------------------------- 51.4/400.7 MB 4.7 MB/s eta 0:01:15\n",
      "     ----- --------------------------------- 52.4/400.7 MB 4.7 MB/s eta 0:01:15\n",
      "     ----- --------------------------------- 52.4/400.7 MB 4.7 MB/s eta 0:01:15\n",
      "     ----- --------------------------------- 54.0/400.7 MB 4.7 MB/s eta 0:01:15\n",
      "     ----- --------------------------------- 56.4/400.7 MB 4.8 MB/s eta 0:01:12\n",
      "     ----- --------------------------------- 58.7/400.7 MB 4.9 MB/s eta 0:01:10\n",
      "     ----- --------------------------------- 61.1/400.7 MB 5.0 MB/s eta 0:01:08\n",
      "     ------ -------------------------------- 62.9/400.7 MB 5.1 MB/s eta 0:01:07\n",
      "     ------ -------------------------------- 64.2/400.7 MB 5.1 MB/s eta 0:01:06\n",
      "     ------ -------------------------------- 66.6/400.7 MB 5.2 MB/s eta 0:01:05\n",
      "     ------ -------------------------------- 68.9/400.7 MB 5.3 MB/s eta 0:01:03\n",
      "     ------ -------------------------------- 71.6/400.7 MB 5.4 MB/s eta 0:01:01\n",
      "     ------- ------------------------------- 73.4/400.7 MB 5.5 MB/s eta 0:01:00\n",
      "     ------- ------------------------------- 74.7/400.7 MB 5.5 MB/s eta 0:01:00\n",
      "     ------- ------------------------------- 76.0/400.7 MB 5.5 MB/s eta 0:00:59\n",
      "     ------- ------------------------------- 78.6/400.7 MB 5.6 MB/s eta 0:00:58\n",
      "     ------- ------------------------------- 81.0/400.7 MB 5.7 MB/s eta 0:00:57\n",
      "     -------- ------------------------------ 83.4/400.7 MB 5.8 MB/s eta 0:00:55\n",
      "     -------- ------------------------------ 84.1/400.7 MB 5.7 MB/s eta 0:00:56\n",
      "     -------- ------------------------------ 86.2/400.7 MB 5.8 MB/s eta 0:00:55\n",
      "     -------- ------------------------------ 88.6/400.7 MB 5.9 MB/s eta 0:00:53\n",
      "     -------- ------------------------------ 91.2/400.7 MB 6.0 MB/s eta 0:00:52\n",
      "     --------- ----------------------------- 93.6/400.7 MB 6.1 MB/s eta 0:00:51\n",
      "     --------- ----------------------------- 94.4/400.7 MB 6.1 MB/s eta 0:00:51\n",
      "     --------- ----------------------------- 96.7/400.7 MB 6.1 MB/s eta 0:00:50\n",
      "     --------- ----------------------------- 99.4/400.7 MB 6.2 MB/s eta 0:00:49\n",
      "     --------- ---------------------------- 101.7/400.7 MB 6.2 MB/s eta 0:00:48\n",
      "     --------- ---------------------------- 104.1/400.7 MB 6.3 MB/s eta 0:00:47\n",
      "     --------- ---------------------------- 104.9/400.7 MB 6.3 MB/s eta 0:00:47\n",
      "     ---------- --------------------------- 107.0/400.7 MB 6.3 MB/s eta 0:00:47\n",
      "     ---------- --------------------------- 109.3/400.7 MB 6.4 MB/s eta 0:00:46\n",
      "     ---------- --------------------------- 111.7/400.7 MB 6.5 MB/s eta 0:00:45\n",
      "     ---------- --------------------------- 114.3/400.7 MB 6.5 MB/s eta 0:00:44\n",
      "     ---------- --------------------------- 115.3/400.7 MB 6.6 MB/s eta 0:00:44\n",
      "     ----------- -------------------------- 117.4/400.7 MB 6.6 MB/s eta 0:00:44\n",
      "     ----------- -------------------------- 119.8/400.7 MB 6.6 MB/s eta 0:00:43\n",
      "     ----------- -------------------------- 122.2/400.7 MB 6.7 MB/s eta 0:00:42\n",
      "     ----------- -------------------------- 124.5/400.7 MB 6.7 MB/s eta 0:00:42\n",
      "     ----------- -------------------------- 125.8/400.7 MB 6.8 MB/s eta 0:00:41\n",
      "     ------------ ------------------------- 126.9/400.7 MB 6.7 MB/s eta 0:00:41\n",
      "     ------------ ------------------------- 127.1/400.7 MB 6.7 MB/s eta 0:00:42\n",
      "     ------------ ------------------------- 129.5/400.7 MB 6.7 MB/s eta 0:00:41\n",
      "     ------------ ------------------------- 130.5/400.7 MB 6.7 MB/s eta 0:00:41\n",
      "     ------------ ------------------------- 131.6/400.7 MB 6.7 MB/s eta 0:00:41\n",
      "     ------------ ------------------------- 132.6/400.7 MB 6.7 MB/s eta 0:00:41\n",
      "     ------------ ------------------------- 133.7/400.7 MB 6.7 MB/s eta 0:00:41\n",
      "     ------------ ------------------------- 135.0/400.7 MB 6.6 MB/s eta 0:00:41\n",
      "     ------------ ------------------------- 136.1/400.7 MB 6.6 MB/s eta 0:00:40\n",
      "     ------------ ------------------------- 136.3/400.7 MB 6.6 MB/s eta 0:00:40\n",
      "     ------------- ------------------------ 137.6/400.7 MB 6.6 MB/s eta 0:00:40\n",
      "     ------------- ------------------------ 139.7/400.7 MB 6.6 MB/s eta 0:00:40\n",
      "     ------------- ------------------------ 142.1/400.7 MB 6.6 MB/s eta 0:00:39\n",
      "     ------------- ------------------------ 144.4/400.7 MB 6.7 MB/s eta 0:00:39\n",
      "     ------------- ------------------------ 146.8/400.7 MB 6.7 MB/s eta 0:00:38\n",
      "     ------------- ------------------------ 146.8/400.7 MB 6.7 MB/s eta 0:00:38\n",
      "     ------------- ------------------------ 146.8/400.7 MB 6.7 MB/s eta 0:00:38\n",
      "     ------------- ------------------------ 146.8/400.7 MB 6.7 MB/s eta 0:00:38\n",
      "     ------------- ------------------------ 146.8/400.7 MB 6.7 MB/s eta 0:00:38\n",
      "     ------------- ------------------------ 146.8/400.7 MB 6.7 MB/s eta 0:00:38\n",
      "     ------------- ------------------------ 146.8/400.7 MB 6.7 MB/s eta 0:00:38\n",
      "     ------------- ------------------------ 146.8/400.7 MB 6.7 MB/s eta 0:00:38\n",
      "     ------------- ------------------------ 146.8/400.7 MB 6.7 MB/s eta 0:00:38\n",
      "     ------------- ------------------------ 146.8/400.7 MB 6.7 MB/s eta 0:00:38\n",
      "     ------------- ------------------------ 147.1/400.7 MB 6.2 MB/s eta 0:00:41\n",
      "     ------------- ------------------------ 147.1/400.7 MB 6.2 MB/s eta 0:00:41\n",
      "     ------------- ------------------------ 147.1/400.7 MB 6.2 MB/s eta 0:00:41\n",
      "     ------------- ------------------------ 147.1/400.7 MB 6.2 MB/s eta 0:00:41\n",
      "     ------------- ------------------------ 147.1/400.7 MB 6.2 MB/s eta 0:00:41\n",
      "     ------------- ------------------------ 147.1/400.7 MB 6.2 MB/s eta 0:00:41\n",
      "     ------------- ------------------------ 147.1/400.7 MB 6.2 MB/s eta 0:00:41\n",
      "     ------------- ------------------------ 147.3/400.7 MB 5.8 MB/s eta 0:00:44\n",
      "     ------------- ------------------------ 147.3/400.7 MB 5.8 MB/s eta 0:00:44\n",
      "     ------------- ------------------------ 147.3/400.7 MB 5.8 MB/s eta 0:00:44\n",
      "     ------------- ------------------------ 147.3/400.7 MB 5.8 MB/s eta 0:00:44\n",
      "     ------------- ------------------------ 147.3/400.7 MB 5.8 MB/s eta 0:00:44\n",
      "     ------------- ------------------------ 147.3/400.7 MB 5.8 MB/s eta 0:00:44\n",
      "     ------------- ------------------------ 147.3/400.7 MB 5.8 MB/s eta 0:00:44\n",
      "     ------------- ------------------------ 147.6/400.7 MB 5.6 MB/s eta 0:00:46\n",
      "     ------------- ------------------------ 147.6/400.7 MB 5.6 MB/s eta 0:00:46\n",
      "     ------------- ------------------------ 147.6/400.7 MB 5.6 MB/s eta 0:00:46\n",
      "     ------------- ------------------------ 147.6/400.7 MB 5.6 MB/s eta 0:00:46\n",
      "     ------------- ------------------------ 147.6/400.7 MB 5.6 MB/s eta 0:00:46\n",
      "     -------------- ----------------------- 147.8/400.7 MB 5.4 MB/s eta 0:00:48\n",
      "     -------------- ----------------------- 147.8/400.7 MB 5.4 MB/s eta 0:00:48\n",
      "     -------------- ----------------------- 147.8/400.7 MB 5.4 MB/s eta 0:00:48\n",
      "     -------------- ----------------------- 147.8/400.7 MB 5.4 MB/s eta 0:00:48\n",
      "     -------------- ----------------------- 148.1/400.7 MB 5.2 MB/s eta 0:00:49\n",
      "     -------------- ----------------------- 148.1/400.7 MB 5.2 MB/s eta 0:00:49\n",
      "     -------------- ----------------------- 148.1/400.7 MB 5.2 MB/s eta 0:00:49\n",
      "     -------------- ----------------------- 148.4/400.7 MB 5.1 MB/s eta 0:00:50\n",
      "     -------------- ----------------------- 148.4/400.7 MB 5.1 MB/s eta 0:00:50\n",
      "     -------------- ----------------------- 148.6/400.7 MB 5.1 MB/s eta 0:00:50\n",
      "     -------------- ----------------------- 148.6/400.7 MB 5.1 MB/s eta 0:00:50\n",
      "     -------------- ----------------------- 148.9/400.7 MB 5.0 MB/s eta 0:00:51\n",
      "     -------------- ----------------------- 148.9/400.7 MB 5.0 MB/s eta 0:00:51\n",
      "     -------------- ----------------------- 149.2/400.7 MB 5.0 MB/s eta 0:00:51\n",
      "     -------------- ----------------------- 149.4/400.7 MB 4.9 MB/s eta 0:00:51\n",
      "     -------------- ----------------------- 149.7/400.7 MB 4.9 MB/s eta 0:00:51\n",
      "     -------------- ----------------------- 149.9/400.7 MB 4.9 MB/s eta 0:00:51\n",
      "     -------------- ----------------------- 150.2/400.7 MB 4.9 MB/s eta 0:00:51\n",
      "     -------------- ----------------------- 150.5/400.7 MB 4.9 MB/s eta 0:00:52\n",
      "     -------------- ----------------------- 150.7/400.7 MB 4.9 MB/s eta 0:00:52\n",
      "     -------------- ----------------------- 151.0/400.7 MB 4.9 MB/s eta 0:00:52\n",
      "     -------------- ----------------------- 151.3/400.7 MB 4.9 MB/s eta 0:00:52\n",
      "     -------------- ----------------------- 151.5/400.7 MB 4.9 MB/s eta 0:00:51\n",
      "     -------------- ----------------------- 152.0/400.7 MB 4.9 MB/s eta 0:00:51\n",
      "     -------------- ----------------------- 152.3/400.7 MB 4.9 MB/s eta 0:00:51\n",
      "     -------------- ----------------------- 152.8/400.7 MB 4.9 MB/s eta 0:00:51\n",
      "     -------------- ----------------------- 153.4/400.7 MB 4.9 MB/s eta 0:00:51\n",
      "     -------------- ----------------------- 153.9/400.7 MB 4.9 MB/s eta 0:00:51\n",
      "     -------------- ----------------------- 154.4/400.7 MB 4.9 MB/s eta 0:00:51\n",
      "     -------------- ----------------------- 154.9/400.7 MB 4.9 MB/s eta 0:00:51\n",
      "     -------------- ----------------------- 155.5/400.7 MB 4.9 MB/s eta 0:00:51\n",
      "     -------------- ----------------------- 156.0/400.7 MB 4.9 MB/s eta 0:00:51\n",
      "     -------------- ----------------------- 156.8/400.7 MB 4.9 MB/s eta 0:00:50\n",
      "     -------------- ----------------------- 157.3/400.7 MB 4.9 MB/s eta 0:00:50\n",
      "     -------------- ----------------------- 157.8/400.7 MB 4.9 MB/s eta 0:00:50\n",
      "     --------------- ---------------------- 160.2/400.7 MB 4.9 MB/s eta 0:00:50\n",
      "     --------------- ---------------------- 162.5/400.7 MB 4.9 MB/s eta 0:00:49\n",
      "     --------------- ---------------------- 164.9/400.7 MB 4.9 MB/s eta 0:00:49\n",
      "     --------------- ---------------------- 167.5/400.7 MB 4.9 MB/s eta 0:00:48\n",
      "     --------------- ---------------------- 168.3/400.7 MB 4.9 MB/s eta 0:00:48\n",
      "     ---------------- --------------------- 170.7/400.7 MB 4.9 MB/s eta 0:00:47\n",
      "     ---------------- --------------------- 173.0/400.7 MB 4.9 MB/s eta 0:00:47\n",
      "     ---------------- --------------------- 175.4/400.7 MB 4.9 MB/s eta 0:00:46\n",
      "     ---------------- --------------------- 178.0/400.7 MB 4.9 MB/s eta 0:00:46\n",
      "     ---------------- --------------------- 178.5/400.7 MB 4.9 MB/s eta 0:00:46\n",
      "     ----------------- -------------------- 180.9/400.7 MB 4.9 MB/s eta 0:00:45\n",
      "     ----------------- -------------------- 183.2/400.7 MB 4.9 MB/s eta 0:00:45\n",
      "     ----------------- -------------------- 185.9/400.7 MB 4.9 MB/s eta 0:00:44\n",
      "     ----------------- -------------------- 188.2/400.7 MB 4.9 MB/s eta 0:00:44\n",
      "     ----------------- -------------------- 188.7/400.7 MB 4.9 MB/s eta 0:00:43\n",
      "     ------------------ ------------------- 191.1/400.7 MB 5.0 MB/s eta 0:00:43\n",
      "     ------------------ ------------------- 193.5/400.7 MB 5.0 MB/s eta 0:00:42\n",
      "     ------------------ ------------------- 196.1/400.7 MB 5.1 MB/s eta 0:00:41\n",
      "     ------------------ ------------------- 198.4/400.7 MB 5.2 MB/s eta 0:00:40\n",
      "     ------------------ ------------------- 199.2/400.7 MB 5.2 MB/s eta 0:00:39\n",
      "     ------------------- ------------------ 200.5/400.7 MB 5.2 MB/s eta 0:00:39\n",
      "     ------------------- ------------------ 202.9/400.7 MB 5.3 MB/s eta 0:00:38\n",
      "     ------------------- ------------------ 205.3/400.7 MB 5.3 MB/s eta 0:00:37\n",
      "     ------------------- ------------------ 207.6/400.7 MB 5.4 MB/s eta 0:00:36\n",
      "     ------------------- ------------------ 209.7/400.7 MB 5.4 MB/s eta 0:00:36\n",
      "     ------------------- ------------------ 210.5/400.7 MB 5.4 MB/s eta 0:00:36\n",
      "     -------------------- ----------------- 213.1/400.7 MB 5.5 MB/s eta 0:00:35\n",
      "     -------------------- ----------------- 215.5/400.7 MB 5.5 MB/s eta 0:00:34\n",
      "     -------------------- ----------------- 217.8/400.7 MB 5.6 MB/s eta 0:00:33\n",
      "     -------------------- ----------------- 220.2/400.7 MB 5.7 MB/s eta 0:00:32\n",
      "     -------------------- ----------------- 220.2/400.7 MB 5.7 MB/s eta 0:00:32\n",
      "     -------------------- ----------------- 220.7/400.7 MB 5.6 MB/s eta 0:00:33\n",
      "     --------------------- ---------------- 221.8/400.7 MB 5.7 MB/s eta 0:00:32\n",
      "     --------------------- ---------------- 223.6/400.7 MB 5.7 MB/s eta 0:00:32\n",
      "     --------------------- ---------------- 226.0/400.7 MB 5.6 MB/s eta 0:00:31\n",
      "     --------------------- ---------------- 228.3/400.7 MB 5.7 MB/s eta 0:00:31\n",
      "     --------------------- ---------------- 230.7/400.7 MB 5.7 MB/s eta 0:00:31\n",
      "     --------------------- ---------------- 231.2/400.7 MB 5.6 MB/s eta 0:00:31\n",
      "     ---------------------- --------------- 233.3/400.7 MB 5.6 MB/s eta 0:00:30\n",
      "     ---------------------- --------------- 235.7/400.7 MB 5.6 MB/s eta 0:00:30\n",
      "     ---------------------- --------------- 238.0/400.7 MB 5.6 MB/s eta 0:00:29\n",
      "     ---------------------- --------------- 240.6/400.7 MB 5.6 MB/s eta 0:00:29\n",
      "     ---------------------- --------------- 241.4/400.7 MB 5.6 MB/s eta 0:00:29\n",
      "     ----------------------- -------------- 243.8/400.7 MB 5.6 MB/s eta 0:00:28\n",
      "     ----------------------- -------------- 246.2/400.7 MB 5.7 MB/s eta 0:00:28\n",
      "     ----------------------- -------------- 248.5/400.7 MB 5.7 MB/s eta 0:00:27\n",
      "     ----------------------- -------------- 250.9/400.7 MB 5.7 MB/s eta 0:00:27\n",
      "     ----------------------- -------------- 251.7/400.7 MB 5.7 MB/s eta 0:00:27\n",
      "     ----------------------- -------------- 253.0/400.7 MB 5.6 MB/s eta 0:00:27\n",
      "     ------------------------ ------------- 255.3/400.7 MB 5.6 MB/s eta 0:00:26\n",
      "     ------------------------ ------------- 257.9/400.7 MB 5.6 MB/s eta 0:00:26\n",
      "     ------------------------ ------------- 260.3/400.7 MB 5.6 MB/s eta 0:00:25\n",
      "     ------------------------ ------------- 262.1/400.7 MB 5.6 MB/s eta 0:00:25\n",
      "     ------------------------ ------------- 263.5/400.7 MB 5.6 MB/s eta 0:00:25\n",
      "     ------------------------- ------------ 265.8/400.7 MB 5.6 MB/s eta 0:00:24\n",
      "     ------------------------- ------------ 268.2/400.7 MB 5.6 MB/s eta 0:00:24\n",
      "     ------------------------- ------------ 270.5/400.7 MB 5.6 MB/s eta 0:00:24\n",
      "     ------------------------- ------------ 272.6/400.7 MB 5.6 MB/s eta 0:00:23\n",
      "     ------------------------- ------------ 273.7/400.7 MB 5.6 MB/s eta 0:00:23\n",
      "     -------------------------- ----------- 276.0/400.7 MB 5.6 MB/s eta 0:00:23\n",
      "     -------------------------- ----------- 278.7/400.7 MB 5.6 MB/s eta 0:00:22\n",
      "     -------------------------- ----------- 281.0/400.7 MB 5.6 MB/s eta 0:00:22\n",
      "     -------------------------- ----------- 283.1/400.7 MB 5.6 MB/s eta 0:00:21\n",
      "     -------------------------- ----------- 284.2/400.7 MB 5.6 MB/s eta 0:00:21\n",
      "     --------------------------- ---------- 286.5/400.7 MB 5.6 MB/s eta 0:00:21\n",
      "     --------------------------- ---------- 288.9/400.7 MB 5.6 MB/s eta 0:00:20\n",
      "     --------------------------- ---------- 291.2/400.7 MB 5.6 MB/s eta 0:00:20\n",
      "     --------------------------- ---------- 293.6/400.7 MB 5.6 MB/s eta 0:00:19\n",
      "     --------------------------- ---------- 294.4/400.7 MB 5.6 MB/s eta 0:00:19\n",
      "     ---------------------------- --------- 296.5/400.7 MB 5.7 MB/s eta 0:00:19\n",
      "     ---------------------------- --------- 298.8/400.7 MB 5.7 MB/s eta 0:00:18\n",
      "     ---------------------------- --------- 301.5/400.7 MB 5.7 MB/s eta 0:00:18\n",
      "     ---------------------------- --------- 303.8/400.7 MB 5.8 MB/s eta 0:00:17\n",
      "     ---------------------------- --------- 304.6/400.7 MB 5.8 MB/s eta 0:00:17\n",
      "     ----------------------------- -------- 307.0/400.7 MB 5.8 MB/s eta 0:00:17\n",
      "     ----------------------------- -------- 309.3/400.7 MB 5.8 MB/s eta 0:00:16\n",
      "     ----------------------------- -------- 311.7/400.7 MB 5.9 MB/s eta 0:00:16\n",
      "     ----------------------------- -------- 314.0/400.7 MB 5.9 MB/s eta 0:00:15\n",
      "     ----------------------------- -------- 314.6/400.7 MB 6.0 MB/s eta 0:00:15\n",
      "     ----------------------------- -------- 314.8/400.7 MB 5.9 MB/s eta 0:00:15\n",
      "     ----------------------------- -------- 315.1/400.7 MB 5.9 MB/s eta 0:00:15\n",
      "     ----------------------------- -------- 315.4/400.7 MB 5.8 MB/s eta 0:00:15\n",
      "     ----------------------------- -------- 315.6/400.7 MB 5.7 MB/s eta 0:00:15\n",
      "     ----------------------------- -------- 315.9/400.7 MB 5.7 MB/s eta 0:00:15\n",
      "     ----------------------------- -------- 316.1/400.7 MB 6.0 MB/s eta 0:00:15\n",
      "     ------------------------------ ------- 316.7/400.7 MB 6.0 MB/s eta 0:00:15\n",
      "     ------------------------------ ------- 316.9/400.7 MB 5.9 MB/s eta 0:00:15\n",
      "     ------------------------------ ------- 317.5/400.7 MB 5.9 MB/s eta 0:00:15\n",
      "     ------------------------------ ------- 317.5/400.7 MB 5.9 MB/s eta 0:00:15\n",
      "     ------------------------------ ------- 318.0/400.7 MB 5.9 MB/s eta 0:00:15\n",
      "     ------------------------------ ------- 318.5/400.7 MB 5.8 MB/s eta 0:00:15\n",
      "     ------------------------------ ------- 318.8/400.7 MB 5.8 MB/s eta 0:00:15\n",
      "     ------------------------------ ------- 319.0/400.7 MB 5.8 MB/s eta 0:00:15\n",
      "     ------------------------------ ------- 319.3/400.7 MB 6.0 MB/s eta 0:00:14\n",
      "     ------------------------------ ------- 319.6/400.7 MB 6.0 MB/s eta 0:00:14\n",
      "     ------------------------------ ------- 320.1/400.7 MB 6.0 MB/s eta 0:00:14\n",
      "     ------------------------------ ------- 320.3/400.7 MB 5.9 MB/s eta 0:00:14\n",
      "     ------------------------------ ------- 320.6/400.7 MB 5.9 MB/s eta 0:00:14\n",
      "     ------------------------------ ------- 321.1/400.7 MB 5.9 MB/s eta 0:00:14\n",
      "     ------------------------------ ------- 321.4/400.7 MB 5.9 MB/s eta 0:00:14\n",
      "     ------------------------------ ------- 321.9/400.7 MB 6.1 MB/s eta 0:00:13\n",
      "     ------------------------------ ------- 322.2/400.7 MB 6.1 MB/s eta 0:00:13\n",
      "     ------------------------------ ------- 322.7/400.7 MB 6.0 MB/s eta 0:00:13\n",
      "     ------------------------------ ------- 323.0/400.7 MB 6.0 MB/s eta 0:00:13\n",
      "     ------------------------------ ------- 323.5/400.7 MB 6.0 MB/s eta 0:00:13\n",
      "     ------------------------------ ------- 323.7/400.7 MB 5.9 MB/s eta 0:00:13\n",
      "     ------------------------------ ------- 324.3/400.7 MB 5.9 MB/s eta 0:00:13\n",
      "     ------------------------------ ------- 324.5/400.7 MB 6.1 MB/s eta 0:00:13\n",
      "     ------------------------------ ------- 325.1/400.7 MB 6.1 MB/s eta 0:00:13\n",
      "     ------------------------------ ------- 325.1/400.7 MB 6.1 MB/s eta 0:00:13\n",
      "     ------------------------------ ------- 326.4/400.7 MB 6.0 MB/s eta 0:00:13\n",
      "     ------------------------------- ------ 328.7/400.7 MB 6.1 MB/s eta 0:00:12\n",
      "     ------------------------------- ------ 331.1/400.7 MB 6.2 MB/s eta 0:00:12\n",
      "     ------------------------------- ------ 333.7/400.7 MB 6.3 MB/s eta 0:00:11\n",
      "     ------------------------------- ------ 335.5/400.7 MB 6.3 MB/s eta 0:00:11\n",
      "     ------------------------------- ------ 335.5/400.7 MB 6.3 MB/s eta 0:00:11\n",
      "     ------------------------------- ------ 335.5/400.7 MB 6.3 MB/s eta 0:00:11\n",
      "     ------------------------------- ------ 335.8/400.7 MB 6.3 MB/s eta 0:00:11\n",
      "     ------------------------------- ------ 336.3/400.7 MB 6.3 MB/s eta 0:00:11\n",
      "     ------------------------------- ------ 337.1/400.7 MB 6.3 MB/s eta 0:00:11\n",
      "     -------------------------------- ----- 338.7/400.7 MB 6.4 MB/s eta 0:00:10\n",
      "     -------------------------------- ----- 341.0/400.7 MB 6.5 MB/s eta 0:00:10\n",
      "     -------------------------------- ----- 343.4/400.7 MB 6.5 MB/s eta 0:00:09\n",
      "     -------------------------------- ----- 345.8/400.7 MB 6.6 MB/s eta 0:00:09\n",
      "     -------------------------------- ----- 346.0/400.7 MB 6.6 MB/s eta 0:00:09\n",
      "     -------------------------------- ----- 346.8/400.7 MB 6.6 MB/s eta 0:00:09\n",
      "     -------------------------------- ----- 347.3/400.7 MB 6.6 MB/s eta 0:00:09\n",
      "     --------------------------------- ---- 348.9/400.7 MB 6.7 MB/s eta 0:00:08\n",
      "     --------------------------------- ---- 350.0/400.7 MB 6.7 MB/s eta 0:00:08\n",
      "     --------------------------------- ---- 352.1/400.7 MB 6.7 MB/s eta 0:00:08\n",
      "     --------------------------------- ---- 353.1/400.7 MB 6.8 MB/s eta 0:00:08\n",
      "     --------------------------------- ---- 354.2/400.7 MB 6.8 MB/s eta 0:00:07\n",
      "     --------------------------------- ---- 355.2/400.7 MB 6.8 MB/s eta 0:00:07\n",
      "     --------------------------------- ---- 356.3/400.7 MB 6.8 MB/s eta 0:00:07\n",
      "     --------------------------------- ---- 356.5/400.7 MB 6.8 MB/s eta 0:00:07\n",
      "     --------------------------------- ---- 358.4/400.7 MB 6.9 MB/s eta 0:00:07\n",
      "     ---------------------------------- --- 361.0/400.7 MB 7.0 MB/s eta 0:00:06\n",
      "     ---------------------------------- --- 363.3/400.7 MB 7.0 MB/s eta 0:00:06\n",
      "     ---------------------------------- --- 365.7/400.7 MB 7.1 MB/s eta 0:00:05\n",
      "     ---------------------------------- --- 367.0/400.7 MB 7.1 MB/s eta 0:00:05\n",
      "     ---------------------------------- --- 367.3/400.7 MB 7.1 MB/s eta 0:00:05\n",
      "     ---------------------------------- --- 368.1/400.7 MB 7.1 MB/s eta 0:00:05\n",
      "     ----------------------------------- -- 369.6/400.7 MB 7.1 MB/s eta 0:00:05\n",
      "     ----------------------------------- -- 372.0/400.7 MB 7.2 MB/s eta 0:00:04\n",
      "     ----------------------------------- -- 374.3/400.7 MB 7.3 MB/s eta 0:00:04\n",
      "     ----------------------------------- -- 376.7/400.7 MB 7.4 MB/s eta 0:00:04\n",
      "     ----------------------------------- -- 377.5/400.7 MB 7.4 MB/s eta 0:00:04\n",
      "     ------------------------------------ - 379.8/400.7 MB 7.3 MB/s eta 0:00:03\n",
      "     ------------------------------------ - 382.5/400.7 MB 7.3 MB/s eta 0:00:03\n",
      "     ------------------------------------ - 384.8/400.7 MB 7.3 MB/s eta 0:00:03\n",
      "     ------------------------------------ - 387.2/400.7 MB 7.3 MB/s eta 0:00:02\n",
      "     ------------------------------------ - 388.0/400.7 MB 7.4 MB/s eta 0:00:02\n",
      "     -------------------------------------  390.6/400.7 MB 7.3 MB/s eta 0:00:02\n",
      "     -------------------------------------  393.0/400.7 MB 7.3 MB/s eta 0:00:02\n",
      "     -------------------------------------  395.3/400.7 MB 7.3 MB/s eta 0:00:01\n",
      "     -------------------------------------  397.7/400.7 MB 7.3 MB/s eta 0:00:01\n",
      "     -------------------------------------  398.5/400.7 MB 7.4 MB/s eta 0:00:01\n",
      "     -------------------------------------  398.7/400.7 MB 7.3 MB/s eta 0:00:01\n",
      "     -------------------------------------  399.0/400.7 MB 7.2 MB/s eta 0:00:01\n",
      "     -------------------------------------  399.2/400.7 MB 7.1 MB/s eta 0:00:01\n",
      "     -------------------------------------  399.5/400.7 MB 7.1 MB/s eta 0:00:01\n",
      "     -------------------------------------  400.0/400.7 MB 7.0 MB/s eta 0:00:01\n",
      "     -------------------------------------  400.3/400.7 MB 7.0 MB/s eta 0:00:01\n",
      "     -------------------------------------  400.6/400.7 MB 6.9 MB/s eta 0:00:01\n",
      "     -------------------------------------  400.6/400.7 MB 6.9 MB/s eta 0:00:01\n",
      "     -------------------------------------  400.6/400.7 MB 6.9 MB/s eta 0:00:01\n",
      "     -------------------------------------  400.6/400.7 MB 6.9 MB/s eta 0:00:01\n",
      "     -------------------------------------  400.6/400.7 MB 6.9 MB/s eta 0:00:01\n",
      "     -------------------------------------- 400.7/400.7 MB 6.7 MB/s eta 0:00:00\n",
      "Installing collected packages: en-core-web-lg\n",
      "Successfully installed en-core-web-lg-3.8.0\n",
      "\u001b[38;5;2m✔ Download and installation successful\u001b[0m\n",
      "You can now load the package via spacy.load('en_core_web_lg')\n"
     ]
    }
   ],
   "source": [
    "!python -m spacy download en_core_web_lg"
   ]
  },
  {
   "cell_type": "markdown",
   "metadata": {},
   "source": [
    "Install NLP related packages"
   ]
  },
  {
   "cell_type": "code",
   "execution_count": null,
   "metadata": {},
   "outputs": [],
   "source": [
    "#Use conda to install\n",
    "#!pip install gensim\n",
    "#!pip install textblob\n",
    "#!pip install spacy\n",
    "#!python -m spacy download en_core_web_sm\n",
    "#!pip install contractions\n",
    "#!pip install wordcloud\n",
    "#!pip install vaderSentiment\n",
    "#!pip install pyLDAvis\n",
    "#!pip install bertopic"
   ]
  },
  {
   "cell_type": "code",
   "execution_count": 1,
   "metadata": {},
   "outputs": [
    {
     "name": "stdout",
     "output_type": "stream",
     "text": [
      "Collecting transformers\n",
      "  Using cached transformers-4.46.3-py3-none-any.whl.metadata (44 kB)\n",
      "Requirement already satisfied: filelock in c:\\users\\lishe\\anaconda3\\envs\\tensorflow_env\\lib\\site-packages (from transformers) (3.13.1)\n",
      "Collecting huggingface-hub<1.0,>=0.23.2 (from transformers)\n",
      "  Using cached huggingface_hub-0.26.2-py3-none-any.whl.metadata (13 kB)\n",
      "Requirement already satisfied: numpy>=1.17 in c:\\users\\lishe\\anaconda3\\envs\\tensorflow_env\\lib\\site-packages (from transformers) (1.26.4)\n",
      "Requirement already satisfied: packaging>=20.0 in c:\\users\\lishe\\anaconda3\\envs\\tensorflow_env\\lib\\site-packages (from transformers) (24.1)\n",
      "Requirement already satisfied: pyyaml>=5.1 in c:\\users\\lishe\\anaconda3\\envs\\tensorflow_env\\lib\\site-packages (from transformers) (6.0.2)\n",
      "Collecting regex!=2019.12.17 (from transformers)\n",
      "  Downloading regex-2024.11.6-cp39-cp39-win_amd64.whl.metadata (41 kB)\n",
      "Requirement already satisfied: requests in c:\\users\\lishe\\anaconda3\\envs\\tensorflow_env\\lib\\site-packages (from transformers) (2.32.3)\n",
      "Collecting tokenizers<0.21,>=0.20 (from transformers)\n",
      "  Downloading tokenizers-0.20.3-cp39-none-win_amd64.whl.metadata (6.9 kB)\n",
      "Collecting safetensors>=0.4.1 (from transformers)\n",
      "  Downloading safetensors-0.4.5-cp39-none-win_amd64.whl.metadata (3.9 kB)\n",
      "Requirement already satisfied: tqdm>=4.27 in c:\\users\\lishe\\anaconda3\\envs\\tensorflow_env\\lib\\site-packages (from transformers) (4.66.5)\n",
      "Requirement already satisfied: fsspec>=2023.5.0 in c:\\users\\lishe\\anaconda3\\envs\\tensorflow_env\\lib\\site-packages (from huggingface-hub<1.0,>=0.23.2->transformers) (2024.9.0)\n",
      "Requirement already satisfied: typing-extensions>=3.7.4.3 in c:\\users\\lishe\\anaconda3\\envs\\tensorflow_env\\lib\\site-packages (from huggingface-hub<1.0,>=0.23.2->transformers) (4.12.2)\n",
      "Requirement already satisfied: colorama in c:\\users\\lishe\\anaconda3\\envs\\tensorflow_env\\lib\\site-packages (from tqdm>=4.27->transformers) (0.4.6)\n",
      "Requirement already satisfied: charset-normalizer<4,>=2 in c:\\users\\lishe\\anaconda3\\envs\\tensorflow_env\\lib\\site-packages (from requests->transformers) (3.4.0)\n",
      "Requirement already satisfied: idna<4,>=2.5 in c:\\users\\lishe\\anaconda3\\envs\\tensorflow_env\\lib\\site-packages (from requests->transformers) (3.10)\n",
      "Requirement already satisfied: urllib3<3,>=1.21.1 in c:\\users\\lishe\\anaconda3\\envs\\tensorflow_env\\lib\\site-packages (from requests->transformers) (2.2.3)\n",
      "Requirement already satisfied: certifi>=2017.4.17 in c:\\users\\lishe\\anaconda3\\envs\\tensorflow_env\\lib\\site-packages (from requests->transformers) (2024.8.30)\n",
      "Using cached transformers-4.46.3-py3-none-any.whl (10.0 MB)\n",
      "Using cached huggingface_hub-0.26.2-py3-none-any.whl (447 kB)\n",
      "Downloading regex-2024.11.6-cp39-cp39-win_amd64.whl (274 kB)\n",
      "Downloading safetensors-0.4.5-cp39-none-win_amd64.whl (286 kB)\n",
      "Downloading tokenizers-0.20.3-cp39-none-win_amd64.whl (2.4 MB)\n",
      "   ---------------------------------------- 0.0/2.4 MB ? eta -:--:--\n",
      "   ----------------------------------- ---- 2.1/2.4 MB 13.0 MB/s eta 0:00:01\n",
      "   ---------------------------------------- 2.4/2.4 MB 6.2 MB/s eta 0:00:00\n",
      "Installing collected packages: safetensors, regex, huggingface-hub, tokenizers, transformers\n",
      "Successfully installed huggingface-hub-0.26.2 regex-2024.11.6 safetensors-0.4.5 tokenizers-0.20.3 transformers-4.46.3\n",
      "Note: you may need to restart the kernel to use updated packages.\n"
     ]
    }
   ],
   "source": [
    "pip install transformers"
   ]
  },
  {
   "cell_type": "code",
   "execution_count": 2,
   "metadata": {},
   "outputs": [
    {
     "name": "stdout",
     "output_type": "stream",
     "text": [
      "Requirement already satisfied: torch in c:\\users\\lishe\\anaconda3\\envs\\tensorflow_env\\lib\\site-packages (2.4.1+cu118)\n",
      "Requirement already satisfied: torchvision in c:\\users\\lishe\\anaconda3\\envs\\tensorflow_env\\lib\\site-packages (0.19.1+cu118)\n",
      "Requirement already satisfied: torchaudio in c:\\users\\lishe\\anaconda3\\envs\\tensorflow_env\\lib\\site-packages (2.4.1+cu118)\n",
      "Requirement already satisfied: filelock in c:\\users\\lishe\\anaconda3\\envs\\tensorflow_env\\lib\\site-packages (from torch) (3.13.1)\n",
      "Requirement already satisfied: typing-extensions>=4.8.0 in c:\\users\\lishe\\anaconda3\\envs\\tensorflow_env\\lib\\site-packages (from torch) (4.12.2)\n",
      "Requirement already satisfied: sympy in c:\\users\\lishe\\anaconda3\\envs\\tensorflow_env\\lib\\site-packages (from torch) (1.13.3)\n",
      "Requirement already satisfied: networkx in c:\\users\\lishe\\anaconda3\\envs\\tensorflow_env\\lib\\site-packages (from torch) (3.2.1)\n",
      "Requirement already satisfied: jinja2 in c:\\users\\lishe\\anaconda3\\envs\\tensorflow_env\\lib\\site-packages (from torch) (3.1.4)\n",
      "Requirement already satisfied: fsspec in c:\\users\\lishe\\anaconda3\\envs\\tensorflow_env\\lib\\site-packages (from torch) (2024.9.0)\n",
      "Requirement already satisfied: numpy in c:\\users\\lishe\\anaconda3\\envs\\tensorflow_env\\lib\\site-packages (from torchvision) (1.26.4)\n",
      "Requirement already satisfied: pillow!=8.3.*,>=5.3.0 in c:\\users\\lishe\\anaconda3\\envs\\tensorflow_env\\lib\\site-packages (from torchvision) (10.4.0)\n",
      "Requirement already satisfied: MarkupSafe>=2.0 in c:\\users\\lishe\\anaconda3\\envs\\tensorflow_env\\lib\\site-packages (from jinja2->torch) (3.0.1)\n",
      "Requirement already satisfied: mpmath<1.4,>=1.1.0 in c:\\users\\lishe\\anaconda3\\envs\\tensorflow_env\\lib\\site-packages (from sympy->torch) (1.3.0)\n",
      "Note: you may need to restart the kernel to use updated packages.\n"
     ]
    }
   ],
   "source": [
    "pip install torch torchvision torchaudio"
   ]
  },
  {
   "cell_type": "code",
   "execution_count": 1,
   "metadata": {},
   "outputs": [
    {
     "name": "stdout",
     "output_type": "stream",
     "text": [
      "Collecting pytesseract\n",
      "  Using cached pytesseract-0.3.13-py3-none-any.whl.metadata (11 kB)\n",
      "Requirement already satisfied: packaging>=21.3 in c:\\users\\lishe\\anaconda3\\lib\\site-packages (from pytesseract) (24.2)\n",
      "Requirement already satisfied: Pillow>=8.0.0 in c:\\users\\lishe\\anaconda3\\lib\\site-packages (from pytesseract) (11.0.0)\n",
      "Using cached pytesseract-0.3.13-py3-none-any.whl (14 kB)\n",
      "Installing collected packages: pytesseract\n",
      "Successfully installed pytesseract-0.3.13\n",
      "Note: you may need to restart the kernel to use updated packages.\n"
     ]
    }
   ],
   "source": [
    "pip install pytesseract"
   ]
  },
  {
   "cell_type": "code",
   "execution_count": 2,
   "metadata": {},
   "outputs": [
    {
     "name": "stdout",
     "output_type": "stream",
     "text": [
      "Collecting pdf2image\n",
      "  Downloading pdf2image-1.17.0-py3-none-any.whl.metadata (6.2 kB)\n",
      "Requirement already satisfied: pillow in c:\\users\\lishe\\anaconda3\\lib\\site-packages (from pdf2image) (11.0.0)\n",
      "Downloading pdf2image-1.17.0-py3-none-any.whl (11 kB)\n",
      "Installing collected packages: pdf2image\n",
      "Successfully installed pdf2image-1.17.0\n",
      "Note: you may need to restart the kernel to use updated packages.\n"
     ]
    }
   ],
   "source": [
    "pip install pdf2image"
   ]
  },
  {
   "cell_type": "code",
   "execution_count": 3,
   "metadata": {},
   "outputs": [
    {
     "name": "stdout",
     "output_type": "stream",
     "text": [
      "Collecting wrds\n",
      "  Downloading wrds-3.2.0-py3-none-any.whl.metadata (5.8 kB)\n",
      "Requirement already satisfied: numpy<1.27,>=1.26 in c:\\users\\lishe\\anaconda3\\lib\\site-packages (from wrds) (1.26.4)\n",
      "Collecting packaging<23.3 (from wrds)\n",
      "  Downloading packaging-23.2-py3-none-any.whl.metadata (3.2 kB)\n",
      "Requirement already satisfied: pandas<2.3,>=2.2 in c:\\users\\lishe\\anaconda3\\lib\\site-packages (from wrds) (2.2.3)\n",
      "Collecting psycopg2-binary<2.10,>=2.9 (from wrds)\n",
      "  Downloading psycopg2_binary-2.9.10-cp312-cp312-win_amd64.whl.metadata (5.0 kB)\n",
      "Collecting scipy<1.13,>=1.12 (from wrds)\n",
      "  Downloading scipy-1.12.0-cp312-cp312-win_amd64.whl.metadata (60 kB)\n",
      "Requirement already satisfied: sqlalchemy<2.1,>=2 in c:\\users\\lishe\\anaconda3\\lib\\site-packages (from wrds) (2.0.36)\n",
      "Requirement already satisfied: python-dateutil>=2.8.2 in c:\\users\\lishe\\anaconda3\\lib\\site-packages (from pandas<2.3,>=2.2->wrds) (2.9.0.post0)\n",
      "Requirement already satisfied: pytz>=2020.1 in c:\\users\\lishe\\anaconda3\\lib\\site-packages (from pandas<2.3,>=2.2->wrds) (2024.1)\n",
      "Requirement already satisfied: tzdata>=2022.7 in c:\\users\\lishe\\anaconda3\\lib\\site-packages (from pandas<2.3,>=2.2->wrds) (2024.2)\n",
      "Requirement already satisfied: typing-extensions>=4.6.0 in c:\\users\\lishe\\anaconda3\\lib\\site-packages (from sqlalchemy<2.1,>=2->wrds) (4.12.2)\n",
      "Requirement already satisfied: greenlet!=0.4.17 in c:\\users\\lishe\\anaconda3\\lib\\site-packages (from sqlalchemy<2.1,>=2->wrds) (3.1.1)\n",
      "Requirement already satisfied: six>=1.5 in c:\\users\\lishe\\anaconda3\\lib\\site-packages (from python-dateutil>=2.8.2->pandas<2.3,>=2.2->wrds) (1.16.0)\n",
      "Downloading wrds-3.2.0-py3-none-any.whl (13 kB)\n",
      "Downloading packaging-23.2-py3-none-any.whl (53 kB)\n",
      "Downloading psycopg2_binary-2.9.10-cp312-cp312-win_amd64.whl (1.2 MB)\n",
      "   ---------------------------------------- 0.0/1.2 MB ? eta -:--:--\n",
      "   ---------------------------------------- 1.2/1.2 MB 60.1 MB/s eta 0:00:00\n",
      "Downloading scipy-1.12.0-cp312-cp312-win_amd64.whl (45.8 MB)\n",
      "   ---------------------------------------- 0.0/45.8 MB ? eta -:--:--\n",
      "    --------------------------------------- 1.0/45.8 MB 52.4 MB/s eta 0:00:01\n",
      "   - -------------------------------------- 2.1/45.8 MB 6.2 MB/s eta 0:00:08\n",
      "   -- ------------------------------------- 3.1/45.8 MB 5.6 MB/s eta 0:00:08\n",
      "   --- ------------------------------------ 4.2/45.8 MB 5.2 MB/s eta 0:00:08\n",
      "   ---- ----------------------------------- 5.2/45.8 MB 5.1 MB/s eta 0:00:08\n",
      "   ----- ---------------------------------- 6.3/45.8 MB 5.1 MB/s eta 0:00:08\n",
      "   ------ --------------------------------- 7.3/45.8 MB 5.0 MB/s eta 0:00:08\n",
      "   ------- -------------------------------- 8.4/45.8 MB 4.9 MB/s eta 0:00:08\n",
      "   -------- ------------------------------- 9.4/45.8 MB 4.9 MB/s eta 0:00:08\n",
      "   -------- ------------------------------- 9.7/45.8 MB 4.6 MB/s eta 0:00:08\n",
      "   --------- ------------------------------ 10.5/45.8 MB 4.9 MB/s eta 0:00:08\n",
      "   ---------- ----------------------------- 11.5/45.8 MB 4.8 MB/s eta 0:00:08\n",
      "   ---------- ----------------------------- 12.6/45.8 MB 4.8 MB/s eta 0:00:07\n",
      "   ----------- ---------------------------- 13.6/45.8 MB 4.7 MB/s eta 0:00:07\n",
      "   ----------- ---------------------------- 13.6/45.8 MB 4.7 MB/s eta 0:00:07\n",
      "   ------------ --------------------------- 14.7/45.8 MB 4.6 MB/s eta 0:00:07\n",
      "   ------------- -------------------------- 15.7/45.8 MB 4.6 MB/s eta 0:00:07\n",
      "   -------------- ------------------------- 16.8/45.8 MB 4.6 MB/s eta 0:00:07\n",
      "   -------------- ------------------------- 16.8/45.8 MB 4.6 MB/s eta 0:00:07\n",
      "   -------------- ------------------------- 16.8/45.8 MB 4.6 MB/s eta 0:00:07\n",
      "   -------------- ------------------------- 16.8/45.8 MB 4.6 MB/s eta 0:00:07\n",
      "   --------------- ------------------------ 17.8/45.8 MB 3.9 MB/s eta 0:00:08\n",
      "   --------------- ------------------------ 17.8/45.8 MB 3.9 MB/s eta 0:00:08\n",
      "   ---------------- ----------------------- 18.9/45.8 MB 3.9 MB/s eta 0:00:07\n",
      "   ---------------- ----------------------- 18.9/45.8 MB 3.9 MB/s eta 0:00:07\n",
      "   ---------------- ----------------------- 18.9/45.8 MB 3.9 MB/s eta 0:00:07\n",
      "   ---------------- ----------------------- 18.9/45.8 MB 3.9 MB/s eta 0:00:07\n",
      "   ---------------- ----------------------- 18.9/45.8 MB 3.9 MB/s eta 0:00:07\n",
      "   ---------------- ----------------------- 18.9/45.8 MB 3.9 MB/s eta 0:00:07\n",
      "   ----------------- ---------------------- 19.9/45.8 MB 3.2 MB/s eta 0:00:09\n",
      "   ------------------ --------------------- 21.0/45.8 MB 3.3 MB/s eta 0:00:08\n",
      "   ------------------- -------------------- 22.0/45.8 MB 3.3 MB/s eta 0:00:08\n",
      "   ------------------- -------------------- 22.0/45.8 MB 3.3 MB/s eta 0:00:08\n",
      "   ------------------- -------------------- 22.0/45.8 MB 3.3 MB/s eta 0:00:08\n",
      "   -------------------- ------------------- 23.1/45.8 MB 3.2 MB/s eta 0:00:08\n",
      "   -------------------- ------------------- 23.9/45.8 MB 3.2 MB/s eta 0:00:07\n",
      "   --------------------- ------------------ 24.1/45.8 MB 3.2 MB/s eta 0:00:07\n",
      "   --------------------- ------------------ 25.2/45.8 MB 3.2 MB/s eta 0:00:07\n",
      "   ---------------------- ----------------- 26.2/45.8 MB 3.3 MB/s eta 0:00:06\n",
      "   ----------------------- ---------------- 27.3/45.8 MB 3.3 MB/s eta 0:00:06\n",
      "   ------------------------ --------------- 28.3/45.8 MB 3.3 MB/s eta 0:00:06\n",
      "   ------------------------- -------------- 29.4/45.8 MB 3.4 MB/s eta 0:00:05\n",
      "   -------------------------- ------------- 30.4/45.8 MB 3.4 MB/s eta 0:00:05\n",
      "   -------------------------- ------------- 30.4/45.8 MB 3.4 MB/s eta 0:00:05\n",
      "   -------------------------- ------------- 30.4/45.8 MB 3.4 MB/s eta 0:00:05\n",
      "   --------------------------- ------------ 31.5/45.8 MB 3.3 MB/s eta 0:00:05\n",
      "   ---------------------------- ----------- 32.5/45.8 MB 3.4 MB/s eta 0:00:04\n",
      "   ----------------------------- ---------- 33.6/45.8 MB 3.4 MB/s eta 0:00:04\n",
      "   ------------------------------ --------- 34.6/45.8 MB 3.4 MB/s eta 0:00:04\n",
      "   ------------------------------- -------- 35.7/45.8 MB 3.4 MB/s eta 0:00:03\n",
      "   -------------------------------- ------- 36.7/45.8 MB 3.5 MB/s eta 0:00:03\n",
      "   -------------------------------- ------- 37.7/45.8 MB 3.5 MB/s eta 0:00:03\n",
      "   -------------------------------- ------- 37.7/45.8 MB 3.5 MB/s eta 0:00:03\n",
      "   --------------------------------- ------ 38.8/45.8 MB 3.5 MB/s eta 0:00:02\n",
      "   ---------------------------------- ----- 39.8/45.8 MB 3.5 MB/s eta 0:00:02\n",
      "   ---------------------------------- ----- 39.8/45.8 MB 3.5 MB/s eta 0:00:02\n",
      "   ----------------------------------- ---- 40.9/45.8 MB 3.5 MB/s eta 0:00:02\n",
      "   ------------------------------------ --- 41.9/45.8 MB 3.5 MB/s eta 0:00:02\n",
      "   ------------------------------------ --- 41.9/45.8 MB 3.5 MB/s eta 0:00:02\n",
      "   ------------------------------------ --- 41.9/45.8 MB 3.5 MB/s eta 0:00:02\n",
      "   ------------------------------------ --- 41.9/45.8 MB 3.5 MB/s eta 0:00:02\n",
      "   ------------------------------------- -- 43.0/45.8 MB 3.4 MB/s eta 0:00:01\n",
      "   ------------------------------------- -- 43.0/45.8 MB 3.4 MB/s eta 0:00:01\n",
      "   ------------------------------------- -- 43.0/45.8 MB 3.4 MB/s eta 0:00:01\n",
      "   -------------------------------------- - 44.0/45.8 MB 3.3 MB/s eta 0:00:01\n",
      "   ---------------------------------------  45.1/45.8 MB 3.3 MB/s eta 0:00:01\n",
      "   ---------------------------------------  45.1/45.8 MB 3.3 MB/s eta 0:00:01\n",
      "   ---------------------------------------- 45.8/45.8 MB 3.3 MB/s eta 0:00:00\n",
      "Installing collected packages: scipy, psycopg2-binary, packaging, wrds\n",
      "  Attempting uninstall: scipy\n",
      "    Found existing installation: scipy 1.11.3\n",
      "    Uninstalling scipy-1.11.3:\n",
      "      Successfully uninstalled scipy-1.11.3\n",
      "  Attempting uninstall: packaging\n",
      "    Found existing installation: packaging 24.2\n",
      "    Uninstalling packaging-24.2:\n",
      "      Successfully uninstalled packaging-24.2\n",
      "Successfully installed packaging-23.2 psycopg2-binary-2.9.10 scipy-1.12.0 wrds-3.2.0\n",
      "Note: you may need to restart the kernel to use updated packages.\n"
     ]
    }
   ],
   "source": [
    "pip install wrds"
   ]
  },
  {
   "cell_type": "code",
   "execution_count": 5,
   "metadata": {},
   "outputs": [
    {
     "name": "stdout",
     "output_type": "stream",
     "text": [
      "Collecting PyPDF2\n",
      "  Downloading pypdf2-3.0.1-py3-none-any.whl.metadata (6.8 kB)\n",
      "Downloading pypdf2-3.0.1-py3-none-any.whl (232 kB)\n",
      "Installing collected packages: PyPDF2\n",
      "Successfully installed PyPDF2-3.0.1\n",
      "Note: you may need to restart the kernel to use updated packages.\n"
     ]
    }
   ],
   "source": [
    "pip install PyPDF2"
   ]
  },
  {
   "cell_type": "code",
   "execution_count": 1,
   "metadata": {},
   "outputs": [
    {
     "name": "stdout",
     "output_type": "stream",
     "text": [
      "Collecting fuzzywuzzy\n",
      "  Downloading fuzzywuzzy-0.18.0-py2.py3-none-any.whl.metadata (4.9 kB)\n",
      "Downloading fuzzywuzzy-0.18.0-py2.py3-none-any.whl (18 kB)\n",
      "Installing collected packages: fuzzywuzzy\n",
      "Successfully installed fuzzywuzzy-0.18.0\n",
      "Note: you may need to restart the kernel to use updated packages.\n"
     ]
    }
   ],
   "source": [
    "pip install fuzzywuzzy"
   ]
  },
  {
   "cell_type": "code",
   "execution_count": null,
   "metadata": {},
   "outputs": [],
   "source": []
  }
 ],
 "metadata": {
  "kernelspec": {
   "display_name": "base",
   "language": "python",
   "name": "python3"
  },
  "language_info": {
   "codemirror_mode": {
    "name": "ipython",
    "version": 3
   },
   "file_extension": ".py",
   "mimetype": "text/x-python",
   "name": "python",
   "nbconvert_exporter": "python",
   "pygments_lexer": "ipython3",
   "version": "3.12.3"
  }
 },
 "nbformat": 4,
 "nbformat_minor": 2
}
