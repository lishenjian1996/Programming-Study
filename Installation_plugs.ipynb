{
 "cells": [
  {
   "cell_type": "code",
   "execution_count": null,
   "metadata": {},
   "outputs": [],
   "source": [
    "pip install --upgrade pip"
   ]
  },
  {
   "cell_type": "code",
   "execution_count": null,
   "metadata": {},
   "outputs": [],
   "source": [
    "pip install beautifulsoup4"
   ]
  },
  {
   "cell_type": "code",
   "execution_count": null,
   "metadata": {},
   "outputs": [],
   "source": [
    "pip install numpy"
   ]
  },
  {
   "cell_type": "code",
   "execution_count": null,
   "metadata": {},
   "outputs": [],
   "source": [
    "pip install Pillow"
   ]
  },
  {
   "cell_type": "code",
   "execution_count": 1,
   "metadata": {},
   "outputs": [
    {
     "name": "stdout",
     "output_type": "stream",
     "text": [
      "Collecting pandas\n",
      "  Using cached pandas-2.2.2-cp311-cp311-win_amd64.whl.metadata (19 kB)\n",
      "Collecting numpy>=1.23.2 (from pandas)\n",
      "  Using cached numpy-2.0.0-cp311-cp311-win_amd64.whl.metadata (60 kB)\n",
      "Requirement already satisfied: python-dateutil>=2.8.2 in c:\\users\\lishe\\documents\\github\\programming-study\\.conda\\lib\\site-packages (from pandas) (2.9.0)\n",
      "Collecting pytz>=2020.1 (from pandas)\n",
      "  Using cached pytz-2024.1-py2.py3-none-any.whl.metadata (22 kB)\n",
      "Collecting tzdata>=2022.7 (from pandas)\n",
      "  Using cached tzdata-2024.1-py2.py3-none-any.whl.metadata (1.4 kB)\n",
      "Requirement already satisfied: six>=1.5 in c:\\users\\lishe\\documents\\github\\programming-study\\.conda\\lib\\site-packages (from python-dateutil>=2.8.2->pandas) (1.16.0)\n",
      "Using cached pandas-2.2.2-cp311-cp311-win_amd64.whl (11.6 MB)\n",
      "Using cached numpy-2.0.0-cp311-cp311-win_amd64.whl (16.5 MB)\n",
      "Using cached pytz-2024.1-py2.py3-none-any.whl (505 kB)\n",
      "Using cached tzdata-2024.1-py2.py3-none-any.whl (345 kB)\n",
      "Installing collected packages: pytz, tzdata, numpy, pandas\n",
      "Successfully installed numpy-2.0.0 pandas-2.2.2 pytz-2024.1 tzdata-2024.1\n",
      "Note: you may need to restart the kernel to use updated packages.\n"
     ]
    }
   ],
   "source": [
    "pip install pandas"
   ]
  },
  {
   "cell_type": "code",
   "execution_count": 2,
   "metadata": {},
   "outputs": [
    {
     "name": "stdout",
     "output_type": "stream",
     "text": [
      "Collecting pyscenic\n",
      "  Using cached pyscenic-0.12.1-py3-none-any.whl.metadata (9.8 kB)\n",
      "Collecting ctxcore>=0.2.0 (from pyscenic)\n",
      "  Using cached ctxcore-0.2.0-py3-none-any.whl.metadata (3.1 kB)\n",
      "Collecting cytoolz (from pyscenic)\n",
      "  Using cached cytoolz-0.12.3-cp311-cp311-win_amd64.whl.metadata (4.7 kB)\n",
      "Collecting multiprocessing-on-dill (from pyscenic)\n",
      "  Using cached multiprocessing_on_dill-3.5.0a4-py3-none-any.whl\n",
      "Collecting llvmlite (from pyscenic)\n",
      "  Using cached llvmlite-0.43.0-cp311-cp311-win_amd64.whl.metadata (4.9 kB)\n",
      "Collecting numba>=0.51.2 (from pyscenic)\n",
      "  Using cached numba-0.60.0-cp311-cp311-win_amd64.whl.metadata (2.8 kB)\n",
      "Collecting attrs (from pyscenic)\n",
      "  Using cached attrs-23.2.0-py3-none-any.whl.metadata (9.5 kB)\n",
      "Collecting frozendict (from pyscenic)\n",
      "  Using cached frozendict-2.4.4-py311-none-any.whl.metadata (23 kB)\n",
      "Requirement already satisfied: numpy in c:\\users\\lishe\\documents\\github\\programming-study\\.conda\\lib\\site-packages (from pyscenic) (2.0.0)\n",
      "Requirement already satisfied: pandas>=1.3.5 in c:\\users\\lishe\\documents\\github\\programming-study\\.conda\\lib\\site-packages (from pyscenic) (2.2.2)\n",
      "Collecting numexpr (from pyscenic)\n",
      "  Using cached numexpr-2.10.1-cp311-cp311-win_amd64.whl.metadata (1.3 kB)\n",
      "Collecting cloudpickle (from pyscenic)\n",
      "  Using cached cloudpickle-3.0.0-py3-none-any.whl.metadata (7.0 kB)\n",
      "Collecting dask (from pyscenic)\n",
      "  Using cached dask-2024.6.2-py3-none-any.whl.metadata (3.8 kB)\n",
      "Collecting distributed (from pyscenic)\n",
      "  Using cached distributed-2024.6.2-py3-none-any.whl.metadata (3.4 kB)\n",
      "Collecting arboreto>=0.1.6 (from pyscenic)\n",
      "  Using cached arboreto-0.1.6-py2.py3-none-any.whl.metadata (5.4 kB)\n",
      "Collecting boltons (from pyscenic)\n",
      "  Using cached boltons-24.0.0-py3-none-any.whl.metadata (1.5 kB)\n",
      "Requirement already satisfied: setuptools in c:\\users\\lishe\\documents\\github\\programming-study\\.conda\\lib\\site-packages (from pyscenic) (70.1.0)\n",
      "Collecting pyyaml (from pyscenic)\n",
      "  Using cached PyYAML-6.0.1-cp311-cp311-win_amd64.whl.metadata (2.1 kB)\n",
      "Collecting tqdm (from pyscenic)\n",
      "  Using cached tqdm-4.66.4-py3-none-any.whl.metadata (57 kB)\n",
      "Collecting interlap (from pyscenic)\n",
      "  Using cached interlap-0.2.7-py3-none-any.whl\n",
      "Collecting umap-learn (from pyscenic)\n",
      "  Using cached umap_learn-0.5.6-py3-none-any.whl.metadata (21 kB)\n",
      "Collecting loompy (from pyscenic)\n",
      "  Using cached loompy-3.0.7-py3-none-any.whl\n",
      "Collecting networkx (from pyscenic)\n",
      "  Using cached networkx-3.3-py3-none-any.whl.metadata (5.1 kB)\n",
      "Collecting scipy (from pyscenic)\n",
      "  Using cached scipy-1.13.1-cp311-cp311-win_amd64.whl.metadata (60 kB)\n",
      "Collecting fsspec (from pyscenic)\n",
      "  Using cached fsspec-2024.6.0-py3-none-any.whl.metadata (11 kB)\n",
      "Collecting requests (from pyscenic)\n",
      "  Using cached requests-2.32.3-py3-none-any.whl.metadata (4.6 kB)\n",
      "Collecting aiohttp (from pyscenic)\n",
      "  Using cached aiohttp-3.9.5-cp311-cp311-win_amd64.whl.metadata (7.7 kB)\n",
      "Collecting scikit-learn>=0.22.2 (from pyscenic)\n",
      "  Using cached scikit_learn-1.5.0-cp311-cp311-win_amd64.whl.metadata (11 kB)\n",
      "Collecting pyarrow>=8.0.0 (from ctxcore>=0.2.0->pyscenic)\n",
      "  Using cached pyarrow-16.1.0-cp311-cp311-win_amd64.whl.metadata (3.1 kB)\n",
      "Requirement already satisfied: python-dateutil>=2.8.2 in c:\\users\\lishe\\documents\\github\\programming-study\\.conda\\lib\\site-packages (from pandas>=1.3.5->pyscenic) (2.9.0)\n",
      "Requirement already satisfied: pytz>=2020.1 in c:\\users\\lishe\\documents\\github\\programming-study\\.conda\\lib\\site-packages (from pandas>=1.3.5->pyscenic) (2024.1)\n",
      "Requirement already satisfied: tzdata>=2022.7 in c:\\users\\lishe\\documents\\github\\programming-study\\.conda\\lib\\site-packages (from pandas>=1.3.5->pyscenic) (2024.1)\n",
      "Collecting joblib>=1.2.0 (from scikit-learn>=0.22.2->pyscenic)\n",
      "  Using cached joblib-1.4.2-py3-none-any.whl.metadata (5.4 kB)\n",
      "Collecting threadpoolctl>=3.1.0 (from scikit-learn>=0.22.2->pyscenic)\n",
      "  Using cached threadpoolctl-3.5.0-py3-none-any.whl.metadata (13 kB)\n",
      "Collecting aiosignal>=1.1.2 (from aiohttp->pyscenic)\n",
      "  Using cached aiosignal-1.3.1-py3-none-any.whl.metadata (4.0 kB)\n",
      "Collecting frozenlist>=1.1.1 (from aiohttp->pyscenic)\n",
      "  Using cached frozenlist-1.4.1-cp311-cp311-win_amd64.whl.metadata (12 kB)\n",
      "Collecting multidict<7.0,>=4.5 (from aiohttp->pyscenic)\n",
      "  Using cached multidict-6.0.5-cp311-cp311-win_amd64.whl.metadata (4.3 kB)\n",
      "Collecting yarl<2.0,>=1.0 (from aiohttp->pyscenic)\n",
      "  Using cached yarl-1.9.4-cp311-cp311-win_amd64.whl.metadata (32 kB)\n",
      "Collecting toolz>=0.8.0 (from cytoolz->pyscenic)\n",
      "  Using cached toolz-0.12.1-py3-none-any.whl.metadata (5.1 kB)\n",
      "Collecting click>=8.1 (from dask->pyscenic)\n",
      "  Using cached click-8.1.7-py3-none-any.whl.metadata (3.0 kB)\n",
      "Requirement already satisfied: packaging>=20.0 in c:\\users\\lishe\\documents\\github\\programming-study\\.conda\\lib\\site-packages (from dask->pyscenic) (24.1)\n",
      "Collecting partd>=1.2.0 (from dask->pyscenic)\n",
      "  Using cached partd-1.4.2-py3-none-any.whl.metadata (4.6 kB)\n",
      "Requirement already satisfied: importlib-metadata>=4.13.0 in c:\\users\\lishe\\documents\\github\\programming-study\\.conda\\lib\\site-packages (from dask->pyscenic) (7.2.0)\n",
      "Collecting jinja2>=2.10.3 (from distributed->pyscenic)\n",
      "  Using cached jinja2-3.1.4-py3-none-any.whl.metadata (2.6 kB)\n",
      "Collecting locket>=1.0.0 (from distributed->pyscenic)\n",
      "  Using cached locket-1.0.0-py2.py3-none-any.whl.metadata (2.8 kB)\n",
      "Collecting msgpack>=1.0.0 (from distributed->pyscenic)\n",
      "  Using cached msgpack-1.0.8-cp311-cp311-win_amd64.whl.metadata (9.4 kB)\n",
      "Requirement already satisfied: psutil>=5.7.2 in c:\\users\\lishe\\documents\\github\\programming-study\\.conda\\lib\\site-packages (from distributed->pyscenic) (5.9.8)\n",
      "Collecting sortedcontainers>=2.0.5 (from distributed->pyscenic)\n",
      "  Using cached sortedcontainers-2.4.0-py2.py3-none-any.whl.metadata (10 kB)\n",
      "Collecting tblib>=1.6.0 (from distributed->pyscenic)\n",
      "  Using cached tblib-3.0.0-py3-none-any.whl.metadata (25 kB)\n",
      "Requirement already satisfied: tornado>=6.0.4 in c:\\users\\lishe\\documents\\github\\programming-study\\.conda\\lib\\site-packages (from distributed->pyscenic) (6.4.1)\n",
      "Collecting urllib3>=1.24.3 (from distributed->pyscenic)\n",
      "  Using cached urllib3-2.2.2-py3-none-any.whl.metadata (6.4 kB)\n",
      "Collecting zict>=3.0.0 (from distributed->pyscenic)\n",
      "  Using cached zict-3.0.0-py2.py3-none-any.whl.metadata (899 bytes)\n",
      "Collecting h5py (from loompy->pyscenic)\n",
      "  Using cached h5py-3.11.0-cp311-cp311-win_amd64.whl.metadata (2.5 kB)\n",
      "Collecting numpy-groupies (from loompy->pyscenic)\n",
      "  Using cached numpy_groupies-0.11.1-py3-none-any.whl.metadata (18 kB)\n",
      "Collecting dill (from multiprocessing-on-dill->pyscenic)\n",
      "  Using cached dill-0.3.8-py3-none-any.whl.metadata (10 kB)\n",
      "Collecting charset-normalizer<4,>=2 (from requests->pyscenic)\n",
      "  Using cached charset_normalizer-3.3.2-cp311-cp311-win_amd64.whl.metadata (34 kB)\n",
      "Collecting idna<4,>=2.5 (from requests->pyscenic)\n",
      "  Using cached idna-3.7-py3-none-any.whl.metadata (9.9 kB)\n",
      "Collecting certifi>=2017.4.17 (from requests->pyscenic)\n",
      "  Using cached certifi-2024.6.2-py3-none-any.whl.metadata (2.2 kB)\n",
      "Requirement already satisfied: colorama in c:\\users\\lishe\\documents\\github\\programming-study\\.conda\\lib\\site-packages (from tqdm->pyscenic) (0.4.6)\n",
      "Collecting pynndescent>=0.5 (from umap-learn->pyscenic)\n",
      "  Using cached pynndescent-0.5.13-py3-none-any.whl.metadata (6.8 kB)\n",
      "Requirement already satisfied: zipp>=0.5 in c:\\users\\lishe\\documents\\github\\programming-study\\.conda\\lib\\site-packages (from importlib-metadata>=4.13.0->dask->pyscenic) (3.19.2)\n",
      "Collecting MarkupSafe>=2.0 (from jinja2>=2.10.3->distributed->pyscenic)\n",
      "  Using cached MarkupSafe-2.1.5-cp311-cp311-win_amd64.whl.metadata (3.1 kB)\n",
      "Requirement already satisfied: six>=1.5 in c:\\users\\lishe\\documents\\github\\programming-study\\.conda\\lib\\site-packages (from python-dateutil>=2.8.2->pandas>=1.3.5->pyscenic) (1.16.0)\n",
      "Collecting pyarrow-hotfix (from dask[complete]->arboreto>=0.1.6->pyscenic)\n",
      "  Using cached pyarrow_hotfix-0.6-py3-none-any.whl.metadata (3.6 kB)\n",
      "Collecting lz4>=4.3.2 (from dask[complete]->arboreto>=0.1.6->pyscenic)\n",
      "  Using cached lz4-4.3.3-cp311-cp311-win_amd64.whl.metadata (3.8 kB)\n",
      "Collecting dask-expr<1.2,>=1.1 (from dask->pyscenic)\n",
      "  Using cached dask_expr-1.1.5-py3-none-any.whl.metadata (2.5 kB)\n",
      "Collecting bokeh>=2.4.2 (from dask->pyscenic)\n",
      "  Using cached bokeh-3.4.1-py3-none-any.whl.metadata (12 kB)\n",
      "Collecting contourpy>=1.2 (from bokeh>=2.4.2->dask->pyscenic)\n",
      "  Using cached contourpy-1.2.1-cp311-cp311-win_amd64.whl.metadata (5.8 kB)\n",
      "Collecting pillow>=7.1.0 (from bokeh>=2.4.2->dask->pyscenic)\n",
      "  Using cached pillow-10.3.0-cp311-cp311-win_amd64.whl.metadata (9.4 kB)\n",
      "Collecting xyzservices>=2021.09.1 (from bokeh>=2.4.2->dask->pyscenic)\n",
      "  Using cached xyzservices-2024.6.0-py3-none-any.whl.metadata (4.0 kB)\n",
      "Using cached pyscenic-0.12.1-py3-none-any.whl (7.1 MB)\n",
      "Using cached arboreto-0.1.6-py2.py3-none-any.whl (15 kB)\n",
      "Using cached ctxcore-0.2.0-py3-none-any.whl (5.8 MB)\n",
      "Using cached numba-0.60.0-cp311-cp311-win_amd64.whl (2.7 MB)\n",
      "Using cached llvmlite-0.43.0-cp311-cp311-win_amd64.whl (28.1 MB)\n",
      "Using cached scikit_learn-1.5.0-cp311-cp311-win_amd64.whl (11.0 MB)\n",
      "Using cached scipy-1.13.1-cp311-cp311-win_amd64.whl (46.2 MB)\n",
      "Using cached aiohttp-3.9.5-cp311-cp311-win_amd64.whl (370 kB)\n",
      "Using cached attrs-23.2.0-py3-none-any.whl (60 kB)\n",
      "Using cached boltons-24.0.0-py3-none-any.whl (191 kB)\n",
      "Using cached cloudpickle-3.0.0-py3-none-any.whl (20 kB)\n",
      "Using cached cytoolz-0.12.3-cp311-cp311-win_amd64.whl (363 kB)\n",
      "Using cached dask-2024.6.2-py3-none-any.whl (1.2 MB)\n",
      "Using cached fsspec-2024.6.0-py3-none-any.whl (176 kB)\n",
      "Using cached PyYAML-6.0.1-cp311-cp311-win_amd64.whl (144 kB)\n",
      "Using cached distributed-2024.6.2-py3-none-any.whl (1.0 MB)\n",
      "Using cached frozendict-2.4.4-py311-none-any.whl (16 kB)\n",
      "Using cached networkx-3.3-py3-none-any.whl (1.7 MB)\n",
      "Using cached numexpr-2.10.1-cp311-cp311-win_amd64.whl (141 kB)\n",
      "Using cached requests-2.32.3-py3-none-any.whl (64 kB)\n",
      "Using cached tqdm-4.66.4-py3-none-any.whl (78 kB)\n",
      "Using cached umap_learn-0.5.6-py3-none-any.whl (85 kB)\n",
      "Using cached aiosignal-1.3.1-py3-none-any.whl (7.6 kB)\n",
      "Using cached certifi-2024.6.2-py3-none-any.whl (164 kB)\n",
      "Using cached charset_normalizer-3.3.2-cp311-cp311-win_amd64.whl (99 kB)\n",
      "Using cached click-8.1.7-py3-none-any.whl (97 kB)\n",
      "Using cached frozenlist-1.4.1-cp311-cp311-win_amd64.whl (50 kB)\n",
      "Using cached idna-3.7-py3-none-any.whl (66 kB)\n",
      "Using cached jinja2-3.1.4-py3-none-any.whl (133 kB)\n",
      "Using cached joblib-1.4.2-py3-none-any.whl (301 kB)\n",
      "Using cached locket-1.0.0-py2.py3-none-any.whl (4.4 kB)\n",
      "Using cached msgpack-1.0.8-cp311-cp311-win_amd64.whl (75 kB)\n",
      "Using cached multidict-6.0.5-cp311-cp311-win_amd64.whl (28 kB)\n",
      "Using cached partd-1.4.2-py3-none-any.whl (18 kB)\n",
      "Using cached pyarrow-16.1.0-cp311-cp311-win_amd64.whl (25.9 MB)\n",
      "Using cached pynndescent-0.5.13-py3-none-any.whl (56 kB)\n",
      "Using cached sortedcontainers-2.4.0-py2.py3-none-any.whl (29 kB)\n",
      "Using cached tblib-3.0.0-py3-none-any.whl (12 kB)\n",
      "Using cached threadpoolctl-3.5.0-py3-none-any.whl (18 kB)\n",
      "Using cached toolz-0.12.1-py3-none-any.whl (56 kB)\n",
      "Using cached urllib3-2.2.2-py3-none-any.whl (121 kB)\n",
      "Using cached yarl-1.9.4-cp311-cp311-win_amd64.whl (76 kB)\n",
      "Using cached zict-3.0.0-py2.py3-none-any.whl (43 kB)\n",
      "Using cached dill-0.3.8-py3-none-any.whl (116 kB)\n",
      "Using cached h5py-3.11.0-cp311-cp311-win_amd64.whl (3.0 MB)\n",
      "Using cached numpy_groupies-0.11.1-py3-none-any.whl (40 kB)\n",
      "Using cached lz4-4.3.3-cp311-cp311-win_amd64.whl (99 kB)\n",
      "Using cached MarkupSafe-2.1.5-cp311-cp311-win_amd64.whl (17 kB)\n",
      "Using cached pyarrow_hotfix-0.6-py3-none-any.whl (7.9 kB)\n",
      "Using cached bokeh-3.4.1-py3-none-any.whl (7.0 MB)\n",
      "Using cached dask_expr-1.1.5-py3-none-any.whl (205 kB)\n",
      "Using cached contourpy-1.2.1-cp311-cp311-win_amd64.whl (188 kB)\n",
      "Using cached pillow-10.3.0-cp311-cp311-win_amd64.whl (2.5 MB)\n",
      "Using cached xyzservices-2024.6.0-py3-none-any.whl (83 kB)\n",
      "Installing collected packages: sortedcontainers, interlap, zict, xyzservices, urllib3, tqdm, toolz, threadpoolctl, tblib, scipy, pyyaml, pyarrow-hotfix, pyarrow, pillow, numpy-groupies, numexpr, networkx, multidict, msgpack, MarkupSafe, lz4, locket, llvmlite, joblib, idna, h5py, fsspec, frozenlist, frozendict, dill, contourpy, cloudpickle, click, charset-normalizer, certifi, boltons, attrs, yarl, scikit-learn, requests, partd, numba, multiprocessing-on-dill, jinja2, cytoolz, aiosignal, pynndescent, loompy, dask, ctxcore, bokeh, aiohttp, umap-learn, distributed, dask-expr, arboreto, pyscenic\n",
      "Successfully installed MarkupSafe-2.1.5 aiohttp-3.9.5 aiosignal-1.3.1 arboreto-0.1.6 attrs-23.2.0 bokeh-3.4.1 boltons-24.0.0 certifi-2024.6.2 charset-normalizer-3.3.2 click-8.1.7 cloudpickle-3.0.0 contourpy-1.2.1 ctxcore-0.2.0 cytoolz-0.12.3 dask-2024.6.2 dask-expr-1.1.5 dill-0.3.8 distributed-2024.6.2 frozendict-2.4.4 frozenlist-1.4.1 fsspec-2024.6.0 h5py-3.11.0 idna-3.7 interlap-0.2.7 jinja2-3.1.4 joblib-1.4.2 llvmlite-0.43.0 locket-1.0.0 loompy-3.0.7 lz4-4.3.3 msgpack-1.0.8 multidict-6.0.5 multiprocessing-on-dill-3.5.0a4 networkx-3.3 numba-0.60.0 numexpr-2.10.1 numpy-groupies-0.11.1 partd-1.4.2 pillow-10.3.0 pyarrow-16.1.0 pyarrow-hotfix-0.6 pynndescent-0.5.13 pyscenic-0.12.1 pyyaml-6.0.1 requests-2.32.3 scikit-learn-1.5.0 scipy-1.13.1 sortedcontainers-2.4.0 tblib-3.0.0 threadpoolctl-3.5.0 toolz-0.12.1 tqdm-4.66.4 umap-learn-0.5.6 urllib3-2.2.2 xyzservices-2024.6.0 yarl-1.9.4 zict-3.0.0\n",
      "Note: you may need to restart the kernel to use updated packages.\n"
     ]
    }
   ],
   "source": [
    "pip install pyscenic"
   ]
  },
  {
   "cell_type": "code",
   "execution_count": null,
   "metadata": {},
   "outputs": [],
   "source": [
    "pip install scipy"
   ]
  },
  {
   "cell_type": "markdown",
   "metadata": {},
   "source": [
    "# For creating graph (g = nx.Graph())"
   ]
  },
  {
   "cell_type": "code",
   "execution_count": null,
   "metadata": {},
   "outputs": [],
   "source": [
    "pip install Networkx"
   ]
  },
  {
   "cell_type": "code",
   "execution_count": null,
   "metadata": {},
   "outputs": [],
   "source": [
    "pip install pydot"
   ]
  },
  {
   "cell_type": "code",
   "execution_count": null,
   "metadata": {},
   "outputs": [],
   "source": [
    "pip install graphviz"
   ]
  },
  {
   "cell_type": "code",
   "execution_count": null,
   "metadata": {},
   "outputs": [],
   "source": [
    "# if  [WinError 2] \"dot\" not found in path.\n",
    "#Download: https://www.graphviz.org/download/"
   ]
  },
  {
   "cell_type": "markdown",
   "metadata": {},
   "source": [
    "# For drawing graph (nx.draw_networkx(g))"
   ]
  },
  {
   "cell_type": "code",
   "execution_count": null,
   "metadata": {},
   "outputs": [],
   "source": [
    "pip install matplotlib"
   ]
  },
  {
   "cell_type": "code",
   "execution_count": null,
   "metadata": {},
   "outputs": [],
   "source": [
    "pip install lxml"
   ]
  },
  {
   "cell_type": "code",
   "execution_count": null,
   "metadata": {},
   "outputs": [],
   "source": [
    "pip install html5lib"
   ]
  },
  {
   "cell_type": "code",
   "execution_count": null,
   "metadata": {},
   "outputs": [],
   "source": [
    "pip install ipympl"
   ]
  },
  {
   "cell_type": "code",
   "execution_count": null,
   "metadata": {},
   "outputs": [],
   "source": [
    "pip install scikit-learn"
   ]
  },
  {
   "cell_type": "code",
   "execution_count": null,
   "metadata": {},
   "outputs": [],
   "source": [
    "pip install utils"
   ]
  },
  {
   "cell_type": "code",
   "execution_count": null,
   "metadata": {},
   "outputs": [],
   "source": [
    "pip install seaborn"
   ]
  },
  {
   "cell_type": "markdown",
   "metadata": {},
   "source": [
    "#Download and install nodejs from https://nodejs.org/en/"
   ]
  },
  {
   "cell_type": "code",
   "execution_count": null,
   "metadata": {},
   "outputs": [],
   "source": [
    "pip install ipywidgets"
   ]
  },
  {
   "cell_type": "code",
   "execution_count": null,
   "metadata": {},
   "outputs": [],
   "source": [
    "pip install peakutils"
   ]
  },
  {
   "cell_type": "markdown",
   "metadata": {},
   "source": [
    "openai for Generative AI purpose (ChatGPT)"
   ]
  },
  {
   "cell_type": "code",
   "execution_count": null,
   "metadata": {},
   "outputs": [],
   "source": [
    "pip install openai"
   ]
  },
  {
   "cell_type": "markdown",
   "metadata": {},
   "source": [
    "Tensorflow for machine learning"
   ]
  },
  {
   "cell_type": "code",
   "execution_count": null,
   "metadata": {},
   "outputs": [],
   "source": [
    "pip install tensorflow"
   ]
  },
  {
   "cell_type": "markdown",
   "metadata": {},
   "source": [
    "sympy for calculus calculation"
   ]
  },
  {
   "cell_type": "code",
   "execution_count": null,
   "metadata": {},
   "outputs": [],
   "source": [
    "pip install sympy"
   ]
  },
  {
   "cell_type": "code",
   "execution_count": null,
   "metadata": {},
   "outputs": [],
   "source": [
    "pip install nbconvert\n"
   ]
  },
  {
   "cell_type": "code",
   "execution_count": null,
   "metadata": {},
   "outputs": [],
   "source": [
    "pip install xgboost"
   ]
  },
  {
   "cell_type": "code",
   "execution_count": null,
   "metadata": {},
   "outputs": [],
   "source": [
    "pip install tabulate"
   ]
  },
  {
   "cell_type": "code",
   "execution_count": null,
   "metadata": {},
   "outputs": [],
   "source": [
    "pip install plotly"
   ]
  },
  {
   "cell_type": "code",
   "execution_count": null,
   "metadata": {},
   "outputs": [],
   "source": [
    "pip install nbformat"
   ]
  },
  {
   "cell_type": "code",
   "execution_count": null,
   "metadata": {},
   "outputs": [],
   "source": [
    "pip install gym"
   ]
  },
  {
   "cell_type": "markdown",
   "metadata": {},
   "source": [
    "Download swig for install box2d: "
   ]
  },
  {
   "cell_type": "code",
   "execution_count": null,
   "metadata": {},
   "outputs": [],
   "source": [
    "pip install swig"
   ]
  },
  {
   "cell_type": "code",
   "execution_count": null,
   "metadata": {},
   "outputs": [],
   "source": [
    "pip install wheel setuptools pip --upgrade"
   ]
  },
  {
   "cell_type": "markdown",
   "metadata": {},
   "source": [
    "Install Microsoft C++ Build tool, such as: Microsoft Visual C++ Redistributable for Visual Studio 2022 (https://visualstudio.microsoft.com/downloads/)"
   ]
  },
  {
   "cell_type": "code",
   "execution_count": null,
   "metadata": {},
   "outputs": [],
   "source": [
    "pip install box2d box2d-kengz"
   ]
  },
  {
   "cell_type": "code",
   "execution_count": null,
   "metadata": {},
   "outputs": [],
   "source": [
    "pip install imageio"
   ]
  },
  {
   "cell_type": "code",
   "execution_count": null,
   "metadata": {},
   "outputs": [],
   "source": [
    "pip install pyvirtualdisplay"
   ]
  },
  {
   "cell_type": "code",
   "execution_count": null,
   "metadata": {},
   "outputs": [],
   "source": [
    "pip install ffmpeg"
   ]
  },
  {
   "cell_type": "code",
   "execution_count": null,
   "metadata": {},
   "outputs": [],
   "source": [
    "pip install xvfbwrapper"
   ]
  },
  {
   "cell_type": "code",
   "execution_count": null,
   "metadata": {},
   "outputs": [],
   "source": [
    "pip install statsmodels"
   ]
  },
  {
   "cell_type": "code",
   "execution_count": null,
   "metadata": {},
   "outputs": [],
   "source": [
    "pip install numpy pandas arch"
   ]
  },
  {
   "cell_type": "code",
   "execution_count": null,
   "metadata": {},
   "outputs": [],
   "source": [
    "pip install factor-analyzer"
   ]
  },
  {
   "cell_type": "code",
   "execution_count": null,
   "metadata": {},
   "outputs": [],
   "source": [
    "pip install Cmake"
   ]
  },
  {
   "cell_type": "code",
   "execution_count": null,
   "metadata": {},
   "outputs": [],
   "source": [
    "pip install cvxpy"
   ]
  },
  {
   "cell_type": "markdown",
   "metadata": {},
   "source": []
  },
  {
   "cell_type": "code",
   "execution_count": null,
   "metadata": {},
   "outputs": [],
   "source": [
    "pip install openpyxl"
   ]
  },
  {
   "cell_type": "code",
   "execution_count": null,
   "metadata": {},
   "outputs": [],
   "source": [
    "pip install xlsxwriter"
   ]
  },
  {
   "cell_type": "code",
   "execution_count": null,
   "metadata": {},
   "outputs": [],
   "source": []
  }
 ],
 "metadata": {
  "kernelspec": {
   "display_name": "Python 3",
   "language": "python",
   "name": "python3"
  },
  "language_info": {
   "codemirror_mode": {
    "name": "ipython",
    "version": 3
   },
   "file_extension": ".py",
   "mimetype": "text/x-python",
   "name": "python",
   "nbconvert_exporter": "python",
   "pygments_lexer": "ipython3",
   "version": "3.11.9"
  }
 },
 "nbformat": 4,
 "nbformat_minor": 2
}
