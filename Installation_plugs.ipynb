{
 "cells": [
  {
   "cell_type": "code",
   "execution_count": null,
   "metadata": {},
   "outputs": [],
   "source": [
    "pip install --upgrade pip"
   ]
  },
  {
   "cell_type": "code",
   "execution_count": null,
   "metadata": {},
   "outputs": [],
   "source": [
    "pip install beautifulsoup4"
   ]
  },
  {
   "cell_type": "code",
   "execution_count": null,
   "metadata": {},
   "outputs": [],
   "source": [
    "pip install numpy"
   ]
  },
  {
   "cell_type": "code",
   "execution_count": null,
   "metadata": {},
   "outputs": [],
   "source": [
    "pip install Pillow"
   ]
  },
  {
   "cell_type": "code",
   "execution_count": null,
   "metadata": {},
   "outputs": [],
   "source": [
    "pip install pandas"
   ]
  },
  {
   "cell_type": "code",
   "execution_count": null,
   "metadata": {},
   "outputs": [],
   "source": [
    "pip install pyscenic"
   ]
  },
  {
   "cell_type": "code",
   "execution_count": null,
   "metadata": {},
   "outputs": [],
   "source": [
    "pip install scipy"
   ]
  },
  {
   "cell_type": "markdown",
   "metadata": {},
   "source": [
    "# For creating graph (g = nx.Graph())"
   ]
  },
  {
   "cell_type": "code",
   "execution_count": null,
   "metadata": {},
   "outputs": [],
   "source": [
    "pip install Networkx"
   ]
  },
  {
   "cell_type": "code",
   "execution_count": null,
   "metadata": {},
   "outputs": [],
   "source": [
    "pip install pydot"
   ]
  },
  {
   "cell_type": "code",
   "execution_count": null,
   "metadata": {},
   "outputs": [],
   "source": [
    "pip install graphviz"
   ]
  },
  {
   "cell_type": "code",
   "execution_count": null,
   "metadata": {},
   "outputs": [],
   "source": [
    "# if  [WinError 2] \"dot\" not found in path.\n",
    "#Download: https://www.graphviz.org/download/"
   ]
  },
  {
   "cell_type": "markdown",
   "metadata": {},
   "source": [
    "# For drawing graph (nx.draw_networkx(g))"
   ]
  },
  {
   "cell_type": "code",
   "execution_count": null,
   "metadata": {},
   "outputs": [],
   "source": [
    "pip install matplotlib"
   ]
  },
  {
   "cell_type": "code",
   "execution_count": null,
   "metadata": {},
   "outputs": [],
   "source": [
    "pip install lxml"
   ]
  },
  {
   "cell_type": "code",
   "execution_count": null,
   "metadata": {},
   "outputs": [],
   "source": [
    "pip install html5lib"
   ]
  },
  {
   "cell_type": "code",
   "execution_count": null,
   "metadata": {},
   "outputs": [],
   "source": [
    "pip install ipympl"
   ]
  },
  {
   "cell_type": "code",
   "execution_count": null,
   "metadata": {},
   "outputs": [],
   "source": [
    "pip install scikit-learn"
   ]
  },
  {
   "cell_type": "code",
   "execution_count": null,
   "metadata": {},
   "outputs": [],
   "source": [
    "pip install utils"
   ]
  },
  {
   "cell_type": "code",
   "execution_count": null,
   "metadata": {},
   "outputs": [],
   "source": [
    "pip install seaborn"
   ]
  },
  {
   "cell_type": "markdown",
   "metadata": {},
   "source": [
    "#Download and install nodejs from https://nodejs.org/en/"
   ]
  },
  {
   "cell_type": "code",
   "execution_count": null,
   "metadata": {},
   "outputs": [],
   "source": [
    "pip install ipywidgets"
   ]
  },
  {
   "cell_type": "code",
   "execution_count": null,
   "metadata": {},
   "outputs": [],
   "source": [
    "pip install peakutils"
   ]
  },
  {
   "cell_type": "markdown",
   "metadata": {},
   "source": [
    "openai for Generative AI purpose (ChatGPT)"
   ]
  },
  {
   "cell_type": "code",
   "execution_count": null,
   "metadata": {},
   "outputs": [],
   "source": [
    "pip install openai"
   ]
  },
  {
   "cell_type": "markdown",
   "metadata": {},
   "source": [
    "Tensorflow for machine learning"
   ]
  },
  {
   "cell_type": "code",
   "execution_count": null,
   "metadata": {},
   "outputs": [],
   "source": [
    "pip install tensorflow"
   ]
  },
  {
   "cell_type": "markdown",
   "metadata": {},
   "source": [
    "sympy for calculus calculation"
   ]
  },
  {
   "cell_type": "code",
   "execution_count": null,
   "metadata": {},
   "outputs": [],
   "source": [
    "pip install sympy"
   ]
  },
  {
   "cell_type": "code",
   "execution_count": null,
   "metadata": {},
   "outputs": [],
   "source": [
    "pip install nbconvert\n"
   ]
  },
  {
   "cell_type": "code",
   "execution_count": null,
   "metadata": {},
   "outputs": [],
   "source": [
    "pip install xgboost"
   ]
  },
  {
   "cell_type": "code",
   "execution_count": null,
   "metadata": {},
   "outputs": [],
   "source": [
    "pip install tabulate"
   ]
  },
  {
   "cell_type": "code",
   "execution_count": null,
   "metadata": {},
   "outputs": [],
   "source": [
    "pip install plotly"
   ]
  },
  {
   "cell_type": "code",
   "execution_count": null,
   "metadata": {},
   "outputs": [],
   "source": [
    "pip install nbformat"
   ]
  },
  {
   "cell_type": "code",
   "execution_count": null,
   "metadata": {},
   "outputs": [],
   "source": [
    "pip install gym"
   ]
  },
  {
   "cell_type": "markdown",
   "metadata": {},
   "source": [
    "Download swig for install box2d: "
   ]
  },
  {
   "cell_type": "code",
   "execution_count": null,
   "metadata": {},
   "outputs": [],
   "source": [
    "pip install swig"
   ]
  },
  {
   "cell_type": "code",
   "execution_count": null,
   "metadata": {},
   "outputs": [],
   "source": [
    "pip install box2d box2d-kengz"
   ]
  },
  {
   "cell_type": "code",
   "execution_count": null,
   "metadata": {},
   "outputs": [],
   "source": [
    "pip install imageio"
   ]
  },
  {
   "cell_type": "code",
   "execution_count": null,
   "metadata": {},
   "outputs": [],
   "source": [
    "pip install pyvirtualdisplay"
   ]
  },
  {
   "cell_type": "code",
   "execution_count": null,
   "metadata": {},
   "outputs": [],
   "source": [
    "pip install ffmpeg"
   ]
  },
  {
   "cell_type": "code",
   "execution_count": null,
   "metadata": {},
   "outputs": [],
   "source": [
    "pip install xvfbwrapper"
   ]
  },
  {
   "cell_type": "code",
   "execution_count": 1,
   "metadata": {},
   "outputs": [
    {
     "name": "stdout",
     "output_type": "stream",
     "text": [
      "Collecting statsmodels\n",
      "  Downloading statsmodels-0.14.0-cp311-cp311-win_amd64.whl (9.2 MB)\n",
      "     ---------------------------------------- 0.0/9.2 MB ? eta -:--:--\n",
      "     ---------------------------------------- 0.0/9.2 MB ? eta -:--:--\n",
      "     ---------------------------------------- 0.0/9.2 MB ? eta -:--:--\n",
      "     ---------------------------------------- 0.0/9.2 MB 281.8 kB/s eta 0:00:33\n",
      "     ---------------------------------------- 0.1/9.2 MB 365.7 kB/s eta 0:00:25\n",
      "     ---------------------------------------- 0.1/9.2 MB 504.4 kB/s eta 0:00:18\n",
      "      --------------------------------------- 0.2/9.2 MB 655.4 kB/s eta 0:00:14\n",
      "      --------------------------------------- 0.2/9.2 MB 695.5 kB/s eta 0:00:13\n",
      "      --------------------------------------- 0.2/9.2 MB 695.5 kB/s eta 0:00:13\n",
      "     - -------------------------------------- 0.2/9.2 MB 554.9 kB/s eta 0:00:17\n",
      "     - -------------------------------------- 0.4/9.2 MB 791.2 kB/s eta 0:00:12\n",
      "     - -------------------------------------- 0.4/9.2 MB 791.2 kB/s eta 0:00:12\n",
      "     - -------------------------------------- 0.4/9.2 MB 791.2 kB/s eta 0:00:12\n",
      "     -- ------------------------------------- 0.6/9.2 MB 1.1 MB/s eta 0:00:08\n",
      "     -- ------------------------------------- 0.7/9.2 MB 1.0 MB/s eta 0:00:09\n",
      "     -- ------------------------------------- 0.7/9.2 MB 1.0 MB/s eta 0:00:09\n",
      "     -- ------------------------------------- 0.7/9.2 MB 1.0 MB/s eta 0:00:09\n",
      "     --- ------------------------------------ 0.8/9.2 MB 957.1 kB/s eta 0:00:09\n",
      "     --- ------------------------------------ 0.9/9.2 MB 1.0 MB/s eta 0:00:09\n",
      "     ---- ----------------------------------- 1.0/9.2 MB 1.1 MB/s eta 0:00:08\n",
      "     ----- ---------------------------------- 1.2/9.2 MB 1.3 MB/s eta 0:00:07\n",
      "     ----- ---------------------------------- 1.3/9.2 MB 1.3 MB/s eta 0:00:07\n",
      "     ------ --------------------------------- 1.4/9.2 MB 1.4 MB/s eta 0:00:06\n",
      "     ------ --------------------------------- 1.5/9.2 MB 1.4 MB/s eta 0:00:06\n",
      "     ------ --------------------------------- 1.5/9.2 MB 1.4 MB/s eta 0:00:06\n",
      "     ------ --------------------------------- 1.5/9.2 MB 1.4 MB/s eta 0:00:06\n",
      "     ------ --------------------------------- 1.6/9.2 MB 1.3 MB/s eta 0:00:06\n",
      "     ------- -------------------------------- 1.6/9.2 MB 1.3 MB/s eta 0:00:06\n",
      "     ------- -------------------------------- 1.6/9.2 MB 1.3 MB/s eta 0:00:06\n",
      "     ------- -------------------------------- 1.7/9.2 MB 1.3 MB/s eta 0:00:06\n",
      "     ------- -------------------------------- 1.7/9.2 MB 1.3 MB/s eta 0:00:06\n",
      "     ------- -------------------------------- 1.7/9.2 MB 1.3 MB/s eta 0:00:06\n",
      "     -------- ------------------------------- 1.9/9.2 MB 1.3 MB/s eta 0:00:06\n",
      "     -------- ------------------------------- 1.9/9.2 MB 1.3 MB/s eta 0:00:06\n",
      "     -------- ------------------------------- 1.9/9.2 MB 1.3 MB/s eta 0:00:06\n",
      "     -------- ------------------------------- 1.9/9.2 MB 1.3 MB/s eta 0:00:06\n",
      "     -------- ------------------------------- 1.9/9.2 MB 1.2 MB/s eta 0:00:07\n",
      "     -------- ------------------------------- 1.9/9.2 MB 1.2 MB/s eta 0:00:07\n",
      "     -------- ------------------------------- 2.1/9.2 MB 1.2 MB/s eta 0:00:07\n",
      "     ---------- ----------------------------- 2.5/9.2 MB 1.4 MB/s eta 0:00:05\n",
      "     ---------- ----------------------------- 2.5/9.2 MB 1.4 MB/s eta 0:00:05\n",
      "     ----------- ---------------------------- 2.5/9.2 MB 1.3 MB/s eta 0:00:05\n",
      "     ----------- ---------------------------- 2.7/9.2 MB 1.4 MB/s eta 0:00:05\n",
      "     ----------- ---------------------------- 2.7/9.2 MB 1.4 MB/s eta 0:00:05\n",
      "     ----------- ---------------------------- 2.7/9.2 MB 1.4 MB/s eta 0:00:05\n",
      "     ----------- ---------------------------- 2.7/9.2 MB 1.4 MB/s eta 0:00:05\n",
      "     ----------- ---------------------------- 2.7/9.2 MB 1.3 MB/s eta 0:00:06\n",
      "     ------------ --------------------------- 2.9/9.2 MB 1.3 MB/s eta 0:00:05\n",
      "     ------------- -------------------------- 3.0/9.2 MB 1.3 MB/s eta 0:00:05\n",
      "     ------------- -------------------------- 3.2/9.2 MB 1.4 MB/s eta 0:00:05\n",
      "     -------------- ------------------------- 3.3/9.2 MB 1.4 MB/s eta 0:00:05\n",
      "     -------------- ------------------------- 3.4/9.2 MB 1.5 MB/s eta 0:00:04\n",
      "     -------------- ------------------------- 3.4/9.2 MB 1.5 MB/s eta 0:00:04\n",
      "     --------------- ------------------------ 3.5/9.2 MB 1.4 MB/s eta 0:00:05\n",
      "     --------------- ------------------------ 3.6/9.2 MB 1.5 MB/s eta 0:00:04\n",
      "     ---------------- ----------------------- 3.8/9.2 MB 1.5 MB/s eta 0:00:04\n",
      "     ---------------- ----------------------- 3.9/9.2 MB 1.5 MB/s eta 0:00:04\n",
      "     ----------------- ---------------------- 3.9/9.2 MB 1.5 MB/s eta 0:00:04\n",
      "     ----------------- ---------------------- 4.0/9.2 MB 1.5 MB/s eta 0:00:04\n",
      "     ----------------- ---------------------- 4.1/9.2 MB 1.5 MB/s eta 0:00:04\n",
      "     ------------------ --------------------- 4.2/9.2 MB 1.5 MB/s eta 0:00:04\n",
      "     ------------------ --------------------- 4.3/9.2 MB 1.5 MB/s eta 0:00:04\n",
      "     ------------------- -------------------- 4.4/9.2 MB 1.5 MB/s eta 0:00:04\n",
      "     ------------------- -------------------- 4.4/9.2 MB 1.5 MB/s eta 0:00:04\n",
      "     ------------------- -------------------- 4.5/9.2 MB 1.5 MB/s eta 0:00:04\n",
      "     ------------------- -------------------- 4.5/9.2 MB 1.5 MB/s eta 0:00:04\n",
      "     ------------------- -------------------- 4.5/9.2 MB 1.5 MB/s eta 0:00:04\n",
      "     ------------------- -------------------- 4.6/9.2 MB 1.5 MB/s eta 0:00:04\n",
      "     -------------------- ------------------- 4.8/9.2 MB 1.5 MB/s eta 0:00:03\n",
      "     --------------------- ------------------ 4.9/9.2 MB 1.5 MB/s eta 0:00:03\n",
      "     --------------------- ------------------ 5.0/9.2 MB 1.5 MB/s eta 0:00:03\n",
      "     ---------------------- ----------------- 5.1/9.2 MB 1.5 MB/s eta 0:00:03\n",
      "     ---------------------- ----------------- 5.1/9.2 MB 1.5 MB/s eta 0:00:03\n",
      "     ---------------------- ----------------- 5.2/9.2 MB 1.6 MB/s eta 0:00:03\n",
      "     ----------------------- ---------------- 5.3/9.2 MB 1.6 MB/s eta 0:00:03\n",
      "     ----------------------- ---------------- 5.4/9.2 MB 1.6 MB/s eta 0:00:03\n",
      "     ----------------------- ---------------- 5.5/9.2 MB 1.6 MB/s eta 0:00:03\n",
      "     ------------------------ --------------- 5.6/9.2 MB 1.6 MB/s eta 0:00:03\n",
      "     ------------------------ --------------- 5.7/9.2 MB 1.6 MB/s eta 0:00:03\n",
      "     ------------------------ --------------- 5.7/9.2 MB 1.6 MB/s eta 0:00:03\n",
      "     ------------------------ --------------- 5.7/9.2 MB 1.6 MB/s eta 0:00:03\n",
      "     ------------------------ --------------- 5.7/9.2 MB 1.6 MB/s eta 0:00:03\n",
      "     ------------------------- -------------- 5.8/9.2 MB 1.5 MB/s eta 0:00:03\n",
      "     -------------------------- ------------- 6.0/9.2 MB 1.6 MB/s eta 0:00:03\n",
      "     -------------------------- ------------- 6.1/9.2 MB 1.6 MB/s eta 0:00:02\n",
      "     -------------------------- ------------- 6.1/9.2 MB 1.6 MB/s eta 0:00:02\n",
      "     -------------------------- ------------- 6.1/9.2 MB 1.6 MB/s eta 0:00:02\n",
      "     -------------------------- ------------- 6.1/9.2 MB 1.6 MB/s eta 0:00:02\n",
      "     -------------------------- ------------- 6.1/9.2 MB 1.6 MB/s eta 0:00:02\n",
      "     ---------------------------- ----------- 6.5/9.2 MB 1.6 MB/s eta 0:00:02\n",
      "     ---------------------------- ----------- 6.5/9.2 MB 1.6 MB/s eta 0:00:02\n",
      "     ---------------------------- ----------- 6.5/9.2 MB 1.6 MB/s eta 0:00:02\n",
      "     ---------------------------- ----------- 6.5/9.2 MB 1.5 MB/s eta 0:00:02\n",
      "     ----------------------------- ---------- 6.7/9.2 MB 1.6 MB/s eta 0:00:02\n",
      "     ------------------------------ --------- 7.0/9.2 MB 1.6 MB/s eta 0:00:02\n",
      "     ------------------------------ --------- 7.0/9.2 MB 1.6 MB/s eta 0:00:02\n",
      "     ------------------------------ --------- 7.0/9.2 MB 1.6 MB/s eta 0:00:02\n",
      "     ------------------------------ --------- 7.0/9.2 MB 1.6 MB/s eta 0:00:02\n",
      "     ------------------------------ --------- 7.1/9.2 MB 1.6 MB/s eta 0:00:02\n",
      "     ------------------------------ --------- 7.1/9.2 MB 1.6 MB/s eta 0:00:02\n",
      "     ------------------------------ --------- 7.1/9.2 MB 1.6 MB/s eta 0:00:02\n",
      "     ------------------------------ --------- 7.1/9.2 MB 1.6 MB/s eta 0:00:02\n",
      "     ------------------------------ --------- 7.1/9.2 MB 1.6 MB/s eta 0:00:02\n",
      "     ------------------------------ --------- 7.1/9.2 MB 1.6 MB/s eta 0:00:02\n",
      "     -------------------------------- ------- 7.4/9.2 MB 1.5 MB/s eta 0:00:02\n",
      "     -------------------------------- ------- 7.5/9.2 MB 1.5 MB/s eta 0:00:02\n",
      "     ---------------------------------- ----- 7.8/9.2 MB 1.6 MB/s eta 0:00:01\n",
      "     ---------------------------------- ----- 7.9/9.2 MB 1.6 MB/s eta 0:00:01\n",
      "     ----------------------------------- ---- 8.2/9.2 MB 1.6 MB/s eta 0:00:01\n",
      "     ----------------------------------- ---- 8.2/9.2 MB 1.6 MB/s eta 0:00:01\n",
      "     ----------------------------------- ---- 8.2/9.2 MB 1.6 MB/s eta 0:00:01\n",
      "     ----------------------------------- ---- 8.2/9.2 MB 1.6 MB/s eta 0:00:01\n",
      "     ------------------------------------ --- 8.3/9.2 MB 1.6 MB/s eta 0:00:01\n",
      "     ------------------------------------ --- 8.4/9.2 MB 1.6 MB/s eta 0:00:01\n",
      "     ------------------------------------ --- 8.5/9.2 MB 1.6 MB/s eta 0:00:01\n",
      "     ------------------------------------- -- 8.5/9.2 MB 1.6 MB/s eta 0:00:01\n",
      "     ------------------------------------- -- 8.5/9.2 MB 1.6 MB/s eta 0:00:01\n",
      "     ------------------------------------- -- 8.5/9.2 MB 1.6 MB/s eta 0:00:01\n",
      "     ------------------------------------- -- 8.6/9.2 MB 1.6 MB/s eta 0:00:01\n",
      "     ------------------------------------- -- 8.6/9.2 MB 1.6 MB/s eta 0:00:01\n",
      "     -------------------------------------- - 8.8/9.2 MB 1.6 MB/s eta 0:00:01\n",
      "     ---------------------------------------  9.2/9.2 MB 1.6 MB/s eta 0:00:01\n",
      "     ---------------------------------------- 9.2/9.2 MB 1.6 MB/s eta 0:00:00\n",
      "Requirement already satisfied: numpy>=1.18 in c:\\users\\lishe\\appdata\\local\\packages\\pythonsoftwarefoundation.python.3.11_qbz5n2kfra8p0\\localcache\\local-packages\\python311\\site-packages (from statsmodels) (1.25.2)\n",
      "Requirement already satisfied: scipy!=1.9.2,>=1.4 in c:\\users\\lishe\\appdata\\local\\packages\\pythonsoftwarefoundation.python.3.11_qbz5n2kfra8p0\\localcache\\local-packages\\python311\\site-packages (from statsmodels) (1.11.3)\n",
      "Requirement already satisfied: pandas>=1.0 in c:\\users\\lishe\\appdata\\local\\packages\\pythonsoftwarefoundation.python.3.11_qbz5n2kfra8p0\\localcache\\local-packages\\python311\\site-packages (from statsmodels) (2.1.1)\n",
      "Collecting patsy>=0.5.2 (from statsmodels)\n",
      "  Downloading patsy-0.5.3-py2.py3-none-any.whl (233 kB)\n",
      "     ---------------------------------------- 0.0/233.8 kB ? eta -:--:--\n",
      "     ---------- ---------------------------- 61.4/233.8 kB 1.7 MB/s eta 0:00:01\n",
      "     ---------------------------- --------- 174.1/233.8 kB 1.8 MB/s eta 0:00:01\n",
      "     -------------------------------------- 233.8/233.8 kB 2.1 MB/s eta 0:00:00\n",
      "Requirement already satisfied: packaging>=21.3 in c:\\users\\lishe\\appdata\\local\\packages\\pythonsoftwarefoundation.python.3.11_qbz5n2kfra8p0\\localcache\\local-packages\\python311\\site-packages (from statsmodels) (23.2)\n",
      "Requirement already satisfied: python-dateutil>=2.8.2 in c:\\users\\lishe\\appdata\\local\\packages\\pythonsoftwarefoundation.python.3.11_qbz5n2kfra8p0\\localcache\\local-packages\\python311\\site-packages (from pandas>=1.0->statsmodels) (2.8.2)\n",
      "Requirement already satisfied: pytz>=2020.1 in c:\\users\\lishe\\appdata\\local\\packages\\pythonsoftwarefoundation.python.3.11_qbz5n2kfra8p0\\localcache\\local-packages\\python311\\site-packages (from pandas>=1.0->statsmodels) (2023.3.post1)\n",
      "Requirement already satisfied: tzdata>=2022.1 in c:\\users\\lishe\\appdata\\local\\packages\\pythonsoftwarefoundation.python.3.11_qbz5n2kfra8p0\\localcache\\local-packages\\python311\\site-packages (from pandas>=1.0->statsmodels) (2023.3)\n",
      "Requirement already satisfied: six in c:\\users\\lishe\\appdata\\local\\packages\\pythonsoftwarefoundation.python.3.11_qbz5n2kfra8p0\\localcache\\local-packages\\python311\\site-packages (from patsy>=0.5.2->statsmodels) (1.16.0)\n",
      "Installing collected packages: patsy, statsmodels\n",
      "Successfully installed patsy-0.5.3 statsmodels-0.14.0\n",
      "Note: you may need to restart the kernel to use updated packages.\n"
     ]
    }
   ],
   "source": [
    "pip install statsmodels"
   ]
  },
  {
   "cell_type": "code",
   "execution_count": null,
   "metadata": {},
   "outputs": [],
   "source": []
  }
 ],
 "metadata": {
  "kernelspec": {
   "display_name": "Python 3",
   "language": "python",
   "name": "python3"
  },
  "language_info": {
   "codemirror_mode": {
    "name": "ipython",
    "version": 3
   },
   "file_extension": ".py",
   "mimetype": "text/x-python",
   "name": "python",
   "nbconvert_exporter": "python",
   "pygments_lexer": "ipython3",
   "version": "3.11.6"
  }
 },
 "nbformat": 4,
 "nbformat_minor": 2
}
