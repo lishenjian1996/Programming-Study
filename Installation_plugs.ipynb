{
 "cells": [
  {
   "cell_type": "code",
   "execution_count": null,
   "metadata": {},
   "outputs": [],
   "source": [
    "pip install --upgrade pip"
   ]
  },
  {
   "cell_type": "code",
   "execution_count": null,
   "metadata": {},
   "outputs": [],
   "source": [
    "pip install beautifulsoup4"
   ]
  },
  {
   "cell_type": "code",
   "execution_count": null,
   "metadata": {},
   "outputs": [],
   "source": [
    "pip install numpy"
   ]
  },
  {
   "cell_type": "code",
   "execution_count": null,
   "metadata": {},
   "outputs": [],
   "source": [
    "pip install Pillow"
   ]
  },
  {
   "cell_type": "code",
   "execution_count": null,
   "metadata": {},
   "outputs": [],
   "source": [
    "pip install pandas"
   ]
  },
  {
   "cell_type": "code",
   "execution_count": null,
   "metadata": {},
   "outputs": [],
   "source": [
    "pip install pyscenic"
   ]
  },
  {
   "cell_type": "code",
   "execution_count": null,
   "metadata": {},
   "outputs": [],
   "source": [
    "pip install scipy"
   ]
  },
  {
   "cell_type": "markdown",
   "metadata": {},
   "source": [
    "# For creating graph (g = nx.Graph())"
   ]
  },
  {
   "cell_type": "code",
   "execution_count": null,
   "metadata": {},
   "outputs": [],
   "source": [
    "pip install Networkx"
   ]
  },
  {
   "cell_type": "markdown",
   "metadata": {},
   "source": [
    "# For drawing graph (nx.draw_networkx(g))"
   ]
  },
  {
   "cell_type": "code",
   "execution_count": null,
   "metadata": {},
   "outputs": [],
   "source": [
    "pip install matplotlib"
   ]
  },
  {
   "cell_type": "code",
   "execution_count": null,
   "metadata": {},
   "outputs": [],
   "source": [
    "pip install lxml"
   ]
  },
  {
   "cell_type": "code",
   "execution_count": null,
   "metadata": {},
   "outputs": [],
   "source": [
    "pip install html5lib"
   ]
  },
  {
   "cell_type": "code",
   "execution_count": null,
   "metadata": {},
   "outputs": [],
   "source": [
    "pip install ipympl"
   ]
  },
  {
   "cell_type": "code",
   "execution_count": null,
   "metadata": {},
   "outputs": [],
   "source": [
    "pip install scikit-learn"
   ]
  },
  {
   "cell_type": "code",
   "execution_count": null,
   "metadata": {},
   "outputs": [],
   "source": [
    "pip install utils"
   ]
  },
  {
   "cell_type": "code",
   "execution_count": null,
   "metadata": {},
   "outputs": [],
   "source": [
    "pip install seaborn"
   ]
  },
  {
   "cell_type": "markdown",
   "metadata": {},
   "source": [
    "#Download and install nodejs from https://nodejs.org/en/"
   ]
  },
  {
   "cell_type": "code",
   "execution_count": null,
   "metadata": {},
   "outputs": [],
   "source": [
    "pip install ipywidgets"
   ]
  },
  {
   "cell_type": "code",
   "execution_count": null,
   "metadata": {},
   "outputs": [],
   "source": [
    "pip install peakutils"
   ]
  },
  {
   "cell_type": "markdown",
   "metadata": {},
   "source": [
    "openai for Generative AI purpose (ChatGPT)"
   ]
  },
  {
   "cell_type": "code",
   "execution_count": null,
   "metadata": {},
   "outputs": [],
   "source": [
    "pip install openai"
   ]
  },
  {
   "cell_type": "markdown",
   "metadata": {},
   "source": [
    "Tensorflow for machine learning"
   ]
  },
  {
   "cell_type": "code",
   "execution_count": null,
   "metadata": {},
   "outputs": [],
   "source": [
    "pip install tensorflow"
   ]
  },
  {
   "cell_type": "markdown",
   "metadata": {},
   "source": [
    "sympy for calculus calculation"
   ]
  },
  {
   "cell_type": "code",
   "execution_count": 1,
   "metadata": {},
   "outputs": [
    {
     "name": "stdout",
     "output_type": "stream",
     "text": [
      "Collecting sympyNote: you may need to restart the kernel to use updated packages.\n",
      "\n",
      "  Downloading sympy-1.12-py3-none-any.whl (5.7 MB)\n",
      "     ---------------------------------------- 0.0/5.7 MB ? eta -:--:--\n",
      "     ---------------------------------------- 0.0/5.7 MB ? eta -:--:--\n",
      "     ---------------------------------------- 0.0/5.7 MB ? eta -:--:--\n",
      "     ---------------------------------------- 0.0/5.7 MB 279.3 kB/s eta 0:00:21\n",
      "     ---------------------------------------- 0.1/5.7 MB 409.6 kB/s eta 0:00:14\n",
      "      --------------------------------------- 0.1/5.7 MB 504.4 kB/s eta 0:00:12\n",
      "     - -------------------------------------- 0.2/5.7 MB 737.3 kB/s eta 0:00:08\n",
      "     - -------------------------------------- 0.3/5.7 MB 930.9 kB/s eta 0:00:06\n",
      "     --- ------------------------------------ 0.4/5.7 MB 1.3 MB/s eta 0:00:05\n",
      "     --- ------------------------------------ 0.6/5.7 MB 1.4 MB/s eta 0:00:04\n",
      "     ----- ---------------------------------- 0.8/5.7 MB 1.9 MB/s eta 0:00:03\n",
      "     ------- -------------------------------- 1.1/5.7 MB 2.3 MB/s eta 0:00:02\n",
      "     --------- ------------------------------ 1.4/5.7 MB 2.6 MB/s eta 0:00:02\n",
      "     ----------- ---------------------------- 1.7/5.7 MB 2.9 MB/s eta 0:00:02\n",
      "     ------------- -------------------------- 1.9/5.7 MB 3.1 MB/s eta 0:00:02\n",
      "     ---------------- ----------------------- 2.3/5.7 MB 3.5 MB/s eta 0:00:01\n",
      "     ------------------- -------------------- 2.8/5.7 MB 3.9 MB/s eta 0:00:01\n",
      "     ---------------------- ----------------- 3.3/5.7 MB 4.3 MB/s eta 0:00:01\n",
      "     -------------------------- ------------- 3.8/5.7 MB 4.6 MB/s eta 0:00:01\n",
      "     ------------------------------ --------- 4.3/5.7 MB 5.0 MB/s eta 0:00:01\n",
      "     -------------------------------- ------- 4.7/5.7 MB 5.3 MB/s eta 0:00:01\n",
      "     -------------------------------- ------- 4.7/5.7 MB 5.3 MB/s eta 0:00:01\n",
      "     --------------------------------- ------ 4.8/5.7 MB 4.8 MB/s eta 0:00:01\n",
      "     ------------------------------------- -- 5.4/5.7 MB 5.3 MB/s eta 0:00:01\n",
      "     ---------------------------------------  5.7/5.7 MB 5.3 MB/s eta 0:00:01\n",
      "     ---------------------------------------- 5.7/5.7 MB 5.2 MB/s eta 0:00:00\n",
      "Collecting mpmath>=0.19 (from sympy)\n",
      "  Downloading mpmath-1.3.0-py3-none-any.whl (536 kB)\n",
      "     ---------------------------------------- 0.0/536.2 kB ? eta -:--:--\n",
      "     ---------- ----------------------------- 143.4/536.2 kB ? eta -:--:--\n",
      "     ---------- ----------------------------- 143.4/536.2 kB ? eta -:--:--\n",
      "     ---------- ----------------------------- 143.4/536.2 kB ? eta -:--:--\n",
      "     -------------------------- ----------- 368.6/536.2 kB 2.3 MB/s eta 0:00:01\n",
      "     -------------------------------------- 536.2/536.2 kB 2.6 MB/s eta 0:00:00\n",
      "Installing collected packages: mpmath, sympy\n",
      "Successfully installed mpmath-1.3.0 sympy-1.12\n"
     ]
    }
   ],
   "source": [
    "pip install sympy"
   ]
  },
  {
   "cell_type": "code",
   "execution_count": null,
   "metadata": {},
   "outputs": [],
   "source": []
  }
 ],
 "metadata": {
  "kernelspec": {
   "display_name": "Python 3",
   "language": "python",
   "name": "python3"
  },
  "language_info": {
   "codemirror_mode": {
    "name": "ipython",
    "version": 3
   },
   "file_extension": ".py",
   "mimetype": "text/x-python",
   "name": "python",
   "nbconvert_exporter": "python",
   "pygments_lexer": "ipython3",
   "version": "3.11.6"
  }
 },
 "nbformat": 4,
 "nbformat_minor": 2
}
