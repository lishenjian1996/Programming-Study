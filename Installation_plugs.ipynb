{
 "cells": [
  {
   "cell_type": "code",
   "execution_count": null,
   "metadata": {},
   "outputs": [],
   "source": [
    "pip install --upgrade pip"
   ]
  },
  {
   "cell_type": "code",
   "execution_count": null,
   "metadata": {},
   "outputs": [],
   "source": [
    "pip install beautifulsoup4"
   ]
  },
  {
   "cell_type": "code",
   "execution_count": null,
   "metadata": {},
   "outputs": [],
   "source": [
    "pip install numpy"
   ]
  },
  {
   "cell_type": "code",
   "execution_count": null,
   "metadata": {},
   "outputs": [],
   "source": [
    "pip install Pillow"
   ]
  },
  {
   "cell_type": "code",
   "execution_count": null,
   "metadata": {},
   "outputs": [],
   "source": [
    "pip install pandas"
   ]
  },
  {
   "cell_type": "code",
   "execution_count": null,
   "metadata": {},
   "outputs": [],
   "source": [
    "pip install pyscenic"
   ]
  },
  {
   "cell_type": "code",
   "execution_count": null,
   "metadata": {},
   "outputs": [],
   "source": [
    "pip install scipy"
   ]
  },
  {
   "cell_type": "markdown",
   "metadata": {},
   "source": [
    "# For creating graph (g = nx.Graph())"
   ]
  },
  {
   "cell_type": "code",
   "execution_count": null,
   "metadata": {},
   "outputs": [],
   "source": [
    "pip install Networkx"
   ]
  },
  {
   "cell_type": "code",
   "execution_count": null,
   "metadata": {},
   "outputs": [],
   "source": [
    "pip install pydot"
   ]
  },
  {
   "cell_type": "code",
   "execution_count": null,
   "metadata": {},
   "outputs": [],
   "source": [
    "pip install graphviz"
   ]
  },
  {
   "cell_type": "code",
   "execution_count": null,
   "metadata": {},
   "outputs": [],
   "source": [
    "# if  [WinError 2] \"dot\" not found in path.\n",
    "#Download: https://www.graphviz.org/download/"
   ]
  },
  {
   "cell_type": "markdown",
   "metadata": {},
   "source": [
    "# For drawing graph (nx.draw_networkx(g))"
   ]
  },
  {
   "cell_type": "code",
   "execution_count": null,
   "metadata": {},
   "outputs": [],
   "source": [
    "pip install matplotlib"
   ]
  },
  {
   "cell_type": "code",
   "execution_count": null,
   "metadata": {},
   "outputs": [],
   "source": [
    "pip install lxml"
   ]
  },
  {
   "cell_type": "code",
   "execution_count": null,
   "metadata": {},
   "outputs": [],
   "source": [
    "pip install html5lib"
   ]
  },
  {
   "cell_type": "code",
   "execution_count": null,
   "metadata": {},
   "outputs": [],
   "source": [
    "pip install ipympl"
   ]
  },
  {
   "cell_type": "code",
   "execution_count": null,
   "metadata": {},
   "outputs": [],
   "source": [
    "pip install scikit-learn"
   ]
  },
  {
   "cell_type": "code",
   "execution_count": null,
   "metadata": {},
   "outputs": [],
   "source": [
    "pip install utils"
   ]
  },
  {
   "cell_type": "code",
   "execution_count": null,
   "metadata": {},
   "outputs": [],
   "source": [
    "pip install seaborn"
   ]
  },
  {
   "cell_type": "markdown",
   "metadata": {},
   "source": [
    "#Download and install nodejs from https://nodejs.org/en/"
   ]
  },
  {
   "cell_type": "code",
   "execution_count": null,
   "metadata": {},
   "outputs": [],
   "source": [
    "pip install ipywidgets"
   ]
  },
  {
   "cell_type": "code",
   "execution_count": null,
   "metadata": {},
   "outputs": [],
   "source": [
    "pip install peakutils"
   ]
  },
  {
   "cell_type": "markdown",
   "metadata": {},
   "source": [
    "openai for Generative AI purpose (ChatGPT)"
   ]
  },
  {
   "cell_type": "code",
   "execution_count": null,
   "metadata": {},
   "outputs": [],
   "source": [
    "pip install openai"
   ]
  },
  {
   "cell_type": "markdown",
   "metadata": {},
   "source": [
    "Tensorflow for machine learning"
   ]
  },
  {
   "cell_type": "code",
   "execution_count": null,
   "metadata": {},
   "outputs": [],
   "source": [
    "pip install tensorflow"
   ]
  },
  {
   "cell_type": "markdown",
   "metadata": {},
   "source": [
    "sympy for calculus calculation"
   ]
  },
  {
   "cell_type": "code",
   "execution_count": null,
   "metadata": {},
   "outputs": [],
   "source": [
    "pip install sympy"
   ]
  },
  {
   "cell_type": "code",
   "execution_count": null,
   "metadata": {},
   "outputs": [],
   "source": [
    "pip install nbconvert\n"
   ]
  },
  {
   "cell_type": "code",
   "execution_count": null,
   "metadata": {},
   "outputs": [],
   "source": [
    "pip install xgboost"
   ]
  },
  {
   "cell_type": "code",
   "execution_count": 1,
   "metadata": {},
   "outputs": [
    {
     "name": "stdout",
     "output_type": "stream",
     "text": [
      "Requirement already satisfied: tabulate in c:\\users\\lishe\\appdata\\local\\packages\\pythonsoftwarefoundation.python.3.11_qbz5n2kfra8p0\\localcache\\local-packages\\python311\\site-packages (0.9.0)\n",
      "Note: you may need to restart the kernel to use updated packages.\n"
     ]
    }
   ],
   "source": [
    "pip install tabulate"
   ]
  },
  {
   "cell_type": "code",
   "execution_count": 6,
   "metadata": {},
   "outputs": [
    {
     "name": "stdout",
     "output_type": "stream",
     "text": [
      "Collecting plotly\n",
      "  Downloading plotly-5.18.0-py3-none-any.whl.metadata (7.0 kB)\n",
      "Collecting tenacity>=6.2.0 (from plotly)\n",
      "  Downloading tenacity-8.2.3-py3-none-any.whl.metadata (1.0 kB)\n",
      "Requirement already satisfied: packaging in c:\\users\\lishe\\appdata\\local\\packages\\pythonsoftwarefoundation.python.3.11_qbz5n2kfra8p0\\localcache\\local-packages\\python311\\site-packages (from plotly) (23.2)\n",
      "Downloading plotly-5.18.0-py3-none-any.whl (15.6 MB)\n",
      "   ---------------------------------------- 0.0/15.6 MB ? eta -:--:--\n",
      "   ---------------------------------------- 0.0/15.6 MB ? eta -:--:--\n",
      "   ---------------------------------------- 0.0/15.6 MB ? eta -:--:--\n",
      "   ---------------------------------------- 0.0/15.6 MB 330.3 kB/s eta 0:00:48\n",
      "   ---------------------------------------- 0.1/15.6 MB 459.5 kB/s eta 0:00:34\n",
      "   ---------------------------------------- 0.1/15.6 MB 547.6 kB/s eta 0:00:29\n",
      "   ---------------------------------------- 0.2/15.6 MB 737.3 kB/s eta 0:00:21\n",
      "    --------------------------------------- 0.3/15.6 MB 983.9 kB/s eta 0:00:16\n",
      "   - -------------------------------------- 0.4/15.6 MB 1.3 MB/s eta 0:00:12\n",
      "   - -------------------------------------- 0.6/15.6 MB 1.7 MB/s eta 0:00:10\n",
      "   - -------------------------------------- 0.8/15.6 MB 1.9 MB/s eta 0:00:08\n",
      "   - -------------------------------------- 0.8/15.6 MB 1.9 MB/s eta 0:00:08\n",
      "   - -------------------------------------- 0.8/15.6 MB 1.9 MB/s eta 0:00:08\n",
      "   -- ------------------------------------- 1.1/15.6 MB 2.0 MB/s eta 0:00:08\n",
      "   ---- ----------------------------------- 1.6/15.6 MB 2.7 MB/s eta 0:00:06\n",
      "   ---- ----------------------------------- 1.7/15.6 MB 2.8 MB/s eta 0:00:06\n",
      "   ---- ----------------------------------- 1.7/15.6 MB 2.8 MB/s eta 0:00:06\n",
      "   ---- ----------------------------------- 1.7/15.6 MB 2.8 MB/s eta 0:00:06\n",
      "   ---- ----------------------------------- 1.7/15.6 MB 2.2 MB/s eta 0:00:07\n",
      "   ---- ----------------------------------- 1.8/15.6 MB 2.2 MB/s eta 0:00:07\n",
      "   ------ --------------------------------- 2.7/15.6 MB 3.0 MB/s eta 0:00:05\n",
      "   ---------- ----------------------------- 4.0/15.6 MB 4.2 MB/s eta 0:00:03\n",
      "   ----------- ---------------------------- 4.5/15.6 MB 4.6 MB/s eta 0:00:03\n",
      "   ----------- ---------------------------- 4.5/15.6 MB 4.6 MB/s eta 0:00:03\n",
      "   ----------- ---------------------------- 4.5/15.6 MB 4.6 MB/s eta 0:00:03\n",
      "   ----------- ---------------------------- 4.7/15.6 MB 4.2 MB/s eta 0:00:03\n",
      "   ------------ --------------------------- 4.9/15.6 MB 4.2 MB/s eta 0:00:03\n",
      "   ------------ --------------------------- 4.9/15.6 MB 4.2 MB/s eta 0:00:03\n",
      "   ------------ --------------------------- 4.9/15.6 MB 4.2 MB/s eta 0:00:03\n",
      "   ------------ --------------------------- 4.9/15.6 MB 3.7 MB/s eta 0:00:03\n",
      "   ------------ --------------------------- 4.9/15.6 MB 3.7 MB/s eta 0:00:03\n",
      "   ------------ --------------------------- 4.9/15.6 MB 3.7 MB/s eta 0:00:03\n",
      "   ------------ --------------------------- 5.0/15.6 MB 3.5 MB/s eta 0:00:04\n",
      "   ------------- -------------------------- 5.5/15.6 MB 3.7 MB/s eta 0:00:03\n",
      "   --------------- ------------------------ 6.3/15.6 MB 4.1 MB/s eta 0:00:03\n",
      "   ---------------- ----------------------- 6.3/15.6 MB 4.0 MB/s eta 0:00:03\n",
      "   ---------------- ----------------------- 6.6/15.6 MB 4.0 MB/s eta 0:00:03\n",
      "   ------------------ --------------------- 7.1/15.6 MB 4.2 MB/s eta 0:00:03\n",
      "   -------------------- ------------------- 8.1/15.6 MB 4.7 MB/s eta 0:00:02\n",
      "   -------------------- ------------------- 8.1/15.6 MB 4.7 MB/s eta 0:00:02\n",
      "   --------------------- ------------------ 8.4/15.6 MB 4.6 MB/s eta 0:00:02\n",
      "   ---------------------- ----------------- 8.8/15.6 MB 4.7 MB/s eta 0:00:02\n",
      "   ----------------------- ---------------- 9.2/15.6 MB 4.8 MB/s eta 0:00:02\n",
      "   ------------------------ --------------- 9.6/15.6 MB 4.9 MB/s eta 0:00:02\n",
      "   ------------------------- -------------- 10.0/15.6 MB 5.0 MB/s eta 0:00:02\n",
      "   -------------------------- ------------- 10.3/15.6 MB 5.3 MB/s eta 0:00:02\n",
      "   -------------------------- ------------- 10.5/15.6 MB 5.7 MB/s eta 0:00:01\n",
      "   --------------------------- ------------ 10.7/15.6 MB 5.7 MB/s eta 0:00:01\n",
      "   ---------------------------- ----------- 11.0/15.6 MB 6.2 MB/s eta 0:00:01\n",
      "   ---------------------------- ----------- 11.3/15.6 MB 6.1 MB/s eta 0:00:01\n",
      "   ----------------------------- ---------- 11.5/15.6 MB 6.0 MB/s eta 0:00:01\n",
      "   ------------------------------ --------- 11.8/15.6 MB 6.0 MB/s eta 0:00:01\n",
      "   ------------------------------ --------- 12.0/15.6 MB 6.7 MB/s eta 0:00:01\n",
      "   ------------------------------- -------- 12.2/15.6 MB 6.5 MB/s eta 0:00:01\n",
      "   ------------------------------- -------- 12.5/15.6 MB 6.4 MB/s eta 0:00:01\n",
      "   -------------------------------- ------- 12.7/15.6 MB 6.2 MB/s eta 0:00:01\n",
      "   --------------------------------- ------ 12.9/15.6 MB 6.1 MB/s eta 0:00:01\n",
      "   --------------------------------- ------ 13.2/15.6 MB 6.0 MB/s eta 0:00:01\n",
      "   ---------------------------------- ----- 13.4/15.6 MB 5.9 MB/s eta 0:00:01\n",
      "   ---------------------------------- ----- 13.4/15.6 MB 5.9 MB/s eta 0:00:01\n",
      "   ---------------------------------- ----- 13.4/15.6 MB 5.9 MB/s eta 0:00:01\n",
      "   ---------------------------------- ----- 13.4/15.6 MB 5.9 MB/s eta 0:00:01\n",
      "   ---------------------------------- ----- 13.5/15.6 MB 5.3 MB/s eta 0:00:01\n",
      "   ------------------------------------- -- 14.5/15.6 MB 5.3 MB/s eta 0:00:01\n",
      "   ------------------------------------- -- 14.8/15.6 MB 5.6 MB/s eta 0:00:01\n",
      "   -------------------------------------- - 15.1/15.6 MB 5.6 MB/s eta 0:00:01\n",
      "   ---------------------------------------  15.3/15.6 MB 6.5 MB/s eta 0:00:01\n",
      "   ---------------------------------------  15.6/15.6 MB 6.4 MB/s eta 0:00:01\n",
      "   ---------------------------------------- 15.6/15.6 MB 6.2 MB/s eta 0:00:00\n",
      "Downloading tenacity-8.2.3-py3-none-any.whl (24 kB)\n",
      "Installing collected packages: tenacity, plotly\n",
      "Successfully installed plotly-5.18.0 tenacity-8.2.3\n",
      "Note: you may need to restart the kernel to use updated packages.\n"
     ]
    }
   ],
   "source": [
    "pip install plotly"
   ]
  },
  {
   "cell_type": "code",
   "execution_count": 7,
   "metadata": {},
   "outputs": [
    {
     "name": "stdout",
     "output_type": "stream",
     "text": [
      "Collecting nbformat\n",
      "  Downloading nbformat-5.9.2-py3-none-any.whl.metadata (3.4 kB)\n",
      "Collecting fastjsonschema (from nbformat)\n",
      "  Downloading fastjsonschema-2.19.0-py3-none-any.whl.metadata (2.0 kB)\n",
      "Collecting jsonschema>=2.6 (from nbformat)\n",
      "  Downloading jsonschema-4.20.0-py3-none-any.whl.metadata (8.1 kB)\n",
      "Requirement already satisfied: jupyter-core in c:\\users\\lishe\\appdata\\local\\packages\\pythonsoftwarefoundation.python.3.11_qbz5n2kfra8p0\\localcache\\local-packages\\python311\\site-packages (from nbformat) (5.4.0)\n",
      "Requirement already satisfied: traitlets>=5.1 in c:\\users\\lishe\\appdata\\local\\packages\\pythonsoftwarefoundation.python.3.11_qbz5n2kfra8p0\\localcache\\local-packages\\python311\\site-packages (from nbformat) (5.11.2)\n",
      "Requirement already satisfied: attrs>=22.2.0 in c:\\users\\lishe\\appdata\\local\\packages\\pythonsoftwarefoundation.python.3.11_qbz5n2kfra8p0\\localcache\\local-packages\\python311\\site-packages (from jsonschema>=2.6->nbformat) (23.1.0)\n",
      "Collecting jsonschema-specifications>=2023.03.6 (from jsonschema>=2.6->nbformat)\n",
      "  Downloading jsonschema_specifications-2023.11.1-py3-none-any.whl.metadata (2.8 kB)\n",
      "Collecting referencing>=0.28.4 (from jsonschema>=2.6->nbformat)\n",
      "  Downloading referencing-0.31.0-py3-none-any.whl.metadata (2.6 kB)\n",
      "Collecting rpds-py>=0.7.1 (from jsonschema>=2.6->nbformat)\n",
      "  Downloading rpds_py-0.13.1-cp311-none-win_amd64.whl.metadata (3.8 kB)\n",
      "Requirement already satisfied: platformdirs>=2.5 in c:\\users\\lishe\\appdata\\local\\packages\\pythonsoftwarefoundation.python.3.11_qbz5n2kfra8p0\\localcache\\local-packages\\python311\\site-packages (from jupyter-core->nbformat) (3.11.0)\n",
      "Requirement already satisfied: pywin32>=300 in c:\\users\\lishe\\appdata\\local\\packages\\pythonsoftwarefoundation.python.3.11_qbz5n2kfra8p0\\localcache\\local-packages\\python311\\site-packages (from jupyter-core->nbformat) (306)\n",
      "Downloading nbformat-5.9.2-py3-none-any.whl (77 kB)\n",
      "   ---------------------------------------- 0.0/77.6 kB ? eta -:--:--\n",
      "   ---------------------------------------- 0.0/77.6 kB ? eta -:--:--\n",
      "   ----- ---------------------------------- 10.2/77.6 kB ? eta -:--:--\n",
      "   --------------------- ------------------ 41.0/77.6 kB 653.6 kB/s eta 0:00:01\n",
      "   ---------------------------------------- 77.6/77.6 kB 716.5 kB/s eta 0:00:00\n",
      "Downloading jsonschema-4.20.0-py3-none-any.whl (84 kB)\n",
      "   ---------------------------------------- 0.0/84.7 kB ? eta -:--:--\n",
      "   -------------- ------------------------- 30.7/84.7 kB 1.4 MB/s eta 0:00:01\n",
      "   ---------------------------------------- 84.7/84.7 kB 1.2 MB/s eta 0:00:00\n",
      "Downloading fastjsonschema-2.19.0-py3-none-any.whl (23 kB)\n",
      "Downloading jsonschema_specifications-2023.11.1-py3-none-any.whl (17 kB)\n",
      "Downloading referencing-0.31.0-py3-none-any.whl (25 kB)\n",
      "Downloading rpds_py-0.13.1-cp311-none-win_amd64.whl (188 kB)\n",
      "   ---------------------------------------- 0.0/188.7 kB ? eta -:--:--\n",
      "   -------- ------------------------------- 41.0/188.7 kB 2.0 MB/s eta 0:00:01\n",
      "   ------------------------------ --------- 143.4/188.7 kB 1.7 MB/s eta 0:00:01\n",
      "   ---------------------------------------- 188.7/188.7 kB 1.6 MB/s eta 0:00:00\n",
      "Installing collected packages: fastjsonschema, rpds-py, referencing, jsonschema-specifications, jsonschema, nbformat\n",
      "Successfully installed fastjsonschema-2.19.0 jsonschema-4.20.0 jsonschema-specifications-2023.11.1 nbformat-5.9.2 referencing-0.31.0 rpds-py-0.13.1\n",
      "Note: you may need to restart the kernel to use updated packages.\n"
     ]
    }
   ],
   "source": [
    "pip install nbformat"
   ]
  },
  {
   "cell_type": "code",
   "execution_count": null,
   "metadata": {},
   "outputs": [],
   "source": []
  }
 ],
 "metadata": {
  "kernelspec": {
   "display_name": "Python 3",
   "language": "python",
   "name": "python3"
  },
  "language_info": {
   "codemirror_mode": {
    "name": "ipython",
    "version": 3
   },
   "file_extension": ".py",
   "mimetype": "text/x-python",
   "name": "python",
   "nbconvert_exporter": "python",
   "pygments_lexer": "ipython3",
   "version": "3.11.6"
  }
 },
 "nbformat": 4,
 "nbformat_minor": 2
}
