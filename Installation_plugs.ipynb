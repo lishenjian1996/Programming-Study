{
 "cells": [
  {
   "cell_type": "code",
   "execution_count": 1,
   "metadata": {},
   "outputs": [
    {
     "name": "stdout",
     "output_type": "stream",
     "text": [
      "Requirement already satisfied: beautifulsoup4 in c:\\users\\bosideng\\appdata\\local\\packages\\pythonsoftwarefoundation.python.3.11_qbz5n2kfra8p0\\localcache\\local-packages\\python311\\site-packages (4.12.2)\n",
      "Requirement already satisfied: soupsieve>1.2 in c:\\users\\bosideng\\appdata\\local\\packages\\pythonsoftwarefoundation.python.3.11_qbz5n2kfra8p0\\localcache\\local-packages\\python311\\site-packages (from beautifulsoup4) (2.5)\n",
      "Note: you may need to restart the kernel to use updated packages.\n"
     ]
    }
   ],
   "source": [
    "pip install beautifulsoup4\n"
   ]
  },
  {
   "cell_type": "code",
   "execution_count": 2,
   "metadata": {},
   "outputs": [
    {
     "name": "stdout",
     "output_type": "stream",
     "text": [
      "Requirement already satisfied: numpy in c:\\users\\bosideng\\appdata\\local\\packages\\pythonsoftwarefoundation.python.3.11_qbz5n2kfra8p0\\localcache\\local-packages\\python311\\site-packages (1.25.2)\n",
      "Note: you may need to restart the kernel to use updated packages.\n"
     ]
    }
   ],
   "source": [
    "pip install numpy\n"
   ]
  },
  {
   "cell_type": "code",
   "execution_count": 3,
   "metadata": {},
   "outputs": [
    {
     "name": "stdout",
     "output_type": "stream",
     "text": [
      "Requirement already satisfied: Pillow in c:\\users\\bosideng\\appdata\\local\\packages\\pythonsoftwarefoundation.python.3.11_qbz5n2kfra8p0\\localcache\\local-packages\\python311\\site-packages (10.0.1)\n",
      "Note: you may need to restart the kernel to use updated packages.\n"
     ]
    }
   ],
   "source": [
    "pip install Pillow"
   ]
  },
  {
   "cell_type": "code",
   "execution_count": 4,
   "metadata": {},
   "outputs": [
    {
     "name": "stdout",
     "output_type": "stream",
     "text": [
      "Requirement already satisfied: pandas in c:\\users\\bosideng\\appdata\\local\\packages\\pythonsoftwarefoundation.python.3.11_qbz5n2kfra8p0\\localcache\\local-packages\\python311\\site-packages (2.1.1)\n",
      "Requirement already satisfied: numpy>=1.23.2 in c:\\users\\bosideng\\appdata\\local\\packages\\pythonsoftwarefoundation.python.3.11_qbz5n2kfra8p0\\localcache\\local-packages\\python311\\site-packages (from pandas) (1.25.2)\n",
      "Requirement already satisfied: python-dateutil>=2.8.2 in c:\\users\\bosideng\\appdata\\local\\packages\\pythonsoftwarefoundation.python.3.11_qbz5n2kfra8p0\\localcache\\local-packages\\python311\\site-packages (from pandas) (2.8.2)\n",
      "Requirement already satisfied: pytz>=2020.1 in c:\\users\\bosideng\\appdata\\local\\packages\\pythonsoftwarefoundation.python.3.11_qbz5n2kfra8p0\\localcache\\local-packages\\python311\\site-packages (from pandas) (2023.3.post1)\n",
      "Requirement already satisfied: tzdata>=2022.1 in c:\\users\\bosideng\\appdata\\local\\packages\\pythonsoftwarefoundation.python.3.11_qbz5n2kfra8p0\\localcache\\local-packages\\python311\\site-packages (from pandas) (2023.3)\n",
      "Requirement already satisfied: six>=1.5 in c:\\users\\bosideng\\appdata\\local\\packages\\pythonsoftwarefoundation.python.3.11_qbz5n2kfra8p0\\localcache\\local-packages\\python311\\site-packages (from python-dateutil>=2.8.2->pandas) (1.16.0)\n",
      "Note: you may need to restart the kernel to use updated packages.\n"
     ]
    }
   ],
   "source": [
    "pip install pandas"
   ]
  },
  {
   "cell_type": "code",
   "execution_count": 5,
   "metadata": {},
   "outputs": [
    {
     "name": "stdout",
     "output_type": "stream",
     "text": [
      "Requirement already satisfied: pyscenic in c:\\users\\bosideng\\appdata\\local\\packages\\pythonsoftwarefoundation.python.3.11_qbz5n2kfra8p0\\localcache\\local-packages\\python311\\site-packages (0.12.1)\n",
      "Requirement already satisfied: ctxcore>=0.2.0 in c:\\users\\bosideng\\appdata\\local\\packages\\pythonsoftwarefoundation.python.3.11_qbz5n2kfra8p0\\localcache\\local-packages\\python311\\site-packages (from pyscenic) (0.2.0)\n",
      "Requirement already satisfied: cytoolz in c:\\users\\bosideng\\appdata\\local\\packages\\pythonsoftwarefoundation.python.3.11_qbz5n2kfra8p0\\localcache\\local-packages\\python311\\site-packages (from pyscenic) (0.12.2)\n",
      "Requirement already satisfied: multiprocessing-on-dill in c:\\users\\bosideng\\appdata\\local\\packages\\pythonsoftwarefoundation.python.3.11_qbz5n2kfra8p0\\localcache\\local-packages\\python311\\site-packages (from pyscenic) (3.5.0a4)\n",
      "Requirement already satisfied: llvmlite in c:\\users\\bosideng\\appdata\\local\\packages\\pythonsoftwarefoundation.python.3.11_qbz5n2kfra8p0\\localcache\\local-packages\\python311\\site-packages (from pyscenic) (0.41.0)\n",
      "Requirement already satisfied: numba>=0.51.2 in c:\\users\\bosideng\\appdata\\local\\packages\\pythonsoftwarefoundation.python.3.11_qbz5n2kfra8p0\\localcache\\local-packages\\python311\\site-packages (from pyscenic) (0.58.0)\n",
      "Requirement already satisfied: attrs in c:\\users\\bosideng\\appdata\\local\\packages\\pythonsoftwarefoundation.python.3.11_qbz5n2kfra8p0\\localcache\\local-packages\\python311\\site-packages (from pyscenic) (23.1.0)\n",
      "Requirement already satisfied: frozendict in c:\\users\\bosideng\\appdata\\local\\packages\\pythonsoftwarefoundation.python.3.11_qbz5n2kfra8p0\\localcache\\local-packages\\python311\\site-packages (from pyscenic) (2.3.8)\n",
      "Requirement already satisfied: numpy in c:\\users\\bosideng\\appdata\\local\\packages\\pythonsoftwarefoundation.python.3.11_qbz5n2kfra8p0\\localcache\\local-packages\\python311\\site-packages (from pyscenic) (1.25.2)\n",
      "Requirement already satisfied: pandas>=1.3.5 in c:\\users\\bosideng\\appdata\\local\\packages\\pythonsoftwarefoundation.python.3.11_qbz5n2kfra8p0\\localcache\\local-packages\\python311\\site-packages (from pyscenic) (2.1.1)\n",
      "Requirement already satisfied: numexpr in c:\\users\\bosideng\\appdata\\local\\packages\\pythonsoftwarefoundation.python.3.11_qbz5n2kfra8p0\\localcache\\local-packages\\python311\\site-packages (from pyscenic) (2.8.7)\n",
      "Requirement already satisfied: cloudpickle in c:\\users\\bosideng\\appdata\\local\\packages\\pythonsoftwarefoundation.python.3.11_qbz5n2kfra8p0\\localcache\\local-packages\\python311\\site-packages (from pyscenic) (2.2.1)\n",
      "Requirement already satisfied: dask in c:\\users\\bosideng\\appdata\\local\\packages\\pythonsoftwarefoundation.python.3.11_qbz5n2kfra8p0\\localcache\\local-packages\\python311\\site-packages (from pyscenic) (2023.9.3)\n",
      "Requirement already satisfied: distributed in c:\\users\\bosideng\\appdata\\local\\packages\\pythonsoftwarefoundation.python.3.11_qbz5n2kfra8p0\\localcache\\local-packages\\python311\\site-packages (from pyscenic) (2023.9.3)\n",
      "Requirement already satisfied: arboreto>=0.1.6 in c:\\users\\bosideng\\appdata\\local\\packages\\pythonsoftwarefoundation.python.3.11_qbz5n2kfra8p0\\localcache\\local-packages\\python311\\site-packages (from pyscenic) (0.1.6)\n",
      "Requirement already satisfied: boltons in c:\\users\\bosideng\\appdata\\local\\packages\\pythonsoftwarefoundation.python.3.11_qbz5n2kfra8p0\\localcache\\local-packages\\python311\\site-packages (from pyscenic) (23.0.0)\n",
      "Requirement already satisfied: setuptools in c:\\program files\\windowsapps\\pythonsoftwarefoundation.python.3.11_3.11.1776.0_x64__qbz5n2kfra8p0\\lib\\site-packages (from pyscenic) (65.5.0)\n",
      "Requirement already satisfied: pyyaml in c:\\users\\bosideng\\appdata\\local\\packages\\pythonsoftwarefoundation.python.3.11_qbz5n2kfra8p0\\localcache\\local-packages\\python311\\site-packages (from pyscenic) (6.0.1)\n",
      "Requirement already satisfied: tqdm in c:\\users\\bosideng\\appdata\\local\\packages\\pythonsoftwarefoundation.python.3.11_qbz5n2kfra8p0\\localcache\\local-packages\\python311\\site-packages (from pyscenic) (4.66.1)\n",
      "Requirement already satisfied: interlap in c:\\users\\bosideng\\appdata\\local\\packages\\pythonsoftwarefoundation.python.3.11_qbz5n2kfra8p0\\localcache\\local-packages\\python311\\site-packages (from pyscenic) (0.2.7)\n",
      "Requirement already satisfied: umap-learn in c:\\users\\bosideng\\appdata\\local\\packages\\pythonsoftwarefoundation.python.3.11_qbz5n2kfra8p0\\localcache\\local-packages\\python311\\site-packages (from pyscenic) (0.5.4)\n",
      "Requirement already satisfied: loompy in c:\\users\\bosideng\\appdata\\local\\packages\\pythonsoftwarefoundation.python.3.11_qbz5n2kfra8p0\\localcache\\local-packages\\python311\\site-packages (from pyscenic) (3.0.7)\n",
      "Requirement already satisfied: networkx in c:\\users\\bosideng\\appdata\\local\\packages\\pythonsoftwarefoundation.python.3.11_qbz5n2kfra8p0\\localcache\\local-packages\\python311\\site-packages (from pyscenic) (3.1)\n",
      "Requirement already satisfied: scipy in c:\\users\\bosideng\\appdata\\local\\packages\\pythonsoftwarefoundation.python.3.11_qbz5n2kfra8p0\\localcache\\local-packages\\python311\\site-packages (from pyscenic) (1.11.3)\n",
      "Requirement already satisfied: fsspec in c:\\users\\bosideng\\appdata\\local\\packages\\pythonsoftwarefoundation.python.3.11_qbz5n2kfra8p0\\localcache\\local-packages\\python311\\site-packages (from pyscenic) (2023.9.2)\n",
      "Requirement already satisfied: requests in c:\\users\\bosideng\\appdata\\local\\packages\\pythonsoftwarefoundation.python.3.11_qbz5n2kfra8p0\\localcache\\local-packages\\python311\\site-packages (from pyscenic) (2.31.0)\n",
      "Requirement already satisfied: aiohttp in c:\\users\\bosideng\\appdata\\local\\packages\\pythonsoftwarefoundation.python.3.11_qbz5n2kfra8p0\\localcache\\local-packages\\python311\\site-packages (from pyscenic) (3.8.6)\n",
      "Requirement already satisfied: scikit-learn>=0.22.2 in c:\\users\\bosideng\\appdata\\local\\packages\\pythonsoftwarefoundation.python.3.11_qbz5n2kfra8p0\\localcache\\local-packages\\python311\\site-packages (from pyscenic) (1.3.1)\n",
      "Requirement already satisfied: pyarrow>=8.0.0 in c:\\users\\bosideng\\appdata\\local\\packages\\pythonsoftwarefoundation.python.3.11_qbz5n2kfra8p0\\localcache\\local-packages\\python311\\site-packages (from ctxcore>=0.2.0->pyscenic) (13.0.0)\n",
      "Requirement already satisfied: python-dateutil>=2.8.2 in c:\\users\\bosideng\\appdata\\local\\packages\\pythonsoftwarefoundation.python.3.11_qbz5n2kfra8p0\\localcache\\local-packages\\python311\\site-packages (from pandas>=1.3.5->pyscenic) (2.8.2)\n",
      "Requirement already satisfied: pytz>=2020.1 in c:\\users\\bosideng\\appdata\\local\\packages\\pythonsoftwarefoundation.python.3.11_qbz5n2kfra8p0\\localcache\\local-packages\\python311\\site-packages (from pandas>=1.3.5->pyscenic) (2023.3.post1)\n",
      "Requirement already satisfied: tzdata>=2022.1 in c:\\users\\bosideng\\appdata\\local\\packages\\pythonsoftwarefoundation.python.3.11_qbz5n2kfra8p0\\localcache\\local-packages\\python311\\site-packages (from pandas>=1.3.5->pyscenic) (2023.3)\n",
      "Requirement already satisfied: joblib>=1.1.1 in c:\\users\\bosideng\\appdata\\local\\packages\\pythonsoftwarefoundation.python.3.11_qbz5n2kfra8p0\\localcache\\local-packages\\python311\\site-packages (from scikit-learn>=0.22.2->pyscenic) (1.3.2)\n",
      "Requirement already satisfied: threadpoolctl>=2.0.0 in c:\\users\\bosideng\\appdata\\local\\packages\\pythonsoftwarefoundation.python.3.11_qbz5n2kfra8p0\\localcache\\local-packages\\python311\\site-packages (from scikit-learn>=0.22.2->pyscenic) (3.2.0)\n",
      "Requirement already satisfied: charset-normalizer<4.0,>=2.0 in c:\\users\\bosideng\\appdata\\local\\packages\\pythonsoftwarefoundation.python.3.11_qbz5n2kfra8p0\\localcache\\local-packages\\python311\\site-packages (from aiohttp->pyscenic) (3.3.0)\n",
      "Requirement already satisfied: multidict<7.0,>=4.5 in c:\\users\\bosideng\\appdata\\local\\packages\\pythonsoftwarefoundation.python.3.11_qbz5n2kfra8p0\\localcache\\local-packages\\python311\\site-packages (from aiohttp->pyscenic) (6.0.4)\n",
      "Requirement already satisfied: async-timeout<5.0,>=4.0.0a3 in c:\\users\\bosideng\\appdata\\local\\packages\\pythonsoftwarefoundation.python.3.11_qbz5n2kfra8p0\\localcache\\local-packages\\python311\\site-packages (from aiohttp->pyscenic) (4.0.3)\n",
      "Requirement already satisfied: yarl<2.0,>=1.0 in c:\\users\\bosideng\\appdata\\local\\packages\\pythonsoftwarefoundation.python.3.11_qbz5n2kfra8p0\\localcache\\local-packages\\python311\\site-packages (from aiohttp->pyscenic) (1.9.2)\n",
      "Requirement already satisfied: frozenlist>=1.1.1 in c:\\users\\bosideng\\appdata\\local\\packages\\pythonsoftwarefoundation.python.3.11_qbz5n2kfra8p0\\localcache\\local-packages\\python311\\site-packages (from aiohttp->pyscenic) (1.4.0)\n",
      "Requirement already satisfied: aiosignal>=1.1.2 in c:\\users\\bosideng\\appdata\\local\\packages\\pythonsoftwarefoundation.python.3.11_qbz5n2kfra8p0\\localcache\\local-packages\\python311\\site-packages (from aiohttp->pyscenic) (1.3.1)\n",
      "Requirement already satisfied: toolz>=0.8.0 in c:\\users\\bosideng\\appdata\\local\\packages\\pythonsoftwarefoundation.python.3.11_qbz5n2kfra8p0\\localcache\\local-packages\\python311\\site-packages (from cytoolz->pyscenic) (0.12.0)\n",
      "Requirement already satisfied: click>=8.0 in c:\\users\\bosideng\\appdata\\local\\packages\\pythonsoftwarefoundation.python.3.11_qbz5n2kfra8p0\\localcache\\local-packages\\python311\\site-packages (from dask->pyscenic) (8.1.7)\n",
      "Requirement already satisfied: packaging>=20.0 in c:\\users\\bosideng\\appdata\\local\\packages\\pythonsoftwarefoundation.python.3.11_qbz5n2kfra8p0\\localcache\\local-packages\\python311\\site-packages (from dask->pyscenic) (23.2)\n",
      "Requirement already satisfied: partd>=1.2.0 in c:\\users\\bosideng\\appdata\\local\\packages\\pythonsoftwarefoundation.python.3.11_qbz5n2kfra8p0\\localcache\\local-packages\\python311\\site-packages (from dask->pyscenic) (1.4.1)\n",
      "Requirement already satisfied: importlib-metadata>=4.13.0 in c:\\users\\bosideng\\appdata\\local\\packages\\pythonsoftwarefoundation.python.3.11_qbz5n2kfra8p0\\localcache\\local-packages\\python311\\site-packages (from dask->pyscenic) (6.8.0)\n",
      "Requirement already satisfied: jinja2>=2.10.3 in c:\\users\\bosideng\\appdata\\local\\packages\\pythonsoftwarefoundation.python.3.11_qbz5n2kfra8p0\\localcache\\local-packages\\python311\\site-packages (from distributed->pyscenic) (3.1.2)\n",
      "Requirement already satisfied: locket>=1.0.0 in c:\\users\\bosideng\\appdata\\local\\packages\\pythonsoftwarefoundation.python.3.11_qbz5n2kfra8p0\\localcache\\local-packages\\python311\\site-packages (from distributed->pyscenic) (1.0.0)\n",
      "Requirement already satisfied: msgpack>=1.0.0 in c:\\users\\bosideng\\appdata\\local\\packages\\pythonsoftwarefoundation.python.3.11_qbz5n2kfra8p0\\localcache\\local-packages\\python311\\site-packages (from distributed->pyscenic) (1.0.7)\n",
      "Requirement already satisfied: psutil>=5.7.2 in c:\\users\\bosideng\\appdata\\local\\packages\\pythonsoftwarefoundation.python.3.11_qbz5n2kfra8p0\\localcache\\local-packages\\python311\\site-packages (from distributed->pyscenic) (5.9.5)\n",
      "Requirement already satisfied: sortedcontainers>=2.0.5 in c:\\users\\bosideng\\appdata\\local\\packages\\pythonsoftwarefoundation.python.3.11_qbz5n2kfra8p0\\localcache\\local-packages\\python311\\site-packages (from distributed->pyscenic) (2.4.0)\n",
      "Requirement already satisfied: tblib>=1.6.0 in c:\\users\\bosideng\\appdata\\local\\packages\\pythonsoftwarefoundation.python.3.11_qbz5n2kfra8p0\\localcache\\local-packages\\python311\\site-packages (from distributed->pyscenic) (2.0.0)\n",
      "Requirement already satisfied: tornado>=6.0.4 in c:\\users\\bosideng\\appdata\\local\\packages\\pythonsoftwarefoundation.python.3.11_qbz5n2kfra8p0\\localcache\\local-packages\\python311\\site-packages (from distributed->pyscenic) (6.3.3)\n",
      "Requirement already satisfied: urllib3>=1.24.3 in c:\\users\\bosideng\\appdata\\local\\packages\\pythonsoftwarefoundation.python.3.11_qbz5n2kfra8p0\\localcache\\local-packages\\python311\\site-packages (from distributed->pyscenic) (2.0.6)\n",
      "Requirement already satisfied: zict>=3.0.0 in c:\\users\\bosideng\\appdata\\local\\packages\\pythonsoftwarefoundation.python.3.11_qbz5n2kfra8p0\\localcache\\local-packages\\python311\\site-packages (from distributed->pyscenic) (3.0.0)\n",
      "Requirement already satisfied: h5py in c:\\users\\bosideng\\appdata\\local\\packages\\pythonsoftwarefoundation.python.3.11_qbz5n2kfra8p0\\localcache\\local-packages\\python311\\site-packages (from loompy->pyscenic) (3.10.0)\n",
      "Requirement already satisfied: numpy-groupies in c:\\users\\bosideng\\appdata\\local\\packages\\pythonsoftwarefoundation.python.3.11_qbz5n2kfra8p0\\localcache\\local-packages\\python311\\site-packages (from loompy->pyscenic) (0.10.2)\n",
      "Requirement already satisfied: dill in c:\\users\\bosideng\\appdata\\local\\packages\\pythonsoftwarefoundation.python.3.11_qbz5n2kfra8p0\\localcache\\local-packages\\python311\\site-packages (from multiprocessing-on-dill->pyscenic) (0.3.7)\n",
      "Requirement already satisfied: idna<4,>=2.5 in c:\\users\\bosideng\\appdata\\local\\packages\\pythonsoftwarefoundation.python.3.11_qbz5n2kfra8p0\\localcache\\local-packages\\python311\\site-packages (from requests->pyscenic) (3.4)\n",
      "Requirement already satisfied: certifi>=2017.4.17 in c:\\users\\bosideng\\appdata\\local\\packages\\pythonsoftwarefoundation.python.3.11_qbz5n2kfra8p0\\localcache\\local-packages\\python311\\site-packages (from requests->pyscenic) (2023.7.22)\n",
      "Requirement already satisfied: colorama in c:\\users\\bosideng\\appdata\\local\\packages\\pythonsoftwarefoundation.python.3.11_qbz5n2kfra8p0\\localcache\\local-packages\\python311\\site-packages (from tqdm->pyscenic) (0.4.6)\n",
      "Requirement already satisfied: pynndescent>=0.5 in c:\\users\\bosideng\\appdata\\local\\packages\\pythonsoftwarefoundation.python.3.11_qbz5n2kfra8p0\\localcache\\local-packages\\python311\\site-packages (from umap-learn->pyscenic) (0.5.10)\n",
      "Requirement already satisfied: zipp>=0.5 in c:\\users\\bosideng\\appdata\\local\\packages\\pythonsoftwarefoundation.python.3.11_qbz5n2kfra8p0\\localcache\\local-packages\\python311\\site-packages (from importlib-metadata>=4.13.0->dask->pyscenic) (3.17.0)\n",
      "Requirement already satisfied: MarkupSafe>=2.0 in c:\\users\\bosideng\\appdata\\local\\packages\\pythonsoftwarefoundation.python.3.11_qbz5n2kfra8p0\\localcache\\local-packages\\python311\\site-packages (from jinja2>=2.10.3->distributed->pyscenic) (2.1.3)\n",
      "Requirement already satisfied: six>=1.5 in c:\\users\\bosideng\\appdata\\local\\packages\\pythonsoftwarefoundation.python.3.11_qbz5n2kfra8p0\\localcache\\local-packages\\python311\\site-packages (from python-dateutil>=2.8.2->pandas>=1.3.5->pyscenic) (1.16.0)\n",
      "Requirement already satisfied: lz4>=4.3.2 in c:\\users\\bosideng\\appdata\\local\\packages\\pythonsoftwarefoundation.python.3.11_qbz5n2kfra8p0\\localcache\\local-packages\\python311\\site-packages (from dask->pyscenic) (4.3.2)\n",
      "Requirement already satisfied: bokeh>=2.4.2 in c:\\users\\bosideng\\appdata\\local\\packages\\pythonsoftwarefoundation.python.3.11_qbz5n2kfra8p0\\localcache\\local-packages\\python311\\site-packages (from dask->pyscenic) (3.3.0)\n",
      "Requirement already satisfied: contourpy>=1 in c:\\users\\bosideng\\appdata\\local\\packages\\pythonsoftwarefoundation.python.3.11_qbz5n2kfra8p0\\localcache\\local-packages\\python311\\site-packages (from bokeh>=2.4.2->dask->pyscenic) (1.1.1)\n",
      "Requirement already satisfied: pillow>=7.1.0 in c:\\users\\bosideng\\appdata\\local\\packages\\pythonsoftwarefoundation.python.3.11_qbz5n2kfra8p0\\localcache\\local-packages\\python311\\site-packages (from bokeh>=2.4.2->dask->pyscenic) (10.0.1)\n",
      "Requirement already satisfied: xyzservices>=2021.09.1 in c:\\users\\bosideng\\appdata\\local\\packages\\pythonsoftwarefoundation.python.3.11_qbz5n2kfra8p0\\localcache\\local-packages\\python311\\site-packages (from bokeh>=2.4.2->dask->pyscenic) (2023.10.0)\n",
      "Note: you may need to restart the kernel to use updated packages.\n"
     ]
    }
   ],
   "source": [
    "pip install pyscenic"
   ]
  },
  {
   "cell_type": "code",
   "execution_count": 6,
   "metadata": {},
   "outputs": [
    {
     "name": "stdout",
     "output_type": "stream",
     "text": [
      "Requirement already satisfied: scipy in c:\\users\\bosideng\\appdata\\local\\packages\\pythonsoftwarefoundation.python.3.11_qbz5n2kfra8p0\\localcache\\local-packages\\python311\\site-packages (1.11.3)\n",
      "Requirement already satisfied: numpy<1.28.0,>=1.21.6 in c:\\users\\bosideng\\appdata\\local\\packages\\pythonsoftwarefoundation.python.3.11_qbz5n2kfra8p0\\localcache\\local-packages\\python311\\site-packages (from scipy) (1.25.2)\n",
      "Note: you may need to restart the kernel to use updated packages.\n"
     ]
    }
   ],
   "source": [
    "pip install scipy"
   ]
  },
  {
   "cell_type": "markdown",
   "metadata": {},
   "source": [
    "# For creating graph (g = nx.Graph())"
   ]
  },
  {
   "cell_type": "code",
   "execution_count": 7,
   "metadata": {},
   "outputs": [
    {
     "name": "stdout",
     "output_type": "stream",
     "text": [
      "Requirement already satisfied: Networkx in c:\\users\\bosideng\\appdata\\local\\packages\\pythonsoftwarefoundation.python.3.11_qbz5n2kfra8p0\\localcache\\local-packages\\python311\\site-packages (3.1)\n",
      "Note: you may need to restart the kernel to use updated packages.\n"
     ]
    }
   ],
   "source": [
    "pip install Networkx"
   ]
  },
  {
   "cell_type": "markdown",
   "metadata": {},
   "source": [
    "# For drawing graph (nx.draw_networkx(g))"
   ]
  },
  {
   "cell_type": "code",
   "execution_count": 8,
   "metadata": {},
   "outputs": [
    {
     "name": "stdout",
     "output_type": "stream",
     "text": [
      "Collecting matplotlib\n",
      "  Obtaining dependency information for matplotlib from https://files.pythonhosted.org/packages/40/d9/c1784db9db0d484c8e5deeafbaac0d6ed66e165c6eb4a74fb43a5fa947d9/matplotlib-3.8.0-cp311-cp311-win_amd64.whl.metadata\n",
      "  Downloading matplotlib-3.8.0-cp311-cp311-win_amd64.whl.metadata (5.9 kB)\n",
      "Requirement already satisfied: contourpy>=1.0.1 in c:\\users\\bosideng\\appdata\\local\\packages\\pythonsoftwarefoundation.python.3.11_qbz5n2kfra8p0\\localcache\\local-packages\\python311\\site-packages (from matplotlib) (1.1.1)\n",
      "Collecting cycler>=0.10 (from matplotlib)\n",
      "  Obtaining dependency information for cycler>=0.10 from https://files.pythonhosted.org/packages/e7/05/c19819d5e3d95294a6f5947fb9b9629efb316b96de511b418c53d245aae6/cycler-0.12.1-py3-none-any.whl.metadata\n",
      "  Downloading cycler-0.12.1-py3-none-any.whl.metadata (3.8 kB)\n",
      "Collecting fonttools>=4.22.0 (from matplotlib)\n",
      "  Obtaining dependency information for fonttools>=4.22.0 from https://files.pythonhosted.org/packages/ae/f6/724d2d236797ea7479a5a7ec8e69c2bee60cad70273cf25078810415ae2d/fonttools-4.43.1-cp311-cp311-win_amd64.whl.metadata\n",
      "  Downloading fonttools-4.43.1-cp311-cp311-win_amd64.whl.metadata (155 kB)\n",
      "     ---------------------------------------- 0.0/155.5 kB ? eta -:--:--\n",
      "     ---------------------------------------- 0.0/155.5 kB ? eta -:--:--\n",
      "     ------- ----------------------------- 30.7/155.5 kB 660.6 kB/s eta 0:00:01\n",
      "     ------- ----------------------------- 30.7/155.5 kB 660.6 kB/s eta 0:00:01\n",
      "     --------------------- --------------- 92.2/155.5 kB 585.1 kB/s eta 0:00:01\n",
      "     -----------------------------------  153.6/155.5 kB 838.4 kB/s eta 0:00:01\n",
      "     ------------------------------------ 155.5/155.5 kB 777.0 kB/s eta 0:00:00\n",
      "Collecting kiwisolver>=1.0.1 (from matplotlib)\n",
      "  Obtaining dependency information for kiwisolver>=1.0.1 from https://files.pythonhosted.org/packages/1e/37/d3c2d4ba2719059a0f12730947bbe1ad5ee8bff89e8c35319dcb2c9ddb4c/kiwisolver-1.4.5-cp311-cp311-win_amd64.whl.metadata\n",
      "  Downloading kiwisolver-1.4.5-cp311-cp311-win_amd64.whl.metadata (6.5 kB)\n",
      "Requirement already satisfied: numpy<2,>=1.21 in c:\\users\\bosideng\\appdata\\local\\packages\\pythonsoftwarefoundation.python.3.11_qbz5n2kfra8p0\\localcache\\local-packages\\python311\\site-packages (from matplotlib) (1.25.2)\n",
      "Requirement already satisfied: packaging>=20.0 in c:\\users\\bosideng\\appdata\\local\\packages\\pythonsoftwarefoundation.python.3.11_qbz5n2kfra8p0\\localcache\\local-packages\\python311\\site-packages (from matplotlib) (23.2)\n",
      "Requirement already satisfied: pillow>=6.2.0 in c:\\users\\bosideng\\appdata\\local\\packages\\pythonsoftwarefoundation.python.3.11_qbz5n2kfra8p0\\localcache\\local-packages\\python311\\site-packages (from matplotlib) (10.0.1)\n",
      "Collecting pyparsing>=2.3.1 (from matplotlib)\n",
      "  Obtaining dependency information for pyparsing>=2.3.1 from https://files.pythonhosted.org/packages/39/92/8486ede85fcc088f1b3dba4ce92dd29d126fd96b0008ea213167940a2475/pyparsing-3.1.1-py3-none-any.whl.metadata\n",
      "  Downloading pyparsing-3.1.1-py3-none-any.whl.metadata (5.1 kB)\n",
      "Requirement already satisfied: python-dateutil>=2.7 in c:\\users\\bosideng\\appdata\\local\\packages\\pythonsoftwarefoundation.python.3.11_qbz5n2kfra8p0\\localcache\\local-packages\\python311\\site-packages (from matplotlib) (2.8.2)\n",
      "Requirement already satisfied: six>=1.5 in c:\\users\\bosideng\\appdata\\local\\packages\\pythonsoftwarefoundation.python.3.11_qbz5n2kfra8p0\\localcache\\local-packages\\python311\\site-packages (from python-dateutil>=2.7->matplotlib) (1.16.0)\n",
      "Downloading matplotlib-3.8.0-cp311-cp311-win_amd64.whl (7.6 MB)\n",
      "   ---------------------------------------- 0.0/7.6 MB ? eta -:--:--\n",
      "    --------------------------------------- 0.1/7.6 MB 4.2 MB/s eta 0:00:02\n",
      "   - -------------------------------------- 0.2/7.6 MB 2.9 MB/s eta 0:00:03\n",
      "   - -------------------------------------- 0.4/7.6 MB 2.9 MB/s eta 0:00:03\n",
      "   -- ------------------------------------- 0.4/7.6 MB 3.1 MB/s eta 0:00:03\n",
      "   -- ------------------------------------- 0.4/7.6 MB 3.1 MB/s eta 0:00:03\n",
      "   -- ------------------------------------- 0.5/7.6 MB 1.9 MB/s eta 0:00:04\n",
      "   ---- ----------------------------------- 0.8/7.6 MB 2.5 MB/s eta 0:00:03\n",
      "   ---- ----------------------------------- 0.8/7.6 MB 2.5 MB/s eta 0:00:03\n",
      "   ---- ----------------------------------- 0.8/7.6 MB 2.5 MB/s eta 0:00:03\n",
      "   ---- ----------------------------------- 0.8/7.6 MB 1.9 MB/s eta 0:00:04\n",
      "   ---- ----------------------------------- 0.8/7.6 MB 1.9 MB/s eta 0:00:04\n",
      "   ----- ---------------------------------- 1.0/7.6 MB 1.9 MB/s eta 0:00:04\n",
      "   ------ --------------------------------- 1.3/7.6 MB 2.2 MB/s eta 0:00:03\n",
      "   --------- ------------------------------ 1.8/7.6 MB 2.8 MB/s eta 0:00:03\n",
      "   ----------- ---------------------------- 2.2/7.6 MB 3.2 MB/s eta 0:00:02\n",
      "   ------------- -------------------------- 2.6/7.6 MB 3.5 MB/s eta 0:00:02\n",
      "   --------------- ------------------------ 2.9/7.6 MB 3.7 MB/s eta 0:00:02\n",
      "   ----------------- ---------------------- 3.4/7.6 MB 4.1 MB/s eta 0:00:02\n",
      "   ------------------ --------------------- 3.5/7.6 MB 4.1 MB/s eta 0:00:01\n",
      "   ------------------ --------------------- 3.5/7.6 MB 4.1 MB/s eta 0:00:01\n",
      "   ------------------ --------------------- 3.5/7.6 MB 4.1 MB/s eta 0:00:01\n",
      "   ------------------- -------------------- 3.7/7.6 MB 3.8 MB/s eta 0:00:02\n",
      "   --------------------- ------------------ 4.0/7.6 MB 3.9 MB/s eta 0:00:01\n",
      "   -------------------------- ------------- 5.0/7.6 MB 4.5 MB/s eta 0:00:01\n",
      "   ------------------------------ --------- 5.8/7.6 MB 5.1 MB/s eta 0:00:01\n",
      "   -------------------------------- ------- 6.2/7.6 MB 5.2 MB/s eta 0:00:01\n",
      "   --------------------------------- ------ 6.5/7.6 MB 5.2 MB/s eta 0:00:01\n",
      "   ----------------------------------- ---- 6.7/7.6 MB 5.2 MB/s eta 0:00:01\n",
      "   ------------------------------------ --- 6.9/7.6 MB 5.2 MB/s eta 0:00:01\n",
      "   ------------------------------------- -- 7.2/7.6 MB 5.2 MB/s eta 0:00:01\n",
      "   -------------------------------------- - 7.4/7.6 MB 5.2 MB/s eta 0:00:01\n",
      "   ---------------------------------------  7.6/7.6 MB 5.2 MB/s eta 0:00:01\n",
      "   ---------------------------------------- 7.6/7.6 MB 5.1 MB/s eta 0:00:00\n",
      "Downloading cycler-0.12.1-py3-none-any.whl (8.3 kB)\n",
      "Downloading fonttools-4.43.1-cp311-cp311-win_amd64.whl (2.1 MB)\n",
      "   ---------------------------------------- 0.0/2.1 MB ? eta -:--:--\n",
      "   ---- ----------------------------------- 0.3/2.1 MB 5.2 MB/s eta 0:00:01\n",
      "   --------- ------------------------------ 0.5/2.1 MB 5.6 MB/s eta 0:00:01\n",
      "   ------------ --------------------------- 0.7/2.1 MB 5.4 MB/s eta 0:00:01\n",
      "   ------------------ --------------------- 1.0/2.1 MB 5.3 MB/s eta 0:00:01\n",
      "   ----------------------- ---------------- 1.2/2.1 MB 5.3 MB/s eta 0:00:01\n",
      "   ----------------------- ---------------- 1.2/2.1 MB 5.3 MB/s eta 0:00:01\n",
      "   ----------------------- ---------------- 1.2/2.1 MB 5.3 MB/s eta 0:00:01\n",
      "   ------------------------ --------------- 1.3/2.1 MB 3.5 MB/s eta 0:00:01\n",
      "   -------------------------------- ------- 1.7/2.1 MB 4.2 MB/s eta 0:00:01\n",
      "   -------------------------------- ------- 1.7/2.1 MB 4.2 MB/s eta 0:00:01\n",
      "   -------------------------------- ------- 1.7/2.1 MB 4.2 MB/s eta 0:00:01\n",
      "   --------------------------------- ------ 1.8/2.1 MB 3.2 MB/s eta 0:00:01\n",
      "   ---------------------------------------- 2.1/2.1 MB 3.7 MB/s eta 0:00:00\n",
      "Downloading kiwisolver-1.4.5-cp311-cp311-win_amd64.whl (56 kB)\n",
      "   ---------------------------------------- 0.0/56.1 kB ? eta -:--:--\n",
      "   ---------------------------------------- 56.1/56.1 kB ? eta 0:00:00\n",
      "Downloading pyparsing-3.1.1-py3-none-any.whl (103 kB)\n",
      "   ---------------------------------------- 0.0/103.1 kB ? eta -:--:--\n",
      "   ---------------------------------------- 103.1/103.1 kB 5.8 MB/s eta 0:00:00\n",
      "Installing collected packages: pyparsing, kiwisolver, fonttools, cycler, matplotlib\n",
      "Successfully installed cycler-0.12.1 fonttools-4.43.1 kiwisolver-1.4.5 matplotlib-3.8.0 pyparsing-3.1.1\n",
      "Note: you may need to restart the kernel to use updated packages.\n"
     ]
    }
   ],
   "source": [
    "pip install matplotlib"
   ]
  },
  {
   "cell_type": "code",
   "execution_count": 9,
   "metadata": {},
   "outputs": [
    {
     "name": "stdout",
     "output_type": "stream",
     "text": [
      "Collecting lxml\n",
      "  Obtaining dependency information for lxml from https://files.pythonhosted.org/packages/31/58/e3b3dd6bb2ab7404f1f4992e2d0e6926ed40cef8ce1b3bbefd95877499e1/lxml-4.9.3-cp311-cp311-win_amd64.whl.metadata\n",
      "  Downloading lxml-4.9.3-cp311-cp311-win_amd64.whl.metadata (3.9 kB)\n",
      "Downloading lxml-4.9.3-cp311-cp311-win_amd64.whl (3.8 MB)\n",
      "   ---------------------------------------- 0.0/3.8 MB ? eta -:--:--\n",
      "   ---------------------------------------- 0.0/3.8 MB ? eta -:--:--\n",
      "   ---------------------------------------- 0.0/3.8 MB ? eta -:--:--\n",
      "   ---------------------------------------- 0.0/3.8 MB 640.0 kB/s eta 0:00:06\n",
      "    --------------------------------------- 0.1/3.8 MB 762.6 kB/s eta 0:00:05\n",
      "   - -------------------------------------- 0.1/3.8 MB 717.5 kB/s eta 0:00:06\n",
      "   -- ------------------------------------- 0.2/3.8 MB 958.4 kB/s eta 0:00:04\n",
      "   --- ------------------------------------ 0.3/3.8 MB 1.2 MB/s eta 0:00:03\n",
      "   ---- ----------------------------------- 0.5/3.8 MB 1.5 MB/s eta 0:00:03\n",
      "   ------- -------------------------------- 0.7/3.8 MB 1.9 MB/s eta 0:00:02\n",
      "   ---------- ----------------------------- 1.0/3.8 MB 2.4 MB/s eta 0:00:02\n",
      "   -------------- ------------------------- 1.3/3.8 MB 3.0 MB/s eta 0:00:01\n",
      "   -------------- ------------------------- 1.3/3.8 MB 3.0 MB/s eta 0:00:01\n",
      "   -------------- ------------------------- 1.3/3.8 MB 3.0 MB/s eta 0:00:01\n",
      "   -------------- ------------------------- 1.3/3.8 MB 3.0 MB/s eta 0:00:01\n",
      "   -------------- ------------------------- 1.3/3.8 MB 3.0 MB/s eta 0:00:01\n",
      "   ---------------- ----------------------- 1.5/3.8 MB 2.2 MB/s eta 0:00:02\n",
      "   ------------------ --------------------- 1.7/3.8 MB 2.4 MB/s eta 0:00:01\n",
      "   ----------------------- ---------------- 2.2/3.8 MB 2.9 MB/s eta 0:00:01\n",
      "   ---------------------------- ----------- 2.7/3.8 MB 3.3 MB/s eta 0:00:01\n",
      "   ------------------------------- -------- 2.9/3.8 MB 3.5 MB/s eta 0:00:01\n",
      "   ------------------------------- -------- 2.9/3.8 MB 3.5 MB/s eta 0:00:01\n",
      "   ------------------------------- -------- 2.9/3.8 MB 3.1 MB/s eta 0:00:01\n",
      "   ------------------------------------ --- 3.5/3.8 MB 3.6 MB/s eta 0:00:01\n",
      "   ---------------------------------------- 3.8/3.8 MB 3.7 MB/s eta 0:00:00\n",
      "Installing collected packages: lxml\n",
      "Successfully installed lxml-4.9.3\n",
      "Note: you may need to restart the kernel to use updated packages.\n"
     ]
    }
   ],
   "source": [
    "pip install lxml"
   ]
  },
  {
   "cell_type": "code",
   "execution_count": 10,
   "metadata": {},
   "outputs": [
    {
     "name": "stdout",
     "output_type": "stream",
     "text": [
      "Collecting html5lib\n",
      "  Downloading html5lib-1.1-py2.py3-none-any.whl (112 kB)\n",
      "     ---------------------------------------- 0.0/112.2 kB ? eta -:--:--\n",
      "     ---------------------------------------- 0.0/112.2 kB ? eta -:--:--\n",
      "     --- ------------------------------------ 10.2/112.2 kB ? eta -:--:--\n",
      "     ---------- -------------------------- 30.7/112.2 kB 660.6 kB/s eta 0:00:01\n",
      "     -------------------- ---------------- 61.4/112.2 kB 544.7 kB/s eta 0:00:01\n",
      "     -------------------------------- --- 102.4/112.2 kB 737.3 kB/s eta 0:00:01\n",
      "     ------------------------------------ 112.2/112.2 kB 592.6 kB/s eta 0:00:00\n",
      "Requirement already satisfied: six>=1.9 in c:\\users\\bosideng\\appdata\\local\\packages\\pythonsoftwarefoundation.python.3.11_qbz5n2kfra8p0\\localcache\\local-packages\\python311\\site-packages (from html5lib) (1.16.0)\n",
      "Collecting webencodings (from html5lib)\n",
      "  Downloading webencodings-0.5.1-py2.py3-none-any.whl (11 kB)\n",
      "Installing collected packages: webencodings, html5lib\n",
      "Successfully installed html5lib-1.1 webencodings-0.5.1\n",
      "Note: you may need to restart the kernel to use updated packages.\n"
     ]
    }
   ],
   "source": [
    "pip install html5lib"
   ]
  },
  {
   "cell_type": "code",
   "execution_count": null,
   "metadata": {},
   "outputs": [],
   "source": []
  }
 ],
 "metadata": {
  "kernelspec": {
   "display_name": "Python 3",
   "language": "python",
   "name": "python3"
  },
  "language_info": {
   "codemirror_mode": {
    "name": "ipython",
    "version": 3
   },
   "file_extension": ".py",
   "mimetype": "text/x-python",
   "name": "python",
   "nbconvert_exporter": "python",
   "pygments_lexer": "ipython3",
   "version": "3.11.6"
  }
 },
 "nbformat": 4,
 "nbformat_minor": 2
}
