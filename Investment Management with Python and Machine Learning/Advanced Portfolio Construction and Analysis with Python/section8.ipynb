{
 "cells": [
  {
   "cell_type": "markdown",
   "metadata": {},
   "source": [
    "# Risk Parity Portfolios"
   ]
  },
  {
   "cell_type": "markdown",
   "metadata": {},
   "source": [
    "Q: If you compare a cap weighted index (e.g., the S&P500) to an equal risk contribution portfolio based on the same universe, would you expect to have for the ERC portfolio:\n",
    "\n",
    "A: Higher ENC & higher ENCB"
   ]
  },
  {
   "cell_type": "markdown",
   "metadata": {},
   "source": [
    "ERC portfolio tend to be better diversified compared to CW portfolios, so ENC is generally higher. Besides, ENCB will be 100% for the ERC portfolio   "
   ]
  },
  {
   "cell_type": "markdown",
   "metadata": {},
   "source": [
    "Risk parity portfolios are constructed so that each component has the same contribution to portfolio risk\n",
    "\n",
    "They are extremely popular in practice because they <mark>tend to be more risk efficient</mark> than traditional market benchmarks."
   ]
  },
  {
   "cell_type": "markdown",
   "metadata": {},
   "source": []
  },
  {
   "cell_type": "markdown",
   "metadata": {},
   "source": [
    "# Comparing Diversification Options"
   ]
  },
  {
   "cell_type": "markdown",
   "metadata": {},
   "source": [
    "Cap-Weighted benchmarks are not the most efficient portfolios because of their Excessive Concentration.\n",
    "\n",
    "One can use a variety of diversification methodologies to build more efficient portfolios. Including Equally-Weighted. Minimum variance and risk parity portfolios."
   ]
  },
  {
   "cell_type": "markdown",
   "metadata": {},
   "source": [
    "# Risk Contributions and Risk Parity"
   ]
  },
  {
   "cell_type": "code",
   "execution_count": 5,
   "metadata": {},
   "outputs": [
    {
     "name": "stdout",
     "output_type": "stream",
     "text": [
      "The autoreload extension is already loaded. To reload it, use:\n",
      "  %reload_ext autoreload\n"
     ]
    }
   ],
   "source": [
    "import numpy as np\n",
    "import pandas as pd\n",
    "import edhec_risk_kit_206 as erk\n",
    "\n",
    "%load_ext autoreload\n",
    "%autoreload 2\n",
    "\n",
    "inds = ['Food','Beer','Smoke','Games','Books','Hshld','Clths','Hlth',\n",
    "        'Chems','Txtls','Cnstr','Steel','FabPr','ElcEq','Autos','Carry',\n",
    "        'Mines','Coal','Oil','Util','Telcm','Servs','BusEq','Paper','Trans',\n",
    "        'Whlsl','Rtail','Meals','Fin','Other']\n",
    "inds = ['Beer','Hlth','Fin','Rtail','Whlsl']\n",
    "ind_rets = erk.get_ind_returns(weighting='vw', n_inds=49)[\"1974\":]\n",
    "ind_mcap = erk.get_ind_market_caps(49,weights=True)[\"1974\":]\n",
    "\n",
    "rets = ind_rets[\"2013\":][inds]\n",
    "cov = rets.cov()"
   ]
  },
  {
   "cell_type": "code",
   "execution_count": 6,
   "metadata": {},
   "outputs": [],
   "source": [
    "def risk_contribution(w,cov):\n",
    "    \"\"\"compute the contributions to risk of the constituents of a portfolio, \n",
    "    given a set of portfolio weights and a covariance\"\"\"\n",
    "    total_portfolio_var = erk.portfolio_vol(w,cov)**2\n",
    "    # Marginal contribution of each constituent\n",
    "    marginal_contrib = cov@w\n",
    "    risk_contrib = np.multiply(marginal_contrib,w.T)/total_portfolio_var\n",
    "    return risk_contrib"
   ]
  },
  {
   "cell_type": "code",
   "execution_count": 7,
   "metadata": {},
   "outputs": [
    {
     "data": {
      "text/plain": [
       "<Axes: title={'center': 'risk_contributions of an EW portfolio'}>"
      ]
     },
     "execution_count": 7,
     "metadata": {},
     "output_type": "execute_result"
    },
    {
     "data": {
      "image/png": "[encoded data removed]",
      "text/plain": [
       "<Figure size 640x480 with 1 Axes>"
      ]
     },
     "metadata": {},
     "output_type": "display_data"
    }
   ],
   "source": [
    "risk_contribution(erk.weight_ew(rets),cov).plot.bar(title='risk_contributions of an EW portfolio')"
   ]
  },
  {
   "cell_type": "code",
   "execution_count": 9,
   "metadata": {},
   "outputs": [],
   "source": [
    "from scipy.optimize import minimize\n",
    "\n",
    "def target_risk_contributions(target_risk, cov):\n",
    "    \"\"\"Returns the weights of the portfolio that gives you the weights such athat the contributions,\n",
    "    to portfolio risk are as close as possible to the target_risk, given the covariance matrix\"\"\"\n",
    "    n=cov.shape[0]\n",
    "    init_guess=np.repeat(1/n,n)\n",
    "    bounds=((0.0,1.0),)*n # an N-tuple of 2-tuples!\n",
    "    #construct the constraints\n",
    "    weights_sum_to_1={'type':'eq',\n",
    "                      'fun':lambda weights: np.sum(weights)-1}\n",
    "    def msd_risk(weights, target_risk,cov):\n",
    "        \"\"\"\n",
    "        Returns the mean squared difference in risk contributions\n",
    "        between weights and target_risk\"\"\"\n",
    "        w_contribs=risk_contribution(weights, cov)\n",
    "        return ((w_contribs-target_risk)**2).sum()\n",
    "    \n",
    "    weights=minimize(msd_risk, init_guess,\n",
    "                     args=(target_risk,cov), method='SLSQP',\n",
    "                     options={'disp':False},\n",
    "                     constraints=(weights_sum_to_1,),\n",
    "                     bounds=bounds)\n",
    "    return weights.x\n",
    "    \n"
   ]
  },
  {
   "cell_type": "code",
   "execution_count": null,
   "metadata": {},
   "outputs": [],
   "source": []
  }
 ],
 "metadata": {
  "kernelspec": {
   "display_name": "Python 3",
   "language": "python",
   "name": "python3"
  },
  "language_info": {
   "codemirror_mode": {
    "name": "ipython",
    "version": 3
   },
   "file_extension": ".py",
   "mimetype": "text/x-python",
   "name": "python",
   "nbconvert_exporter": "python",
   "pygments_lexer": "ipython3",
   "version": "3.11.8"
  }
 },
 "nbformat": 4,
 "nbformat_minor": 2
}
