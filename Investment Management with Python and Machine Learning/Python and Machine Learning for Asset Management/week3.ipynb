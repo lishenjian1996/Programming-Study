{
 "cells": [
  {
   "cell_type": "markdown",
   "metadata": {},
   "source": [
    "# Machine learning techniques for efficient portfolio diversification"
   ]
  },
  {
   "cell_type": "markdown",
   "metadata": {},
   "source": [
    "Supervised Learning and Unsupervised Learning are based on different assumptions.\n",
    "\n",
    "While both supervised learning and unsupervised learning assume “adequate data” for analysis, problems in supervised learning require labels (correct answers), whereas unsupervised learning does not assume labels.  Thus, the evaluation of a successful algorithm is more complicated and judgmental.  "
   ]
  },
  {
   "cell_type": "markdown",
   "metadata": {},
   "source": []
  }
 ],
 "metadata": {
  "language_info": {
   "name": "python"
  }
 },
 "nbformat": 4,
 "nbformat_minor": 2
}
