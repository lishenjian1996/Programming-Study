{
 "cells": [
  {
   "cell_type": "markdown",
   "metadata": {},
   "source": [
    " The main focus of this module is on the design of optimal allocation strategies for investors endowed with long-term liability or consumption objectives, a framework suitable to most institutional investors but also to private investors. It presents the state of the art in asset-liability management (ALM) with a specific emphasis on defining the investor's objectives and constraints, formalizing the risk-return trade-off in terms of final funding ratio and minimizing the opportunity costs of short-term constraints. "
   ]
  },
  {
   "cell_type": "markdown",
   "metadata": {},
   "source": [
    "# From Asset Management to Asset-Liability Management"
   ]
  },
  {
   "cell_type": "markdown",
   "metadata": {},
   "source": [
    "Pension fund crisis:\n",
    "\n",
    "S&P 500 DB Pension plans from Dec 199 Net Surplus of $239 billion to May 2003 Net Deficit of $252 billion\n",
    "\n",
    "It due to the Internet bubble.\n",
    "\n",
    "And it happened again in 2008"
   ]
  },
  {
   "cell_type": "markdown",
   "metadata": {},
   "source": [
    " If the pension fund liabilities are marked-to-market (as is the case for corporate pension plans in the US for example), then a decrease in interest rates will result in an increase in liability values, which is bad news for the pension fund. On the asset side, decreasing interest rates would lead to increasing value for bonds, and the impact on asset classes would be less straightforward, so the next effect on the surplus (that is asset value minus liability value) would tend to be negative.  "
   ]
  },
  {
   "cell_type": "markdown",
   "metadata": {},
   "source": [
    "# Lab Session-Present Values,liabilities and funding ratio\n"
   ]
  },
  {
   "cell_type": "markdown",
   "metadata": {},
   "source": [
    "The funding ratio is the ratio of the current value of assets to the present value of the liabilities.\n",
    "\n",
    "In order to compute the present value, we need to discount the amount of the liability based on the relevant interest rate derived from the yield curve.\n",
    "\n",
    "For simplicity, we'll assume that the yield curve is flat, and so the interest rate is the same for all horizons.\n",
    "\n",
    "The present value of a set of liabilities $L$ where each liability $L_i$ is due at time $t_i$ is give by:\n",
    "\n",
    "$$ PV(L) = \\sum_{i=1}^{k} B(t_i) L_i$$\n",
    "\n",
    "where $B(t_i)$ is the price of a pure discount bond that pays 1 dollar at time $t_i$\n",
    "\n",
    "If we assume the yield curve is flat and the annual rate of interest is $r$ then $B(t)$ is given by\n",
    "\n",
    "$$B(t) = \\frac{1}{(1+r)^t}$$\n"
   ]
  },
  {
   "cell_type": "code",
   "execution_count": 2,
   "metadata": {},
   "outputs": [],
   "source": [
    "import pandas as pd\n",
    "import numpy as np\n",
    "import edhec_risk_kit as erk\n",
    "%load_ext autoreload\n",
    "%autoreload 2"
   ]
  },
  {
   "cell_type": "code",
   "execution_count": 4,
   "metadata": {},
   "outputs": [],
   "source": [
    "def discount(t,r):\n",
    "    \"\"\"\n",
    "    Compute the price of a pure discount bond that pays a dollar at time t, given interest rate r\n",
    "    \"\"\"\n",
    "    return 1/(1+r)**t #or (1+t)**(-t)"
   ]
  },
  {
   "cell_type": "code",
   "execution_count": 5,
   "metadata": {},
   "outputs": [
    {
     "data": {
      "text/plain": [
       "0.7440939148967249"
      ]
     },
     "execution_count": 5,
     "metadata": {},
     "output_type": "execute_result"
    }
   ],
   "source": [
    "discount(10,0.03)\n",
    "# assume risk rate is 3%, so I need invest 0.74 at year 0 and get 1 in year 10"
   ]
  },
  {
   "cell_type": "code",
   "execution_count": 6,
   "metadata": {},
   "outputs": [
    {
     "data": {
      "text/plain": [
       "1.0"
      ]
     },
     "execution_count": 6,
     "metadata": {},
     "output_type": "execute_result"
    }
   ],
   "source": [
    "0.7440939148967249*1.03**10"
   ]
  },
  {
   "cell_type": "code",
   "execution_count": 17,
   "metadata": {},
   "outputs": [],
   "source": [
    "def pv(l,r):\n",
    "    \"\"\"\n",
    "    Computes the present value of a sequence of liabilities\n",
    "    l is indexed by the time, and the values are the amounts of each liability\n",
    "    returns the present value of the sequence\n",
    "    \"\"\"\n",
    "    dates= l.index\n",
    "    discounts=discount(dates,r)\n",
    "    return (discounts*l).sum()"
   ]
  },
  {
   "cell_type": "code",
   "execution_count": 18,
   "metadata": {},
   "outputs": [],
   "source": [
    "liabilities=pd.Series(data=[1, 1.5, 2, 2.5], index=[3, 3.5, 4, 4.5])"
   ]
  },
  {
   "cell_type": "code",
   "execution_count": 19,
   "metadata": {},
   "outputs": [
    {
     "data": {
      "text/plain": [
       "3.0    1.0\n",
       "3.5    1.5\n",
       "4.0    2.0\n",
       "4.5    2.5\n",
       "dtype: float64"
      ]
     },
     "execution_count": 19,
     "metadata": {},
     "output_type": "execute_result"
    }
   ],
   "source": [
    "liabilities\n",
    "#payment schedule"
   ]
  },
  {
   "cell_type": "code",
   "execution_count": 20,
   "metadata": {},
   "outputs": [
    {
     "data": {
      "text/plain": [
       "6.233320315080044"
      ]
     },
     "execution_count": 20,
     "metadata": {},
     "output_type": "execute_result"
    }
   ],
   "source": [
    "pv(liabilities, 0.03)"
   ]
  },
  {
   "cell_type": "code",
   "execution_count": 21,
   "metadata": {},
   "outputs": [
    {
     "data": {
      "text/plain": [
       "7.0"
      ]
     },
     "execution_count": 21,
     "metadata": {},
     "output_type": "execute_result"
    }
   ],
   "source": [
    "liabilities.sum()"
   ]
  },
  {
   "cell_type": "code",
   "execution_count": null,
   "metadata": {},
   "outputs": [],
   "source": []
  }
 ],
 "metadata": {
  "kernelspec": {
   "display_name": "Python 3",
   "language": "python",
   "name": "python3"
  },
  "language_info": {
   "codemirror_mode": {
    "name": "ipython",
    "version": 3
   },
   "file_extension": ".py",
   "mimetype": "text/x-python",
   "name": "python",
   "nbconvert_exporter": "python",
   "pygments_lexer": "ipython3",
   "version": "3.11.6"
  }
 },
 "nbformat": 4,
 "nbformat_minor": 2
}
