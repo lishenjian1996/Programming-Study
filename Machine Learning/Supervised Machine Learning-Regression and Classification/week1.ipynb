{
 "cells": [
  {
   "cell_type": "code",
   "execution_count": null,
   "metadata": {},
   "outputs": [],
   "source": [
    "# What is machine learning\n",
    "#AGI\n",
    "#testing\n"
   ]
  },
  {
   "cell_type": "markdown",
   "metadata": {},
   "source": [
    "'Field of Study that gives computers the ability to learn without being explicitly programmed.'\n",
    "Arthur SAMUEL (1959)\n",
    "\n"
   ]
  },
  {
   "cell_type": "markdown",
   "metadata": {},
   "source": []
  }
 ],
 "metadata": {
  "language_info": {
   "name": "python"
  }
 },
 "nbformat": 4,
 "nbformat_minor": 2
}
